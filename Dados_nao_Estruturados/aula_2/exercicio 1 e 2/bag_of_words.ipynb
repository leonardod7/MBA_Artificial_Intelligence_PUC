{
 "nbformat": 4,
 "nbformat_minor": 0,
 "metadata": {
  "colab": {
   "provenance": []
  },
  "kernelspec": {
   "name": "python3",
   "display_name": "Python 3"
  },
  "language_info": {
   "name": "python"
  }
 },
 "cells": [
  {
   "cell_type": "markdown",
   "source": [
    "Carregando a biblioteca"
   ],
   "metadata": {
    "id": "ObThJFunCDNJ"
   }
  },
  {
   "cell_type": "code",
   "execution_count": 2,
   "metadata": {
    "id": "9f1cXNCTTQ-H"
   },
   "outputs": [],
   "source": [
    "from sklearn.feature_extraction.text import TfidfVectorizer"
   ]
  },
  {
   "cell_type": "markdown",
   "source": [
    "Vamos a colocar os documentos"
   ],
   "metadata": {
    "id": "wKwa001ECJXf"
   }
  },
  {
   "cell_type": "code",
   "source": [
    "# Exemplo de lista de documentos\n",
    "documentos = ['o gato correu atrás do rato',\n",
    "              'o rato tentou se esconder do gato',\n",
    "              'o gato pegou o rato e comeu']"
   ],
   "metadata": {
    "id": "IcsBTyATTSxy"
   },
   "execution_count": 3,
   "outputs": []
  },
  {
   "cell_type": "markdown",
   "source": [
    "Vamos transformar as palavras em números para depois, fazermos o algoritmo de machine learning"
   ],
   "metadata": {
    "collapsed": false
   }
  },
  {
   "cell_type": "code",
   "execution_count": 4,
   "metadata": {
    "id": "XRz1sMfaCmyN"
   },
   "outputs": [],
   "source": [
    "\n",
    "# Instanciando o objeto CountVectorizer\n",
    "vetorizador = TfidfVectorizer()\n",
    "\n",
    "# Ajustando o vetorizador aos documentos e transformando em matriz de contagem\n",
    "matriz_contagem = vetorizador.fit_transform(documentos)\n"
   ]
  },
  {
   "cell_type": "code",
   "source": [
    "# Obtendo o vocabulário (lista de palavras) do vetorizador\n",
    "vocabulario = vetorizador.get_feature_names_out()\n",
    "\n",
    "# Imprimindo a matriz de contagem e o vocabulário\n",
    "print('Matriz de contagem:')\n",
    "print(matriz_contagem.toarray())\n",
    "print('Vocabulário:')\n",
    "print(vocabulario)"
   ],
   "metadata": {
    "colab": {
     "base_uri": "https://localhost:8080/"
    },
    "id": "-M_OeJO0CuIQ",
    "outputId": "b27c7bab-6eff-4f19-a36e-4daa071b1615",
    "executionInfo": {
     "status": "ok",
     "timestamp": 1677326571152,
     "user_tz": 180,
     "elapsed": 207,
     "user": {
      "displayName": "Leonardo Mendonza",
      "userId": "09205135724810578413"
     }
    }
   },
   "execution_count": 6,
   "outputs": [
    {
     "name": "stdout",
     "output_type": "stream",
     "text": [
      "Matriz de contagem:\n",
      "[[0.55249005 0.         0.55249005 0.42018292 0.         0.32630952\n",
      "  0.         0.32630952 0.         0.        ]\n",
      " [0.         0.         0.         0.36778358 0.48359121 0.28561676\n",
      "  0.         0.28561676 0.48359121 0.48359121]\n",
      " [0.         0.6088451  0.         0.         0.         0.35959372\n",
      "  0.6088451  0.35959372 0.         0.        ]]\n",
      "Vocabulário:\n",
      "['atrás' 'comeu' 'correu' 'do' 'esconder' 'gato' 'pegou' 'rato' 'se'\n",
      " 'tentou']\n"
     ]
    }
   ]
  },
  {
   "cell_type": "code",
   "source": [
    "vocabulario\n"
   ],
   "metadata": {
    "colab": {
     "base_uri": "https://localhost:8080/"
    },
    "id": "Jc5WzZYnE12n",
    "outputId": "233dcb9a-07b0-4232-c9a7-4a85f1e29875",
    "executionInfo": {
     "status": "ok",
     "timestamp": 1677325915956,
     "user_tz": 180,
     "elapsed": 4,
     "user": {
      "displayName": "Leonardo Mendonza",
      "userId": "09205135724810578413"
     }
    }
   },
   "execution_count": null,
   "outputs": [
    {
     "output_type": "execute_result",
     "data": {
      "text/plain": [
       "['atrás',\n",
       " 'comeu',\n",
       " 'correu',\n",
       " 'do',\n",
       " 'esconder',\n",
       " 'gato',\n",
       " 'pegou',\n",
       " 'rato',\n",
       " 'se',\n",
       " 'tentou']"
      ]
     },
     "metadata": {},
     "execution_count": 6
    }
   ]
  },
  {
   "cell_type": "code",
   "source": [
    "import pandas as pd \n",
    "\n",
    "corpus = ['This is the first document.', 'This is the second document.', 'And the third one. One is fun.'] \n",
    "# original. Count Vectorizer \n",
    "from sklearn.feature_extraction.text import CountVectorizer\n",
    "cv = CountVectorizer()\n",
    "X = cv.fit_transform(corpus).toarray()\n",
    "pd.DataFrame(X, columns=cv.get_feature_names_out())\n",
    "\n",
    "# new TF-IDF Vectorizer \n",
    "from sklearn.feature_extraction.text import TfidfVectorizer \n",
    "cv_tfidf = TfidfVectorizer() \n",
    "X_tfidf = cv_tfidf.fit_transform(corpus).toarray() \n",
    "pd.DataFrame(X_tfidf, columns=cv_tfidf.get_feature_names_out())"
   ],
   "metadata": {
    "id": "tHoscSxzE32l",
    "colab": {
     "base_uri": "https://localhost:8080/",
     "height": 198
    },
    "executionInfo": {
     "status": "ok",
     "timestamp": 1677326848242,
     "user_tz": 180,
     "elapsed": 1810,
     "user": {
      "displayName": "BI Master",
      "userId": "10047083845602225986"
     }
    },
    "outputId": "f76798d6-1bc9-4b54-8646-0e8bd1969649"
   },
   "execution_count": 9,
   "outputs": [
    {
     "data": {
      "text/plain": "       and  document     first      fun        is      one    second   \n0  0.00000  0.450145  0.591887  0.00000  0.349578  0.00000  0.000000  \\\n1  0.00000  0.450145  0.000000  0.00000  0.349578  0.00000  0.591887   \n2  0.36043  0.000000  0.000000  0.36043  0.212876  0.72086  0.000000   \n\n        the    third      this  \n0  0.349578  0.00000  0.450145  \n1  0.349578  0.00000  0.450145  \n2  0.212876  0.36043  0.000000  ",
      "text/html": "<div>\n<style scoped>\n    .dataframe tbody tr th:only-of-type {\n        vertical-align: middle;\n    }\n\n    .dataframe tbody tr th {\n        vertical-align: top;\n    }\n\n    .dataframe thead th {\n        text-align: right;\n    }\n</style>\n<table border=\"1\" class=\"dataframe\">\n  <thead>\n    <tr style=\"text-align: right;\">\n      <th></th>\n      <th>and</th>\n      <th>document</th>\n      <th>first</th>\n      <th>fun</th>\n      <th>is</th>\n      <th>one</th>\n      <th>second</th>\n      <th>the</th>\n      <th>third</th>\n      <th>this</th>\n    </tr>\n  </thead>\n  <tbody>\n    <tr>\n      <th>0</th>\n      <td>0.00000</td>\n      <td>0.450145</td>\n      <td>0.591887</td>\n      <td>0.00000</td>\n      <td>0.349578</td>\n      <td>0.00000</td>\n      <td>0.000000</td>\n      <td>0.349578</td>\n      <td>0.00000</td>\n      <td>0.450145</td>\n    </tr>\n    <tr>\n      <th>1</th>\n      <td>0.00000</td>\n      <td>0.450145</td>\n      <td>0.000000</td>\n      <td>0.00000</td>\n      <td>0.349578</td>\n      <td>0.00000</td>\n      <td>0.591887</td>\n      <td>0.349578</td>\n      <td>0.00000</td>\n      <td>0.450145</td>\n    </tr>\n    <tr>\n      <th>2</th>\n      <td>0.36043</td>\n      <td>0.000000</td>\n      <td>0.000000</td>\n      <td>0.36043</td>\n      <td>0.212876</td>\n      <td>0.72086</td>\n      <td>0.000000</td>\n      <td>0.212876</td>\n      <td>0.36043</td>\n      <td>0.000000</td>\n    </tr>\n  </tbody>\n</table>\n</div>"
     },
     "execution_count": 9,
     "metadata": {},
     "output_type": "execute_result"
    }
   ]
  },
  {
   "cell_type": "code",
   "source": [
    "# os valores são atribuídos por ordem de frequência."
   ],
   "metadata": {
    "id": "WdcaoGZCeDN6"
   },
   "execution_count": null,
   "outputs": []
  }
 ]
}
