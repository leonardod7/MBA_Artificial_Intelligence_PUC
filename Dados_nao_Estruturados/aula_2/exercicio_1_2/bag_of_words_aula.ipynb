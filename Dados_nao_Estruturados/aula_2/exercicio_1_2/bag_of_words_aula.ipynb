{
 "cells": [
  {
   "cell_type": "markdown",
   "source": [
    "Vamos transformar as palavras em números para depois, fazermos o algoritmo de machine learning"
   ],
   "metadata": {
    "collapsed": false
   }
  },
  {
   "cell_type": "code",
   "execution_count": 10,
   "outputs": [],
   "source": [
    "import pandas as pd\n",
    "import numpy as np\n",
    "from sklearn.feature_extraction.text import CountVectorizer"
   ],
   "metadata": {
    "collapsed": false
   }
  },
  {
   "cell_type": "code",
   "execution_count": 11,
   "outputs": [],
   "source": [
    "# Exemplo de lista de documentos\n",
    "documentos = ['o gato correu atrás do rato',\n",
    "              'o rato tentou se esconder do gato',\n",
    "              'o gato pegou o rato e comeu']"
   ],
   "metadata": {
    "collapsed": false
   }
  },
  {
   "cell_type": "code",
   "execution_count": 12,
   "outputs": [],
   "source": [
    "# Instanciando o objeto CountVectorizer\n",
    "vetorizador = CountVectorizer()\n",
    "\n",
    "# Ajustando o vetorizador aos documentos e transformando em matriz de contagem\n",
    "matriz_contagem = vetorizador.fit_transform(documentos)"
   ],
   "metadata": {
    "collapsed": false
   }
  },
  {
   "cell_type": "code",
   "execution_count": 13,
   "outputs": [
    {
     "data": {
      "text/plain": "   atrás  comeu  correu  do  esconder  gato  pegou  rato  se  tentou\n0      1      0       1   1         0     1      0     1   0       0\n1      0      0       0   1         1     1      0     1   1       1\n2      0      1       0   0         0     1      1     1   0       0",
      "text/html": "<div>\n<style scoped>\n    .dataframe tbody tr th:only-of-type {\n        vertical-align: middle;\n    }\n\n    .dataframe tbody tr th {\n        vertical-align: top;\n    }\n\n    .dataframe thead th {\n        text-align: right;\n    }\n</style>\n<table border=\"1\" class=\"dataframe\">\n  <thead>\n    <tr style=\"text-align: right;\">\n      <th></th>\n      <th>atrás</th>\n      <th>comeu</th>\n      <th>correu</th>\n      <th>do</th>\n      <th>esconder</th>\n      <th>gato</th>\n      <th>pegou</th>\n      <th>rato</th>\n      <th>se</th>\n      <th>tentou</th>\n    </tr>\n  </thead>\n  <tbody>\n    <tr>\n      <th>0</th>\n      <td>1</td>\n      <td>0</td>\n      <td>1</td>\n      <td>1</td>\n      <td>0</td>\n      <td>1</td>\n      <td>0</td>\n      <td>1</td>\n      <td>0</td>\n      <td>0</td>\n    </tr>\n    <tr>\n      <th>1</th>\n      <td>0</td>\n      <td>0</td>\n      <td>0</td>\n      <td>1</td>\n      <td>1</td>\n      <td>1</td>\n      <td>0</td>\n      <td>1</td>\n      <td>1</td>\n      <td>1</td>\n    </tr>\n    <tr>\n      <th>2</th>\n      <td>0</td>\n      <td>1</td>\n      <td>0</td>\n      <td>0</td>\n      <td>0</td>\n      <td>1</td>\n      <td>1</td>\n      <td>1</td>\n      <td>0</td>\n      <td>0</td>\n    </tr>\n  </tbody>\n</table>\n</div>"
     },
     "execution_count": 13,
     "metadata": {},
     "output_type": "execute_result"
    }
   ],
   "source": [
    "# transformando em um df a matriz de contagem\n",
    "pd.DataFrame(matriz_contagem.toarray(), columns=vetorizador.get_feature_names_out())"
   ],
   "metadata": {
    "collapsed": false
   }
  },
  {
   "cell_type": "markdown",
   "source": [
    "Tipos de Similaridade:\n",
    "\n",
    "Similaridade por frequência\n",
    "Similaridade por contexto"
   ],
   "metadata": {
    "collapsed": false
   }
  },
  {
   "cell_type": "markdown",
   "source": [
    "Exercício - Similaridade entre documentos"
   ],
   "metadata": {
    "collapsed": false
   }
  },
  {
   "cell_type": "code",
   "execution_count": 14,
   "outputs": [],
   "source": [
    "corpus = ['the weather is hot under the sun',\n",
    "          'I make my hot chocolate with milk',\n",
    "          'One hot enconding',\n",
    "          'i will have a chai latte with milk',\n",
    "          'There is a hot sale today']"
   ],
   "metadata": {
    "collapsed": false
   }
  },
  {
   "cell_type": "code",
   "execution_count": 15,
   "outputs": [
    {
     "data": {
      "text/plain": "   chai  chocolate  enconding  hot  latte  make  milk  sale  sun  today   \n0     0          0          0    1      0     0     0     0    1      0  \\\n1     0          1          0    1      0     1     1     0    0      0   \n2     0          0          1    1      0     0     0     0    0      0   \n3     1          0          0    0      1     0     1     0    0      0   \n4     0          0          0    1      0     0     0     1    0      1   \n\n   weather  \n0        1  \n1        0  \n2        0  \n3        0  \n4        0  ",
      "text/html": "<div>\n<style scoped>\n    .dataframe tbody tr th:only-of-type {\n        vertical-align: middle;\n    }\n\n    .dataframe tbody tr th {\n        vertical-align: top;\n    }\n\n    .dataframe thead th {\n        text-align: right;\n    }\n</style>\n<table border=\"1\" class=\"dataframe\">\n  <thead>\n    <tr style=\"text-align: right;\">\n      <th></th>\n      <th>chai</th>\n      <th>chocolate</th>\n      <th>enconding</th>\n      <th>hot</th>\n      <th>latte</th>\n      <th>make</th>\n      <th>milk</th>\n      <th>sale</th>\n      <th>sun</th>\n      <th>today</th>\n      <th>weather</th>\n    </tr>\n  </thead>\n  <tbody>\n    <tr>\n      <th>0</th>\n      <td>0</td>\n      <td>0</td>\n      <td>0</td>\n      <td>1</td>\n      <td>0</td>\n      <td>0</td>\n      <td>0</td>\n      <td>0</td>\n      <td>1</td>\n      <td>0</td>\n      <td>1</td>\n    </tr>\n    <tr>\n      <th>1</th>\n      <td>0</td>\n      <td>1</td>\n      <td>0</td>\n      <td>1</td>\n      <td>0</td>\n      <td>1</td>\n      <td>1</td>\n      <td>0</td>\n      <td>0</td>\n      <td>0</td>\n      <td>0</td>\n    </tr>\n    <tr>\n      <th>2</th>\n      <td>0</td>\n      <td>0</td>\n      <td>1</td>\n      <td>1</td>\n      <td>0</td>\n      <td>0</td>\n      <td>0</td>\n      <td>0</td>\n      <td>0</td>\n      <td>0</td>\n      <td>0</td>\n    </tr>\n    <tr>\n      <th>3</th>\n      <td>1</td>\n      <td>0</td>\n      <td>0</td>\n      <td>0</td>\n      <td>1</td>\n      <td>0</td>\n      <td>1</td>\n      <td>0</td>\n      <td>0</td>\n      <td>0</td>\n      <td>0</td>\n    </tr>\n    <tr>\n      <th>4</th>\n      <td>0</td>\n      <td>0</td>\n      <td>0</td>\n      <td>1</td>\n      <td>0</td>\n      <td>0</td>\n      <td>0</td>\n      <td>1</td>\n      <td>0</td>\n      <td>1</td>\n      <td>0</td>\n    </tr>\n  </tbody>\n</table>\n</div>"
     },
     "execution_count": 15,
     "metadata": {},
     "output_type": "execute_result"
    }
   ],
   "source": [
    "cv = CountVectorizer(stop_words='english')\n",
    "X = cv.fit_transform(corpus).toarray()\n",
    "dt = pd.DataFrame(X, columns=cv.get_feature_names_out())\n",
    "dt"
   ],
   "metadata": {
    "collapsed": false
   }
  },
  {
   "cell_type": "code",
   "execution_count": 16,
   "outputs": [],
   "source": [
    "# Calculate the cosine similarity between all combinations of documents\n",
    "from itertools import combinations\n",
    "from sklearn.metrics.pairwise import cosine_similarity"
   ],
   "metadata": {
    "collapsed": false
   }
  },
  {
   "cell_type": "code",
   "execution_count": 18,
   "outputs": [],
   "source": [
    "# list all of the combinations of 5 take 2 as well as the pairs of phrases\n",
    "pairs = list(combinations(range(len(corpus)), 2))\n",
    "combos = [(corpus[a_index], corpus[b_index]) for (a_index, b_index) in pairs]"
   ],
   "metadata": {
    "collapsed": false
   }
  },
  {
   "cell_type": "code",
   "execution_count": 20,
   "outputs": [
    {
     "data": {
      "text/plain": "[(array([[0.40824829]]),\n  ('the weather is hot under the sun', 'One hot enconding')),\n (array([[0.40824829]]), ('One hot enconding', 'There is a hot sale today')),\n (array([[0.35355339]]),\n  ('I make my hot chocolate with milk', 'One hot enconding')),\n (array([[0.33333333]]),\n  ('the weather is hot under the sun', 'There is a hot sale today')),\n (array([[0.28867513]]),\n  ('the weather is hot under the sun', 'I make my hot chocolate with milk')),\n (array([[0.28867513]]),\n  ('I make my hot chocolate with milk', 'i will have a chai latte with milk')),\n (array([[0.28867513]]),\n  ('I make my hot chocolate with milk', 'There is a hot sale today')),\n (array([[0.]]),\n  ('the weather is hot under the sun', 'i will have a chai latte with milk')),\n (array([[0.]]),\n  ('i will have a chai latte with milk', 'There is a hot sale today')),\n (array([[0.]]), ('One hot enconding', 'i will have a chai latte with milk'))]"
     },
     "execution_count": 20,
     "metadata": {},
     "output_type": "execute_result"
    }
   ],
   "source": [
    "# calculate the cosine similarity for all pairs of phrases and sort by most similar\n",
    "results = [cosine_similarity([X[a_index]], [X[b_index]]) for (a_index, b_index) in pairs]\n",
    "sorted(zip(results, combos), reverse=True)"
   ],
   "metadata": {
    "collapsed": false
   }
  },
  {
   "cell_type": "code",
   "execution_count": null,
   "outputs": [],
   "source": [],
   "metadata": {
    "collapsed": false
   }
  }
 ],
 "metadata": {
  "kernelspec": {
   "display_name": "Python 3",
   "language": "python",
   "name": "python3"
  },
  "language_info": {
   "codemirror_mode": {
    "name": "ipython",
    "version": 2
   },
   "file_extension": ".py",
   "mimetype": "text/x-python",
   "name": "python",
   "nbconvert_exporter": "python",
   "pygments_lexer": "ipython2",
   "version": "2.7.6"
  }
 },
 "nbformat": 4,
 "nbformat_minor": 0
}
