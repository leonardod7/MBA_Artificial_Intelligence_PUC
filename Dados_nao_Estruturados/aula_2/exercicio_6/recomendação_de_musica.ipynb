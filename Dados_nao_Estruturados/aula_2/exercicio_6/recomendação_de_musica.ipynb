{
 "nbformat": 4,
 "nbformat_minor": 0,
 "metadata": {
  "anaconda-cloud": {},
  "kernelspec": {
   "display_name": "Python (intel_nlp)",
   "language": "python",
   "name": "intel_nlp"
  },
  "language_info": {
   "codemirror_mode": {
    "name": "ipython",
    "version": 3
   },
   "file_extension": ".py",
   "mimetype": "text/x-python",
   "name": "python",
   "nbconvert_exporter": "python",
   "pygments_lexer": "ipython3",
   "version": "3.6.5"
  },
  "toc": {
   "colors": {
    "hover_highlight": "#DAA520",
    "navigate_num": "#000000",
    "navigate_text": "#333333",
    "running_highlight": "#FF0000",
    "selected_highlight": "#FFD700",
    "sidebar_border": "#EEEEEE",
    "wrapper_background": "#FFFFFF"
   },
   "moveMenuLeft": true,
   "nav_menu": {
    "height": "48px",
    "width": "252px"
   },
   "navigate_menu": true,
   "number_sections": true,
   "sideBar": true,
   "threshold": 4,
   "toc_cell": false,
   "toc_section_display": "block",
   "toc_window_display": false,
   "widenNotebook": false
  },
  "colab": {
   "provenance": []
  }
 },
 "cells": [
  {
   "cell_type": "markdown",
   "metadata": {
    "id": "wYA3QVFCIX2S"
   },
   "source": [
    "# Text Similarity Measures Exercises #"
   ]
  },
  {
   "cell_type": "markdown",
   "metadata": {
    "id": "XOE0sWptIX2V"
   },
   "source": [
    "## Introduction ##"
   ]
  },
  {
   "cell_type": "markdown",
   "metadata": {
    "id": "3CUt_rxAIX2W"
   },
   "source": [
    "Usaremos [um conjunto de dados de letras de músicas do Kaggle] (https://www.kaggle.com/mousehead/songlyrics) para identificar músicas com letras semelhantes. O conjunto de dados contém artistas, músicas e letras de mais de 55 mil músicas, mas hoje vamos nos concentrar nas músicas de um grupo em particular - os Beatles.\n",
    "\n",
    "O código a seguir ajudará você a carregar os dados e a se preparar para este exercício."
   ]
  },
  {
   "cell_type": "code",
   "metadata": {
    "id": "mn0Ia4SbIX2X",
    "pycharm": {
     "is_executing": true
    }
   },
   "source": [
    "import nltk\n",
    "import pandas as pd"
   ],
   "execution_count": null,
   "outputs": []
  },
  {
   "cell_type": "code",
   "metadata": {
    "id": "6qQxlkEuiyeT",
    "colab": {
     "base_uri": "https://localhost:8080/"
    },
    "executionInfo": {
     "status": "ok",
     "timestamp": 1678461952711,
     "user_tz": 180,
     "elapsed": 29901,
     "user": {
      "displayName": "Leonardo Mendonza",
      "userId": "09205135724810578413"
     }
    },
    "outputId": "39aee323-c2ac-47bb-f917-b901256d2788",
    "pycharm": {
     "is_executing": true
    }
   },
   "source": [
    "# from google.colab import drive\n",
    "# drive.mount('/content/drive')"
   ],
   "execution_count": null,
   "outputs": []
  },
  {
   "cell_type": "code",
   "metadata": {
    "id": "RP1NVrFzjTR-",
    "pycharm": {
     "is_executing": true
    }
   },
   "source": [
    "# import os\n",
    "# workdir_path = '/content/drive/My Drive' #MODIFICAR!!! #Caminho para o seu workspace\n",
    "# os.chdir(workdir_path)"
   ],
   "execution_count": null,
   "outputs": []
  },
  {
   "cell_type": "code",
   "metadata": {
    "id": "DmAYDzepIX2c",
    "colab": {
     "base_uri": "https://localhost:8080/",
     "height": 206
    },
    "executionInfo": {
     "status": "ok",
     "timestamp": 1678461954890,
     "user_tz": 180,
     "elapsed": 2181,
     "user": {
      "displayName": "Leonardo Mendonza",
      "userId": "09205135724810578413"
     }
    },
    "outputId": "694562f2-0b2e-42d8-eeaf-2feac71a7d78",
    "pycharm": {
     "is_executing": true
    }
   },
   "source": [
    "data = pd.read_csv('songdata.csv')"
   ],
   "execution_count": null,
   "outputs": []
  },
  {
   "cell_type": "markdown",
   "metadata": {
    "id": "dsuvEwmqIX2g"
   },
   "source": [
    "## Desafio  1 ##"
   ]
  },
  {
   "cell_type": "markdown",
   "metadata": {
    "id": "F4A9EYnbIX2h"
   },
   "source": [
    "* Filtre o conjunto de dados da letra para selecionar apenas músicas dos Beatles.\n",
    "* Quantas músicas existem no total pelos Beatles?\n",
    "* Dê uma olhada nas letras da primeira música."
   ]
  },
  {
   "cell_type": "code",
   "metadata": {
    "id": "UYWoZz5zIX2i",
    "colab": {
     "base_uri": "https://localhost:8080/",
     "height": 206
    },
    "executionInfo": {
     "status": "ok",
     "timestamp": 1678461954890,
     "user_tz": 180,
     "elapsed": 12,
     "user": {
      "displayName": "Leonardo Mendonza",
      "userId": "09205135724810578413"
     }
    },
    "outputId": "18498c71-c577-4b66-f4b7-42a4ae8391a7",
    "pycharm": {
     "is_executing": true
    }
   },
   "source": [
    "# Veja apenas músicas dos Beatles\n",
    "beatles = data[data.artist=='The Beatles']\n",
    "beatles.head()"
   ],
   "execution_count": null,
   "outputs": []
  },
  {
   "cell_type": "code",
   "metadata": {
    "id": "h43LpBu0IX2l",
    "colab": {
     "base_uri": "https://localhost:8080/"
    },
    "executionInfo": {
     "status": "ok",
     "timestamp": 1678461954891,
     "user_tz": 180,
     "elapsed": 12,
     "user": {
      "displayName": "Leonardo Mendonza",
      "userId": "09205135724810578413"
     }
    },
    "outputId": "d9fcf58f-906f-4150-b220-d2f6c5f38e12"
   },
   "source": [
    "# Verifique o número de músicas dos Beatles no conjunto de dados\n",
    "data.artist.value_counts().loc[['The Beatles']]"
   ],
   "execution_count": null,
   "outputs": [
    {
     "output_type": "execute_result",
     "data": {
      "text/plain": [
       "The Beatles    178\n",
       "Name: artist, dtype: int64"
      ]
     },
     "metadata": {},
     "execution_count": 6
    }
   ]
  },
  {
   "cell_type": "code",
   "metadata": {
    "id": "tPYDjczaIX2o",
    "colab": {
     "base_uri": "https://localhost:8080/",
     "height": 122
    },
    "executionInfo": {
     "status": "ok",
     "timestamp": 1678461954891,
     "user_tz": 180,
     "elapsed": 10,
     "user": {
      "displayName": "Leonardo Mendonza",
      "userId": "09205135724810578413"
     }
    },
    "outputId": "4d367778-44c4-4d55-9693-acb58b21384a"
   },
   "source": [
    "# Veja a letra da primeira música\n",
    "beatles.iloc[176,3]"
   ],
   "execution_count": null,
   "outputs": [
    {
     "output_type": "execute_result",
     "data": {
      "text/plain": [
       "\"Oh! Darling, please believe me  \\r\\nI'll never do you no harm  \\r\\nBelieve me when I tell you  \\r\\nI'll never do you no harm  \\r\\n  \\r\\nOh! Darling, if you leave me  \\r\\nI'll never make it alone  \\r\\nBelieve me when I beg you  \\r\\nDon't ever leave me alone  \\r\\n  \\r\\nWhen you told me you didn't need me anymore  \\r\\nWell you know I nearly broke down and cried  \\r\\nWhen you told me you didn't need me anymore  \\r\\nWell you know I nearly broke down and died  \\r\\n  \\r\\nOh! Darling, if you leave me  \\r\\nI'll never make it alone  \\r\\nBelieve me when I beg you  \\r\\nI'll never do you no harm, no harm  \\r\\n  \\r\\nWhen you told me you didn't need me anymore  \\r\\nWell you know I nearly broke down and cried  \\r\\nWhen you told me you didn't need me anymore  \\r\\nWell you know I nearly broke down and cried  \\r\\n  \\r\\nOh! Darling, please believe me  \\r\\nI'll never let you down  \\r\\nBelieve me when I tell you  \\r\\nI'll never do you no harm\\r\\n\\r\\n\""
      ],
      "application/vnd.google.colaboratory.intrinsic+json": {
       "type": "string"
      }
     },
     "metadata": {},
     "execution_count": 7
    }
   ]
  },
  {
   "cell_type": "markdown",
   "metadata": {
    "id": "f1c68RIfIX2r"
   },
   "source": [
    "## Desafio 2 ##"
   ]
  },
  {
   "cell_type": "markdown",
   "metadata": {
    "id": "VoIOfQsSIX2s"
   },
   "source": [
    "Aplique as seguintes etapas de pré-processamento:\n",
    "* Observe os caracteres '\\ n' (nova linha) nas letras. Remova-os usando expressões regulares.\n",
    "* Remova todas as palavras com números usando expressões regulares.\n",
    "* Crie uma matriz de termos de documentos usando o Count Vectorizer, com cada linha como uma música e cada coluna como uma palavra nas letras. Faça com que o Count Vectorizer remova todas as palavras de parada também.\n",
    "\n",
    "Nota: O Count Vectorizer remove automaticamente a pontuação e coloca todos os caracteres em minúsculas."
   ]
  },
  {
   "cell_type": "code",
   "metadata": {
    "id": "a_ngW5djIX2s",
    "colab": {
     "base_uri": "https://localhost:8080/"
    },
    "executionInfo": {
     "status": "ok",
     "timestamp": 1678461954891,
     "user_tz": 180,
     "elapsed": 9,
     "user": {
      "displayName": "Leonardo Mendonza",
      "userId": "09205135724810578413"
     }
    },
    "outputId": "a04f25e7-268a-415b-c4f5-2e6372a64fd7"
   },
   "source": [
    "# Remover caracteres da letra\n",
    "import re\n",
    "\n",
    "newline = lambda x: re.sub('\\n', ' ', x) # remove \\n\n",
    "contra_barra_erre =  lambda x: re.sub(r'[^ \\w\\.]', '', x).lower()\n",
    "alphanumeric = lambda x: re.sub('\\w*\\d\\w*', ' ', x) # remove alphanumeric words\n",
    "\n",
    "corpus = beatles.text.map(newline).map(contra_barra_erre).map(alphanumeric)\n",
    "corpus.head()"
   ],
   "execution_count": null,
   "outputs": [
    {
     "output_type": "execute_result",
     "data": {
      "text/plain": [
       "1198    well if your hands start aclappin   and your f...\n",
       "1199    words are flowing out like   endless rain into...\n",
       "1200    whenever i want you around yeah   all i gotta ...\n",
       "1201    i give her all my love   thats all i do   and ...\n",
       "1202    you tell me that youve got everything you want...\n",
       "Name: text, dtype: object"
      ]
     },
     "metadata": {},
     "execution_count": 8
    }
   ]
  },
  {
   "cell_type": "code",
   "metadata": {
    "scrolled": true,
    "id": "-EHgnRKiIX2w",
    "colab": {
     "base_uri": "https://localhost:8080/",
     "height": 234
    },
    "executionInfo": {
     "status": "ok",
     "timestamp": 1678462219614,
     "user_tz": 180,
     "elapsed": 4,
     "user": {
      "displayName": "Leonardo Mendonza",
      "userId": "09205135724810578413"
     }
    },
    "outputId": "e364b3b0-8372-422a-9235-4dda98c99868"
   },
   "source": [
    "# Crie uma matriz de termos de documento usando o Count Vectorizer com as palavras de parada ativadas para inglês\n",
    "from sklearn.feature_extraction.text import CountVectorizer\n",
    "          \n",
    "cv = CountVectorizer(stop_words=\"english\")\n",
    "X = cv.fit_transform(corpus).toarray()\n",
    "\n",
    "dt = pd.DataFrame(X, columns=cv.get_feature_names_out()).set_index(beatles.song)\n",
    "dt.head(2)"
   ],
   "execution_count": null,
   "outputs": [
    {
     "output_type": "execute_result",
     "data": {
      "text/plain": [
       "                            aaahhh  aah  abcs  aches  aching  aclappin  \\\n",
       "song                                                                     \n",
       "A Shot Of Rhythm And Blues       0    0     0      0       0         1   \n",
       "Across The Universe              0    0     0      0       0         0   \n",
       "\n",
       "                            acquainted  act  actors  acts  ...  youd  youll  \\\n",
       "song                                                       ...                \n",
       "A Shot Of Rhythm And Blues           0    0       0     0  ...     0      0   \n",
       "Across The Universe                  0    0       0     0  ...     0      0   \n",
       "\n",
       "                            young  younger  youre  youu  youve  zealand  zoo  \\\n",
       "song                                                                           \n",
       "A Shot Of Rhythm And Blues      0        0      3     0      0        0    0   \n",
       "Across The Universe             0        0      0     0      0        0    0   \n",
       "\n",
       "                            zu  \n",
       "song                            \n",
       "A Shot Of Rhythm And Blues   0  \n",
       "Across The Universe          0  \n",
       "\n",
       "[2 rows x 2087 columns]"
      ],
      "text/html": [
       "\n",
       "  <div id=\"df-4e87d84e-4aab-4d3b-b1b6-7574229514f6\">\n",
       "    <div class=\"colab-df-container\">\n",
       "      <div>\n",
       "<style scoped>\n",
       "    .dataframe tbody tr th:only-of-type {\n",
       "        vertical-align: middle;\n",
       "    }\n",
       "\n",
       "    .dataframe tbody tr th {\n",
       "        vertical-align: top;\n",
       "    }\n",
       "\n",
       "    .dataframe thead th {\n",
       "        text-align: right;\n",
       "    }\n",
       "</style>\n",
       "<table border=\"1\" class=\"dataframe\">\n",
       "  <thead>\n",
       "    <tr style=\"text-align: right;\">\n",
       "      <th></th>\n",
       "      <th>aaahhh</th>\n",
       "      <th>aah</th>\n",
       "      <th>abcs</th>\n",
       "      <th>aches</th>\n",
       "      <th>aching</th>\n",
       "      <th>aclappin</th>\n",
       "      <th>acquainted</th>\n",
       "      <th>act</th>\n",
       "      <th>actors</th>\n",
       "      <th>acts</th>\n",
       "      <th>...</th>\n",
       "      <th>youd</th>\n",
       "      <th>youll</th>\n",
       "      <th>young</th>\n",
       "      <th>younger</th>\n",
       "      <th>youre</th>\n",
       "      <th>youu</th>\n",
       "      <th>youve</th>\n",
       "      <th>zealand</th>\n",
       "      <th>zoo</th>\n",
       "      <th>zu</th>\n",
       "    </tr>\n",
       "    <tr>\n",
       "      <th>song</th>\n",
       "      <th></th>\n",
       "      <th></th>\n",
       "      <th></th>\n",
       "      <th></th>\n",
       "      <th></th>\n",
       "      <th></th>\n",
       "      <th></th>\n",
       "      <th></th>\n",
       "      <th></th>\n",
       "      <th></th>\n",
       "      <th></th>\n",
       "      <th></th>\n",
       "      <th></th>\n",
       "      <th></th>\n",
       "      <th></th>\n",
       "      <th></th>\n",
       "      <th></th>\n",
       "      <th></th>\n",
       "      <th></th>\n",
       "      <th></th>\n",
       "      <th></th>\n",
       "    </tr>\n",
       "  </thead>\n",
       "  <tbody>\n",
       "    <tr>\n",
       "      <th>A Shot Of Rhythm And Blues</th>\n",
       "      <td>0</td>\n",
       "      <td>0</td>\n",
       "      <td>0</td>\n",
       "      <td>0</td>\n",
       "      <td>0</td>\n",
       "      <td>1</td>\n",
       "      <td>0</td>\n",
       "      <td>0</td>\n",
       "      <td>0</td>\n",
       "      <td>0</td>\n",
       "      <td>...</td>\n",
       "      <td>0</td>\n",
       "      <td>0</td>\n",
       "      <td>0</td>\n",
       "      <td>0</td>\n",
       "      <td>3</td>\n",
       "      <td>0</td>\n",
       "      <td>0</td>\n",
       "      <td>0</td>\n",
       "      <td>0</td>\n",
       "      <td>0</td>\n",
       "    </tr>\n",
       "    <tr>\n",
       "      <th>Across The Universe</th>\n",
       "      <td>0</td>\n",
       "      <td>0</td>\n",
       "      <td>0</td>\n",
       "      <td>0</td>\n",
       "      <td>0</td>\n",
       "      <td>0</td>\n",
       "      <td>0</td>\n",
       "      <td>0</td>\n",
       "      <td>0</td>\n",
       "      <td>0</td>\n",
       "      <td>...</td>\n",
       "      <td>0</td>\n",
       "      <td>0</td>\n",
       "      <td>0</td>\n",
       "      <td>0</td>\n",
       "      <td>0</td>\n",
       "      <td>0</td>\n",
       "      <td>0</td>\n",
       "      <td>0</td>\n",
       "      <td>0</td>\n",
       "      <td>0</td>\n",
       "    </tr>\n",
       "  </tbody>\n",
       "</table>\n",
       "<p>2 rows × 2087 columns</p>\n",
       "</div>\n",
       "      <button class=\"colab-df-convert\" onclick=\"convertToInteractive('df-4e87d84e-4aab-4d3b-b1b6-7574229514f6')\"\n",
       "              title=\"Convert this dataframe to an interactive table.\"\n",
       "              style=\"display:none;\">\n",
       "        \n",
       "  <svg xmlns=\"http://www.w3.org/2000/svg\" height=\"24px\"viewBox=\"0 0 24 24\"\n",
       "       width=\"24px\">\n",
       "    <path d=\"M0 0h24v24H0V0z\" fill=\"none\"/>\n",
       "    <path d=\"M18.56 5.44l.94 2.06.94-2.06 2.06-.94-2.06-.94-.94-2.06-.94 2.06-2.06.94zm-11 1L8.5 8.5l.94-2.06 2.06-.94-2.06-.94L8.5 2.5l-.94 2.06-2.06.94zm10 10l.94 2.06.94-2.06 2.06-.94-2.06-.94-.94-2.06-.94 2.06-2.06.94z\"/><path d=\"M17.41 7.96l-1.37-1.37c-.4-.4-.92-.59-1.43-.59-.52 0-1.04.2-1.43.59L10.3 9.45l-7.72 7.72c-.78.78-.78 2.05 0 2.83L4 21.41c.39.39.9.59 1.41.59.51 0 1.02-.2 1.41-.59l7.78-7.78 2.81-2.81c.8-.78.8-2.07 0-2.86zM5.41 20L4 18.59l7.72-7.72 1.47 1.35L5.41 20z\"/>\n",
       "  </svg>\n",
       "      </button>\n",
       "      \n",
       "  <style>\n",
       "    .colab-df-container {\n",
       "      display:flex;\n",
       "      flex-wrap:wrap;\n",
       "      gap: 12px;\n",
       "    }\n",
       "\n",
       "    .colab-df-convert {\n",
       "      background-color: #E8F0FE;\n",
       "      border: none;\n",
       "      border-radius: 50%;\n",
       "      cursor: pointer;\n",
       "      display: none;\n",
       "      fill: #1967D2;\n",
       "      height: 32px;\n",
       "      padding: 0 0 0 0;\n",
       "      width: 32px;\n",
       "    }\n",
       "\n",
       "    .colab-df-convert:hover {\n",
       "      background-color: #E2EBFA;\n",
       "      box-shadow: 0px 1px 2px rgba(60, 64, 67, 0.3), 0px 1px 3px 1px rgba(60, 64, 67, 0.15);\n",
       "      fill: #174EA6;\n",
       "    }\n",
       "\n",
       "    [theme=dark] .colab-df-convert {\n",
       "      background-color: #3B4455;\n",
       "      fill: #D2E3FC;\n",
       "    }\n",
       "\n",
       "    [theme=dark] .colab-df-convert:hover {\n",
       "      background-color: #434B5C;\n",
       "      box-shadow: 0px 1px 3px 1px rgba(0, 0, 0, 0.15);\n",
       "      filter: drop-shadow(0px 1px 2px rgba(0, 0, 0, 0.3));\n",
       "      fill: #FFFFFF;\n",
       "    }\n",
       "  </style>\n",
       "\n",
       "      <script>\n",
       "        const buttonEl =\n",
       "          document.querySelector('#df-4e87d84e-4aab-4d3b-b1b6-7574229514f6 button.colab-df-convert');\n",
       "        buttonEl.style.display =\n",
       "          google.colab.kernel.accessAllowed ? 'block' : 'none';\n",
       "\n",
       "        async function convertToInteractive(key) {\n",
       "          const element = document.querySelector('#df-4e87d84e-4aab-4d3b-b1b6-7574229514f6');\n",
       "          const dataTable =\n",
       "            await google.colab.kernel.invokeFunction('convertToInteractive',\n",
       "                                                     [key], {});\n",
       "          if (!dataTable) return;\n",
       "\n",
       "          const docLinkHtml = 'Like what you see? Visit the ' +\n",
       "            '<a target=\"_blank\" href=https://colab.research.google.com/notebooks/data_table.ipynb>data table notebook</a>'\n",
       "            + ' to learn more about interactive tables.';\n",
       "          element.innerHTML = '';\n",
       "          dataTable['output_type'] = 'display_data';\n",
       "          await google.colab.output.renderOutput(dataTable, element);\n",
       "          const docLink = document.createElement('div');\n",
       "          docLink.innerHTML = docLinkHtml;\n",
       "          element.appendChild(docLink);\n",
       "        }\n",
       "      </script>\n",
       "    </div>\n",
       "  </div>\n",
       "  "
      ]
     },
     "metadata": {},
     "execution_count": 13
    }
   ]
  },
  {
   "cell_type": "markdown",
   "metadata": {
    "id": "ykCOcg7GIX2z"
   },
   "source": [
    "## Desafio 3  ##"
   ]
  },
  {
   "cell_type": "markdown",
   "metadata": {
    "id": "M8eSnpXHIX20"
   },
   "source": [
    "* Dê uma olhada na letra da música \"Imagine\".\n",
    "* Qual música é a mais parecida com a música \"Imagine\"?\n",
    "      * Use a semelhança de cosseno para calcular a semelhança\n",
    "      * Use o Count Vectorizer para codificar numericamente a letra\n",
    "* Encontre a música mais parecida usando o TF-IDF Vectorizer.\n",
    "\n",
    "Compare a música mais semelhante das saídas do Count Vectorizer e do TF-IDF Vectorizer."
   ]
  },
  {
   "cell_type": "code",
   "metadata": {
    "id": "a4BiyqdXIX20",
    "colab": {
     "base_uri": "https://localhost:8080/"
    },
    "executionInfo": {
     "status": "ok",
     "timestamp": 1678462228295,
     "user_tz": 180,
     "elapsed": 258,
     "user": {
      "displayName": "Leonardo Mendonza",
      "userId": "09205135724810578413"
     }
    },
    "outputId": "7189fb0d-b41b-4679-e75c-6c356714ff88"
   },
   "source": [
    "# Defina as opções de exibição para que as letras não sejam cortadas\n",
    "pd.set_option('display.max_colwidth', -1)"
   ],
   "execution_count": null,
   "outputs": [
    {
     "output_type": "stream",
     "name": "stderr",
     "text": [
      "<ipython-input-14-611dc0a4a23b>:2: FutureWarning: Passing a negative integer is deprecated in version 1.0 and will not be supported in future version. Instead, use None to not limit the column width.\n",
      "  pd.set_option('display.max_colwidth', -1)\n"
     ]
    }
   ]
  },
  {
   "cell_type": "code",
   "metadata": {
    "id": "pC6OAiYMIX23",
    "colab": {
     "base_uri": "https://localhost:8080/"
    },
    "executionInfo": {
     "status": "ok",
     "timestamp": 1678462229888,
     "user_tz": 180,
     "elapsed": 5,
     "user": {
      "displayName": "Leonardo Mendonza",
      "userId": "09205135724810578413"
     }
    },
    "outputId": "a39cce8b-c6c0-4de1-faa1-78ed279267f9"
   },
   "source": [
    "# Imagine letras\n",
    "beatles[beatles.song=='Imagine'].text"
   ],
   "execution_count": null,
   "outputs": [
    {
     "output_type": "execute_result",
     "data": {
      "text/plain": [
       "24783    Imagine there's no heaven  \\r\\nIt's easy if you try  \\r\\nNo hell below us  \\r\\nAbove us only sky  \\r\\nImagine all the people  \\r\\nLiving for today...  \\r\\n  \\r\\nImagine there's no countries  \\r\\nIt isn't hard to do  \\r\\nNothing to kill or die for  \\r\\nAnd no religion too  \\r\\nImagine all the people  \\r\\nLiving life in peace...  \\r\\n  \\r\\nYou may say I'm a dreamer  \\r\\nBut I'm not the only one  \\r\\nI hope someday you'll join us  \\r\\nAnd the world will be as one  \\r\\n  \\r\\nImagine no possessions  \\r\\nI wonder if you can  \\r\\nNo need for greed or hunger  \\r\\nA brotherhood of man  \\r\\nImagine all the people  \\r\\nSharing all the world...  \\r\\n  \\r\\nYou may say I'm a dreamer  \\r\\nBut I'm not the only one  \\r\\nI hope someday you'll join us  \\r\\nAnd the world will live as one\\r\\n\\r\\n\n",
       "Name: text, dtype: object"
      ]
     },
     "metadata": {},
     "execution_count": 15
    }
   ]
  },
  {
   "cell_type": "code",
   "metadata": {
    "id": "tsg4CFNSIX27",
    "colab": {
     "base_uri": "https://localhost:8080/"
    },
    "executionInfo": {
     "status": "ok",
     "timestamp": 1678462230299,
     "user_tz": 180,
     "elapsed": 7,
     "user": {
      "displayName": "Leonardo Mendonza",
      "userId": "09205135724810578413"
     }
    },
    "outputId": "f2bf63f9-6260-41e3-86a0-b998744c6d3f"
   },
   "source": [
    "# Imagine letras no formato Count Vectorizer\n",
    "imagine = list(dt.loc['Imagine'])\n",
    "imagine[:20]"
   ],
   "execution_count": null,
   "outputs": [
    {
     "output_type": "execute_result",
     "data": {
      "text/plain": [
       "[0, 0, 0, 0, 0, 0, 0, 0, 0, 0, 0, 0, 0, 0, 0, 0, 0, 0, 0, 0]"
      ]
     },
     "metadata": {},
     "execution_count": 16
    }
   ]
  },
  {
   "cell_type": "code",
   "metadata": {
    "id": "YWDxi6VLIX2-"
   },
   "source": [
    "# Definir o cálculo de similaridade de cosseno\n",
    "from numpy import dot\n",
    "from numpy.linalg import norm\n",
    "\n",
    "cosine = lambda v1, v2: dot(v1, v2) / (norm(v1) * norm(v2))"
   ],
   "execution_count": null,
   "outputs": []
  },
  {
   "cell_type": "code",
   "metadata": {
    "id": "tg-kc5DKIX3B",
    "colab": {
     "base_uri": "https://localhost:8080/"
    },
    "executionInfo": {
     "status": "ok",
     "timestamp": 1678462230736,
     "user_tz": 180,
     "elapsed": 441,
     "user": {
      "displayName": "Leonardo Mendonza",
      "userId": "09205135724810578413"
     }
    },
    "outputId": "5112e8b2-b6b0-4bfb-d876-46e40d3d8d45"
   },
   "source": [
    "# Calcular todas as semelhanças e classificar pelas mais semelhantes\n",
    "similarity = [cosine(imagine, song) for song in X]\n",
    "sorted(list(zip(similarity, beatles.song)), reverse=True)[1:6]"
   ],
   "execution_count": null,
   "outputs": [
    {
     "output_type": "execute_result",
     "data": {
      "text/plain": [
       "[(0.3228317050890002, \"I'm Down\"),\n",
       " (0.28818543935741636, 'Old Brown Shoe'),\n",
       " (0.2818152716377242, 'Fixing A Hole'),\n",
       " (0.26773120849090415, \"I'm Only Sleeping\"),\n",
       " (0.2641757367279902, \"I'm A Loser\")]"
      ]
     },
     "metadata": {},
     "execution_count": 18
    }
   ]
  },
  {
   "cell_type": "code",
   "metadata": {
    "id": "RjcFgP9MIX3E",
    "colab": {
     "base_uri": "https://localhost:8080/",
     "height": 467
    },
    "executionInfo": {
     "status": "ok",
     "timestamp": 1678462242931,
     "user_tz": 180,
     "elapsed": 430,
     "user": {
      "displayName": "Leonardo Mendonza",
      "userId": "09205135724810578413"
     }
    },
    "outputId": "7a0e68d6-9b5e-468f-dfd9-ffcdcbc68abf"
   },
   "source": [
    "# Crie o vetorizador TF-IDF\n",
    "from sklearn.feature_extraction.text import TfidfVectorizer\n",
    "          \n",
    "cv_tfidf = TfidfVectorizer(stop_words=\"english\")\n",
    "X_tfidf = cv_tfidf.fit_transform(corpus).toarray()\n",
    "\n",
    "dt_tfidf = pd.DataFrame(X_tfidf, columns=cv_tfidf.get_feature_names_out()).set_index(beatles.song)\n",
    "dt_tfidf.head()"
   ],
   "execution_count": null,
   "outputs": [
    {
     "output_type": "execute_result",
     "data": {
      "text/plain": [
       "                            aaahhh  aah  abcs  aches  aching  aclappin  \\\n",
       "song                                                                     \n",
       "A Shot Of Rhythm And Blues  0.0     0.0  0.0   0.0    0.0     0.060442   \n",
       "Across The Universe         0.0     0.0  0.0   0.0    0.0     0.000000   \n",
       "All I've Got To Do          0.0     0.0  0.0   0.0    0.0     0.000000   \n",
       "And I Love Her              0.0     0.0  0.0   0.0    0.0     0.000000   \n",
       "And Your Bird Can Sing      0.0     0.0  0.0   0.0    0.0     0.000000   \n",
       "\n",
       "                            acquainted  act  actors  acts  ...      youd  \\\n",
       "song                                                       ...             \n",
       "A Shot Of Rhythm And Blues  0.0         0.0  0.0     0.0   ...  0.000000   \n",
       "Across The Universe         0.0         0.0  0.0     0.0   ...  0.000000   \n",
       "All I've Got To Do          0.0         0.0  0.0     0.0   ...  0.000000   \n",
       "And I Love Her              0.0         0.0  0.0     0.0   ...  0.111911   \n",
       "And Your Bird Can Sing      0.0         0.0  0.0     0.0   ...  0.000000   \n",
       "\n",
       "                               youll  young  younger     youre  youu  \\\n",
       "song                                                                   \n",
       "A Shot Of Rhythm And Blues  0.000000  0.0    0.0      0.082458  0.0    \n",
       "Across The Universe         0.000000  0.0    0.0      0.000000  0.0    \n",
       "All I've Got To Do          0.137599  0.0    0.0      0.000000  0.0    \n",
       "And I Love Her              0.000000  0.0    0.0      0.000000  0.0    \n",
       "And Your Bird Can Sing      0.000000  0.0    0.0      0.000000  0.0    \n",
       "\n",
       "                               youve  zealand  zoo   zu  \n",
       "song                                                     \n",
       "A Shot Of Rhythm And Blues  0.000000  0.0      0.0  0.0  \n",
       "Across The Universe         0.000000  0.0      0.0  0.0  \n",
       "All I've Got To Do          0.000000  0.0      0.0  0.0  \n",
       "And I Love Her              0.000000  0.0      0.0  0.0  \n",
       "And Your Bird Can Sing      0.295399  0.0      0.0  0.0  \n",
       "\n",
       "[5 rows x 2087 columns]"
      ],
      "text/html": [
       "\n",
       "  <div id=\"df-8c65bddb-1d00-444d-9301-b82cb14860b9\">\n",
       "    <div class=\"colab-df-container\">\n",
       "      <div>\n",
       "<style scoped>\n",
       "    .dataframe tbody tr th:only-of-type {\n",
       "        vertical-align: middle;\n",
       "    }\n",
       "\n",
       "    .dataframe tbody tr th {\n",
       "        vertical-align: top;\n",
       "    }\n",
       "\n",
       "    .dataframe thead th {\n",
       "        text-align: right;\n",
       "    }\n",
       "</style>\n",
       "<table border=\"1\" class=\"dataframe\">\n",
       "  <thead>\n",
       "    <tr style=\"text-align: right;\">\n",
       "      <th></th>\n",
       "      <th>aaahhh</th>\n",
       "      <th>aah</th>\n",
       "      <th>abcs</th>\n",
       "      <th>aches</th>\n",
       "      <th>aching</th>\n",
       "      <th>aclappin</th>\n",
       "      <th>acquainted</th>\n",
       "      <th>act</th>\n",
       "      <th>actors</th>\n",
       "      <th>acts</th>\n",
       "      <th>...</th>\n",
       "      <th>youd</th>\n",
       "      <th>youll</th>\n",
       "      <th>young</th>\n",
       "      <th>younger</th>\n",
       "      <th>youre</th>\n",
       "      <th>youu</th>\n",
       "      <th>youve</th>\n",
       "      <th>zealand</th>\n",
       "      <th>zoo</th>\n",
       "      <th>zu</th>\n",
       "    </tr>\n",
       "    <tr>\n",
       "      <th>song</th>\n",
       "      <th></th>\n",
       "      <th></th>\n",
       "      <th></th>\n",
       "      <th></th>\n",
       "      <th></th>\n",
       "      <th></th>\n",
       "      <th></th>\n",
       "      <th></th>\n",
       "      <th></th>\n",
       "      <th></th>\n",
       "      <th></th>\n",
       "      <th></th>\n",
       "      <th></th>\n",
       "      <th></th>\n",
       "      <th></th>\n",
       "      <th></th>\n",
       "      <th></th>\n",
       "      <th></th>\n",
       "      <th></th>\n",
       "      <th></th>\n",
       "      <th></th>\n",
       "    </tr>\n",
       "  </thead>\n",
       "  <tbody>\n",
       "    <tr>\n",
       "      <th>A Shot Of Rhythm And Blues</th>\n",
       "      <td>0.0</td>\n",
       "      <td>0.0</td>\n",
       "      <td>0.0</td>\n",
       "      <td>0.0</td>\n",
       "      <td>0.0</td>\n",
       "      <td>0.060442</td>\n",
       "      <td>0.0</td>\n",
       "      <td>0.0</td>\n",
       "      <td>0.0</td>\n",
       "      <td>0.0</td>\n",
       "      <td>...</td>\n",
       "      <td>0.000000</td>\n",
       "      <td>0.000000</td>\n",
       "      <td>0.0</td>\n",
       "      <td>0.0</td>\n",
       "      <td>0.082458</td>\n",
       "      <td>0.0</td>\n",
       "      <td>0.000000</td>\n",
       "      <td>0.0</td>\n",
       "      <td>0.0</td>\n",
       "      <td>0.0</td>\n",
       "    </tr>\n",
       "    <tr>\n",
       "      <th>Across The Universe</th>\n",
       "      <td>0.0</td>\n",
       "      <td>0.0</td>\n",
       "      <td>0.0</td>\n",
       "      <td>0.0</td>\n",
       "      <td>0.0</td>\n",
       "      <td>0.000000</td>\n",
       "      <td>0.0</td>\n",
       "      <td>0.0</td>\n",
       "      <td>0.0</td>\n",
       "      <td>0.0</td>\n",
       "      <td>...</td>\n",
       "      <td>0.000000</td>\n",
       "      <td>0.000000</td>\n",
       "      <td>0.0</td>\n",
       "      <td>0.0</td>\n",
       "      <td>0.000000</td>\n",
       "      <td>0.0</td>\n",
       "      <td>0.000000</td>\n",
       "      <td>0.0</td>\n",
       "      <td>0.0</td>\n",
       "      <td>0.0</td>\n",
       "    </tr>\n",
       "    <tr>\n",
       "      <th>All I've Got To Do</th>\n",
       "      <td>0.0</td>\n",
       "      <td>0.0</td>\n",
       "      <td>0.0</td>\n",
       "      <td>0.0</td>\n",
       "      <td>0.0</td>\n",
       "      <td>0.000000</td>\n",
       "      <td>0.0</td>\n",
       "      <td>0.0</td>\n",
       "      <td>0.0</td>\n",
       "      <td>0.0</td>\n",
       "      <td>...</td>\n",
       "      <td>0.000000</td>\n",
       "      <td>0.137599</td>\n",
       "      <td>0.0</td>\n",
       "      <td>0.0</td>\n",
       "      <td>0.000000</td>\n",
       "      <td>0.0</td>\n",
       "      <td>0.000000</td>\n",
       "      <td>0.0</td>\n",
       "      <td>0.0</td>\n",
       "      <td>0.0</td>\n",
       "    </tr>\n",
       "    <tr>\n",
       "      <th>And I Love Her</th>\n",
       "      <td>0.0</td>\n",
       "      <td>0.0</td>\n",
       "      <td>0.0</td>\n",
       "      <td>0.0</td>\n",
       "      <td>0.0</td>\n",
       "      <td>0.000000</td>\n",
       "      <td>0.0</td>\n",
       "      <td>0.0</td>\n",
       "      <td>0.0</td>\n",
       "      <td>0.0</td>\n",
       "      <td>...</td>\n",
       "      <td>0.111911</td>\n",
       "      <td>0.000000</td>\n",
       "      <td>0.0</td>\n",
       "      <td>0.0</td>\n",
       "      <td>0.000000</td>\n",
       "      <td>0.0</td>\n",
       "      <td>0.000000</td>\n",
       "      <td>0.0</td>\n",
       "      <td>0.0</td>\n",
       "      <td>0.0</td>\n",
       "    </tr>\n",
       "    <tr>\n",
       "      <th>And Your Bird Can Sing</th>\n",
       "      <td>0.0</td>\n",
       "      <td>0.0</td>\n",
       "      <td>0.0</td>\n",
       "      <td>0.0</td>\n",
       "      <td>0.0</td>\n",
       "      <td>0.000000</td>\n",
       "      <td>0.0</td>\n",
       "      <td>0.0</td>\n",
       "      <td>0.0</td>\n",
       "      <td>0.0</td>\n",
       "      <td>...</td>\n",
       "      <td>0.000000</td>\n",
       "      <td>0.000000</td>\n",
       "      <td>0.0</td>\n",
       "      <td>0.0</td>\n",
       "      <td>0.000000</td>\n",
       "      <td>0.0</td>\n",
       "      <td>0.295399</td>\n",
       "      <td>0.0</td>\n",
       "      <td>0.0</td>\n",
       "      <td>0.0</td>\n",
       "    </tr>\n",
       "  </tbody>\n",
       "</table>\n",
       "<p>5 rows × 2087 columns</p>\n",
       "</div>\n",
       "      <button class=\"colab-df-convert\" onclick=\"convertToInteractive('df-8c65bddb-1d00-444d-9301-b82cb14860b9')\"\n",
       "              title=\"Convert this dataframe to an interactive table.\"\n",
       "              style=\"display:none;\">\n",
       "        \n",
       "  <svg xmlns=\"http://www.w3.org/2000/svg\" height=\"24px\"viewBox=\"0 0 24 24\"\n",
       "       width=\"24px\">\n",
       "    <path d=\"M0 0h24v24H0V0z\" fill=\"none\"/>\n",
       "    <path d=\"M18.56 5.44l.94 2.06.94-2.06 2.06-.94-2.06-.94-.94-2.06-.94 2.06-2.06.94zm-11 1L8.5 8.5l.94-2.06 2.06-.94-2.06-.94L8.5 2.5l-.94 2.06-2.06.94zm10 10l.94 2.06.94-2.06 2.06-.94-2.06-.94-.94-2.06-.94 2.06-2.06.94z\"/><path d=\"M17.41 7.96l-1.37-1.37c-.4-.4-.92-.59-1.43-.59-.52 0-1.04.2-1.43.59L10.3 9.45l-7.72 7.72c-.78.78-.78 2.05 0 2.83L4 21.41c.39.39.9.59 1.41.59.51 0 1.02-.2 1.41-.59l7.78-7.78 2.81-2.81c.8-.78.8-2.07 0-2.86zM5.41 20L4 18.59l7.72-7.72 1.47 1.35L5.41 20z\"/>\n",
       "  </svg>\n",
       "      </button>\n",
       "      \n",
       "  <style>\n",
       "    .colab-df-container {\n",
       "      display:flex;\n",
       "      flex-wrap:wrap;\n",
       "      gap: 12px;\n",
       "    }\n",
       "\n",
       "    .colab-df-convert {\n",
       "      background-color: #E8F0FE;\n",
       "      border: none;\n",
       "      border-radius: 50%;\n",
       "      cursor: pointer;\n",
       "      display: none;\n",
       "      fill: #1967D2;\n",
       "      height: 32px;\n",
       "      padding: 0 0 0 0;\n",
       "      width: 32px;\n",
       "    }\n",
       "\n",
       "    .colab-df-convert:hover {\n",
       "      background-color: #E2EBFA;\n",
       "      box-shadow: 0px 1px 2px rgba(60, 64, 67, 0.3), 0px 1px 3px 1px rgba(60, 64, 67, 0.15);\n",
       "      fill: #174EA6;\n",
       "    }\n",
       "\n",
       "    [theme=dark] .colab-df-convert {\n",
       "      background-color: #3B4455;\n",
       "      fill: #D2E3FC;\n",
       "    }\n",
       "\n",
       "    [theme=dark] .colab-df-convert:hover {\n",
       "      background-color: #434B5C;\n",
       "      box-shadow: 0px 1px 3px 1px rgba(0, 0, 0, 0.15);\n",
       "      filter: drop-shadow(0px 1px 2px rgba(0, 0, 0, 0.3));\n",
       "      fill: #FFFFFF;\n",
       "    }\n",
       "  </style>\n",
       "\n",
       "      <script>\n",
       "        const buttonEl =\n",
       "          document.querySelector('#df-8c65bddb-1d00-444d-9301-b82cb14860b9 button.colab-df-convert');\n",
       "        buttonEl.style.display =\n",
       "          google.colab.kernel.accessAllowed ? 'block' : 'none';\n",
       "\n",
       "        async function convertToInteractive(key) {\n",
       "          const element = document.querySelector('#df-8c65bddb-1d00-444d-9301-b82cb14860b9');\n",
       "          const dataTable =\n",
       "            await google.colab.kernel.invokeFunction('convertToInteractive',\n",
       "                                                     [key], {});\n",
       "          if (!dataTable) return;\n",
       "\n",
       "          const docLinkHtml = 'Like what you see? Visit the ' +\n",
       "            '<a target=\"_blank\" href=https://colab.research.google.com/notebooks/data_table.ipynb>data table notebook</a>'\n",
       "            + ' to learn more about interactive tables.';\n",
       "          element.innerHTML = '';\n",
       "          dataTable['output_type'] = 'display_data';\n",
       "          await google.colab.output.renderOutput(dataTable, element);\n",
       "          const docLink = document.createElement('div');\n",
       "          docLink.innerHTML = docLinkHtml;\n",
       "          element.appendChild(docLink);\n",
       "        }\n",
       "      </script>\n",
       "    </div>\n",
       "  </div>\n",
       "  "
      ]
     },
     "metadata": {},
     "execution_count": 32
    }
   ]
  },
  {
   "cell_type": "code",
   "metadata": {
    "id": "spX9cnyXIX3G"
   },
   "source": [
    "# Calcule todas as semelhanças e classifique as mais semelhantes usando os dados do TF-IDF\n",
    "similarity_tfidf = [cosine(imagine, song) for song in X_tfidf]\n",
    "sorted(list(zip(similarity_tfidf, beatles.song)), reverse=True)[1:6]"
   ],
   "execution_count": null,
   "outputs": []
  },
  {
   "cell_type": "markdown",
   "metadata": {
    "id": "PulG-w9iIX3J"
   },
   "source": [
    "As respostas para o Count Vectorizer e TF-IDF Vectorizer estão bem próximas. Nos dois casos, \"Eu vou chorar\" é a música mais parecida com \"Imagine\". Quando você olha as letras, pode ver que as duas estão do lado triste das músicas dos Beatles."
   ]
  },
  {
   "cell_type": "code",
   "metadata": {
    "id": "IxDMttajIX3K",
    "colab": {
     "base_uri": "https://localhost:8080/"
    },
    "executionInfo": {
     "status": "ok",
     "timestamp": 1678462230737,
     "user_tz": 180,
     "elapsed": 6,
     "user": {
      "displayName": "Leonardo Mendonza",
      "userId": "09205135724810578413"
     }
    },
    "outputId": "9fc34a54-1581-4e64-bc28-cb82bf39c03d"
   },
   "source": [
    "# Imagine lyrics\n",
    "beatles[beatles.song=='Imagine'].text"
   ],
   "execution_count": null,
   "outputs": [
    {
     "output_type": "execute_result",
     "data": {
      "text/plain": [
       "24783    Imagine there's no heaven  \\r\\nIt's easy if you try  \\r\\nNo hell below us  \\r\\nAbove us only sky  \\r\\nImagine all the people  \\r\\nLiving for today...  \\r\\n  \\r\\nImagine there's no countries  \\r\\nIt isn't hard to do  \\r\\nNothing to kill or die for  \\r\\nAnd no religion too  \\r\\nImagine all the people  \\r\\nLiving life in peace...  \\r\\n  \\r\\nYou may say I'm a dreamer  \\r\\nBut I'm not the only one  \\r\\nI hope someday you'll join us  \\r\\nAnd the world will be as one  \\r\\n  \\r\\nImagine no possessions  \\r\\nI wonder if you can  \\r\\nNo need for greed or hunger  \\r\\nA brotherhood of man  \\r\\nImagine all the people  \\r\\nSharing all the world...  \\r\\n  \\r\\nYou may say I'm a dreamer  \\r\\nBut I'm not the only one  \\r\\nI hope someday you'll join us  \\r\\nAnd the world will live as one\\r\\n\\r\\n\n",
       "Name: text, dtype: object"
      ]
     },
     "metadata": {},
     "execution_count": 20
    }
   ]
  },
  {
   "cell_type": "code",
   "metadata": {
    "id": "j1MlH9hbIX3O",
    "colab": {
     "base_uri": "https://localhost:8080/"
    },
    "executionInfo": {
     "status": "ok",
     "timestamp": 1678462232327,
     "user_tz": 180,
     "elapsed": 5,
     "user": {
      "displayName": "Leonardo Mendonza",
      "userId": "09205135724810578413"
     }
    },
    "outputId": "462ad2e3-ba6a-4cd3-a828-30dce42fb3a3"
   },
   "source": [
    "# I'll Cry Instead lyrics\n",
    "beatles[beatles.song=='I\\'m Down'].text"
   ],
   "execution_count": null,
   "outputs": [
    {
     "output_type": "execute_result",
     "data": {
      "text/plain": [
       "24777    You tell lies thinking I can't see  \\r\\nYou can't cry 'cause you're laughing at me  \\r\\nI'm down, I'm down, I''m down  \\r\\nHow can you laugh when you know I'm down  \\r\\nHow can you laugh when you know I'm down  \\r\\n  \\r\\nMan buys ring, woman throws it away  \\r\\nSame old thing happen every day  \\r\\nI'm down, I'm down, I''m down  \\r\\nHow can you laugh when you know I'm down  \\r\\nHow can you laugh when you know I'm down  \\r\\n  \\r\\nWe're all alone and there's nobody else  \\r\\nShe'll still moan \"Keep your hands to yourself\"  \\r\\nI'm down, I'm down, I''m down  \\r\\nHow can you laugh when you know I'm down  \\r\\nHow can you laugh when you know I'm down, woo  \\r\\n  \\r\\nA baby you know I'm down  \\r\\nI guess I'm down  \\r\\nI'm down on the ground  \\r\\nI'm down  \\r\\nAh, baby I'm upside down  \\r\\nOh yeah, yeah, yeah, yeah, yeah,  \\r\\nI'm down\\r\\n\\r\\n\n",
       "Name: text, dtype: object"
      ]
     },
     "metadata": {},
     "execution_count": 21
    }
   ]
  },
  {
   "cell_type": "markdown",
   "metadata": {
    "id": "6rtsPeM6IX3R"
   },
   "source": [
    "## Desafio 4 ##"
   ]
  },
  {
   "cell_type": "markdown",
   "metadata": {
    "id": "TNNlk1DmIX3R"
   },
   "source": [
    "Quais são as duas músicas dos Beatles mais parecidas?\n",
    "    * Usando o Count Vectorizer\n",
    "    * Usando o TFizer Vectorizer\n",
    "     \n",
    "Compare os resultados. Qual vetorizador parece fazer um trabalho melhor?"
   ]
  },
  {
   "cell_type": "code",
   "metadata": {
    "id": "PV-1QEmpIX3V"
   },
   "source": [
    "# Calcular a semelhança de cosseno entre todas as combinações de documentos"
   ],
   "execution_count": null,
   "outputs": []
  },
  {
   "cell_type": "code",
   "metadata": {
    "id": "Bg1L3BYQIX3X",
    "colab": {
     "base_uri": "https://localhost:8080/"
    },
    "executionInfo": {
     "status": "ok",
     "timestamp": 1678462233589,
     "user_tz": 180,
     "elapsed": 791,
     "user": {
      "displayName": "Leonardo Mendonza",
      "userId": "09205135724810578413"
     }
    },
    "outputId": "27aaaf08-6ebf-4a7f-ecd1-c3fefba0b15e"
   },
   "source": [
    "# Listar todas as combinações de músicas\n",
    "from itertools import combinations\n",
    "\n",
    "pairs = list(combinations(beatles.song.index, 2)) # all song index combos\n",
    "pairs_0 = list(combinations(range(len(beatles)), 2)) # all index combos starting with (0,1)\n",
    "song_pairs = [(beatles.song[a_index], beatles.song[b_index]) for (a_index, b_index) in pairs]\n",
    "song_pairs[:15]"
   ],
   "execution_count": null,
   "outputs": [
    {
     "output_type": "execute_result",
     "data": {
      "text/plain": [
       "[('A Shot Of Rhythm And Blues', 'Across The Universe'),\n",
       " ('A Shot Of Rhythm And Blues', \"All I've Got To Do\"),\n",
       " ('A Shot Of Rhythm And Blues', 'And I Love Her'),\n",
       " ('A Shot Of Rhythm And Blues', 'And Your Bird Can Sing'),\n",
       " ('A Shot Of Rhythm And Blues', 'Another Girl'),\n",
       " ('A Shot Of Rhythm And Blues', 'Any Time At All'),\n",
       " ('A Shot Of Rhythm And Blues', 'Ask Me Why'),\n",
       " ('A Shot Of Rhythm And Blues', \"Baby, You're A Rich Man\"),\n",
       " ('A Shot Of Rhythm And Blues', 'Birthday'),\n",
       " ('A Shot Of Rhythm And Blues', 'Blackbird'),\n",
       " ('A Shot Of Rhythm And Blues', 'Blue Jay Way'),\n",
       " ('A Shot Of Rhythm And Blues', 'Blue Suede Shoes'),\n",
       " ('A Shot Of Rhythm And Blues', 'Boys'),\n",
       " ('A Shot Of Rhythm And Blues', \"Can't Buy Me Love\"),\n",
       " ('A Shot Of Rhythm And Blues', 'Carol')]"
      ]
     },
     "metadata": {},
     "execution_count": 23
    }
   ]
  },
  {
   "cell_type": "code",
   "metadata": {
    "id": "0c_3GKKFIX3Z",
    "colab": {
     "base_uri": "https://localhost:8080/"
    },
    "executionInfo": {
     "status": "ok",
     "timestamp": 1678462234111,
     "user_tz": 180,
     "elapsed": 524,
     "user": {
      "displayName": "Leonardo Mendonza",
      "userId": "09205135724810578413"
     }
    },
    "outputId": "99524bbc-8723-47bf-ecbc-00254135e336"
   },
   "source": [
    "# Calcular a semelhança de cosseno da matriz termo-documento do Count Vectorizer\n",
    "results = [cosine(X[a_index], X[b_index]) for (a_index, b_index) in pairs_0]\n",
    "sorted(zip(results, song_pairs), reverse=True)[:5]"
   ],
   "execution_count": null,
   "outputs": [
    {
     "output_type": "execute_result",
     "data": {
      "text/plain": [
       "[(0.8577775427960155, ('If I Needed Someone', 'If I Needed Someone To Love')),\n",
       " (0.8529344956371233, ('All You Need Is Love', 'Love Me Do')),\n",
       " (0.800349384405817, ('And I Love Her', 'Love Me Do')),\n",
       " (0.7962811940422436, ('If I Fell', 'Love Me Do')),\n",
       " (0.7419070345786396, ('All You Need Is Love', 'If I Fell'))]"
      ]
     },
     "metadata": {},
     "execution_count": 24
    }
   ]
  },
  {
   "cell_type": "code",
   "metadata": {
    "id": "ZPd_khmyIX3c",
    "colab": {
     "base_uri": "https://localhost:8080/"
    },
    "executionInfo": {
     "status": "ok",
     "timestamp": 1678462234493,
     "user_tz": 180,
     "elapsed": 385,
     "user": {
      "displayName": "Leonardo Mendonza",
      "userId": "09205135724810578413"
     }
    },
    "outputId": "b0e90821-cfb6-472f-d1f1-40ffeb8a1ee6"
   },
   "source": [
    "# Calcular a semelhança de cosseno da matriz termo-documento do TF-IDF Vectorizer\n",
    "results = [cosine(X_tfidf[a_index], X_tfidf[b_index]) for (a_index, b_index) in pairs_0]\n",
    "sorted(zip(results, song_pairs), reverse=True)[:5]"
   ],
   "execution_count": null,
   "outputs": [
    {
     "output_type": "execute_result",
     "data": {
      "text/plain": [
       "[(0.8876999243824961, ('If I Needed Someone', 'If I Needed Someone To Love')),\n",
       " (0.6533862295063896, ('All You Need Is Love', 'Love Me Do')),\n",
       " (0.6413354956395061, ('Have A Banana!', 'Crinsk Dee Night')),\n",
       " (0.6391167176572528, (\"Don't Let Me Down\", 'Let It Be')),\n",
       " (0.5339722470726359, ('If I Fell', 'Love Me Do'))]"
      ]
     },
     "metadata": {},
     "execution_count": 25
    }
   ]
  },
  {
   "cell_type": "markdown",
   "metadata": {
    "id": "BLgjywBUIX3f"
   },
   "source": [
    "Com o Count Vectorizer, todas as músicas principais contêm o termo \"love\", com \"All You Need Is Love\" e \"Love Me Do\" sendo as mais semelhantes. Isso ocorre porque os Beatles tendem a usar muito o termo \"amor\" em suas músicas.\n",
    "\n",
    "Com o TF-IDF Vectorizer, as principais músicas semelhantes são um pouco mais interessantes. Parece que ele realmente pegou uma música duplicada no conjunto de dados das letras com \"If I Needed Someone\" e \"If I Needed Someone To Love\". Além disso, \"Tenha uma banana!\" e \"Crinsk Dee Night\" são conversas com o apresentador Brian Matthew."
   ]
  },
  {
   "cell_type": "code",
   "metadata": {
    "id": "WI87v57SIX3f",
    "colab": {
     "base_uri": "https://localhost:8080/"
    },
    "executionInfo": {
     "status": "ok",
     "timestamp": 1678462234494,
     "user_tz": 180,
     "elapsed": 6,
     "user": {
      "displayName": "Leonardo Mendonza",
      "userId": "09205135724810578413"
     }
    },
    "outputId": "7e70cee8-a5f9-421b-f9c0-1a43355d42ec"
   },
   "source": [
    "# All You Need Is Love lyrics\n",
    "beatles[beatles.song=='All You Need Is Love'].text"
   ],
   "execution_count": null,
   "outputs": [
    {
     "output_type": "execute_result",
     "data": {
      "text/plain": [
       "24695    Love, love, love, love, love, love, love, love, love.  \\r\\n  \\r\\nThere's nothing you can do that can't be done.  \\r\\nNothing you can sing that can't be sung.  \\r\\nNothing you can say, but you can learn  \\r\\nHow to play the game  \\r\\nIt's easy.  \\r\\nNothing you can make that can't be made.  \\r\\nNo one you can save that can't be saved.  \\r\\nNothing you can do, but you can learn  \\r\\nHow to be you in time  \\r\\nIt's easy.  \\r\\n  \\r\\nAll you need is love, all you need is love,  \\r\\nAll you need is love, love. Love is all you need.  \\r\\nLove, love, love, love, love, love, love, love, love.  \\r\\nAll you need is love, all you need is love,  \\r\\nAll you need is love, love. Love is all you need.  \\r\\n  \\r\\nThere's nothing you can know that isn't known.  \\r\\nNothing you can see that isn't shown.  \\r\\nThere's nowhere you can be that isn't where  \\r\\nYou're meant to be  \\r\\nIt's easy.  \\r\\n  \\r\\nAll you need is love, all you need is love,  \\r\\nAll you need is love, love. Love is all you need.  \\r\\nAll you need is love. (All together now).  \\r\\nAll you need is love. (Everybody).  \\r\\nAll you need is love, love. Love is all you need.  \\r\\nLove is all you need.  \\r\\nLove is all you need  \\r\\n  \\r\\n(Yesterday)  \\r\\n(Oh yeah)  \\r\\n(She love you, yeah, yeah, yeah)  \\r\\n(She love you, yeah, yeah, yeah)  \\r\\n(Oh, yesterday)\\r\\n\\r\\n\n",
       "Name: text, dtype: object"
      ]
     },
     "metadata": {},
     "execution_count": 26
    }
   ]
  },
  {
   "cell_type": "code",
   "metadata": {
    "id": "ezNdaYYWIX3h",
    "colab": {
     "base_uri": "https://localhost:8080/"
    },
    "executionInfo": {
     "status": "ok",
     "timestamp": 1678462234782,
     "user_tz": 180,
     "elapsed": 291,
     "user": {
      "displayName": "Leonardo Mendonza",
      "userId": "09205135724810578413"
     }
    },
    "outputId": "c20c0b2b-d4f8-4c1f-c197-c164760f8dfb"
   },
   "source": [
    "# Love Me Do lyrics\n",
    "beatles[beatles.song=='Love Me Do'].text"
   ],
   "execution_count": null,
   "outputs": [
    {
     "output_type": "execute_result",
     "data": {
      "text/plain": [
       "24805    Love, love me do.  \\r\\nYou know I love you,  \\r\\nI'll always be true,  \\r\\nSo please, love me do.  \\r\\nWhoa, love me do.  \\r\\n  \\r\\nLove, love me do.  \\r\\nYou know I love you,  \\r\\nI'll always be true,  \\r\\nSo please, love me do.  \\r\\nWhoa, love me do.  \\r\\n  \\r\\nSomeone to love,  \\r\\nSomebody new.  \\r\\nSomeone to love,  \\r\\nSomeone like you.  \\r\\n  \\r\\nLove, love me do.  \\r\\nYou know I love you,  \\r\\nI'll always be true,  \\r\\nSo please, love me do.  \\r\\nWhoa, love me do.  \\r\\n  \\r\\nLove, love me do.  \\r\\nYou know I love you,  \\r\\nI'll always be true,  \\r\\nSo please, love me do.  \\r\\nWhoa, love me do.  \\r\\nYeah, love me do.  \\r\\nWhoa, oh, love me do.\\r\\n\\r\\n\n",
       "Name: text, dtype: object"
      ]
     },
     "metadata": {},
     "execution_count": 27
    }
   ]
  },
  {
   "cell_type": "code",
   "metadata": {
    "id": "TMttbI4aIX3l",
    "colab": {
     "base_uri": "https://localhost:8080/"
    },
    "executionInfo": {
     "status": "ok",
     "timestamp": 1678462234783,
     "user_tz": 180,
     "elapsed": 20,
     "user": {
      "displayName": "Leonardo Mendonza",
      "userId": "09205135724810578413"
     }
    },
    "outputId": "71f9a321-dae5-4248-f4f9-4509b8aba505"
   },
   "source": [
    "# If I Needed Someone lyrics\n",
    "beatles[beatles.song=='If I Needed Someone'].text"
   ],
   "execution_count": null,
   "outputs": [
    {
     "output_type": "execute_result",
     "data": {
      "text/plain": [
       "24768    If I needed someone to love  \\r\\nYou're the one that I'd be thinking of  \\r\\nIf I needed someone  \\r\\n  \\r\\nIf I had some more time to spend  \\r\\nThen I guess I'd be with you my friend  \\r\\nIf I needed someone  \\r\\nHad you come some other day  \\r\\nThen it might not have been like this  \\r\\nBut you see now I'm too much in love  \\r\\n  \\r\\nCarve your number on my wall  \\r\\nAnd maybe you will get a call from me  \\r\\nIf I needed someone  \\r\\nAh, ah, ah, ah  \\r\\n  \\r\\nIf I had some more time to spend  \\r\\nThen I guess I'd be with you my friend  \\r\\nIf I needed someone  \\r\\nHad you come some other day  \\r\\nThen it might not have been like this  \\r\\nBut you see now I'm too much in love  \\r\\n  \\r\\nCarve your number on my wall  \\r\\nAnd maybe you will get a call from me  \\r\\nIf I needed someone  \\r\\nAh, ah\\r\\n\\r\\n\n",
       "Name: text, dtype: object"
      ]
     },
     "metadata": {},
     "execution_count": 28
    }
   ]
  },
  {
   "cell_type": "code",
   "metadata": {
    "id": "2JrCDbdZIX3o",
    "colab": {
     "base_uri": "https://localhost:8080/"
    },
    "executionInfo": {
     "status": "ok",
     "timestamp": 1678462234783,
     "user_tz": 180,
     "elapsed": 14,
     "user": {
      "displayName": "Leonardo Mendonza",
      "userId": "09205135724810578413"
     }
    },
    "outputId": "daa605b0-1c22-4d4b-846c-e5e2ff898e81"
   },
   "source": [
    "# If I Needed Someone To Love lyrics\n",
    "beatles[beatles.song=='If I Needed Someone To Love'].text"
   ],
   "execution_count": null,
   "outputs": [
    {
     "output_type": "execute_result",
     "data": {
      "text/plain": [
       "24769    If I needed someone to love  \\r\\nYoure the woman I'd be thinking of  \\r\\nIf I needed someone  \\r\\n  \\r\\nIf I had some more time to spend  \\r\\nThen I guess I'd be with you my friend  \\r\\nIf I needed someone  \\r\\n  \\r\\nHad you come some other day  \\r\\nThen it might not have been like this  \\r\\nBut you see now I'm too much in love  \\r\\n  \\r\\nCarve your number on my wall  \\r\\nAnd maybe you will get a call from me  \\r\\nIf I needed someone  \\r\\n  \\r\\nIf I had some more time to spend  \\r\\nThen I guess I'd be with you my friend  \\r\\nIf I needed someone  \\r\\n  \\r\\nHad you come some other day  \\r\\nThen it might not have been like this  \\r\\nBut you see now I'm too much in love  \\r\\n  \\r\\nCarve your number on my wall  \\r\\nAnd maybe you will get a call from me  \\r\\nIf I needed someone  \\r\\nIf I needed someone to love  \\r\\nYoure the woman I'd be thinking of  \\r\\nIf I needed someone  \\r\\n  \\r\\nIf I had some more time to spend  \\r\\nThen I guess I'd be with you my friend  \\r\\nIf I needed someone  \\r\\n  \\r\\nHad you come some other day  \\r\\nThen it might not have been like this  \\r\\nBut you see now I'm too much in love  \\r\\n  \\r\\nCarve your number on my wall  \\r\\nAnd maybe you will get a call from me  \\r\\nIf I needed someone  \\r\\n  \\r\\nIf I had some more time to spend  \\r\\nThen I guess I'd be with you my friend  \\r\\nIf I needed someone  \\r\\n  \\r\\nHad you come some other day  \\r\\nThen it might not have been like this  \\r\\nBut you see now I'm too much in love  \\r\\n  \\r\\nCarve your number on my wall  \\r\\nAnd maybe you will get a call from me  \\r\\nIf I needed someone\\r\\n\\r\\n\n",
       "Name: text, dtype: object"
      ]
     },
     "metadata": {},
     "execution_count": 29
    }
   ]
  },
  {
   "cell_type": "code",
   "metadata": {
    "id": "8tS5oMeWIX3q",
    "colab": {
     "base_uri": "https://localhost:8080/"
    },
    "executionInfo": {
     "status": "ok",
     "timestamp": 1678462234784,
     "user_tz": 180,
     "elapsed": 11,
     "user": {
      "displayName": "Leonardo Mendonza",
      "userId": "09205135724810578413"
     }
    },
    "outputId": "4ab08662-fe38-4b60-ef06-8f12c497837c"
   },
   "source": [
    "# Have a Banana! lyrics\n",
    "beatles[beatles.song=='Have A Banana!'].text"
   ],
   "execution_count": null,
   "outputs": [
    {
     "output_type": "execute_result",
     "data": {
      "text/plain": [
       "1221    [Speech]  \\r\\n  \\r\\nBrian Matthew: Is that it? Is that the end?  \\r\\nPaul: Yeah, yeah, that's it.  \\r\\nJohn: Fade, fade!  \\r\\nBrian: Good track. Oh, well, we'll stop there, stop there, stop there.  \\r\\nJohn: What an end!  \\r\\nBrian: Quiet! All right, George.  \\r\\nJohn: Fade!  \\r\\nBrian: Hold it!  \\r\\nGeorge: Oh, thank you.  \\r\\nJohn: Fade, you silly.  \\r\\nBrian: Well, we did. We did that. Oh, no! No! We've done that bit!  \\r\\nJohn: The train comes in now.  \\r\\nBrian: We did that.  \\r\\nJohn: Yeah.  \\r\\nBrian: To pove we weren't playing the record, then, you see. 'Cause,\\r\\notherwise, there's no point in you being here, is there? Ha, ha, ha!  \\r\\nJohn: Yeah, we did that, 'cause it sounds just like it, don't it?  \\r\\nBrian: Pretty cool lot of fellows, aren't you? Here, Ringo, have a banana,\\r\\ncatch!\\r\\n\\r\\n\n",
       "Name: text, dtype: object"
      ]
     },
     "metadata": {},
     "execution_count": 30
    }
   ]
  },
  {
   "cell_type": "code",
   "metadata": {
    "id": "1n1QzmtEIX3t",
    "colab": {
     "base_uri": "https://localhost:8080/"
    },
    "executionInfo": {
     "status": "ok",
     "timestamp": 1678462234784,
     "user_tz": 180,
     "elapsed": 7,
     "user": {
      "displayName": "Leonardo Mendonza",
      "userId": "09205135724810578413"
     }
    },
    "outputId": "456f193f-69b8-4f77-aa35-cba9b20e4cf8"
   },
   "source": [
    "# Crinsk Dee Night lyrics\n",
    "beatles[beatles.song=='Crinsk Dee Night'].text"
   ],
   "execution_count": null,
   "outputs": [
    {
     "output_type": "execute_result",
     "data": {
      "text/plain": [
       "24713    [Speech]  \\r\\n  \\r\\nBrian Matthew: The next few minutes, we're in the lap of the gods and the\\r\\nhands of the Beatles. In my young days, when I was a lad, they used to have\\r\\nactors in films and now that they--  \\r\\nPaul: Yes?  \\r\\nJohn: Hey! Listen!  \\r\\nPaul: It's all changed, now, Brian. They're not doing that, no actors.  \\r\\nJohn: It's all changed, now.  \\r\\nBrian: But this is what I wonder. In those days, the actors used to say their\\r\\nbest bits were left on the cutting room floor. Did you find that?  \\r\\nJohn: No, no, no, those were the good bits in the film. You should have seen\\r\\nthe rest.  \\r\\nBrian: Yes?  \\r\\nJohn: Rubbish!  \\r\\nBrian: Was it, really?  \\r\\nJohn: Even worse, yes.  \\r\\nBrian: Who was worst?  \\r\\nJohn: Oh, Paul.  \\r\\nBrian: I see.  \\r\\nPaul: I think John was about the worst.  \\r\\nJohn: No, it was you.  \\r\\nPaul: Oh, Ringo was very good. He was. He's a good lad.  \\r\\nBrian: He was. They're saying he's a new Charlie Chaplin. Do you think that's\\r\\nright?  \\r\\nJohn: He was miming.  \\r\\nPaul: You, too, with Jason.  \\r\\nJohn: Oh, yes, he's an old one. Okay, Ring?  \\r\\nBrian: Beginning to look like that. Now, then--  \\r\\nRingo: All right, John. Can you hear me?  \\r\\nPaul: Can you hear him? Hello!  \\r\\nBrian: Not really. I hope not. I hope not!  \\r\\nJohn: We brought you the flowers, Ring.  \\r\\nBrian: He's not allowed to talk.  \\r\\nRingo: Eh?  \\r\\nJohn: We brought you the flowers.  \\r\\nRingo: Oh, good.  \\r\\nJohn: And the grapes.  \\r\\nRingo: Oh, I like grapes.  \\r\\nPaul: He likes grapes.  \\r\\nGeorge: We've been to Portugal.  \\r\\nBrian: Guess who's, guess who's top of the pops in Portugal, then.  \\r\\nAll: Who?  \\r\\nBrian: Los Beatles.  \\r\\nJohn: Los Beatles? Great, great laugh.  \\r\\nBrian: I don't suppose you know the title of your film in Portuguese?  \\r\\nJohn: No. Crinsk dee Night?  \\r\\nBrian: Could be. Let's hear the number, shall we?  \\r\\nJohn: Right\\r\\n\\r\\n\n",
       "Name: text, dtype: object"
      ]
     },
     "metadata": {},
     "execution_count": 31
    }
   ]
  },
  {
   "cell_type": "code",
   "metadata": {
    "id": "39WIonWRevps"
   },
   "source": [],
   "execution_count": null,
   "outputs": []
  }
 ]
}
