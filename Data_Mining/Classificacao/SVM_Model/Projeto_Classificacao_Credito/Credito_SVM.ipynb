{
 "nbformat": 4,
 "nbformat_minor": 0,
 "metadata": {
  "colab": {
   "provenance": []
  },
  "kernelspec": {
   "name": "python3",
   "display_name": "Python 3"
  }
 },
 "cells": [
  {
   "cell_type": "markdown",
   "metadata": {
    "id": "Twewlf4LCjwC"
   },
   "source": [
    "---\n",
    "Projeto para análise de concessão de créditos"
   ]
  },
  {
   "cell_type": "markdown",
   "metadata": {
    "id": "D9-InY16CzRL"
   },
   "source": [
    "## Carregar base de Dados"
   ]
  },
  {
   "cell_type": "code",
   "metadata": {
    "id": "zYXhwGUaCjBZ",
    "executionInfo": {
     "status": "ok",
     "timestamp": 1683394872822,
     "user_tz": 180,
     "elapsed": 1703,
     "user": {
      "displayName": "Manoela Kohler",
      "userId": "11407817634634210712"
     }
    }
   },
   "source": [
    "# Importação dos pacotes\n",
    "import pandas as pd\n",
    "import numpy as np\n",
    "import random\n",
    "import matplotlib.pyplot as plt\n",
    "import seaborn as sns\n",
    "\n",
    "# Seed para reprodução de resultados\n",
    "seed = 1\n",
    "random.seed(seed)\n",
    "np.random.seed(seed)"
   ],
   "execution_count": 1,
   "outputs": []
  },
  {
   "cell_type": "code",
   "metadata": {
    "id": "ifHlOaZFCtG7",
    "colab": {
     "base_uri": "https://localhost:8080/",
     "height": 206
    },
    "executionInfo": {
     "status": "ok",
     "timestamp": 1683394936196,
     "user_tz": 180,
     "elapsed": 237,
     "user": {
      "displayName": "Manoela Kohler",
      "userId": "11407817634634210712"
     }
    },
    "outputId": "f7f5ee28-e597-4136-a0ba-df7bd4d7a715"
   },
   "source": [
    "# poderíamos usar a função pd.read, porém, teríamos que configurar vários parâmetros para ler essa tabela. Essa função já oferece parâmetros mais usuais para leitura de arquivo txt. Essa base original tem separador por 'tab'.\n",
    "data = pd.read_table('credito.txt')\n",
    "data.head()"
   ],
   "execution_count": 2,
   "outputs": [
    {
     "data": {
      "text/plain": "   ESTC  NDEP  RENDA  TIPOR  VBEM  NPARC  VPARC  TEL  IDADE  RESMS  ENTRADA   \n0     1     0    360      0   313      9     52    0     25     48        0  \\\n1     0     0    350      1   468     10     65    0     33      6        0   \n2     0     0   1100      0   829      9    125    0     56     48        0   \n3     0     0   3000      0   552     12     76    1     31     60        0   \n4     1     0   1000      0   809     12    111    0     24      7        0   \n\n   CLASSE  \n0       1  \n1       1  \n2       1  \n3       1  \n4       1  ",
      "text/html": "<div>\n<style scoped>\n    .dataframe tbody tr th:only-of-type {\n        vertical-align: middle;\n    }\n\n    .dataframe tbody tr th {\n        vertical-align: top;\n    }\n\n    .dataframe thead th {\n        text-align: right;\n    }\n</style>\n<table border=\"1\" class=\"dataframe\">\n  <thead>\n    <tr style=\"text-align: right;\">\n      <th></th>\n      <th>ESTC</th>\n      <th>NDEP</th>\n      <th>RENDA</th>\n      <th>TIPOR</th>\n      <th>VBEM</th>\n      <th>NPARC</th>\n      <th>VPARC</th>\n      <th>TEL</th>\n      <th>IDADE</th>\n      <th>RESMS</th>\n      <th>ENTRADA</th>\n      <th>CLASSE</th>\n    </tr>\n  </thead>\n  <tbody>\n    <tr>\n      <th>0</th>\n      <td>1</td>\n      <td>0</td>\n      <td>360</td>\n      <td>0</td>\n      <td>313</td>\n      <td>9</td>\n      <td>52</td>\n      <td>0</td>\n      <td>25</td>\n      <td>48</td>\n      <td>0</td>\n      <td>1</td>\n    </tr>\n    <tr>\n      <th>1</th>\n      <td>0</td>\n      <td>0</td>\n      <td>350</td>\n      <td>1</td>\n      <td>468</td>\n      <td>10</td>\n      <td>65</td>\n      <td>0</td>\n      <td>33</td>\n      <td>6</td>\n      <td>0</td>\n      <td>1</td>\n    </tr>\n    <tr>\n      <th>2</th>\n      <td>0</td>\n      <td>0</td>\n      <td>1100</td>\n      <td>0</td>\n      <td>829</td>\n      <td>9</td>\n      <td>125</td>\n      <td>0</td>\n      <td>56</td>\n      <td>48</td>\n      <td>0</td>\n      <td>1</td>\n    </tr>\n    <tr>\n      <th>3</th>\n      <td>0</td>\n      <td>0</td>\n      <td>3000</td>\n      <td>0</td>\n      <td>552</td>\n      <td>12</td>\n      <td>76</td>\n      <td>1</td>\n      <td>31</td>\n      <td>60</td>\n      <td>0</td>\n      <td>1</td>\n    </tr>\n    <tr>\n      <th>4</th>\n      <td>1</td>\n      <td>0</td>\n      <td>1000</td>\n      <td>0</td>\n      <td>809</td>\n      <td>12</td>\n      <td>111</td>\n      <td>0</td>\n      <td>24</td>\n      <td>7</td>\n      <td>0</td>\n      <td>1</td>\n    </tr>\n  </tbody>\n</table>\n</div>"
     },
     "execution_count": 2,
     "metadata": {},
     "output_type": "execute_result"
    }
   ]
  },
  {
   "cell_type": "code",
   "metadata": {
    "colab": {
     "base_uri": "https://localhost:8080/",
     "height": 206
    },
    "id": "qg3LegArr1Ay",
    "executionInfo": {
     "status": "ok",
     "timestamp": 1683394994622,
     "user_tz": 180,
     "elapsed": 373,
     "user": {
      "displayName": "Manoela Kohler",
      "userId": "11407817634634210712"
     }
    },
    "outputId": "2196fef1-0a7f-491c-926a-3d5a10b2f649"
   },
   "source": [
    "data.tail()"
   ],
   "execution_count": 3,
   "outputs": [
    {
     "data": {
      "text/plain": "      ESTC  NDEP  RENDA  TIPOR  VBEM  NPARC  VPARC  TEL  IDADE  RESMS   \n2072     0     0    480      1   398      6     89    0     33     84  \\\n2073     1     0    773      0   699      6    131    0     63     48   \n2074     0     3   1200      0   495      4    145    0     39      6   \n2075     1     0    600      0   572     15     68    0     33      6   \n2076     0     0    800      1   429     10     60    0     29      6   \n\n      ENTRADA  CLASSE  \n2072        0       0  \n2073        0       0  \n2074        0       1  \n2075        0       1  \n2076        0       0  ",
      "text/html": "<div>\n<style scoped>\n    .dataframe tbody tr th:only-of-type {\n        vertical-align: middle;\n    }\n\n    .dataframe tbody tr th {\n        vertical-align: top;\n    }\n\n    .dataframe thead th {\n        text-align: right;\n    }\n</style>\n<table border=\"1\" class=\"dataframe\">\n  <thead>\n    <tr style=\"text-align: right;\">\n      <th></th>\n      <th>ESTC</th>\n      <th>NDEP</th>\n      <th>RENDA</th>\n      <th>TIPOR</th>\n      <th>VBEM</th>\n      <th>NPARC</th>\n      <th>VPARC</th>\n      <th>TEL</th>\n      <th>IDADE</th>\n      <th>RESMS</th>\n      <th>ENTRADA</th>\n      <th>CLASSE</th>\n    </tr>\n  </thead>\n  <tbody>\n    <tr>\n      <th>2072</th>\n      <td>0</td>\n      <td>0</td>\n      <td>480</td>\n      <td>1</td>\n      <td>398</td>\n      <td>6</td>\n      <td>89</td>\n      <td>0</td>\n      <td>33</td>\n      <td>84</td>\n      <td>0</td>\n      <td>0</td>\n    </tr>\n    <tr>\n      <th>2073</th>\n      <td>1</td>\n      <td>0</td>\n      <td>773</td>\n      <td>0</td>\n      <td>699</td>\n      <td>6</td>\n      <td>131</td>\n      <td>0</td>\n      <td>63</td>\n      <td>48</td>\n      <td>0</td>\n      <td>0</td>\n    </tr>\n    <tr>\n      <th>2074</th>\n      <td>0</td>\n      <td>3</td>\n      <td>1200</td>\n      <td>0</td>\n      <td>495</td>\n      <td>4</td>\n      <td>145</td>\n      <td>0</td>\n      <td>39</td>\n      <td>6</td>\n      <td>0</td>\n      <td>1</td>\n    </tr>\n    <tr>\n      <th>2075</th>\n      <td>1</td>\n      <td>0</td>\n      <td>600</td>\n      <td>0</td>\n      <td>572</td>\n      <td>15</td>\n      <td>68</td>\n      <td>0</td>\n      <td>33</td>\n      <td>6</td>\n      <td>0</td>\n      <td>1</td>\n    </tr>\n    <tr>\n      <th>2076</th>\n      <td>0</td>\n      <td>0</td>\n      <td>800</td>\n      <td>1</td>\n      <td>429</td>\n      <td>10</td>\n      <td>60</td>\n      <td>0</td>\n      <td>29</td>\n      <td>6</td>\n      <td>0</td>\n      <td>0</td>\n    </tr>\n  </tbody>\n</table>\n</div>"
     },
     "execution_count": 3,
     "metadata": {},
     "output_type": "execute_result"
    }
   ]
  },
  {
   "cell_type": "code",
   "metadata": {
    "colab": {
     "base_uri": "https://localhost:8080/",
     "height": 394
    },
    "id": "Qbk7600stPL2",
    "executionInfo": {
     "status": "ok",
     "timestamp": 1683395004956,
     "user_tz": 180,
     "elapsed": 234,
     "user": {
      "displayName": "Manoela Kohler",
      "userId": "11407817634634210712"
     }
    },
    "outputId": "acaa699a-adb6-4a7e-b911-57b3e96a9efa"
   },
   "source": [
    "# linhas 100 a 110, todas as colunas\n",
    "data.iloc[100:111,:]"
   ],
   "execution_count": 4,
   "outputs": [
    {
     "data": {
      "text/plain": "     ESTC  NDEP  RENDA  TIPOR  VBEM  NPARC  VPARC  TEL  IDADE  RESMS  ENTRADA   \n100     0     0   3400      1  1629     18    175    0     53      6        0  \\\n101     0     0    619      0   599     15     70    0     27      6        2   \n102     1     0   1600      0   383      1    404    0     29     48        0   \n103     0     0    700      1   485     10     74    0     33      6        0   \n104     0     0   1200      0   602      4    137    0     43      0      137   \n105     0     0   1700      1   314      2    107    0     39    108      107   \n106     0     0    600      1   738     10    102    0     32      6        0   \n107     1     0    300      0   452     12     62    1     37    144        0   \n108     1     0    500      0   450      4    114    0     45     48        0   \n109     0     2    740      1   480     10     67    0     34      6        0   \n110     2     0   1700      0   489     11     68    0     46     48        0   \n\n     CLASSE  \n100       1  \n101       1  \n102       1  \n103       0  \n104       1  \n105       0  \n106       1  \n107       1  \n108       1  \n109       1  \n110       1  ",
      "text/html": "<div>\n<style scoped>\n    .dataframe tbody tr th:only-of-type {\n        vertical-align: middle;\n    }\n\n    .dataframe tbody tr th {\n        vertical-align: top;\n    }\n\n    .dataframe thead th {\n        text-align: right;\n    }\n</style>\n<table border=\"1\" class=\"dataframe\">\n  <thead>\n    <tr style=\"text-align: right;\">\n      <th></th>\n      <th>ESTC</th>\n      <th>NDEP</th>\n      <th>RENDA</th>\n      <th>TIPOR</th>\n      <th>VBEM</th>\n      <th>NPARC</th>\n      <th>VPARC</th>\n      <th>TEL</th>\n      <th>IDADE</th>\n      <th>RESMS</th>\n      <th>ENTRADA</th>\n      <th>CLASSE</th>\n    </tr>\n  </thead>\n  <tbody>\n    <tr>\n      <th>100</th>\n      <td>0</td>\n      <td>0</td>\n      <td>3400</td>\n      <td>1</td>\n      <td>1629</td>\n      <td>18</td>\n      <td>175</td>\n      <td>0</td>\n      <td>53</td>\n      <td>6</td>\n      <td>0</td>\n      <td>1</td>\n    </tr>\n    <tr>\n      <th>101</th>\n      <td>0</td>\n      <td>0</td>\n      <td>619</td>\n      <td>0</td>\n      <td>599</td>\n      <td>15</td>\n      <td>70</td>\n      <td>0</td>\n      <td>27</td>\n      <td>6</td>\n      <td>2</td>\n      <td>1</td>\n    </tr>\n    <tr>\n      <th>102</th>\n      <td>1</td>\n      <td>0</td>\n      <td>1600</td>\n      <td>0</td>\n      <td>383</td>\n      <td>1</td>\n      <td>404</td>\n      <td>0</td>\n      <td>29</td>\n      <td>48</td>\n      <td>0</td>\n      <td>1</td>\n    </tr>\n    <tr>\n      <th>103</th>\n      <td>0</td>\n      <td>0</td>\n      <td>700</td>\n      <td>1</td>\n      <td>485</td>\n      <td>10</td>\n      <td>74</td>\n      <td>0</td>\n      <td>33</td>\n      <td>6</td>\n      <td>0</td>\n      <td>0</td>\n    </tr>\n    <tr>\n      <th>104</th>\n      <td>0</td>\n      <td>0</td>\n      <td>1200</td>\n      <td>0</td>\n      <td>602</td>\n      <td>4</td>\n      <td>137</td>\n      <td>0</td>\n      <td>43</td>\n      <td>0</td>\n      <td>137</td>\n      <td>1</td>\n    </tr>\n    <tr>\n      <th>105</th>\n      <td>0</td>\n      <td>0</td>\n      <td>1700</td>\n      <td>1</td>\n      <td>314</td>\n      <td>2</td>\n      <td>107</td>\n      <td>0</td>\n      <td>39</td>\n      <td>108</td>\n      <td>107</td>\n      <td>0</td>\n    </tr>\n    <tr>\n      <th>106</th>\n      <td>0</td>\n      <td>0</td>\n      <td>600</td>\n      <td>1</td>\n      <td>738</td>\n      <td>10</td>\n      <td>102</td>\n      <td>0</td>\n      <td>32</td>\n      <td>6</td>\n      <td>0</td>\n      <td>1</td>\n    </tr>\n    <tr>\n      <th>107</th>\n      <td>1</td>\n      <td>0</td>\n      <td>300</td>\n      <td>0</td>\n      <td>452</td>\n      <td>12</td>\n      <td>62</td>\n      <td>1</td>\n      <td>37</td>\n      <td>144</td>\n      <td>0</td>\n      <td>1</td>\n    </tr>\n    <tr>\n      <th>108</th>\n      <td>1</td>\n      <td>0</td>\n      <td>500</td>\n      <td>0</td>\n      <td>450</td>\n      <td>4</td>\n      <td>114</td>\n      <td>0</td>\n      <td>45</td>\n      <td>48</td>\n      <td>0</td>\n      <td>1</td>\n    </tr>\n    <tr>\n      <th>109</th>\n      <td>0</td>\n      <td>2</td>\n      <td>740</td>\n      <td>1</td>\n      <td>480</td>\n      <td>10</td>\n      <td>67</td>\n      <td>0</td>\n      <td>34</td>\n      <td>6</td>\n      <td>0</td>\n      <td>1</td>\n    </tr>\n    <tr>\n      <th>110</th>\n      <td>2</td>\n      <td>0</td>\n      <td>1700</td>\n      <td>0</td>\n      <td>489</td>\n      <td>11</td>\n      <td>68</td>\n      <td>0</td>\n      <td>46</td>\n      <td>48</td>\n      <td>0</td>\n      <td>1</td>\n    </tr>\n  </tbody>\n</table>\n</div>"
     },
     "execution_count": 4,
     "metadata": {},
     "output_type": "execute_result"
    }
   ]
  },
  {
   "cell_type": "code",
   "metadata": {
    "id": "qG8Syhnoxa8E",
    "colab": {
     "base_uri": "https://localhost:8080/"
    },
    "executionInfo": {
     "status": "ok",
     "timestamp": 1683395028591,
     "user_tz": 180,
     "elapsed": 225,
     "user": {
      "displayName": "Manoela Kohler",
      "userId": "11407817634634210712"
     }
    },
    "outputId": "c7a74969-b680-4a43-884b-49de8f73f964"
   },
   "source": [
    "data.shape"
   ],
   "execution_count": 5,
   "outputs": [
    {
     "data": {
      "text/plain": "(2077, 12)"
     },
     "execution_count": 5,
     "metadata": {},
     "output_type": "execute_result"
    }
   ]
  },
  {
   "cell_type": "code",
   "metadata": {
    "id": "igUqkb0WaDQD",
    "colab": {
     "base_uri": "https://localhost:8080/",
     "height": 425
    },
    "executionInfo": {
     "status": "ok",
     "timestamp": 1683395056806,
     "user_tz": 180,
     "elapsed": 450,
     "user": {
      "displayName": "Manoela Kohler",
      "userId": "11407817634634210712"
     }
    },
    "outputId": "c6bd2a7d-e311-4697-ea3f-7e07e4039b55"
   },
   "source": [
    "data.describe().T"
   ],
   "execution_count": 6,
   "outputs": [
    {
     "data": {
      "text/plain": "          count        mean         std    min    25%    50%     75%     max\nESTC     2077.0    0.521907    0.674420    0.0    0.0    0.0     1.0     3.0\nNDEP     2077.0    0.122292    0.556507    0.0    0.0    0.0     0.0     7.0\nRENDA    2077.0  969.541647  897.707359  300.0  470.0  640.0  1150.0  9675.0\nTIPOR    2077.0    0.447280    0.497333    0.0    0.0    0.0     1.0     1.0\nVBEM     2077.0  563.794415  292.360830  300.0  404.0  489.0   618.0  6000.0\nNPARC    2077.0    8.395282    3.614923    1.0    6.0   10.0    10.0    24.0\nVPARC    2077.0  102.666346   64.315987   50.0   66.0   83.0   118.0   719.0\nTEL      2077.0    0.128069    0.334247    0.0    0.0    0.0     0.0     1.0\nIDADE    2077.0   41.204622   13.276082   18.0   31.0   39.0    52.0    70.0\nRESMS    2077.0   30.901300   51.960972    0.0    6.0    6.0    48.0   420.0\nENTRADA  2077.0   30.664420   93.356164    0.0    0.0    0.0     0.0  1300.0\nCLASSE   2077.0    0.474723    0.499481    0.0    0.0    0.0     1.0     1.0",
      "text/html": "<div>\n<style scoped>\n    .dataframe tbody tr th:only-of-type {\n        vertical-align: middle;\n    }\n\n    .dataframe tbody tr th {\n        vertical-align: top;\n    }\n\n    .dataframe thead th {\n        text-align: right;\n    }\n</style>\n<table border=\"1\" class=\"dataframe\">\n  <thead>\n    <tr style=\"text-align: right;\">\n      <th></th>\n      <th>count</th>\n      <th>mean</th>\n      <th>std</th>\n      <th>min</th>\n      <th>25%</th>\n      <th>50%</th>\n      <th>75%</th>\n      <th>max</th>\n    </tr>\n  </thead>\n  <tbody>\n    <tr>\n      <th>ESTC</th>\n      <td>2077.0</td>\n      <td>0.521907</td>\n      <td>0.674420</td>\n      <td>0.0</td>\n      <td>0.0</td>\n      <td>0.0</td>\n      <td>1.0</td>\n      <td>3.0</td>\n    </tr>\n    <tr>\n      <th>NDEP</th>\n      <td>2077.0</td>\n      <td>0.122292</td>\n      <td>0.556507</td>\n      <td>0.0</td>\n      <td>0.0</td>\n      <td>0.0</td>\n      <td>0.0</td>\n      <td>7.0</td>\n    </tr>\n    <tr>\n      <th>RENDA</th>\n      <td>2077.0</td>\n      <td>969.541647</td>\n      <td>897.707359</td>\n      <td>300.0</td>\n      <td>470.0</td>\n      <td>640.0</td>\n      <td>1150.0</td>\n      <td>9675.0</td>\n    </tr>\n    <tr>\n      <th>TIPOR</th>\n      <td>2077.0</td>\n      <td>0.447280</td>\n      <td>0.497333</td>\n      <td>0.0</td>\n      <td>0.0</td>\n      <td>0.0</td>\n      <td>1.0</td>\n      <td>1.0</td>\n    </tr>\n    <tr>\n      <th>VBEM</th>\n      <td>2077.0</td>\n      <td>563.794415</td>\n      <td>292.360830</td>\n      <td>300.0</td>\n      <td>404.0</td>\n      <td>489.0</td>\n      <td>618.0</td>\n      <td>6000.0</td>\n    </tr>\n    <tr>\n      <th>NPARC</th>\n      <td>2077.0</td>\n      <td>8.395282</td>\n      <td>3.614923</td>\n      <td>1.0</td>\n      <td>6.0</td>\n      <td>10.0</td>\n      <td>10.0</td>\n      <td>24.0</td>\n    </tr>\n    <tr>\n      <th>VPARC</th>\n      <td>2077.0</td>\n      <td>102.666346</td>\n      <td>64.315987</td>\n      <td>50.0</td>\n      <td>66.0</td>\n      <td>83.0</td>\n      <td>118.0</td>\n      <td>719.0</td>\n    </tr>\n    <tr>\n      <th>TEL</th>\n      <td>2077.0</td>\n      <td>0.128069</td>\n      <td>0.334247</td>\n      <td>0.0</td>\n      <td>0.0</td>\n      <td>0.0</td>\n      <td>0.0</td>\n      <td>1.0</td>\n    </tr>\n    <tr>\n      <th>IDADE</th>\n      <td>2077.0</td>\n      <td>41.204622</td>\n      <td>13.276082</td>\n      <td>18.0</td>\n      <td>31.0</td>\n      <td>39.0</td>\n      <td>52.0</td>\n      <td>70.0</td>\n    </tr>\n    <tr>\n      <th>RESMS</th>\n      <td>2077.0</td>\n      <td>30.901300</td>\n      <td>51.960972</td>\n      <td>0.0</td>\n      <td>6.0</td>\n      <td>6.0</td>\n      <td>48.0</td>\n      <td>420.0</td>\n    </tr>\n    <tr>\n      <th>ENTRADA</th>\n      <td>2077.0</td>\n      <td>30.664420</td>\n      <td>93.356164</td>\n      <td>0.0</td>\n      <td>0.0</td>\n      <td>0.0</td>\n      <td>0.0</td>\n      <td>1300.0</td>\n    </tr>\n    <tr>\n      <th>CLASSE</th>\n      <td>2077.0</td>\n      <td>0.474723</td>\n      <td>0.499481</td>\n      <td>0.0</td>\n      <td>0.0</td>\n      <td>0.0</td>\n      <td>1.0</td>\n      <td>1.0</td>\n    </tr>\n  </tbody>\n</table>\n</div>"
     },
     "execution_count": 6,
     "metadata": {},
     "output_type": "execute_result"
    }
   ]
  },
  {
   "cell_type": "markdown",
   "metadata": {
    "id": "7brCDtp69j3Y"
   },
   "source": [
    "## Separar base em treino e teste"
   ]
  },
  {
   "cell_type": "code",
   "execution_count": 8,
   "outputs": [
    {
     "data": {
      "text/plain": "CLASSE\n0    1091\n1     986\nName: count, dtype: int64"
     },
     "execution_count": 8,
     "metadata": {},
     "output_type": "execute_result"
    }
   ],
   "source": [
    "# Vamos analisar a proporção de clientes que pagaram e não pagaram empréstimo\n",
    "data.CLASSE.value_counts()\n",
    "\n",
    "# Observe que parece estar bem balanceada. 1091 pagaram e 986 não pagaram. Como essa base já foi pré processada (tratada) e pegamos ela pronta, acreditamos que foi feito algum tipo de balanceamento nela."
   ],
   "metadata": {
    "collapsed": false
   }
  },
  {
   "cell_type": "code",
   "metadata": {
    "id": "b8BxlJyt9vgA",
    "executionInfo": {
     "status": "ok",
     "timestamp": 1683395312365,
     "user_tz": 180,
     "elapsed": 373,
     "user": {
      "displayName": "Manoela Kohler",
      "userId": "11407817634634210712"
     }
    }
   },
   "source": [
    "# train_test_split - função para dividir em treino e teste\n",
    "\n",
    "from sklearn.model_selection import train_test_split\n",
    "# Agora usaremos a função para fazer de fato a separação. Já faremos a separação em treino e teste e entrada e saída.\n",
    "\n",
    "# Entrada\n",
    "X = data.loc[:, data.columns != 'CLASSE']  # Todas as linhas e todas as colunas que forem diferentes de CLASSE, que é a coluna de saída, nosso label\n",
    "\n",
    "# Saída\n",
    "y = data.CLASSE # Nossa coluna classe com todas as linhas\n",
    "\n",
    "X_train, X_test, y_train, y_test = train_test_split(X,\n",
    "                                                    y, \n",
    "                                                    test_size=0.2, \n",
    "                                                    stratify=y)"
   ],
   "execution_count": 9,
   "outputs": []
  },
  {
   "cell_type": "code",
   "metadata": {
    "id": "1O0v08rx90PH",
    "colab": {
     "base_uri": "https://localhost:8080/"
    },
    "executionInfo": {
     "status": "ok",
     "timestamp": 1683395315228,
     "user_tz": 180,
     "elapsed": 440,
     "user": {
      "displayName": "Manoela Kohler",
      "userId": "11407817634634210712"
     }
    },
    "outputId": "54f8fc4a-56e7-4d19-ecc5-dfcc6a5e54e1"
   },
   "source": [
    "y.value_counts()"
   ],
   "execution_count": 10,
   "outputs": [
    {
     "data": {
      "text/plain": "CLASSE\n0    1091\n1     986\nName: count, dtype: int64"
     },
     "execution_count": 10,
     "metadata": {},
     "output_type": "execute_result"
    }
   ]
  },
  {
   "cell_type": "code",
   "metadata": {
    "id": "FT1S9Y8--YUQ",
    "colab": {
     "base_uri": "https://localhost:8080/"
    },
    "executionInfo": {
     "status": "ok",
     "timestamp": 1683395345849,
     "user_tz": 180,
     "elapsed": 387,
     "user": {
      "displayName": "Manoela Kohler",
      "userId": "11407817634634210712"
     }
    },
    "outputId": "e1cd8beb-856a-4b84-f6b2-ed20576351f2"
   },
   "source": [
    "# Verificar proporção para teste para confirmar amostragem estratificada\n",
    "print(0.2*y.value_counts()[0])\n",
    "print(0.2*y.value_counts()[1])"
   ],
   "execution_count": 11,
   "outputs": [
    {
     "name": "stdout",
     "output_type": "stream",
     "text": [
      "218.20000000000002\n",
      "197.20000000000002\n"
     ]
    }
   ]
  },
  {
   "cell_type": "code",
   "metadata": {
    "id": "XpgHE1rr90Rg",
    "colab": {
     "base_uri": "https://localhost:8080/"
    },
    "executionInfo": {
     "status": "ok",
     "timestamp": 1683395357037,
     "user_tz": 180,
     "elapsed": 466,
     "user": {
      "displayName": "Manoela Kohler",
      "userId": "11407817634634210712"
     }
    },
    "outputId": "cbded244-1b30-48c2-e8ed-fbc4e1764d4b"
   },
   "source": [
    "y_test.value_counts()"
   ],
   "execution_count": 12,
   "outputs": [
    {
     "data": {
      "text/plain": "CLASSE\n0    219\n1    197\nName: count, dtype: int64"
     },
     "execution_count": 12,
     "metadata": {},
     "output_type": "execute_result"
    }
   ]
  },
  {
   "cell_type": "code",
   "metadata": {
    "id": "6jOKX4jD90TJ",
    "colab": {
     "base_uri": "https://localhost:8080/"
    },
    "executionInfo": {
     "status": "ok",
     "timestamp": 1683395372575,
     "user_tz": 180,
     "elapsed": 287,
     "user": {
      "displayName": "Manoela Kohler",
      "userId": "11407817634634210712"
     }
    },
    "outputId": "6bbdbfce-8fd7-4467-87d9-27ee65ff85a9"
   },
   "source": [
    "y_train.value_counts() # o restante da base, 80%"
   ],
   "execution_count": 13,
   "outputs": [
    {
     "data": {
      "text/plain": "CLASSE\n0    872\n1    789\nName: count, dtype: int64"
     },
     "execution_count": 13,
     "metadata": {},
     "output_type": "execute_result"
    }
   ]
  },
  {
   "cell_type": "code",
   "metadata": {
    "id": "o3OhHfII93mr",
    "colab": {
     "base_uri": "https://localhost:8080/"
    },
    "executionInfo": {
     "status": "ok",
     "timestamp": 1683395378704,
     "user_tz": 180,
     "elapsed": 218,
     "user": {
      "displayName": "Manoela Kohler",
      "userId": "11407817634634210712"
     }
    },
    "outputId": "a9440d5b-6a07-4169-907a-9fb221279489"
   },
   "source": [
    "# Vamos olhar os shapes da bases de treino e teste\n",
    "print(X_train.shape)\n",
    "print(X_test.shape)\n",
    "print(y_train.shape)\n",
    "print(y_test.shape)"
   ],
   "execution_count": 14,
   "outputs": [
    {
     "name": "stdout",
     "output_type": "stream",
     "text": [
      "(1661, 11)\n",
      "(416, 11)\n",
      "(1661,)\n",
      "(416,)\n"
     ]
    }
   ]
  },
  {
   "cell_type": "markdown",
   "metadata": {
    "id": "turwkzvBC1h1"
   },
   "source": [
    "## Pré Processamento"
   ]
  },
  {
   "cell_type": "markdown",
   "metadata": {
    "id": "89LDF8WzfOPu"
   },
   "source": [
    "### Missing"
   ]
  },
  {
   "cell_type": "code",
   "metadata": {
    "id": "fzivIvxz1B6m",
    "colab": {
     "base_uri": "https://localhost:8080/",
     "height": 245
    },
    "executionInfo": {
     "status": "ok",
     "timestamp": 1683395426163,
     "user_tz": 180,
     "elapsed": 890,
     "user": {
      "displayName": "Manoela Kohler",
      "userId": "11407817634634210712"
     }
    },
    "outputId": "3e57bc73-7e8c-45d0-ef9e-45fa46a6a446"
   },
   "source": [
    "# Visualizar missing\n",
    "import missingno as msno\n",
    "msno.matrix(X_train, figsize=(25,5));"
   ],
   "execution_count": 15,
   "outputs": [
    {
     "data": {
      "text/plain": "<Figure size 2500x500 with 2 Axes>",
      "image/png": "[encoded data removed]"
     },
     "metadata": {},
     "output_type": "display_data"
    }
   ]
  },
  {
   "cell_type": "markdown",
   "metadata": {
    "id": "F0BJ_Obk_SSg"
   },
   "source": [
    "Não temos nenhum missing!"
   ]
  },
  {
   "cell_type": "code",
   "metadata": {
    "id": "GLhlUHJ8MOnG",
    "executionInfo": {
     "status": "ok",
     "timestamp": 1683395442082,
     "user_tz": 180,
     "elapsed": 359,
     "user": {
      "displayName": "Manoela Kohler",
      "userId": "11407817634634210712"
     }
    }
   },
   "source": [
    "# remover colunas com variância zero\n",
    "from sklearn.feature_selection import VarianceThreshold\n",
    "zero_var_filter = VarianceThreshold()\n",
    "X_train = zero_var_filter.fit_transform(X_train)"
   ],
   "execution_count": 17,
   "outputs": []
  },
  {
   "cell_type": "code",
   "metadata": {
    "id": "cONCJomQUEco",
    "colab": {
     "base_uri": "https://localhost:8080/"
    },
    "executionInfo": {
     "status": "ok",
     "timestamp": 1683395446591,
     "user_tz": 180,
     "elapsed": 360,
     "user": {
      "displayName": "Manoela Kohler",
      "userId": "11407817634634210712"
     }
    },
    "outputId": "79a76e5b-c9dd-42cd-f7d7-8b46110ddbba"
   },
   "source": [
    "# colunas com variância zero\n",
    "(zero_var_filter.variances_ == 0).sum()"
   ],
   "execution_count": 18,
   "outputs": [
    {
     "data": {
      "text/plain": "0"
     },
     "execution_count": 18,
     "metadata": {},
     "output_type": "execute_result"
    }
   ]
  },
  {
   "cell_type": "code",
   "metadata": {
    "id": "NepUcnUFTLRe",
    "colab": {
     "base_uri": "https://localhost:8080/"
    },
    "executionInfo": {
     "status": "ok",
     "timestamp": 1683395500422,
     "user_tz": 180,
     "elapsed": 246,
     "user": {
      "displayName": "Manoela Kohler",
      "userId": "11407817634634210712"
     }
    },
    "outputId": "6247376c-74ae-4563-9f40-bfc2bd4a5ce2"
   },
   "source": [
    "# novo shape\n",
    "pd.DataFrame(X_train).shape"
   ],
   "execution_count": 19,
   "outputs": [
    {
     "data": {
      "text/plain": "(1661, 11)"
     },
     "execution_count": 19,
     "metadata": {},
     "output_type": "execute_result"
    }
   ]
  },
  {
   "cell_type": "markdown",
   "metadata": {
    "id": "41gLrvo2_V45"
   },
   "source": [
    "Não temos nenhuma coluna com variância zero!"
   ]
  },
  {
   "cell_type": "markdown",
   "metadata": {
    "id": "rDcmEujRC1kU"
   },
   "source": [
    "## Machine Learning - SVM"
   ]
  },
  {
   "cell_type": "code",
   "metadata": {
    "id": "FO25ZhmBa_YO",
    "executionInfo": {
     "status": "ok",
     "timestamp": 1683395545293,
     "user_tz": 180,
     "elapsed": 230,
     "user": {
      "displayName": "Manoela Kohler",
      "userId": "11407817634634210712"
     }
    }
   },
   "source": [
    "# treinar modelo. Observe que não estamos usando o linear SVC. no SVC conseguimos definir um Kernel, que é o truque do kernel.\n",
    "# No linear SVC nós não conseguimos definir o Kernel\n",
    "from sklearn.svm import SVC\n",
    "\n",
    "def train(X_train, y_train, seed):\n",
    "  model = SVC(random_state=seed)  # crio o modelo e usa o custo de 1 (definimos no início o seed)\n",
    "  model.fit(X_train, y_train)     # treino o modelo\n",
    "  return model\n",
    "\n",
    "model = train(X_train, y_train, seed)"
   ],
   "execution_count": 20,
   "outputs": []
  },
  {
   "cell_type": "code",
   "execution_count": 21,
   "outputs": [
    {
     "data": {
      "text/plain": "SVC(random_state=1)",
      "text/html": "<style>#sk-container-id-1 {color: black;background-color: white;}#sk-container-id-1 pre{padding: 0;}#sk-container-id-1 div.sk-toggleable {background-color: white;}#sk-container-id-1 label.sk-toggleable__label {cursor: pointer;display: block;width: 100%;margin-bottom: 0;padding: 0.3em;box-sizing: border-box;text-align: center;}#sk-container-id-1 label.sk-toggleable__label-arrow:before {content: \"▸\";float: left;margin-right: 0.25em;color: #696969;}#sk-container-id-1 label.sk-toggleable__label-arrow:hover:before {color: black;}#sk-container-id-1 div.sk-estimator:hover label.sk-toggleable__label-arrow:before {color: black;}#sk-container-id-1 div.sk-toggleable__content {max-height: 0;max-width: 0;overflow: hidden;text-align: left;background-color: #f0f8ff;}#sk-container-id-1 div.sk-toggleable__content pre {margin: 0.2em;color: black;border-radius: 0.25em;background-color: #f0f8ff;}#sk-container-id-1 input.sk-toggleable__control:checked~div.sk-toggleable__content {max-height: 200px;max-width: 100%;overflow: auto;}#sk-container-id-1 input.sk-toggleable__control:checked~label.sk-toggleable__label-arrow:before {content: \"▾\";}#sk-container-id-1 div.sk-estimator input.sk-toggleable__control:checked~label.sk-toggleable__label {background-color: #d4ebff;}#sk-container-id-1 div.sk-label input.sk-toggleable__control:checked~label.sk-toggleable__label {background-color: #d4ebff;}#sk-container-id-1 input.sk-hidden--visually {border: 0;clip: rect(1px 1px 1px 1px);clip: rect(1px, 1px, 1px, 1px);height: 1px;margin: -1px;overflow: hidden;padding: 0;position: absolute;width: 1px;}#sk-container-id-1 div.sk-estimator {font-family: monospace;background-color: #f0f8ff;border: 1px dotted black;border-radius: 0.25em;box-sizing: border-box;margin-bottom: 0.5em;}#sk-container-id-1 div.sk-estimator:hover {background-color: #d4ebff;}#sk-container-id-1 div.sk-parallel-item::after {content: \"\";width: 100%;border-bottom: 1px solid gray;flex-grow: 1;}#sk-container-id-1 div.sk-label:hover label.sk-toggleable__label {background-color: #d4ebff;}#sk-container-id-1 div.sk-serial::before {content: \"\";position: absolute;border-left: 1px solid gray;box-sizing: border-box;top: 0;bottom: 0;left: 50%;z-index: 0;}#sk-container-id-1 div.sk-serial {display: flex;flex-direction: column;align-items: center;background-color: white;padding-right: 0.2em;padding-left: 0.2em;position: relative;}#sk-container-id-1 div.sk-item {position: relative;z-index: 1;}#sk-container-id-1 div.sk-parallel {display: flex;align-items: stretch;justify-content: center;background-color: white;position: relative;}#sk-container-id-1 div.sk-item::before, #sk-container-id-1 div.sk-parallel-item::before {content: \"\";position: absolute;border-left: 1px solid gray;box-sizing: border-box;top: 0;bottom: 0;left: 50%;z-index: -1;}#sk-container-id-1 div.sk-parallel-item {display: flex;flex-direction: column;z-index: 1;position: relative;background-color: white;}#sk-container-id-1 div.sk-parallel-item:first-child::after {align-self: flex-end;width: 50%;}#sk-container-id-1 div.sk-parallel-item:last-child::after {align-self: flex-start;width: 50%;}#sk-container-id-1 div.sk-parallel-item:only-child::after {width: 0;}#sk-container-id-1 div.sk-dashed-wrapped {border: 1px dashed gray;margin: 0 0.4em 0.5em 0.4em;box-sizing: border-box;padding-bottom: 0.4em;background-color: white;}#sk-container-id-1 div.sk-label label {font-family: monospace;font-weight: bold;display: inline-block;line-height: 1.2em;}#sk-container-id-1 div.sk-label-container {text-align: center;}#sk-container-id-1 div.sk-container {/* jupyter's `normalize.less` sets `[hidden] { display: none; }` but bootstrap.min.css set `[hidden] { display: none !important; }` so we also need the `!important` here to be able to override the default hidden behavior on the sphinx rendered scikit-learn.org. See: https://github.com/scikit-learn/scikit-learn/issues/21755 */display: inline-block !important;position: relative;}#sk-container-id-1 div.sk-text-repr-fallback {display: none;}</style><div id=\"sk-container-id-1\" class=\"sk-top-container\"><div class=\"sk-text-repr-fallback\"><pre>SVC(random_state=1)</pre><b>In a Jupyter environment, please rerun this cell to show the HTML representation or trust the notebook. <br />On GitHub, the HTML representation is unable to render, please try loading this page with nbviewer.org.</b></div><div class=\"sk-container\" hidden><div class=\"sk-item\"><div class=\"sk-estimator sk-toggleable\"><input class=\"sk-toggleable__control sk-hidden--visually\" id=\"sk-estimator-id-1\" type=\"checkbox\" checked><label for=\"sk-estimator-id-1\" class=\"sk-toggleable__label sk-toggleable__label-arrow\">SVC</label><div class=\"sk-toggleable__content\"><pre>SVC(random_state=1)</pre></div></div></div></div></div>"
     },
     "execution_count": 21,
     "metadata": {},
     "output_type": "execute_result"
    }
   ],
   "source": [
    "model"
   ],
   "metadata": {
    "collapsed": false
   }
  },
  {
   "cell_type": "markdown",
   "metadata": {
    "id": "1PzZnA0DZbKg"
   },
   "source": [
    "### Avaliar modelo treinado na base de teste"
   ]
  },
  {
   "cell_type": "code",
   "source": [
    "X_test.shape"
   ],
   "metadata": {
    "colab": {
     "base_uri": "https://localhost:8080/"
    },
    "id": "EZVLTK9g-bR1",
    "executionInfo": {
     "status": "ok",
     "timestamp": 1683395687942,
     "user_tz": 180,
     "elapsed": 379,
     "user": {
      "displayName": "Manoela Kohler",
      "userId": "11407817634634210712"
     }
    },
    "outputId": "06d73e38-0521-4b4a-d2b4-ec053e1a58e2"
   },
   "execution_count": 22,
   "outputs": [
    {
     "data": {
      "text/plain": "(416, 11)"
     },
     "execution_count": 22,
     "metadata": {},
     "output_type": "execute_result"
    }
   ]
  },
  {
   "cell_type": "code",
   "metadata": {
    "id": "GUaMBsU2aT2z",
    "colab": {
     "base_uri": "https://localhost:8080/"
    },
    "executionInfo": {
     "status": "ok",
     "timestamp": 1683395702470,
     "user_tz": 180,
     "elapsed": 342,
     "user": {
      "displayName": "Manoela Kohler",
      "userId": "11407817634634210712"
     }
    },
    "outputId": "379a5476-d557-4af0-ea4f-6450fa52c38f"
   },
   "source": [
    "# remover as mesmas colunas removidas por variância zero. \n",
    "# Nesse caso não houveram tais atributos. \n",
    "# Deixo o código caso tenham um caso que ocorra. \n",
    "# Aqui não fará nenhuma diferença.\n",
    "\n",
    "X_test = zero_var_filter.transform(X_test)\n",
    "X_test.shape"
   ],
   "execution_count": 23,
   "outputs": [
    {
     "data": {
      "text/plain": "(416, 11)"
     },
     "execution_count": 23,
     "metadata": {},
     "output_type": "execute_result"
    }
   ]
  },
  {
   "cell_type": "code",
   "metadata": {
    "id": "xrvVQo_xry3Z",
    "colab": {
     "base_uri": "https://localhost:8080/",
     "height": 1000
    },
    "executionInfo": {
     "status": "ok",
     "timestamp": 1683395965841,
     "user_tz": 180,
     "elapsed": 1322,
     "user": {
      "displayName": "Manoela Kohler",
      "userId": "11407817634634210712"
     }
    },
    "outputId": "46e7f25f-2750-40d2-dd81-d17ba1971607"
   },
   "source": [
    "def predict_and_evaluate(model, X_test, y_test):\n",
    "\n",
    "  y_pred = model.predict(X_test) # inferência do teste\n",
    "\n",
    "  # Acurácia\n",
    "  from sklearn.metrics import accuracy_score\n",
    "  accuracy = accuracy_score(y_test, y_pred)\n",
    "  print('Acurácia: ', accuracy)\n",
    "\n",
    "  # Kappa\n",
    "  from sklearn.metrics import cohen_kappa_score\n",
    "  kappa = cohen_kappa_score(y_test, y_pred)\n",
    "  print('Kappa: ', kappa)\n",
    "\n",
    "  # F1 - Faz uma relação do recall com a precision. Uma média harmônica que ele faz. É uma métrica interessante para se utilizar nos problemas de classificação\n",
    "  from sklearn.metrics import f1_score\n",
    "  f1 = f1_score(y_test, y_pred)\n",
    "  print('F1: ', f1)\n",
    "\n",
    "  # Matriz de confusão\n",
    "  from sklearn.metrics import confusion_matrix\n",
    "  confMatrix = confusion_matrix(y_test, y_pred)\n",
    "\n",
    "  ax = plt.subplot()\n",
    "  sns.heatmap(confMatrix, annot=True, fmt=\".0f\")\n",
    "  plt.xlabel('Previsto')\n",
    "  plt.ylabel('Real')\n",
    "  plt.title('Matriz de Confusão')\n",
    "\n",
    "  # Colocar os nomes\n",
    "  ax.xaxis.set_ticklabels(['Não Pagou', 'Pagou']) \n",
    "  ax.yaxis.set_ticklabels(['Não Pagou', 'Pagou'])\n",
    "  plt.show()\n",
    "\n",
    "print('Resultados de Treino')\n",
    "predict_and_evaluate(model, X_train, y_train)\n",
    "\n",
    "print('Resultados de Teste')\n",
    "predict_and_evaluate(model, X_test, y_test)"
   ],
   "execution_count": 24,
   "outputs": [
    {
     "name": "stdout",
     "output_type": "stream",
     "text": [
      "Resultados de Treino\n",
      "Acurácia:  0.6381697772426249\n",
      "Kappa:  0.2657140608415306\n",
      "F1:  0.5641769398114576\n"
     ]
    },
    {
     "data": {
      "text/plain": "<Figure size 640x480 with 2 Axes>",
      "image/png": "[encoded data removed]"
     },
     "metadata": {},
     "output_type": "display_data"
    },
    {
     "name": "stdout",
     "output_type": "stream",
     "text": [
      "Resultados de Teste\n",
      "Acurácia:  0.5961538461538461\n",
      "Kappa:  0.17873510540788262\n",
      "F1:  0.5058823529411763\n"
     ]
    },
    {
     "data": {
      "text/plain": "<Figure size 640x480 with 2 Axes>",
      "image/png": "[encoded data removed]"
     },
     "metadata": {},
     "output_type": "display_data"
    }
   ]
  },
  {
   "cell_type": "markdown",
   "source": [
    "Observe na matriz de confusão de treino que os resultados não ficaram bons. O pior erro que tem nesse caso, é conceder empréstimo para alguém que não vai pagar, o que está sendo demonstrado na linha de não pagou, coluna pagou, com 201. Esse tipo de erro pode custar caro para o banco!\n",
    "\n",
    "Ao replicar o modelo de treino para a base de teste, observe que os resultados pioraram. Ficou com bias alto e variância baixa. O modelo claramente não ajustou o conjunto de dados.\n",
    "\n",
    "É muito importante analisarmos o modelo na base de teste e de treino, pois podemos ter uma idéia do que está acontecendo com o nosso modelo. Por exemplo, se o nosso modelo está com 100% na base de treino e 20% na base de teste, fica claro que o nosso modelo está tendo um sobreajuste (overfitting). O modelo está muito especialiado no treino e não está conseguindo generalizar."
   ],
   "metadata": {
    "collapsed": false
   }
  },
  {
   "cell_type": "markdown",
   "source": [
    "### Normalizar"
   ],
   "metadata": {
    "collapsed": false
   }
  },
  {
   "cell_type": "code",
   "metadata": {
    "id": "pyEtFDi3MGPA"
   },
   "source": [
    "from sklearn.preprocessing import StandardScaler\n",
    "scaler = StandardScaler().fit(X_train) # gero o modelo de pré-processamento no treino\n",
    "X_train = scaler.transform(X_train) # aplico o modelo no treino\n",
    "X_test = scaler.transform(X_test)   # aplico o modelo no teste"
   ],
   "execution_count": null,
   "outputs": []
  },
  {
   "cell_type": "code",
   "metadata": {
    "id": "5PiTWduIA9cH"
   },
   "source": [
    "# Treinar e Testar novamente\n",
    "model = train(X_train, y_train, seed)\n",
    "\n",
    "print('Resultados de Treino')\n",
    "predict_and_evaluate(model, X_train, y_train)\n",
    "\n",
    "print('Resultados de Teste')\n",
    "predict_and_evaluate(model, X_test, y_test)"
   ],
   "execution_count": null,
   "outputs": []
  },
  {
   "cell_type": "markdown",
   "metadata": {
    "id": "HTDp-hu9GMr_"
   },
   "source": [
    "## Grid Search"
   ]
  },
  {
   "cell_type": "code",
   "metadata": {
    "id": "giiYLLTxDFZv"
   },
   "source": [
    "from sklearn.model_selection import GridSearchCV\n",
    "\n",
    "# Definir parâmetros a serem utilizados\n",
    "tuned_parameters = [{'kernel': ['rbf'], 'gamma': [1e-3, 1e-4],\n",
    "                     'C': [1, 10, 100, 1000]}]\n",
    "                     \n",
    "# Executar o grid search\n",
    "model = GridSearchCV(SVC(), tuned_parameters, scoring='f1')\n",
    "model.fit(X_train, y_train);"
   ],
   "execution_count": null,
   "outputs": []
  },
  {
   "cell_type": "code",
   "metadata": {
    "id": "iCuFToX_-ukw"
   },
   "source": [
    "model.best_params_"
   ],
   "execution_count": null,
   "outputs": []
  },
  {
   "cell_type": "code",
   "metadata": {
    "id": "-C0zpedtF1kD"
   },
   "source": [
    "print('Resultados de Treino')\n",
    "predict_and_evaluate(model, X_train, y_train)\n",
    "print('Resultados de Teste')\n",
    "predict_and_evaluate(model, X_test, y_test)"
   ],
   "execution_count": null,
   "outputs": []
  },
  {
   "cell_type": "markdown",
   "metadata": {
    "id": "86kOxCHyAgev"
   },
   "source": [
    "# Inferir novos dados com modelo treinado!"
   ]
  },
  {
   "cell_type": "code",
   "metadata": {
    "id": "ih5-SQ6qAhFs"
   },
   "source": [
    "# 1. Carreguei os dados sem o rótulo\n",
    "new_data = pd.read_table('credito_sem_rotulo.txt')\n",
    "new_data.head(8)"
   ],
   "execution_count": null,
   "outputs": []
  },
  {
   "cell_type": "code",
   "metadata": {
    "id": "_zK45KesAkjP"
   },
   "source": [
    "# 2. Aplicar os pré processamentos feitos no treino\n",
    "new_data_filtered = zero_var_filter.transform(new_data)\n",
    "new_data_normalized = scaler.transform(new_data_filtered)"
   ],
   "execution_count": null,
   "outputs": []
  },
  {
   "cell_type": "code",
   "metadata": {
    "id": "0VKf2wOsA3HK"
   },
   "source": [
    "# 3. Faço as inferências\n",
    "inferences = model.predict(new_data_normalized)"
   ],
   "execution_count": null,
   "outputs": []
  },
  {
   "cell_type": "code",
   "source": [
    "inferences"
   ],
   "metadata": {
    "id": "I8E8KBUPGzAf"
   },
   "execution_count": null,
   "outputs": []
  },
  {
   "cell_type": "code",
   "metadata": {
    "id": "EGIqlvEYA5Qb"
   },
   "source": [
    "# 4. Visualizar inferências juntamente com a base original\n",
    "new_data['previsões'] = inferences\n",
    "new_data.head(8)"
   ],
   "execution_count": null,
   "outputs": []
  },
  {
   "cell_type": "code",
   "metadata": {
    "id": "KrQCMADBA7j6"
   },
   "source": [
    "new_data.to_csv('results.csv')"
   ],
   "execution_count": null,
   "outputs": []
  }
 ]
}
