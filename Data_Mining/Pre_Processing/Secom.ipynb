{
 "nbformat": 4,
 "nbformat_minor": 0,
 "metadata": {
  "colab": {
   "provenance": []
  },
  "kernelspec": {
   "name": "python3",
   "display_name": "Python 3"
  }
 },
 "cells": [
  {
   "cell_type": "markdown",
   "metadata": {
    "id": "Twewlf4LCjwC"
   },
   "source": [
    "#Secom: fabricação de semicondutores"
   ]
  },
  {
   "cell_type": "markdown",
   "metadata": {
    "id": "D9-InY16CzRL"
   },
   "source": [
    "---\n",
    "1) Carregar base de Dados"
   ]
  },
  {
   "cell_type": "code",
   "metadata": {
    "id": "zYXhwGUaCjBZ",
    "executionInfo": {
     "status": "ok",
     "timestamp": 1683389877363,
     "user_tz": 180,
     "elapsed": 392,
     "user": {
      "displayName": "Manoela Kohler",
      "userId": "11407817634634210712"
     }
    }
   },
   "source": [
    "# Importação dos pacotes\n",
    "import pandas as pd\n",
    "import numpy as np\n",
    "import random\n",
    "import matplotlib.pyplot as plt\n",
    "import seaborn as sns\n",
    "\n",
    "# Seed para reprodução de resultados\n",
    "seed = 1\n",
    "random.seed(seed)\n",
    "np.random.seed(seed)"
   ],
   "execution_count": 45,
   "outputs": []
  },
  {
   "cell_type": "code",
   "execution_count": 46,
   "outputs": [
    {
     "data": {
      "text/plain": "0.13436424411240122"
     },
     "execution_count": 46,
     "metadata": {},
     "output_type": "execute_result"
    }
   ],
   "source": [
    "random.uniform(0,1)"
   ],
   "metadata": {
    "collapsed": false
   }
  },
  {
   "cell_type": "markdown",
   "source": [
    "Para entendermos o uso da seed (semente), ele nos permite gerar o mesmo resultado independente da quantidade de vezes que estamos rodando o código para que possamos ter sempre o mesmo resultado e facilitar a revisão do código. Se não tivéssemos declarado o seed = 1, toda que vez que rodássemos o código, ele geraria valores aleatórios no random diferente, o que iria fazer com que cada hora, tivéssemos um resultado diferente.\n",
    "\n",
    "Muito utilizado para a aleatoriedade, treinamento do modelo, testes etc."
   ],
   "metadata": {
    "collapsed": false
   }
  },
  {
   "cell_type": "code",
   "metadata": {
    "id": "ifHlOaZFCtG7",
    "colab": {
     "base_uri": "https://localhost:8080/",
     "height": 299
    },
    "executionInfo": {
     "status": "ok",
     "timestamp": 1683389878476,
     "user_tz": 180,
     "elapsed": 729,
     "user": {
      "displayName": "Manoela Kohler",
      "userId": "11407817634634210712"
     }
    },
    "outputId": "87a33dd3-6bd1-4dd8-a279-495fece3e440"
   },
   "source": [
    "data = pd.read_csv('/Users/leonardocosta/PycharmProjects/PUC_MBA_AI/Data_Mining/Secom.csv', header=None)\n",
    "data.head()"
   ],
   "execution_count": 47,
   "outputs": [
    {
     "data": {
      "text/plain": "       0        1          2          3       4      5         6       7     \n0  3030.93  2564.00  2187.7333  1411.1265  1.3602  100.0   97.6133  0.1242  \\\n1  3095.78  2465.14  2230.4222  1463.6606  0.8294  100.0  102.3433  0.1247   \n2  2932.61  2559.94  2186.4111  1698.0172  1.5102  100.0   95.4878  0.1241   \n3  2988.72  2479.90  2199.0333   909.7926  1.3204  100.0  104.2367  0.1217   \n4  3032.24  2502.87  2233.3667  1326.5200  1.5334  100.0  100.3967  0.1235   \n\n      8       9    ...       581     582     583     584      585     586   \n0  1.5005  0.0162  ...       NaN  0.5005  0.0118  0.0035   2.3630     NaN  \\\n1  1.4966 -0.0005  ...  208.2045  0.5019  0.0223  0.0055   4.4447  0.0096   \n2  1.4436  0.0041  ...   82.8602  0.4958  0.0157  0.0039   3.1745  0.0584   \n3  1.4882 -0.0124  ...   73.8432  0.4990  0.0103  0.0025   2.0544  0.0202   \n4  1.5031 -0.0031  ...       NaN  0.4800  0.4766  0.1045  99.3032  0.0202   \n\n      587     588       589  590  \n0     NaN     NaN       NaN   -1  \n1  0.0201  0.0060  208.2045   -1  \n2  0.0484  0.0148   82.8602    1  \n3  0.0149  0.0044   73.8432   -1  \n4  0.0149  0.0044   73.8432   -1  \n\n[5 rows x 591 columns]",
      "text/html": "<div>\n<style scoped>\n    .dataframe tbody tr th:only-of-type {\n        vertical-align: middle;\n    }\n\n    .dataframe tbody tr th {\n        vertical-align: top;\n    }\n\n    .dataframe thead th {\n        text-align: right;\n    }\n</style>\n<table border=\"1\" class=\"dataframe\">\n  <thead>\n    <tr style=\"text-align: right;\">\n      <th></th>\n      <th>0</th>\n      <th>1</th>\n      <th>2</th>\n      <th>3</th>\n      <th>4</th>\n      <th>5</th>\n      <th>6</th>\n      <th>7</th>\n      <th>8</th>\n      <th>9</th>\n      <th>...</th>\n      <th>581</th>\n      <th>582</th>\n      <th>583</th>\n      <th>584</th>\n      <th>585</th>\n      <th>586</th>\n      <th>587</th>\n      <th>588</th>\n      <th>589</th>\n      <th>590</th>\n    </tr>\n  </thead>\n  <tbody>\n    <tr>\n      <th>0</th>\n      <td>3030.93</td>\n      <td>2564.00</td>\n      <td>2187.7333</td>\n      <td>1411.1265</td>\n      <td>1.3602</td>\n      <td>100.0</td>\n      <td>97.6133</td>\n      <td>0.1242</td>\n      <td>1.5005</td>\n      <td>0.0162</td>\n      <td>...</td>\n      <td>NaN</td>\n      <td>0.5005</td>\n      <td>0.0118</td>\n      <td>0.0035</td>\n      <td>2.3630</td>\n      <td>NaN</td>\n      <td>NaN</td>\n      <td>NaN</td>\n      <td>NaN</td>\n      <td>-1</td>\n    </tr>\n    <tr>\n      <th>1</th>\n      <td>3095.78</td>\n      <td>2465.14</td>\n      <td>2230.4222</td>\n      <td>1463.6606</td>\n      <td>0.8294</td>\n      <td>100.0</td>\n      <td>102.3433</td>\n      <td>0.1247</td>\n      <td>1.4966</td>\n      <td>-0.0005</td>\n      <td>...</td>\n      <td>208.2045</td>\n      <td>0.5019</td>\n      <td>0.0223</td>\n      <td>0.0055</td>\n      <td>4.4447</td>\n      <td>0.0096</td>\n      <td>0.0201</td>\n      <td>0.0060</td>\n      <td>208.2045</td>\n      <td>-1</td>\n    </tr>\n    <tr>\n      <th>2</th>\n      <td>2932.61</td>\n      <td>2559.94</td>\n      <td>2186.4111</td>\n      <td>1698.0172</td>\n      <td>1.5102</td>\n      <td>100.0</td>\n      <td>95.4878</td>\n      <td>0.1241</td>\n      <td>1.4436</td>\n      <td>0.0041</td>\n      <td>...</td>\n      <td>82.8602</td>\n      <td>0.4958</td>\n      <td>0.0157</td>\n      <td>0.0039</td>\n      <td>3.1745</td>\n      <td>0.0584</td>\n      <td>0.0484</td>\n      <td>0.0148</td>\n      <td>82.8602</td>\n      <td>1</td>\n    </tr>\n    <tr>\n      <th>3</th>\n      <td>2988.72</td>\n      <td>2479.90</td>\n      <td>2199.0333</td>\n      <td>909.7926</td>\n      <td>1.3204</td>\n      <td>100.0</td>\n      <td>104.2367</td>\n      <td>0.1217</td>\n      <td>1.4882</td>\n      <td>-0.0124</td>\n      <td>...</td>\n      <td>73.8432</td>\n      <td>0.4990</td>\n      <td>0.0103</td>\n      <td>0.0025</td>\n      <td>2.0544</td>\n      <td>0.0202</td>\n      <td>0.0149</td>\n      <td>0.0044</td>\n      <td>73.8432</td>\n      <td>-1</td>\n    </tr>\n    <tr>\n      <th>4</th>\n      <td>3032.24</td>\n      <td>2502.87</td>\n      <td>2233.3667</td>\n      <td>1326.5200</td>\n      <td>1.5334</td>\n      <td>100.0</td>\n      <td>100.3967</td>\n      <td>0.1235</td>\n      <td>1.5031</td>\n      <td>-0.0031</td>\n      <td>...</td>\n      <td>NaN</td>\n      <td>0.4800</td>\n      <td>0.4766</td>\n      <td>0.1045</td>\n      <td>99.3032</td>\n      <td>0.0202</td>\n      <td>0.0149</td>\n      <td>0.0044</td>\n      <td>73.8432</td>\n      <td>-1</td>\n    </tr>\n  </tbody>\n</table>\n<p>5 rows × 591 columns</p>\n</div>"
     },
     "execution_count": 47,
     "metadata": {},
     "output_type": "execute_result"
    }
   ]
  },
  {
   "cell_type": "code",
   "metadata": {
    "id": "qG8Syhnoxa8E",
    "colab": {
     "base_uri": "https://localhost:8080/"
    },
    "executionInfo": {
     "status": "ok",
     "timestamp": 1683389878477,
     "user_tz": 180,
     "elapsed": 7,
     "user": {
      "displayName": "Manoela Kohler",
      "userId": "11407817634634210712"
     }
    },
    "outputId": "e6a58122-806a-43cb-a088-e192f17b1727"
   },
   "source": [
    "data.shape"
   ],
   "execution_count": 48,
   "outputs": [
    {
     "data": {
      "text/plain": "(1567, 591)"
     },
     "execution_count": 48,
     "metadata": {},
     "output_type": "execute_result"
    }
   ]
  },
  {
   "cell_type": "code",
   "metadata": {
    "id": "igUqkb0WaDQD",
    "colab": {
     "base_uri": "https://localhost:8080/",
     "height": 393
    },
    "executionInfo": {
     "status": "ok",
     "timestamp": 1683389879333,
     "user_tz": 180,
     "elapsed": 860,
     "user": {
      "displayName": "Manoela Kohler",
      "userId": "11407817634634210712"
     }
    },
    "outputId": "54bb6582-4da2-491f-e015-60fd62b80f30"
   },
   "source": [
    "data.describe()"
   ],
   "execution_count": 49,
   "outputs": [
    {
     "data": {
      "text/plain": "               0            1            2            3            4     \ncount  1561.000000  1560.000000  1553.000000  1553.000000  1553.000000  \\\nmean   3014.452896  2495.850231  2200.547318  1396.376627     4.197013   \nstd      73.621787    80.407705    29.513152   441.691640    56.355540   \nmin    2743.240000  2158.750000  2060.660000     0.000000     0.681500   \n25%    2966.260000  2452.247500  2181.044400  1081.875800     1.017700   \n50%    3011.490000  2499.405000  2201.066700  1285.214400     1.316800   \n75%    3056.650000  2538.822500  2218.055500  1591.223500     1.525700   \nmax    3356.350000  2846.440000  2315.266700  3715.041700  1114.536600   \n\n          5            6            7            8            9    ...   \ncount  1553.0  1553.000000  1558.000000  1565.000000  1565.000000  ...  \\\nmean    100.0   101.112908     0.121822     1.462862    -0.000841  ...   \nstd       0.0     6.237214     0.008961     0.073897     0.015116  ...   \nmin     100.0    82.131100     0.000000     1.191000    -0.053400  ...   \n25%     100.0    97.920000     0.121100     1.411200    -0.010800  ...   \n50%     100.0   101.512200     0.122400     1.461600    -0.001300  ...   \n75%     100.0   104.586700     0.123800     1.516900     0.008400  ...   \nmax     100.0   129.252200     0.128600     1.656400     0.074900  ...   \n\n              581          582          583          584          585   \ncount  618.000000  1566.000000  1566.000000  1566.000000  1566.000000  \\\nmean    97.934373     0.500096     0.015318     0.003847     3.067826   \nstd     87.520966     0.003404     0.017180     0.003720     3.578033   \nmin      0.000000     0.477800     0.006000     0.001700     1.197500   \n25%     46.184900     0.497900     0.011600     0.003100     2.306500   \n50%     72.288900     0.500200     0.013800     0.003600     2.757650   \n75%    116.539150     0.502375     0.016500     0.004100     3.295175   \nmax    737.304800     0.509800     0.476600     0.104500    99.303200   \n\n               586          587          588          589          590  \ncount  1566.000000  1566.000000  1566.000000  1566.000000  1567.000000  \nmean      0.021458     0.016475     0.005283    99.670066    -0.867262  \nstd       0.012358     0.008808     0.002867    93.891919     0.498010  \nmin      -0.016900     0.003200     0.001000     0.000000    -1.000000  \n25%       0.013425     0.010600     0.003300    44.368600    -1.000000  \n50%       0.020500     0.014800     0.004600    71.900500    -1.000000  \n75%       0.027600     0.020300     0.006400   114.749700    -1.000000  \nmax       0.102800     0.079900     0.028600   737.304800     1.000000  \n\n[8 rows x 591 columns]",
      "text/html": "<div>\n<style scoped>\n    .dataframe tbody tr th:only-of-type {\n        vertical-align: middle;\n    }\n\n    .dataframe tbody tr th {\n        vertical-align: top;\n    }\n\n    .dataframe thead th {\n        text-align: right;\n    }\n</style>\n<table border=\"1\" class=\"dataframe\">\n  <thead>\n    <tr style=\"text-align: right;\">\n      <th></th>\n      <th>0</th>\n      <th>1</th>\n      <th>2</th>\n      <th>3</th>\n      <th>4</th>\n      <th>5</th>\n      <th>6</th>\n      <th>7</th>\n      <th>8</th>\n      <th>9</th>\n      <th>...</th>\n      <th>581</th>\n      <th>582</th>\n      <th>583</th>\n      <th>584</th>\n      <th>585</th>\n      <th>586</th>\n      <th>587</th>\n      <th>588</th>\n      <th>589</th>\n      <th>590</th>\n    </tr>\n  </thead>\n  <tbody>\n    <tr>\n      <th>count</th>\n      <td>1561.000000</td>\n      <td>1560.000000</td>\n      <td>1553.000000</td>\n      <td>1553.000000</td>\n      <td>1553.000000</td>\n      <td>1553.0</td>\n      <td>1553.000000</td>\n      <td>1558.000000</td>\n      <td>1565.000000</td>\n      <td>1565.000000</td>\n      <td>...</td>\n      <td>618.000000</td>\n      <td>1566.000000</td>\n      <td>1566.000000</td>\n      <td>1566.000000</td>\n      <td>1566.000000</td>\n      <td>1566.000000</td>\n      <td>1566.000000</td>\n      <td>1566.000000</td>\n      <td>1566.000000</td>\n      <td>1567.000000</td>\n    </tr>\n    <tr>\n      <th>mean</th>\n      <td>3014.452896</td>\n      <td>2495.850231</td>\n      <td>2200.547318</td>\n      <td>1396.376627</td>\n      <td>4.197013</td>\n      <td>100.0</td>\n      <td>101.112908</td>\n      <td>0.121822</td>\n      <td>1.462862</td>\n      <td>-0.000841</td>\n      <td>...</td>\n      <td>97.934373</td>\n      <td>0.500096</td>\n      <td>0.015318</td>\n      <td>0.003847</td>\n      <td>3.067826</td>\n      <td>0.021458</td>\n      <td>0.016475</td>\n      <td>0.005283</td>\n      <td>99.670066</td>\n      <td>-0.867262</td>\n    </tr>\n    <tr>\n      <th>std</th>\n      <td>73.621787</td>\n      <td>80.407705</td>\n      <td>29.513152</td>\n      <td>441.691640</td>\n      <td>56.355540</td>\n      <td>0.0</td>\n      <td>6.237214</td>\n      <td>0.008961</td>\n      <td>0.073897</td>\n      <td>0.015116</td>\n      <td>...</td>\n      <td>87.520966</td>\n      <td>0.003404</td>\n      <td>0.017180</td>\n      <td>0.003720</td>\n      <td>3.578033</td>\n      <td>0.012358</td>\n      <td>0.008808</td>\n      <td>0.002867</td>\n      <td>93.891919</td>\n      <td>0.498010</td>\n    </tr>\n    <tr>\n      <th>min</th>\n      <td>2743.240000</td>\n      <td>2158.750000</td>\n      <td>2060.660000</td>\n      <td>0.000000</td>\n      <td>0.681500</td>\n      <td>100.0</td>\n      <td>82.131100</td>\n      <td>0.000000</td>\n      <td>1.191000</td>\n      <td>-0.053400</td>\n      <td>...</td>\n      <td>0.000000</td>\n      <td>0.477800</td>\n      <td>0.006000</td>\n      <td>0.001700</td>\n      <td>1.197500</td>\n      <td>-0.016900</td>\n      <td>0.003200</td>\n      <td>0.001000</td>\n      <td>0.000000</td>\n      <td>-1.000000</td>\n    </tr>\n    <tr>\n      <th>25%</th>\n      <td>2966.260000</td>\n      <td>2452.247500</td>\n      <td>2181.044400</td>\n      <td>1081.875800</td>\n      <td>1.017700</td>\n      <td>100.0</td>\n      <td>97.920000</td>\n      <td>0.121100</td>\n      <td>1.411200</td>\n      <td>-0.010800</td>\n      <td>...</td>\n      <td>46.184900</td>\n      <td>0.497900</td>\n      <td>0.011600</td>\n      <td>0.003100</td>\n      <td>2.306500</td>\n      <td>0.013425</td>\n      <td>0.010600</td>\n      <td>0.003300</td>\n      <td>44.368600</td>\n      <td>-1.000000</td>\n    </tr>\n    <tr>\n      <th>50%</th>\n      <td>3011.490000</td>\n      <td>2499.405000</td>\n      <td>2201.066700</td>\n      <td>1285.214400</td>\n      <td>1.316800</td>\n      <td>100.0</td>\n      <td>101.512200</td>\n      <td>0.122400</td>\n      <td>1.461600</td>\n      <td>-0.001300</td>\n      <td>...</td>\n      <td>72.288900</td>\n      <td>0.500200</td>\n      <td>0.013800</td>\n      <td>0.003600</td>\n      <td>2.757650</td>\n      <td>0.020500</td>\n      <td>0.014800</td>\n      <td>0.004600</td>\n      <td>71.900500</td>\n      <td>-1.000000</td>\n    </tr>\n    <tr>\n      <th>75%</th>\n      <td>3056.650000</td>\n      <td>2538.822500</td>\n      <td>2218.055500</td>\n      <td>1591.223500</td>\n      <td>1.525700</td>\n      <td>100.0</td>\n      <td>104.586700</td>\n      <td>0.123800</td>\n      <td>1.516900</td>\n      <td>0.008400</td>\n      <td>...</td>\n      <td>116.539150</td>\n      <td>0.502375</td>\n      <td>0.016500</td>\n      <td>0.004100</td>\n      <td>3.295175</td>\n      <td>0.027600</td>\n      <td>0.020300</td>\n      <td>0.006400</td>\n      <td>114.749700</td>\n      <td>-1.000000</td>\n    </tr>\n    <tr>\n      <th>max</th>\n      <td>3356.350000</td>\n      <td>2846.440000</td>\n      <td>2315.266700</td>\n      <td>3715.041700</td>\n      <td>1114.536600</td>\n      <td>100.0</td>\n      <td>129.252200</td>\n      <td>0.128600</td>\n      <td>1.656400</td>\n      <td>0.074900</td>\n      <td>...</td>\n      <td>737.304800</td>\n      <td>0.509800</td>\n      <td>0.476600</td>\n      <td>0.104500</td>\n      <td>99.303200</td>\n      <td>0.102800</td>\n      <td>0.079900</td>\n      <td>0.028600</td>\n      <td>737.304800</td>\n      <td>1.000000</td>\n    </tr>\n  </tbody>\n</table>\n<p>8 rows × 591 columns</p>\n</div>"
     },
     "execution_count": 49,
     "metadata": {},
     "output_type": "execute_result"
    }
   ]
  },
  {
   "cell_type": "markdown",
   "metadata": {
    "id": "m3Waf9ohVvhB"
   },
   "source": [
    "---\n",
    "2) Separar input e output"
   ]
  },
  {
   "cell_type": "code",
   "metadata": {
    "id": "aPiIxKNsV9q4",
    "colab": {
     "base_uri": "https://localhost:8080/"
    },
    "executionInfo": {
     "status": "ok",
     "timestamp": 1683389879333,
     "user_tz": 180,
     "elapsed": 7,
     "user": {
      "displayName": "Manoela Kohler",
      "userId": "11407817634634210712"
     }
    },
    "outputId": "40836d0a-fb00-473e-a1f6-6c06695fa8da"
   },
   "source": [
    "# output \n",
    "y_train = data[590]\n",
    "y_train.head()"
   ],
   "execution_count": 50,
   "outputs": [
    {
     "data": {
      "text/plain": "0   -1\n1   -1\n2    1\n3   -1\n4   -1\nName: 590, dtype: int64"
     },
     "execution_count": 50,
     "metadata": {},
     "output_type": "execute_result"
    }
   ]
  },
  {
   "cell_type": "code",
   "metadata": {
    "id": "eTAWFRXRVVIm",
    "colab": {
     "base_uri": "https://localhost:8080/",
     "height": 299
    },
    "executionInfo": {
     "status": "ok",
     "timestamp": 1683389879333,
     "user_tz": 180,
     "elapsed": 5,
     "user": {
      "displayName": "Manoela Kohler",
      "userId": "11407817634634210712"
     }
    },
    "outputId": "932eb810-9454-40e9-f8f8-e88d94a92327"
   },
   "source": [
    "# input \n",
    "X_train = data.iloc[:, 0:590] # todas as linhas e colunas da 0 até 589 (a 590 não entra)\n",
    "X_train.head()"
   ],
   "execution_count": 51,
   "outputs": [
    {
     "data": {
      "text/plain": "       0        1          2          3       4      5         6       7     \n0  3030.93  2564.00  2187.7333  1411.1265  1.3602  100.0   97.6133  0.1242  \\\n1  3095.78  2465.14  2230.4222  1463.6606  0.8294  100.0  102.3433  0.1247   \n2  2932.61  2559.94  2186.4111  1698.0172  1.5102  100.0   95.4878  0.1241   \n3  2988.72  2479.90  2199.0333   909.7926  1.3204  100.0  104.2367  0.1217   \n4  3032.24  2502.87  2233.3667  1326.5200  1.5334  100.0  100.3967  0.1235   \n\n      8       9    ...     580       581     582     583     584      585   \n0  1.5005  0.0162  ...     NaN       NaN  0.5005  0.0118  0.0035   2.3630  \\\n1  1.4966 -0.0005  ...  0.0060  208.2045  0.5019  0.0223  0.0055   4.4447   \n2  1.4436  0.0041  ...  0.0148   82.8602  0.4958  0.0157  0.0039   3.1745   \n3  1.4882 -0.0124  ...  0.0044   73.8432  0.4990  0.0103  0.0025   2.0544   \n4  1.5031 -0.0031  ...     NaN       NaN  0.4800  0.4766  0.1045  99.3032   \n\n      586     587     588       589  \n0     NaN     NaN     NaN       NaN  \n1  0.0096  0.0201  0.0060  208.2045  \n2  0.0584  0.0484  0.0148   82.8602  \n3  0.0202  0.0149  0.0044   73.8432  \n4  0.0202  0.0149  0.0044   73.8432  \n\n[5 rows x 590 columns]",
      "text/html": "<div>\n<style scoped>\n    .dataframe tbody tr th:only-of-type {\n        vertical-align: middle;\n    }\n\n    .dataframe tbody tr th {\n        vertical-align: top;\n    }\n\n    .dataframe thead th {\n        text-align: right;\n    }\n</style>\n<table border=\"1\" class=\"dataframe\">\n  <thead>\n    <tr style=\"text-align: right;\">\n      <th></th>\n      <th>0</th>\n      <th>1</th>\n      <th>2</th>\n      <th>3</th>\n      <th>4</th>\n      <th>5</th>\n      <th>6</th>\n      <th>7</th>\n      <th>8</th>\n      <th>9</th>\n      <th>...</th>\n      <th>580</th>\n      <th>581</th>\n      <th>582</th>\n      <th>583</th>\n      <th>584</th>\n      <th>585</th>\n      <th>586</th>\n      <th>587</th>\n      <th>588</th>\n      <th>589</th>\n    </tr>\n  </thead>\n  <tbody>\n    <tr>\n      <th>0</th>\n      <td>3030.93</td>\n      <td>2564.00</td>\n      <td>2187.7333</td>\n      <td>1411.1265</td>\n      <td>1.3602</td>\n      <td>100.0</td>\n      <td>97.6133</td>\n      <td>0.1242</td>\n      <td>1.5005</td>\n      <td>0.0162</td>\n      <td>...</td>\n      <td>NaN</td>\n      <td>NaN</td>\n      <td>0.5005</td>\n      <td>0.0118</td>\n      <td>0.0035</td>\n      <td>2.3630</td>\n      <td>NaN</td>\n      <td>NaN</td>\n      <td>NaN</td>\n      <td>NaN</td>\n    </tr>\n    <tr>\n      <th>1</th>\n      <td>3095.78</td>\n      <td>2465.14</td>\n      <td>2230.4222</td>\n      <td>1463.6606</td>\n      <td>0.8294</td>\n      <td>100.0</td>\n      <td>102.3433</td>\n      <td>0.1247</td>\n      <td>1.4966</td>\n      <td>-0.0005</td>\n      <td>...</td>\n      <td>0.0060</td>\n      <td>208.2045</td>\n      <td>0.5019</td>\n      <td>0.0223</td>\n      <td>0.0055</td>\n      <td>4.4447</td>\n      <td>0.0096</td>\n      <td>0.0201</td>\n      <td>0.0060</td>\n      <td>208.2045</td>\n    </tr>\n    <tr>\n      <th>2</th>\n      <td>2932.61</td>\n      <td>2559.94</td>\n      <td>2186.4111</td>\n      <td>1698.0172</td>\n      <td>1.5102</td>\n      <td>100.0</td>\n      <td>95.4878</td>\n      <td>0.1241</td>\n      <td>1.4436</td>\n      <td>0.0041</td>\n      <td>...</td>\n      <td>0.0148</td>\n      <td>82.8602</td>\n      <td>0.4958</td>\n      <td>0.0157</td>\n      <td>0.0039</td>\n      <td>3.1745</td>\n      <td>0.0584</td>\n      <td>0.0484</td>\n      <td>0.0148</td>\n      <td>82.8602</td>\n    </tr>\n    <tr>\n      <th>3</th>\n      <td>2988.72</td>\n      <td>2479.90</td>\n      <td>2199.0333</td>\n      <td>909.7926</td>\n      <td>1.3204</td>\n      <td>100.0</td>\n      <td>104.2367</td>\n      <td>0.1217</td>\n      <td>1.4882</td>\n      <td>-0.0124</td>\n      <td>...</td>\n      <td>0.0044</td>\n      <td>73.8432</td>\n      <td>0.4990</td>\n      <td>0.0103</td>\n      <td>0.0025</td>\n      <td>2.0544</td>\n      <td>0.0202</td>\n      <td>0.0149</td>\n      <td>0.0044</td>\n      <td>73.8432</td>\n    </tr>\n    <tr>\n      <th>4</th>\n      <td>3032.24</td>\n      <td>2502.87</td>\n      <td>2233.3667</td>\n      <td>1326.5200</td>\n      <td>1.5334</td>\n      <td>100.0</td>\n      <td>100.3967</td>\n      <td>0.1235</td>\n      <td>1.5031</td>\n      <td>-0.0031</td>\n      <td>...</td>\n      <td>NaN</td>\n      <td>NaN</td>\n      <td>0.4800</td>\n      <td>0.4766</td>\n      <td>0.1045</td>\n      <td>99.3032</td>\n      <td>0.0202</td>\n      <td>0.0149</td>\n      <td>0.0044</td>\n      <td>73.8432</td>\n    </tr>\n  </tbody>\n</table>\n<p>5 rows × 590 columns</p>\n</div>"
     },
     "execution_count": 51,
     "metadata": {},
     "output_type": "execute_result"
    }
   ]
  },
  {
   "cell_type": "markdown",
   "metadata": {
    "id": "turwkzvBC1h1"
   },
   "source": [
    "---\n",
    "3) Pré Processamento"
   ]
  },
  {
   "cell_type": "markdown",
   "metadata": {
    "id": "89LDF8WzfOPu"
   },
   "source": [
    "---\n",
    "3.1) Missing"
   ]
  },
  {
   "cell_type": "markdown",
   "source": [
    "Vamos utilizar a biblioteca missingno abaixo para gerar uma análise visual dos valores preenchidos por linhas e colunas"
   ],
   "metadata": {
    "collapsed": false
   }
  },
  {
   "cell_type": "code",
   "metadata": {
    "id": "fzivIvxz1B6m",
    "colab": {
     "base_uri": "https://localhost:8080/",
     "height": 205
    },
    "executionInfo": {
     "status": "ok",
     "timestamp": 1683389881101,
     "user_tz": 180,
     "elapsed": 1772,
     "user": {
      "displayName": "Manoela Kohler",
      "userId": "11407817634634210712"
     }
    },
    "outputId": "46568d1c-4c06-4d81-cac7-625e98931206"
   },
   "source": [
    "# Visualizar missing\n",
    "import missingno as msno\n",
    "msno.matrix(X_train, figsize=(25,5));"
   ],
   "execution_count": 52,
   "outputs": [
    {
     "data": {
      "text/plain": "<Figure size 2500x500 with 2 Axes>",
      "image/png": "[encoded data removed]"
     },
     "metadata": {},
     "output_type": "display_data"
    }
   ]
  },
  {
   "cell_type": "markdown",
   "source": [
    "Podemos observar os traços brancos que tem muito missing e os traços pretos representam os valores. Tem colunas que pode fazer sentido deletar, pois temos poucos valores preenchidos. No gráfico lateral, a linha que possui mais valores preenchidos é a de 586 onde se aproxima do valor total, e a linha que possui menos valores preenchidos, é a 436."
   ],
   "metadata": {
    "collapsed": false
   }
  },
  {
   "cell_type": "markdown",
   "source": [
    "Vamos verificar o missing por linha"
   ],
   "metadata": {
    "collapsed": false
   }
  },
  {
   "cell_type": "code",
   "metadata": {
    "id": "xFdd14Iarv8Y",
    "colab": {
     "base_uri": "https://localhost:8080/",
     "height": 206
    },
    "executionInfo": {
     "status": "ok",
     "timestamp": 1683389881481,
     "user_tz": 180,
     "elapsed": 382,
     "user": {
      "displayName": "Manoela Kohler",
      "userId": "11407817634634210712"
     }
    },
    "outputId": "085e1ce3-6396-4d06-e87d-e8e69b6f796a"
   },
   "source": [
    "# Verificar missing por linha. Vamos fazer a função abaixo etapa por etapa\n",
    "\n",
    "# 1) Vamos pegar a primeira linha\n",
    "\n",
    "\n",
    "# 2) Vamos contar quantos nulos tem nessa linha\n",
    "\n",
    "\n",
    "\n",
    "# 3) Código completo\n",
    "# Verificar quantos nulos temos por linha e somar eles e multiplicar por 100 para achar o percentual de missing para cada linha.\n",
    "# Quantos nulos temos em cada linha, somar todos eles, multiplicar por 100 e dividir pelo tamanho da base de treino.\n",
    "percent_missing_rows = X_train.apply(lambda x: x.isnull().sum() * 100 / len(X_train), axis=1).sort_values(ascending=False)\n",
    "percent_missing_rows\n",
    "\n",
    "# Valores abaixo estão em percentuais"
   ],
   "execution_count": 53,
   "outputs": [
    {
     "data": {
      "text/plain": "1566    9.700064\n1564    9.444799\n1561    8.934269\n1152    6.381621\n511     6.381621\n          ...   \n773     0.255265\n1455    0.255265\n843     0.255265\n1208    0.255265\n952     0.255265\nLength: 1567, dtype: float64"
     },
     "execution_count": 53,
     "metadata": {},
     "output_type": "execute_result"
    }
   ]
  },
  {
   "cell_type": "code",
   "execution_count": 54,
   "outputs": [
    {
     "data": {
      "text/plain": "      row_index  percent_missing\n1566          0         9.700064\n1564          1         9.444799\n1561          2         8.934269\n1152          3         6.381621\n511           4         6.381621",
      "text/html": "<div>\n<style scoped>\n    .dataframe tbody tr th:only-of-type {\n        vertical-align: middle;\n    }\n\n    .dataframe tbody tr th {\n        vertical-align: top;\n    }\n\n    .dataframe thead th {\n        text-align: right;\n    }\n</style>\n<table border=\"1\" class=\"dataframe\">\n  <thead>\n    <tr style=\"text-align: right;\">\n      <th></th>\n      <th>row_index</th>\n      <th>percent_missing</th>\n    </tr>\n  </thead>\n  <tbody>\n    <tr>\n      <th>1566</th>\n      <td>0</td>\n      <td>9.700064</td>\n    </tr>\n    <tr>\n      <th>1564</th>\n      <td>1</td>\n      <td>9.444799</td>\n    </tr>\n    <tr>\n      <th>1561</th>\n      <td>2</td>\n      <td>8.934269</td>\n    </tr>\n    <tr>\n      <th>1152</th>\n      <td>3</td>\n      <td>6.381621</td>\n    </tr>\n    <tr>\n      <th>511</th>\n      <td>4</td>\n      <td>6.381621</td>\n    </tr>\n  </tbody>\n</table>\n</div>"
     },
     "execution_count": 54,
     "metadata": {},
     "output_type": "execute_result"
    }
   ],
   "source": [
    "# Vamos criar um datafram com esses dados\n",
    "df = pd.DataFrame({'row_index': X_train.index, 'percent_missing': percent_missing_rows})\n",
    "df.head()"
   ],
   "metadata": {
    "collapsed": false
   }
  },
  {
   "cell_type": "code",
   "metadata": {
    "id": "P2S-W0SJr4dN",
    "colab": {
     "base_uri": "https://localhost:8080/",
     "height": 1000
    },
    "executionInfo": {
     "status": "ok",
     "timestamp": 1683389881887,
     "user_tz": 180,
     "elapsed": 408,
     "user": {
      "displayName": "Manoela Kohler",
      "userId": "11407817634634210712"
     }
    },
    "outputId": "fac5fd7d-d913-44f6-d757-d756aa6abf8d"
   },
   "source": [
    "percent_missing = X_train.apply(lambda x: x.isnull().sum() * 100 / len(X_train), \n",
    "                                axis=0).sort_values(ascending=False)\n",
    "df = pd.DataFrame({'column_name': X_train.columns, 'percent_missing': percent_missing})\n",
    "df.head(35)"
   ],
   "execution_count": 55,
   "outputs": [
    {
     "data": {
      "text/plain": "     column_name  percent_missing\n157            0        91.193363\n292            1        91.193363\n293            2        91.193363\n158            3        91.193363\n492            4        85.577537\n358            5        85.577537\n85             6        85.577537\n220            7        85.577537\n246            8        64.964901\n109            9        64.964901\n110           10        64.964901\n111           11        64.964901\n518           12        64.964901\n516           13        64.964901\n245           14        64.964901\n244           15        64.964901\n382           16        64.964901\n383           17        64.964901\n384           18        64.964901\n517           19        64.964901\n578           20        60.561583\n579           21        60.561583\n580           22        60.561583\n581           23        60.561583\n346           24        50.670070\n73            25        50.670070\n72            26        50.670070\n345           27        50.670070\n112           28        45.628590\n247           29        45.628590\n385           30        45.628590\n519           31        45.628590\n562           32        17.421825\n563           33        17.421825\n564           34        17.421825",
      "text/html": "<div>\n<style scoped>\n    .dataframe tbody tr th:only-of-type {\n        vertical-align: middle;\n    }\n\n    .dataframe tbody tr th {\n        vertical-align: top;\n    }\n\n    .dataframe thead th {\n        text-align: right;\n    }\n</style>\n<table border=\"1\" class=\"dataframe\">\n  <thead>\n    <tr style=\"text-align: right;\">\n      <th></th>\n      <th>column_name</th>\n      <th>percent_missing</th>\n    </tr>\n  </thead>\n  <tbody>\n    <tr>\n      <th>157</th>\n      <td>0</td>\n      <td>91.193363</td>\n    </tr>\n    <tr>\n      <th>292</th>\n      <td>1</td>\n      <td>91.193363</td>\n    </tr>\n    <tr>\n      <th>293</th>\n      <td>2</td>\n      <td>91.193363</td>\n    </tr>\n    <tr>\n      <th>158</th>\n      <td>3</td>\n      <td>91.193363</td>\n    </tr>\n    <tr>\n      <th>492</th>\n      <td>4</td>\n      <td>85.577537</td>\n    </tr>\n    <tr>\n      <th>358</th>\n      <td>5</td>\n      <td>85.577537</td>\n    </tr>\n    <tr>\n      <th>85</th>\n      <td>6</td>\n      <td>85.577537</td>\n    </tr>\n    <tr>\n      <th>220</th>\n      <td>7</td>\n      <td>85.577537</td>\n    </tr>\n    <tr>\n      <th>246</th>\n      <td>8</td>\n      <td>64.964901</td>\n    </tr>\n    <tr>\n      <th>109</th>\n      <td>9</td>\n      <td>64.964901</td>\n    </tr>\n    <tr>\n      <th>110</th>\n      <td>10</td>\n      <td>64.964901</td>\n    </tr>\n    <tr>\n      <th>111</th>\n      <td>11</td>\n      <td>64.964901</td>\n    </tr>\n    <tr>\n      <th>518</th>\n      <td>12</td>\n      <td>64.964901</td>\n    </tr>\n    <tr>\n      <th>516</th>\n      <td>13</td>\n      <td>64.964901</td>\n    </tr>\n    <tr>\n      <th>245</th>\n      <td>14</td>\n      <td>64.964901</td>\n    </tr>\n    <tr>\n      <th>244</th>\n      <td>15</td>\n      <td>64.964901</td>\n    </tr>\n    <tr>\n      <th>382</th>\n      <td>16</td>\n      <td>64.964901</td>\n    </tr>\n    <tr>\n      <th>383</th>\n      <td>17</td>\n      <td>64.964901</td>\n    </tr>\n    <tr>\n      <th>384</th>\n      <td>18</td>\n      <td>64.964901</td>\n    </tr>\n    <tr>\n      <th>517</th>\n      <td>19</td>\n      <td>64.964901</td>\n    </tr>\n    <tr>\n      <th>578</th>\n      <td>20</td>\n      <td>60.561583</td>\n    </tr>\n    <tr>\n      <th>579</th>\n      <td>21</td>\n      <td>60.561583</td>\n    </tr>\n    <tr>\n      <th>580</th>\n      <td>22</td>\n      <td>60.561583</td>\n    </tr>\n    <tr>\n      <th>581</th>\n      <td>23</td>\n      <td>60.561583</td>\n    </tr>\n    <tr>\n      <th>346</th>\n      <td>24</td>\n      <td>50.670070</td>\n    </tr>\n    <tr>\n      <th>73</th>\n      <td>25</td>\n      <td>50.670070</td>\n    </tr>\n    <tr>\n      <th>72</th>\n      <td>26</td>\n      <td>50.670070</td>\n    </tr>\n    <tr>\n      <th>345</th>\n      <td>27</td>\n      <td>50.670070</td>\n    </tr>\n    <tr>\n      <th>112</th>\n      <td>28</td>\n      <td>45.628590</td>\n    </tr>\n    <tr>\n      <th>247</th>\n      <td>29</td>\n      <td>45.628590</td>\n    </tr>\n    <tr>\n      <th>385</th>\n      <td>30</td>\n      <td>45.628590</td>\n    </tr>\n    <tr>\n      <th>519</th>\n      <td>31</td>\n      <td>45.628590</td>\n    </tr>\n    <tr>\n      <th>562</th>\n      <td>32</td>\n      <td>17.421825</td>\n    </tr>\n    <tr>\n      <th>563</th>\n      <td>33</td>\n      <td>17.421825</td>\n    </tr>\n    <tr>\n      <th>564</th>\n      <td>34</td>\n      <td>17.421825</td>\n    </tr>\n  </tbody>\n</table>\n</div>"
     },
     "execution_count": 55,
     "metadata": {},
     "output_type": "execute_result"
    }
   ]
  },
  {
   "cell_type": "code",
   "metadata": {
    "id": "JPLI2pYpnMXE",
    "colab": {
     "base_uri": "https://localhost:8080/"
    },
    "executionInfo": {
     "status": "ok",
     "timestamp": 1683389881887,
     "user_tz": 180,
     "elapsed": 7,
     "user": {
      "displayName": "Manoela Kohler",
      "userId": "11407817634634210712"
     }
    },
    "outputId": "1feced17-88bd-4eda-c7d6-aed2fa977f07"
   },
   "source": [
    "# Classe tem missing?\n",
    "y_train.isnull().sum()"
   ],
   "execution_count": 56,
   "outputs": [
    {
     "data": {
      "text/plain": "0"
     },
     "execution_count": 56,
     "metadata": {},
     "output_type": "execute_result"
    }
   ]
  },
  {
   "cell_type": "code",
   "metadata": {
    "id": "7fpIhrWUmA_M",
    "colab": {
     "base_uri": "https://localhost:8080/"
    },
    "executionInfo": {
     "status": "ok",
     "timestamp": 1683389881887,
     "user_tz": 180,
     "elapsed": 5,
     "user": {
      "displayName": "Manoela Kohler",
      "userId": "11407817634634210712"
     }
    },
    "outputId": "490c176e-547a-4f19-ca78-c6a909c957ef"
   },
   "source": [
    "# Atributos com muitos missing: serão deletados.\n",
    "att_to_delete = df[0:32].index.values\n",
    "att_to_delete"
   ],
   "execution_count": 57,
   "outputs": [
    {
     "data": {
      "text/plain": "array([157, 292, 293, 158, 492, 358,  85, 220, 246, 109, 110, 111, 518,\n       516, 245, 244, 382, 383, 384, 517, 578, 579, 580, 581, 346,  73,\n        72, 345, 112, 247, 385, 519])"
     },
     "execution_count": 57,
     "metadata": {},
     "output_type": "execute_result"
    }
   ]
  },
  {
   "cell_type": "code",
   "metadata": {
    "id": "LwNC3zgwm6wm",
    "colab": {
     "base_uri": "https://localhost:8080/"
    },
    "executionInfo": {
     "status": "ok",
     "timestamp": 1683389881888,
     "user_tz": 180,
     "elapsed": 5,
     "user": {
      "displayName": "Manoela Kohler",
      "userId": "11407817634634210712"
     }
    },
    "outputId": "c075ff0e-653a-4b37-9e45-3ed48ce2c747"
   },
   "source": [
    "# deletar atributos\n",
    "X_train.drop(att_to_delete, axis=1, inplace=True)\n",
    "X_train.shape"
   ],
   "execution_count": 58,
   "outputs": [
    {
     "data": {
      "text/plain": "(1567, 558)"
     },
     "execution_count": 58,
     "metadata": {},
     "output_type": "execute_result"
    }
   ]
  },
  {
   "cell_type": "code",
   "metadata": {
    "id": "ZuIRTYaioysb",
    "colab": {
     "base_uri": "https://localhost:8080/",
     "height": 205
    },
    "executionInfo": {
     "status": "ok",
     "timestamp": 1683389884595,
     "user_tz": 180,
     "elapsed": 2711,
     "user": {
      "displayName": "Manoela Kohler",
      "userId": "11407817634634210712"
     }
    },
    "outputId": "086342c1-a727-46a0-eea3-905bca800b87"
   },
   "source": [
    "# visualizar novamente os missing\n",
    "msno.matrix(X_train, figsize=(25,5));"
   ],
   "execution_count": 59,
   "outputs": [
    {
     "data": {
      "text/plain": "<Figure size 2500x500 with 2 Axes>",
      "image/png": "[encoded data removed]"
     },
     "metadata": {},
     "output_type": "display_data"
    }
   ]
  },
  {
   "cell_type": "code",
   "metadata": {
    "id": "-OSmnuiuMK-X",
    "executionInfo": {
     "status": "ok",
     "timestamp": 1683389884596,
     "user_tz": 180,
     "elapsed": 13,
     "user": {
      "displayName": "Manoela Kohler",
      "userId": "11407817634634210712"
     }
    }
   },
   "source": [
    "# Imputar dados faltantes utilizando a mediana. Testar também o KNNImputer\n",
    "from sklearn.impute import SimpleImputer\n",
    "imputer = SimpleImputer(strategy=\"median\").fit(X_train)\n",
    "X_train = imputer.transform(X_train)"
   ],
   "execution_count": 60,
   "outputs": []
  },
  {
   "cell_type": "code",
   "metadata": {
    "id": "oCE0jpe5SkF0",
    "colab": {
     "base_uri": "https://localhost:8080/"
    },
    "executionInfo": {
     "status": "ok",
     "timestamp": 1683389884596,
     "user_tz": 180,
     "elapsed": 13,
     "user": {
      "displayName": "Manoela Kohler",
      "userId": "11407817634634210712"
     }
    },
    "outputId": "ee8a9c46-15ee-45ce-deb6-db28bac5a5aa"
   },
   "source": [
    "# Verificar se temos mais algum missing\n",
    "print(np.isnan(X_train).sum())"
   ],
   "execution_count": 61,
   "outputs": [
    {
     "name": "stdout",
     "output_type": "stream",
     "text": [
      "0\n"
     ]
    }
   ]
  },
  {
   "cell_type": "code",
   "metadata": {
    "id": "a-4bFZL2SLiD",
    "colab": {
     "base_uri": "https://localhost:8080/",
     "height": 205
    },
    "executionInfo": {
     "status": "ok",
     "timestamp": 1683389885539,
     "user_tz": 180,
     "elapsed": 953,
     "user": {
      "displayName": "Manoela Kohler",
      "userId": "11407817634634210712"
     }
    },
    "outputId": "e459fbf4-d9fa-4ebe-a809-ca4850558202"
   },
   "source": [
    "# visualizar novamente os missing\n",
    "msno.matrix(pd.DataFrame(X_train), figsize=(25,5));"
   ],
   "execution_count": 62,
   "outputs": [
    {
     "data": {
      "text/plain": "<Figure size 2500x500 with 2 Axes>",
      "image/png": "[encoded data removed]"
     },
     "metadata": {},
     "output_type": "display_data"
    }
   ]
  },
  {
   "cell_type": "code",
   "metadata": {
    "id": "GLhlUHJ8MOnG",
    "executionInfo": {
     "status": "ok",
     "timestamp": 1683389885540,
     "user_tz": 180,
     "elapsed": 8,
     "user": {
      "displayName": "Manoela Kohler",
      "userId": "11407817634634210712"
     }
    }
   },
   "source": [
    "# remover colunas com variância zero\n",
    "from sklearn.feature_selection import VarianceThreshold\n",
    "zero_var_filter = VarianceThreshold()\n",
    "X_train = zero_var_filter.fit_transform(X_train)\n",
    "\n",
    "# OU\n",
    "# zero_var_filter = zero_var_filter.fit(X_train)\n",
    "# X_train = zero_var_filter.transform(X_train)"
   ],
   "execution_count": 63,
   "outputs": []
  },
  {
   "cell_type": "code",
   "metadata": {
    "id": "cONCJomQUEco",
    "colab": {
     "base_uri": "https://localhost:8080/"
    },
    "executionInfo": {
     "status": "ok",
     "timestamp": 1683389885540,
     "user_tz": 180,
     "elapsed": 7,
     "user": {
      "displayName": "Manoela Kohler",
      "userId": "11407817634634210712"
     }
    },
    "outputId": "6e498bb7-9b22-40ee-a2c5-4d286a50fa46"
   },
   "source": [
    "# colunas com variância zero\n",
    "(zero_var_filter.variances_ == 0).sum()"
   ],
   "execution_count": 64,
   "outputs": [
    {
     "data": {
      "text/plain": "116"
     },
     "execution_count": 64,
     "metadata": {},
     "output_type": "execute_result"
    }
   ]
  },
  {
   "cell_type": "code",
   "metadata": {
    "id": "NepUcnUFTLRe",
    "colab": {
     "base_uri": "https://localhost:8080/"
    },
    "executionInfo": {
     "status": "ok",
     "timestamp": 1683389885540,
     "user_tz": 180,
     "elapsed": 5,
     "user": {
      "displayName": "Manoela Kohler",
      "userId": "11407817634634210712"
     }
    },
    "outputId": "158b4506-85e4-459b-b800-55c1b3fb335d"
   },
   "source": [
    "# novo shape\n",
    "pd.DataFrame(X_train).shape"
   ],
   "execution_count": 65,
   "outputs": [
    {
     "data": {
      "text/plain": "(1567, 442)"
     },
     "execution_count": 65,
     "metadata": {},
     "output_type": "execute_result"
    }
   ]
  },
  {
   "cell_type": "markdown",
   "metadata": {
    "id": "rDcmEujRC1kU"
   },
   "source": [
    "##Machine Learning"
   ]
  },
  {
   "cell_type": "code",
   "metadata": {
    "id": "FO25ZhmBa_YO",
    "colab": {
     "base_uri": "https://localhost:8080/"
    },
    "executionInfo": {
     "status": "ok",
     "timestamp": 1683389926390,
     "user_tz": 180,
     "elapsed": 40853,
     "user": {
      "displayName": "Manoela Kohler",
      "userId": "11407817634634210712"
     }
    },
    "outputId": "24dab48b-745f-45ab-a3a1-5b0cad529236"
   },
   "source": [
    "# treinar modelo\n",
    "from sklearn.svm import LinearSVC\n",
    "\n",
    "def trainSVM(X_train, y_train, seed):\n",
    "  model = LinearSVC(max_iter=20_000, random_state=seed)\n",
    "  model.fit(X_train, y_train)\n",
    "  return model\n",
    "\n",
    "model = trainSVM(X_train, y_train, seed)"
   ],
   "execution_count": 66,
   "outputs": [
    {
     "name": "stderr",
     "output_type": "stream",
     "text": [
      "/Users/leonardocosta/PycharmProjects/PUC_MBA_AI/venv/lib/python3.10/site-packages/sklearn/svm/_base.py:1244: ConvergenceWarning: Liblinear failed to converge, increase the number of iterations.\n",
      "  warnings.warn(\n"
     ]
    }
   ]
  },
  {
   "cell_type": "markdown",
   "source": [
    "Entrega o resultado, mas reparem que a otimização não convergiu. Alguns motivos nos levam à isso:\n",
    "1. Dados não normalizados\n",
    "2. Número de iterações baixo\n",
    "3. Valores dos hiperparâmetros do modelo (cada modelo tem o seu hiperparâmetro)\n",
    "4. Modelo não adequado"
   ],
   "metadata": {
    "id": "_yHzHy_PbYgY"
   }
  },
  {
   "cell_type": "markdown",
   "source": [
    "1. Bases diferentes de comparação. Exemplo: valores em escalas diferentes, uns em metros/km outros em metros/quadrados etc.\n",
    "2. Não teve tempo o suficiente para a otimização convergir para um erro mínimo. Tentamos aumentar mas não adiantou\n",
    "3. Os hiperparâmetros do modelo podem não estar ajustados para o nossso modelo. Existem algumas formas de tunarmos os hiperparâmetros do modelo(tuning de hiperparâmetros). Mas quais são esses hiperparâmetros? depende do modelo. O modelo SVM por exemplo, tem alguns hiperparâmetros como: custo, gama, a função kernel (se a função é polinomial, oo grau do polinômio), se for uma rede neural, a quantidade de neurônios, função de ativação, taxa de aprendizado, quantidade de camadas de neurônios.\n",
    "4. o modelo pode não ser adequado,"
   ],
   "metadata": {
    "collapsed": false
   }
  },
  {
   "cell_type": "markdown",
   "metadata": {
    "id": "1PzZnA0DZbKg"
   },
   "source": [
    "---\n",
    "5) Avaliar modelo treinado na base de teste"
   ]
  },
  {
   "cell_type": "code",
   "metadata": {
    "id": "YM11x6EQZffJ",
    "colab": {
     "base_uri": "https://localhost:8080/",
     "height": 299
    },
    "executionInfo": {
     "status": "ok",
     "timestamp": 1683389926390,
     "user_tz": 180,
     "elapsed": 18,
     "user": {
      "displayName": "Manoela Kohler",
      "userId": "11407817634634210712"
     }
    },
    "outputId": "3f3b1762-def3-4331-d857-5f7df601729c"
   },
   "source": [
    "# Carregar base de teste\n",
    "test = pd.read_csv('Secom_teste.csv', header=None)\n",
    "test.head()"
   ],
   "execution_count": 67,
   "outputs": [
    {
     "data": {
      "text/plain": "       0        1          2          3       4    5         6       7     \n0  2940.50  2441.61  2205.2889  1630.3112  1.2733  100   98.8056  0.1218  \\\n1  3065.36  2162.87  2211.3889  1763.4015  1.6569  100  101.9133  0.1212   \n2  3038.21  2521.84  2273.7556  1549.8407  1.4105  100  105.0467  0.1171   \n3  2912.76  2480.54  2233.7666  1772.4931  0.9501  100  100.7256  0.1215   \n4  3091.71  2548.95  2233.7666  1772.4931  0.9501  100  100.7256  0.1215   \n\n      8       9    ...       581     582     583     584     585     586   \n0  1.3580 -0.0024  ...   61.6014  0.4981  0.0143  0.0038  2.8760  0.0334  \\\n1  1.5337 -0.0010  ...   44.1754  0.5005  0.0163  0.0039  3.2621  0.0279   \n2  1.3666 -0.0154  ...       NaN  0.4968  0.0126  0.0029  2.5302  0.0279   \n3  1.4029  0.0174  ...  170.5841  0.5040  0.0161  0.0043  3.1870  0.0095   \n4  1.5210  0.0075  ...   51.9199  0.5054  0.0127  0.0033  2.5175  0.0315   \n\n      587     588       589  590  \n0  0.0206  0.0067   61.6014   -1  \n1  0.0123  0.0045   44.1754   -1  \n2  0.0123  0.0045   44.1754    1  \n3  0.0162  0.0063  170.5841   -1  \n4  0.0164  0.0058   51.9199   -1  \n\n[5 rows x 591 columns]",
      "text/html": "<div>\n<style scoped>\n    .dataframe tbody tr th:only-of-type {\n        vertical-align: middle;\n    }\n\n    .dataframe tbody tr th {\n        vertical-align: top;\n    }\n\n    .dataframe thead th {\n        text-align: right;\n    }\n</style>\n<table border=\"1\" class=\"dataframe\">\n  <thead>\n    <tr style=\"text-align: right;\">\n      <th></th>\n      <th>0</th>\n      <th>1</th>\n      <th>2</th>\n      <th>3</th>\n      <th>4</th>\n      <th>5</th>\n      <th>6</th>\n      <th>7</th>\n      <th>8</th>\n      <th>9</th>\n      <th>...</th>\n      <th>581</th>\n      <th>582</th>\n      <th>583</th>\n      <th>584</th>\n      <th>585</th>\n      <th>586</th>\n      <th>587</th>\n      <th>588</th>\n      <th>589</th>\n      <th>590</th>\n    </tr>\n  </thead>\n  <tbody>\n    <tr>\n      <th>0</th>\n      <td>2940.50</td>\n      <td>2441.61</td>\n      <td>2205.2889</td>\n      <td>1630.3112</td>\n      <td>1.2733</td>\n      <td>100</td>\n      <td>98.8056</td>\n      <td>0.1218</td>\n      <td>1.3580</td>\n      <td>-0.0024</td>\n      <td>...</td>\n      <td>61.6014</td>\n      <td>0.4981</td>\n      <td>0.0143</td>\n      <td>0.0038</td>\n      <td>2.8760</td>\n      <td>0.0334</td>\n      <td>0.0206</td>\n      <td>0.0067</td>\n      <td>61.6014</td>\n      <td>-1</td>\n    </tr>\n    <tr>\n      <th>1</th>\n      <td>3065.36</td>\n      <td>2162.87</td>\n      <td>2211.3889</td>\n      <td>1763.4015</td>\n      <td>1.6569</td>\n      <td>100</td>\n      <td>101.9133</td>\n      <td>0.1212</td>\n      <td>1.5337</td>\n      <td>-0.0010</td>\n      <td>...</td>\n      <td>44.1754</td>\n      <td>0.5005</td>\n      <td>0.0163</td>\n      <td>0.0039</td>\n      <td>3.2621</td>\n      <td>0.0279</td>\n      <td>0.0123</td>\n      <td>0.0045</td>\n      <td>44.1754</td>\n      <td>-1</td>\n    </tr>\n    <tr>\n      <th>2</th>\n      <td>3038.21</td>\n      <td>2521.84</td>\n      <td>2273.7556</td>\n      <td>1549.8407</td>\n      <td>1.4105</td>\n      <td>100</td>\n      <td>105.0467</td>\n      <td>0.1171</td>\n      <td>1.3666</td>\n      <td>-0.0154</td>\n      <td>...</td>\n      <td>NaN</td>\n      <td>0.4968</td>\n      <td>0.0126</td>\n      <td>0.0029</td>\n      <td>2.5302</td>\n      <td>0.0279</td>\n      <td>0.0123</td>\n      <td>0.0045</td>\n      <td>44.1754</td>\n      <td>1</td>\n    </tr>\n    <tr>\n      <th>3</th>\n      <td>2912.76</td>\n      <td>2480.54</td>\n      <td>2233.7666</td>\n      <td>1772.4931</td>\n      <td>0.9501</td>\n      <td>100</td>\n      <td>100.7256</td>\n      <td>0.1215</td>\n      <td>1.4029</td>\n      <td>0.0174</td>\n      <td>...</td>\n      <td>170.5841</td>\n      <td>0.5040</td>\n      <td>0.0161</td>\n      <td>0.0043</td>\n      <td>3.1870</td>\n      <td>0.0095</td>\n      <td>0.0162</td>\n      <td>0.0063</td>\n      <td>170.5841</td>\n      <td>-1</td>\n    </tr>\n    <tr>\n      <th>4</th>\n      <td>3091.71</td>\n      <td>2548.95</td>\n      <td>2233.7666</td>\n      <td>1772.4931</td>\n      <td>0.9501</td>\n      <td>100</td>\n      <td>100.7256</td>\n      <td>0.1215</td>\n      <td>1.5210</td>\n      <td>0.0075</td>\n      <td>...</td>\n      <td>51.9199</td>\n      <td>0.5054</td>\n      <td>0.0127</td>\n      <td>0.0033</td>\n      <td>2.5175</td>\n      <td>0.0315</td>\n      <td>0.0164</td>\n      <td>0.0058</td>\n      <td>51.9199</td>\n      <td>-1</td>\n    </tr>\n  </tbody>\n</table>\n<p>5 rows × 591 columns</p>\n</div>"
     },
     "execution_count": 67,
     "metadata": {},
     "output_type": "execute_result"
    }
   ]
  },
  {
   "cell_type": "code",
   "metadata": {
    "id": "UhNMuLf2xUki",
    "colab": {
     "base_uri": "https://localhost:8080/"
    },
    "executionInfo": {
     "status": "ok",
     "timestamp": 1683389926390,
     "user_tz": 180,
     "elapsed": 17,
     "user": {
      "displayName": "Manoela Kohler",
      "userId": "11407817634634210712"
     }
    },
    "outputId": "2a2558c3-6235-41b8-cfb6-ff18fe8b4eb4"
   },
   "source": [
    "test.shape"
   ],
   "execution_count": 68,
   "outputs": [
    {
     "data": {
      "text/plain": "(213, 591)"
     },
     "execution_count": 68,
     "metadata": {},
     "output_type": "execute_result"
    }
   ]
  },
  {
   "cell_type": "code",
   "metadata": {
    "id": "IZcfF9kdZhHy",
    "executionInfo": {
     "status": "ok",
     "timestamp": 1683389926391,
     "user_tz": 180,
     "elapsed": 15,
     "user": {
      "displayName": "Manoela Kohler",
      "userId": "11407817634634210712"
     }
    }
   },
   "source": [
    "# Separar input e output.\n",
    "X_test = test.iloc[:,0:590]\n",
    "y_test = test[590]"
   ],
   "execution_count": 69,
   "outputs": []
  },
  {
   "cell_type": "code",
   "metadata": {
    "id": "GUaMBsU2aT2z",
    "colab": {
     "base_uri": "https://localhost:8080/"
    },
    "executionInfo": {
     "status": "ok",
     "timestamp": 1683389926391,
     "user_tz": 180,
     "elapsed": 15,
     "user": {
      "displayName": "Manoela Kohler",
      "userId": "11407817634634210712"
     }
    },
    "outputId": "4858cadd-7ef5-4542-e256-36edb13a79c4"
   },
   "source": [
    "# Remover as mesmas colunas removidas do treino (com muitos valores faltantes). Ambas as bases precisam ter a mesma quantidade de colunas\n",
    "X_test.drop(att_to_delete, axis=1, inplace=True)\n",
    "\n",
    "# Aplicar tratamento de Missing\n",
    "X_test = imputer.transform(X_test)\n",
    "\n",
    "# remover as mesmas colunas removidas por variância zero\n",
    "X_test = zero_var_filter.transform(X_test)\n",
    "\n",
    "X_test.shape # deve ser o mesmo que o treino (quantidade de linhas e colunas)"
   ],
   "execution_count": 70,
   "outputs": [
    {
     "data": {
      "text/plain": "(213, 442)"
     },
     "execution_count": 70,
     "metadata": {},
     "output_type": "execute_result"
    }
   ]
  },
  {
   "cell_type": "markdown",
   "source": [
    "Replicamos acima, todas as etapas de pré processamento do treino, no teste. Agora, iremos definir uma função para fazer a inferência no modelo e avalia o modelo"
   ],
   "metadata": {
    "collapsed": false
   }
  },
  {
   "cell_type": "code",
   "metadata": {
    "id": "xrvVQo_xry3Z",
    "executionInfo": {
     "status": "ok",
     "timestamp": 1683389926391,
     "user_tz": 180,
     "elapsed": 14,
     "user": {
      "displayName": "Manoela Kohler",
      "userId": "11407817634634210712"
     }
    }
   },
   "source": [
    "def predict_and_evaluate(model, X_test, y_test):\n",
    "\n",
    "  y_pred = model.predict(X_test) # inferência do teste. Essa função parte do modelo treinado e passamos a base input para inferir.\n",
    "\n",
    "  # Acurácia\n",
    "  from sklearn.metrics import accuracy_score\n",
    "  accuracy = accuracy_score(y_test, y_pred)\n",
    "  print('Acurácia: ', accuracy)\n",
    "\n",
    "  # Kappa\n",
    "  from sklearn.metrics import cohen_kappa_score\n",
    "  kappa = cohen_kappa_score(y_test, y_pred)\n",
    "  print('Kappa: ', kappa)\n",
    "\n",
    "  # Matriz de confusão\n",
    "  from sklearn.metrics import confusion_matrix\n",
    "  confMatrix = confusion_matrix(y_pred, y_test)\n",
    "\n",
    "  # Gerar um gráfico para facilitar a visualizacão\n",
    "  ax = plt.subplot()\n",
    "  sns.heatmap(confMatrix, annot=True, fmt=\".0f\") # queremos só valores inteiros, poir isso colocamos o fmt\n",
    "  plt.xlabel('Real')\n",
    "  plt.ylabel('Previsto')\n",
    "  plt.title('Matriz de Confusão')\n",
    "\n",
    "  # Colocar os nomes\n",
    "  ax.xaxis.set_ticklabels(['OK', 'Defeito']) \n",
    "  ax.yaxis.set_ticklabels(['OK', 'Defeito'])\n",
    "  plt.show()"
   ],
   "execution_count": 71,
   "outputs": []
  },
  {
   "cell_type": "code",
   "metadata": {
    "id": "LtvS5ysXsGDh",
    "colab": {
     "base_uri": "https://localhost:8080/",
     "height": 509
    },
    "executionInfo": {
     "status": "ok",
     "timestamp": 1683389927039,
     "user_tz": 180,
     "elapsed": 661,
     "user": {
      "displayName": "Manoela Kohler",
      "userId": "11407817634634210712"
     }
    },
    "outputId": "e1e84457-fd64-49cb-b7a0-b4efee929c5e"
   },
   "source": [
    "predict_and_evaluate(model, X_test, y_test)"
   ],
   "execution_count": 72,
   "outputs": [
    {
     "name": "stdout",
     "output_type": "stream",
     "text": [
      "Acurácia:  0.9436619718309859\n",
      "Kappa:  0.22262773722627738\n"
     ]
    },
    {
     "data": {
      "text/plain": "<Figure size 640x480 with 2 Axes>",
      "image/png": "[encoded data removed]"
     },
     "metadata": {},
     "output_type": "display_data"
    }
   ]
  },
  {
   "cell_type": "markdown",
   "source": [
    "Cabe ressaltar que a acurácia não significa muita coisa principalmente em bases desbalanceadas, como é o caso acima. Pela análise do Kappa, podemos perceber isso.\n",
    "Observe que na segunda coluna de defeitos, dos 10 que estavam com defeitos, 2 foram classificados como com defeitos e 8 foram classificados como ok (80% dessa coluna está como OK quando deveria ser a maior proporção em Defeito). Por isso, o Kappa deu tão alto e a acurácia tão alta, pois os defeitos (2) foram a minoria."
   ],
   "metadata": {
    "collapsed": false
   }
  },
  {
   "cell_type": "markdown",
   "metadata": {
    "id": "Plx0yXj80EZ7"
   },
   "source": [
    "---\n",
    "5) Balancear"
   ]
  },
  {
   "cell_type": "code",
   "metadata": {
    "id": "AjehdaSpfVoG",
    "colab": {
     "base_uri": "https://localhost:8080/",
     "height": 527
    },
    "executionInfo": {
     "status": "ok",
     "timestamp": 1683389927040,
     "user_tz": 180,
     "elapsed": 8,
     "user": {
      "displayName": "Manoela Kohler",
      "userId": "11407817634634210712"
     }
    },
    "outputId": "a667d108-15d3-4cbd-b896-9cae1a430f5b"
   },
   "source": [
    "# Balanceamento\n",
    "sns.countplot(data=pd.DataFrame(X_train), x=y_train)\n",
    "plt.title('Balanceamento')\n",
    "plt.show()\n",
    "print(y_train.value_counts())"
   ],
   "execution_count": 73,
   "outputs": [
    {
     "data": {
      "text/plain": "<Figure size 640x480 with 1 Axes>",
      "image/png": "[encoded data removed]"
     },
     "metadata": {},
     "output_type": "display_data"
    },
    {
     "name": "stdout",
     "output_type": "stream",
     "text": [
      "590\n",
      "-1    1463\n",
      " 1     104\n",
      "Name: count, dtype: int64\n"
     ]
    }
   ]
  },
  {
   "cell_type": "markdown",
   "source": [
    "Colocamos abaixo, uma biblioteca que faz o balanceamento, caso desejamos usar"
   ],
   "metadata": {
    "collapsed": false
   }
  },
  {
   "cell_type": "code",
   "metadata": {
    "id": "yXdNRAR83dJE",
    "executionInfo": {
     "status": "ok",
     "timestamp": 1683389927040,
     "user_tz": 180,
     "elapsed": 7,
     "user": {
      "displayName": "Manoela Kohler",
      "userId": "11407817634634210712"
     }
    }
   },
   "source": [
    "# https://github.com/scikit-learn-contrib/imbalanced-learn\n",
    "# !pip install -U imbalanced-learn\n",
    "# from imblearn.under_sampling import RandomUnderSampler\n",
    "# sampler = RandomUnderSampler(random_state=seed);\n",
    "# X_train, y_train = sampler.fit_resample(X_train, y_train)\n",
    "\n",
    "# Usar a biblioteca acima é uma opção, mas não conseguimos configurar o sampling. No caso do undersampling, ele sempre reduzirá a classe majoritária para o tamanho da minoritária...\n",
    "# Essa biblioteca tem diversos outros métodos para balanceamento."
   ],
   "execution_count": 74,
   "outputs": []
  },
  {
   "cell_type": "code",
   "metadata": {
    "id": "EamJTOUw3dLD",
    "colab": {
     "base_uri": "https://localhost:8080/"
    },
    "executionInfo": {
     "status": "ok",
     "timestamp": 1683389927041,
     "user_tz": 180,
     "elapsed": 8,
     "user": {
      "displayName": "Manoela Kohler",
      "userId": "11407817634634210712"
     }
    },
    "outputId": "7712b9eb-7328-4075-cd33-72e2cbec1bff"
   },
   "source": [
    "y_train.value_counts()"
   ],
   "execution_count": 75,
   "outputs": [
    {
     "data": {
      "text/plain": "590\n-1    1463\n 1     104\nName: count, dtype: int64"
     },
     "execution_count": 75,
     "metadata": {},
     "output_type": "execute_result"
    }
   ]
  },
  {
   "cell_type": "code",
   "metadata": {
    "id": "9JGzYK9A43Ek",
    "colab": {
     "base_uri": "https://localhost:8080/"
    },
    "executionInfo": {
     "status": "ok",
     "timestamp": 1683389927446,
     "user_tz": 180,
     "elapsed": 411,
     "user": {
      "displayName": "Manoela Kohler",
      "userId": "11407817634634210712"
     }
    },
    "outputId": "e6bfea3f-e717-489f-8669-fcf71da17958"
   },
   "source": [
    "# Undersampling aleatório\n",
    "train_data = np.column_stack((X_train,y_train))\n",
    "np.random.shuffle(train_data) # misturando as linhas de forma aleatória (misturando a base)\n",
    "\n",
    "ok = train_data[train_data[:,442] == -1,:] # lista de registros sem falhas\n",
    "defeito = train_data[train_data[:,442] == 1, :] # listas de registros com falhas\n",
    "\n",
    "ok = ok[:1200] # pegamos na mão 1200 registros apenas, dos 1463\n",
    "\n",
    "train_data = np.concatenate((ok, defeito))\n",
    "np.random.shuffle(train_data)\n",
    "train_data.shape"
   ],
   "execution_count": 76,
   "outputs": [
    {
     "data": {
      "text/plain": "(1304, 443)"
     },
     "execution_count": 76,
     "metadata": {},
     "output_type": "execute_result"
    }
   ]
  },
  {
   "cell_type": "code",
   "metadata": {
    "id": "-SXrw_6B8TQ9",
    "executionInfo": {
     "status": "ok",
     "timestamp": 1683389927446,
     "user_tz": 180,
     "elapsed": 5,
     "user": {
      "displayName": "Manoela Kohler",
      "userId": "11407817634634210712"
     }
    }
   },
   "source": [
    "# Separar input e output\n",
    "X_train = train_data[:,0:442]\n",
    "y_train = train_data[:,442]"
   ],
   "execution_count": 77,
   "outputs": []
  },
  {
   "cell_type": "code",
   "metadata": {
    "id": "xDTULZ5o3dPY",
    "colab": {
     "base_uri": "https://localhost:8080/"
    },
    "executionInfo": {
     "status": "ok",
     "timestamp": 1683389927446,
     "user_tz": 180,
     "elapsed": 5,
     "user": {
      "displayName": "Manoela Kohler",
      "userId": "11407817634634210712"
     }
    },
    "outputId": "241fbd58-f7e7-4d14-856c-05dc4cca23d9"
   },
   "source": [
    "pd.DataFrame(y_train).value_counts()"
   ],
   "execution_count": 78,
   "outputs": [
    {
     "data": {
      "text/plain": "-1.0    1200\n 1.0     104\nName: count, dtype: int64"
     },
     "execution_count": 78,
     "metadata": {},
     "output_type": "execute_result"
    }
   ]
  },
  {
   "cell_type": "markdown",
   "source": [
    "Observe acima que temos 1200 registros na classe majoritária e 104 na classe minoritária"
   ],
   "metadata": {
    "collapsed": false
   }
  },
  {
   "cell_type": "code",
   "metadata": {
    "id": "6laAtXdx3dQy",
    "colab": {
     "base_uri": "https://localhost:8080/",
     "height": 566
    },
    "executionInfo": {
     "status": "ok",
     "timestamp": 1683389956379,
     "user_tz": 180,
     "elapsed": 28936,
     "user": {
      "displayName": "Manoela Kohler",
      "userId": "11407817634634210712"
     }
    },
    "outputId": "1795bbad-a8c7-4759-e9eb-90ec1f7af3d7"
   },
   "source": [
    "# treinar e avaliar o modelo\n",
    "model = trainSVM(X_train, y_train, seed) # treino o modelo balanceado\n",
    "predict_and_evaluate(model, X_test, y_test) # passamos o modelo treinado e a base de teste que queremos avaliar"
   ],
   "execution_count": 79,
   "outputs": [
    {
     "name": "stderr",
     "output_type": "stream",
     "text": [
      "/Users/leonardocosta/PycharmProjects/PUC_MBA_AI/venv/lib/python3.10/site-packages/sklearn/svm/_base.py:1244: ConvergenceWarning: Liblinear failed to converge, increase the number of iterations.\n",
      "  warnings.warn(\n"
     ]
    },
    {
     "name": "stdout",
     "output_type": "stream",
     "text": [
      "Acurácia:  0.9624413145539906\n",
      "Kappa:  0.32273449920508734\n"
     ]
    },
    {
     "data": {
      "text/plain": "<Figure size 640x480 with 2 Axes>",
      "image/png": "[encoded data removed]"
     },
     "metadata": {},
     "output_type": "display_data"
    }
   ]
  },
  {
   "cell_type": "markdown",
   "source": [
    "Observe acima que o modelo ainda continua apresentando um problema de convergência, pois não normalizamos os dados. Vamos normalizar. Essa etapa de normalização é idealmente que se faça antes do balanceamento."
   ],
   "metadata": {
    "collapsed": false
   }
  },
  {
   "cell_type": "markdown",
   "metadata": {
    "id": "NOjZjAS-u8iG"
   },
   "source": [
    "---\n",
    "6) Normalizar"
   ]
  },
  {
   "cell_type": "markdown",
   "source": [
    "Temos o min max scaler: faz uma normalizacao dentro de um intervalo. Ele shifta o intervalo dos seus dados. Temos por exemplo os nossos dados em um intervalo de 1 a 10, ele coloca o os valores entre 0 e 1. O que é 5 vai para 0.5, o que é 10 vai para 0.1 etc. Mas proporcionalmente a diferença entre eles é a mesma\n",
    "o StandardScaler é o z-score"
   ],
   "metadata": {
    "collapsed": false
   }
  },
  {
   "cell_type": "code",
   "metadata": {
    "id": "pyEtFDi3MGPA",
    "executionInfo": {
     "status": "ok",
     "timestamp": 1683389956379,
     "user_tz": 180,
     "elapsed": 12,
     "user": {
      "displayName": "Manoela Kohler",
      "userId": "11407817634634210712"
     }
    }
   },
   "source": [
    "from sklearn.preprocessing import StandardScaler\n",
    "scaler = StandardScaler().fit(X_train)\n",
    "X_train = scaler.transform(X_train)\n",
    "X_test = scaler.transform(X_test)"
   ],
   "execution_count": 80,
   "outputs": []
  },
  {
   "cell_type": "markdown",
   "source": [
    "o balanceamento fazemos na base de treino apenas."
   ],
   "metadata": {
    "collapsed": false
   }
  },
  {
   "cell_type": "code",
   "metadata": {
    "id": "Q8QgWp_XuJoS",
    "colab": {
     "base_uri": "https://localhost:8080/",
     "height": 509
    },
    "executionInfo": {
     "status": "ok",
     "timestamp": 1683389960994,
     "user_tz": 180,
     "elapsed": 4626,
     "user": {
      "displayName": "Manoela Kohler",
      "userId": "11407817634634210712"
     }
    },
    "outputId": "278962e7-e95a-4a4d-d697-794cd50289da"
   },
   "source": [
    "# treinar e avaliar o modelo\n",
    "model = trainSVM(X_train, y_train, seed)\n",
    "predict_and_evaluate(model, X_test, y_test)"
   ],
   "execution_count": 81,
   "outputs": [
    {
     "name": "stdout",
     "output_type": "stream",
     "text": [
      "Acurácia:  0.9859154929577465\n",
      "Kappa:  0.8622547962923044\n"
     ]
    },
    {
     "data": {
      "text/plain": "<Figure size 640x480 with 2 Axes>",
      "image/png": "[encoded data removed]"
     },
     "metadata": {},
     "output_type": "display_data"
    }
   ]
  },
  {
   "cell_type": "markdown",
   "source": [
    "Vamos testar agora com o modelo PCA os resultados"
   ],
   "metadata": {
    "collapsed": false
   }
  },
  {
   "cell_type": "markdown",
   "metadata": {
    "id": "gPuuw833vB1B"
   },
   "source": [
    "---\n",
    "7) PCA"
   ]
  },
  {
   "cell_type": "code",
   "metadata": {
    "id": "5cjV8FesuZ6T",
    "colab": {
     "base_uri": "https://localhost:8080/"
    },
    "executionInfo": {
     "status": "ok",
     "timestamp": 1683389960995,
     "user_tz": 180,
     "elapsed": 13,
     "user": {
      "displayName": "Manoela Kohler",
      "userId": "11407817634634210712"
     }
    },
    "outputId": "d4e2674b-0397-4674-b619-0f0bb7613d31"
   },
   "source": [
    "from sklearn.decomposition import PCA\n",
    "pca = PCA().fit(X_train)\n",
    "# somatório acumulado de cada uma das variâncias. Podemos ver em que componente principal a gente chegou a 100% da variância acumulada, por exemplo.\n",
    "df = pd.DataFrame(pca.explained_variance_ratio_.cumsum())\n",
    "with pd.option_context('display.max_rows', None, 'display.max_columns', None):\n",
    "    print(df)"
   ],
   "execution_count": 82,
   "outputs": [
    {
     "name": "stdout",
     "output_type": "stream",
     "text": [
      "            0\n",
      "0    0.059503\n",
      "1    0.097356\n",
      "2    0.127889\n",
      "3    0.154944\n",
      "4    0.177359\n",
      "5    0.198649\n",
      "6    0.218830\n",
      "7    0.238160\n",
      "8    0.255188\n",
      "9    0.271102\n",
      "10   0.285917\n",
      "11   0.300136\n",
      "12   0.313982\n",
      "13   0.327340\n",
      "14   0.340317\n",
      "15   0.352553\n",
      "16   0.364716\n",
      "17   0.376343\n",
      "18   0.387590\n",
      "19   0.398453\n",
      "20   0.409251\n",
      "21   0.419925\n",
      "22   0.430159\n",
      "23   0.440264\n",
      "24   0.450202\n",
      "25   0.460060\n",
      "26   0.469399\n",
      "27   0.478528\n",
      "28   0.487588\n",
      "29   0.496530\n",
      "30   0.505374\n",
      "31   0.513771\n",
      "32   0.522081\n",
      "33   0.530194\n",
      "34   0.538259\n",
      "35   0.546083\n",
      "36   0.553787\n",
      "37   0.561352\n",
      "38   0.568816\n",
      "39   0.576161\n",
      "40   0.583424\n",
      "41   0.590533\n",
      "42   0.597492\n",
      "43   0.604339\n",
      "44   0.611094\n",
      "45   0.617723\n",
      "46   0.624222\n",
      "47   0.630550\n",
      "48   0.636840\n",
      "49   0.642925\n",
      "50   0.648927\n",
      "51   0.654896\n",
      "52   0.660735\n",
      "53   0.666522\n",
      "54   0.672245\n",
      "55   0.677854\n",
      "56   0.683401\n",
      "57   0.688732\n",
      "58   0.694028\n",
      "59   0.699254\n",
      "60   0.704406\n",
      "61   0.709391\n",
      "62   0.714356\n",
      "63   0.719231\n",
      "64   0.724038\n",
      "65   0.728741\n",
      "66   0.733332\n",
      "67   0.737906\n",
      "68   0.742365\n",
      "69   0.746799\n",
      "70   0.751153\n",
      "71   0.755421\n",
      "72   0.759609\n",
      "73   0.763746\n",
      "74   0.767666\n",
      "75   0.771531\n",
      "76   0.775360\n",
      "77   0.779106\n",
      "78   0.782827\n",
      "79   0.786373\n",
      "80   0.789880\n",
      "81   0.793302\n",
      "82   0.796685\n",
      "83   0.800020\n",
      "84   0.803309\n",
      "85   0.806499\n",
      "86   0.809621\n",
      "87   0.812666\n",
      "88   0.815653\n",
      "89   0.818620\n",
      "90   0.821530\n",
      "91   0.824421\n",
      "92   0.827261\n",
      "93   0.830047\n",
      "94   0.832778\n",
      "95   0.835451\n",
      "96   0.838083\n",
      "97   0.840707\n",
      "98   0.843280\n",
      "99   0.845826\n",
      "100  0.848346\n",
      "101  0.850837\n",
      "102  0.853280\n",
      "103  0.855640\n",
      "104  0.857982\n",
      "105  0.860315\n",
      "106  0.862631\n",
      "107  0.864918\n",
      "108  0.867180\n",
      "109  0.869409\n",
      "110  0.871572\n",
      "111  0.873721\n",
      "112  0.875845\n",
      "113  0.877959\n",
      "114  0.880062\n",
      "115  0.882129\n",
      "116  0.884159\n",
      "117  0.886175\n",
      "118  0.888181\n",
      "119  0.890170\n",
      "120  0.892139\n",
      "121  0.894089\n",
      "122  0.896003\n",
      "123  0.897892\n",
      "124  0.899763\n",
      "125  0.901616\n",
      "126  0.903460\n",
      "127  0.905267\n",
      "128  0.907060\n",
      "129  0.908812\n",
      "130  0.910548\n",
      "131  0.912260\n",
      "132  0.913955\n",
      "133  0.915643\n",
      "134  0.917296\n",
      "135  0.918916\n",
      "136  0.920525\n",
      "137  0.922101\n",
      "138  0.923668\n",
      "139  0.925215\n",
      "140  0.926742\n",
      "141  0.928253\n",
      "142  0.929727\n",
      "143  0.931196\n",
      "144  0.932641\n",
      "145  0.934064\n",
      "146  0.935467\n",
      "147  0.936862\n",
      "148  0.938249\n",
      "149  0.939617\n",
      "150  0.940963\n",
      "151  0.942297\n",
      "152  0.943616\n",
      "153  0.944931\n",
      "154  0.946214\n",
      "155  0.947484\n",
      "156  0.948725\n",
      "157  0.949951\n",
      "158  0.951163\n",
      "159  0.952356\n",
      "160  0.953523\n",
      "161  0.954681\n",
      "162  0.955824\n",
      "163  0.956943\n",
      "164  0.958034\n",
      "165  0.959114\n",
      "166  0.960185\n",
      "167  0.961252\n",
      "168  0.962272\n",
      "169  0.963253\n",
      "170  0.964224\n",
      "171  0.965169\n",
      "172  0.966099\n",
      "173  0.967013\n",
      "174  0.967922\n",
      "175  0.968816\n",
      "176  0.969700\n",
      "177  0.970560\n",
      "178  0.971410\n",
      "179  0.972252\n",
      "180  0.973074\n",
      "181  0.973862\n",
      "182  0.974638\n",
      "183  0.975388\n",
      "184  0.976124\n",
      "185  0.976849\n",
      "186  0.977549\n",
      "187  0.978231\n",
      "188  0.978899\n",
      "189  0.979548\n",
      "190  0.980187\n",
      "191  0.980801\n",
      "192  0.981402\n",
      "193  0.981981\n",
      "194  0.982555\n",
      "195  0.983117\n",
      "196  0.983666\n",
      "197  0.984192\n",
      "198  0.984715\n",
      "199  0.985221\n",
      "200  0.985707\n",
      "201  0.986183\n",
      "202  0.986653\n",
      "203  0.987109\n",
      "204  0.987553\n",
      "205  0.987983\n",
      "206  0.988393\n",
      "207  0.988780\n",
      "208  0.989156\n",
      "209  0.989523\n",
      "210  0.989871\n",
      "211  0.990209\n",
      "212  0.990531\n",
      "213  0.990846\n",
      "214  0.991150\n",
      "215  0.991431\n",
      "216  0.991703\n",
      "217  0.991964\n",
      "218  0.992213\n",
      "219  0.992454\n",
      "220  0.992688\n",
      "221  0.992912\n",
      "222  0.993136\n",
      "223  0.993347\n",
      "224  0.993553\n",
      "225  0.993756\n",
      "226  0.993954\n",
      "227  0.994145\n",
      "228  0.994324\n",
      "229  0.994501\n",
      "230  0.994659\n",
      "231  0.994812\n",
      "232  0.994956\n",
      "233  0.995095\n",
      "234  0.995229\n",
      "235  0.995361\n",
      "236  0.995492\n",
      "237  0.995615\n",
      "238  0.995736\n",
      "239  0.995855\n",
      "240  0.995967\n",
      "241  0.996075\n",
      "242  0.996182\n",
      "243  0.996287\n",
      "244  0.996390\n",
      "245  0.996487\n",
      "246  0.996581\n",
      "247  0.996673\n",
      "248  0.996763\n",
      "249  0.996850\n",
      "250  0.996932\n",
      "251  0.997013\n",
      "252  0.997092\n",
      "253  0.997171\n",
      "254  0.997247\n",
      "255  0.997319\n",
      "256  0.997391\n",
      "257  0.997462\n",
      "258  0.997531\n",
      "259  0.997599\n",
      "260  0.997666\n",
      "261  0.997729\n",
      "262  0.997791\n",
      "263  0.997851\n",
      "264  0.997910\n",
      "265  0.997969\n",
      "266  0.998025\n",
      "267  0.998080\n",
      "268  0.998134\n",
      "269  0.998187\n",
      "270  0.998240\n",
      "271  0.998292\n",
      "272  0.998344\n",
      "273  0.998393\n",
      "274  0.998441\n",
      "275  0.998488\n",
      "276  0.998535\n",
      "277  0.998581\n",
      "278  0.998626\n",
      "279  0.998669\n",
      "280  0.998711\n",
      "281  0.998753\n",
      "282  0.998793\n",
      "283  0.998833\n",
      "284  0.998873\n",
      "285  0.998911\n",
      "286  0.998949\n",
      "287  0.998987\n",
      "288  0.999022\n",
      "289  0.999056\n",
      "290  0.999090\n",
      "291  0.999123\n",
      "292  0.999155\n",
      "293  0.999186\n",
      "294  0.999216\n",
      "295  0.999245\n",
      "296  0.999273\n",
      "297  0.999301\n",
      "298  0.999326\n",
      "299  0.999351\n",
      "300  0.999375\n",
      "301  0.999399\n",
      "302  0.999422\n",
      "303  0.999444\n",
      "304  0.999466\n",
      "305  0.999488\n",
      "306  0.999509\n",
      "307  0.999529\n",
      "308  0.999548\n",
      "309  0.999567\n",
      "310  0.999584\n",
      "311  0.999601\n",
      "312  0.999618\n",
      "313  0.999633\n",
      "314  0.999649\n",
      "315  0.999664\n",
      "316  0.999678\n",
      "317  0.999692\n",
      "318  0.999706\n",
      "319  0.999719\n",
      "320  0.999731\n",
      "321  0.999743\n",
      "322  0.999755\n",
      "323  0.999766\n",
      "324  0.999777\n",
      "325  0.999787\n",
      "326  0.999797\n",
      "327  0.999807\n",
      "328  0.999816\n",
      "329  0.999825\n",
      "330  0.999833\n",
      "331  0.999841\n",
      "332  0.999848\n",
      "333  0.999855\n",
      "334  0.999862\n",
      "335  0.999869\n",
      "336  0.999875\n",
      "337  0.999881\n",
      "338  0.999887\n",
      "339  0.999892\n",
      "340  0.999898\n",
      "341  0.999903\n",
      "342  0.999908\n",
      "343  0.999912\n",
      "344  0.999917\n",
      "345  0.999921\n",
      "346  0.999925\n",
      "347  0.999929\n",
      "348  0.999933\n",
      "349  0.999936\n",
      "350  0.999939\n",
      "351  0.999943\n",
      "352  0.999946\n",
      "353  0.999948\n",
      "354  0.999951\n",
      "355  0.999954\n",
      "356  0.999956\n",
      "357  0.999959\n",
      "358  0.999961\n",
      "359  0.999963\n",
      "360  0.999965\n",
      "361  0.999967\n",
      "362  0.999969\n",
      "363  0.999971\n",
      "364  0.999972\n",
      "365  0.999974\n",
      "366  0.999976\n",
      "367  0.999977\n",
      "368  0.999979\n",
      "369  0.999980\n",
      "370  0.999981\n",
      "371  0.999982\n",
      "372  0.999984\n",
      "373  0.999985\n",
      "374  0.999986\n",
      "375  0.999987\n",
      "376  0.999988\n",
      "377  0.999988\n",
      "378  0.999989\n",
      "379  0.999990\n",
      "380  0.999990\n",
      "381  0.999991\n",
      "382  0.999992\n",
      "383  0.999992\n",
      "384  0.999993\n",
      "385  0.999993\n",
      "386  0.999994\n",
      "387  0.999994\n",
      "388  0.999995\n",
      "389  0.999995\n",
      "390  0.999996\n",
      "391  0.999996\n",
      "392  0.999996\n",
      "393  0.999996\n",
      "394  0.999997\n",
      "395  0.999997\n",
      "396  0.999997\n",
      "397  0.999998\n",
      "398  0.999998\n",
      "399  0.999998\n",
      "400  0.999998\n",
      "401  0.999998\n",
      "402  0.999998\n",
      "403  0.999999\n",
      "404  0.999999\n",
      "405  0.999999\n",
      "406  0.999999\n",
      "407  0.999999\n",
      "408  0.999999\n",
      "409  0.999999\n",
      "410  0.999999\n",
      "411  1.000000\n",
      "412  1.000000\n",
      "413  1.000000\n",
      "414  1.000000\n",
      "415  1.000000\n",
      "416  1.000000\n",
      "417  1.000000\n",
      "418  1.000000\n",
      "419  1.000000\n",
      "420  1.000000\n",
      "421  1.000000\n",
      "422  1.000000\n",
      "423  1.000000\n",
      "424  1.000000\n",
      "425  1.000000\n",
      "426  1.000000\n",
      "427  1.000000\n",
      "428  1.000000\n",
      "429  1.000000\n",
      "430  1.000000\n",
      "431  1.000000\n",
      "432  1.000000\n",
      "433  1.000000\n",
      "434  1.000000\n",
      "435  1.000000\n",
      "436  1.000000\n",
      "437  1.000000\n",
      "438  1.000000\n",
      "439  1.000000\n",
      "440  1.000000\n",
      "441  1.000000\n"
     ]
    }
   ]
  },
  {
   "cell_type": "code",
   "metadata": {
    "id": "lRQKQNv1wghR",
    "colab": {
     "base_uri": "https://localhost:8080/"
    },
    "executionInfo": {
     "status": "ok",
     "timestamp": 1683389961552,
     "user_tz": 180,
     "elapsed": 568,
     "user": {
      "displayName": "Manoela Kohler",
      "userId": "11407817634634210712"
     }
    },
    "outputId": "1ac4381d-706b-46df-f93e-82bb6d171c2d"
   },
   "source": [
    "# 214, 430\n",
    "cut = 430\n",
    "X_train = pca.transform(X_train)\n",
    "X_train = X_train[:, 0:cut]\n",
    "X_train.shape"
   ],
   "execution_count": 83,
   "outputs": [
    {
     "data": {
      "text/plain": "(1304, 430)"
     },
     "execution_count": 83,
     "metadata": {},
     "output_type": "execute_result"
    }
   ]
  },
  {
   "cell_type": "code",
   "metadata": {
    "id": "BmmCVKYsyt8z",
    "colab": {
     "base_uri": "https://localhost:8080/"
    },
    "executionInfo": {
     "status": "ok",
     "timestamp": 1683389961552,
     "user_tz": 180,
     "elapsed": 4,
     "user": {
      "displayName": "Manoela Kohler",
      "userId": "11407817634634210712"
     }
    },
    "outputId": "5ec00451-b760-423b-a93e-fec5e66def88"
   },
   "source": [
    "X_test = pca.transform(X_test)\n",
    "X_test = X_test[:, 0:cut]\n",
    "X_test.shape"
   ],
   "execution_count": 84,
   "outputs": [
    {
     "data": {
      "text/plain": "(213, 430)"
     },
     "execution_count": 84,
     "metadata": {},
     "output_type": "execute_result"
    }
   ]
  },
  {
   "cell_type": "code",
   "metadata": {
    "id": "s0aQXM8myt-5",
    "colab": {
     "base_uri": "https://localhost:8080/",
     "height": 509
    },
    "executionInfo": {
     "status": "ok",
     "timestamp": 1683389965990,
     "user_tz": 180,
     "elapsed": 4440,
     "user": {
      "displayName": "Manoela Kohler",
      "userId": "11407817634634210712"
     }
    },
    "outputId": "95b61f17-ed6f-49b0-bafd-c1090440f738"
   },
   "source": [
    "# treinar e avaliar o modelo\n",
    "model = trainSVM(X_train, y_train, seed)\n",
    "predict_and_evaluate(model, X_test, y_test)"
   ],
   "execution_count": 85,
   "outputs": [
    {
     "name": "stdout",
     "output_type": "stream",
     "text": [
      "Acurácia:  0.9859154929577465\n",
      "Kappa:  0.8622547962923044\n"
     ]
    },
    {
     "data": {
      "text/plain": "<Figure size 640x480 with 2 Axes>",
      "image/png": "[encoded data removed]"
     },
     "metadata": {},
     "output_type": "display_data"
    }
   ]
  },
  {
   "cell_type": "code",
   "metadata": {
    "id": "xIkR65dfJV-x",
    "executionInfo": {
     "status": "ok",
     "timestamp": 1683389965990,
     "user_tz": 180,
     "elapsed": 14,
     "user": {
      "displayName": "Manoela Kohler",
      "userId": "11407817634634210712"
     }
    }
   },
   "source": [],
   "execution_count": 85,
   "outputs": []
  }
 ]
}
