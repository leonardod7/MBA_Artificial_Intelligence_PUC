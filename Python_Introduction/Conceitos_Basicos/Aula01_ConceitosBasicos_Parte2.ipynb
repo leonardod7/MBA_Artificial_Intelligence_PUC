{
 "nbformat": 4,
 "nbformat_minor": 0,
 "metadata": {
  "colab": {
   "name": "Aula01_ConceitosBasicos_Parte2.ipynb",
   "provenance": [],
   "collapsed_sections": [],
   "authorship_tag": "ABX9TyNaYewEC+3v9FAgJGjG3DRF"
  },
  "kernelspec": {
   "name": "python3",
   "display_name": "Python 3"
  }
 },
 "cells": [
  {
   "cell_type": "markdown",
   "metadata": {
    "id": "yE4io6VT2mTb"
   },
   "source": [
    "# Operadores"
   ]
  },
  {
   "cell_type": "code",
   "metadata": {
    "id": "dyxtL4oD2paD",
    "executionInfo": {
     "status": "ok",
     "timestamp": 1653674419393,
     "user_tz": 180,
     "elapsed": 8,
     "user": {
      "displayName": "Manoela Kohler",
      "userId": "11407817634634210712"
     }
    }
   },
   "source": [
    "a = 10\n",
    "b = 5"
   ],
   "execution_count": 1,
   "outputs": []
  },
  {
   "cell_type": "code",
   "metadata": {
    "id": "RUnYBqUG2uXE",
    "colab": {
     "base_uri": "https://localhost:8080/"
    },
    "executionInfo": {
     "status": "ok",
     "timestamp": 1653674419394,
     "user_tz": 180,
     "elapsed": 8,
     "user": {
      "displayName": "Manoela Kohler",
      "userId": "11407817634634210712"
     }
    },
    "outputId": "c1fe9a36-4a05-4bcf-90e6-ac22e7e99576"
   },
   "source": [
    "a+b"
   ],
   "execution_count": 2,
   "outputs": [
    {
     "output_type": "execute_result",
     "data": {
      "text/plain": [
       "15"
      ]
     },
     "metadata": {},
     "execution_count": 2
    }
   ]
  },
  {
   "cell_type": "code",
   "metadata": {
    "id": "SwXWEFd72wYG",
    "colab": {
     "base_uri": "https://localhost:8080/"
    },
    "executionInfo": {
     "status": "ok",
     "timestamp": 1653674419855,
     "user_tz": 180,
     "elapsed": 466,
     "user": {
      "displayName": "Manoela Kohler",
      "userId": "11407817634634210712"
     }
    },
    "outputId": "d66fc42c-ed30-4b6f-dd86-1ab25a845fc5"
   },
   "source": [
    "a-b"
   ],
   "execution_count": 3,
   "outputs": [
    {
     "output_type": "execute_result",
     "data": {
      "text/plain": [
       "5"
      ]
     },
     "metadata": {},
     "execution_count": 3
    }
   ]
  },
  {
   "cell_type": "code",
   "metadata": {
    "id": "8SjITi2G2xbC",
    "executionInfo": {
     "status": "ok",
     "timestamp": 1653674419856,
     "user_tz": 180,
     "elapsed": 15,
     "user": {
      "displayName": "Manoela Kohler",
      "userId": "11407817634634210712"
     }
    }
   },
   "source": [
    "c = 2.2"
   ],
   "execution_count": 4,
   "outputs": []
  },
  {
   "cell_type": "code",
   "metadata": {
    "id": "MWY3Jh4B20Yk",
    "colab": {
     "base_uri": "https://localhost:8080/"
    },
    "executionInfo": {
     "status": "ok",
     "timestamp": 1653674419856,
     "user_tz": 180,
     "elapsed": 15,
     "user": {
      "displayName": "Manoela Kohler",
      "userId": "11407817634634210712"
     }
    },
    "outputId": "84c7d522-315d-4944-c5c6-64be90624488"
   },
   "source": [
    "a+c"
   ],
   "execution_count": 5,
   "outputs": [
    {
     "output_type": "execute_result",
     "data": {
      "text/plain": [
       "12.2"
      ]
     },
     "metadata": {},
     "execution_count": 5
    }
   ]
  },
  {
   "cell_type": "code",
   "metadata": {
    "id": "FWNs6hjt21j-",
    "colab": {
     "base_uri": "https://localhost:8080/"
    },
    "executionInfo": {
     "status": "ok",
     "timestamp": 1653674419856,
     "user_tz": 180,
     "elapsed": 14,
     "user": {
      "displayName": "Manoela Kohler",
      "userId": "11407817634634210712"
     }
    },
    "outputId": "73c9a1ed-4a15-47e7-da44-24c3ac75637e"
   },
   "source": [
    "a/c #divisao"
   ],
   "execution_count": 6,
   "outputs": [
    {
     "output_type": "execute_result",
     "data": {
      "text/plain": [
       "4.545454545454545"
      ]
     },
     "metadata": {},
     "execution_count": 6
    }
   ]
  },
  {
   "cell_type": "code",
   "metadata": {
    "id": "COm1aZK-2492",
    "colab": {
     "base_uri": "https://localhost:8080/"
    },
    "executionInfo": {
     "status": "ok",
     "timestamp": 1653674419857,
     "user_tz": 180,
     "elapsed": 13,
     "user": {
      "displayName": "Manoela Kohler",
      "userId": "11407817634634210712"
     }
    },
    "outputId": "2c8e09dc-00ff-4742-f629-bfc9d04d0903"
   },
   "source": [
    "a*c #multiplicacao"
   ],
   "execution_count": 7,
   "outputs": [
    {
     "output_type": "execute_result",
     "data": {
      "text/plain": [
       "22.0"
      ]
     },
     "metadata": {},
     "execution_count": 7
    }
   ]
  },
  {
   "cell_type": "code",
   "metadata": {
    "id": "gt_bzzK228XU",
    "colab": {
     "base_uri": "https://localhost:8080/"
    },
    "executionInfo": {
     "status": "ok",
     "timestamp": 1653674419857,
     "user_tz": 180,
     "elapsed": 11,
     "user": {
      "displayName": "Manoela Kohler",
      "userId": "11407817634634210712"
     }
    },
    "outputId": "c425add4-0aeb-41eb-ff41-ae1baefa4da9"
   },
   "source": [
    "a**2"
   ],
   "execution_count": 8,
   "outputs": [
    {
     "output_type": "execute_result",
     "data": {
      "text/plain": [
       "100"
      ]
     },
     "metadata": {},
     "execution_count": 8
    }
   ]
  },
  {
   "cell_type": "code",
   "metadata": {
    "id": "B1Buv3IY2_89",
    "colab": {
     "base_uri": "https://localhost:8080/"
    },
    "executionInfo": {
     "status": "ok",
     "timestamp": 1653674419857,
     "user_tz": 180,
     "elapsed": 10,
     "user": {
      "displayName": "Manoela Kohler",
      "userId": "11407817634634210712"
     }
    },
    "outputId": "5ed7964e-9e7a-4d78-9ed0-2d3eae818d4b"
   },
   "source": [
    "import math\n",
    "math.sqrt(9)"
   ],
   "execution_count": 9,
   "outputs": [
    {
     "output_type": "execute_result",
     "data": {
      "text/plain": [
       "3.0"
      ]
     },
     "metadata": {},
     "execution_count": 9
    }
   ]
  },
  {
   "cell_type": "code",
   "metadata": {
    "id": "NV5seHrb3F1o",
    "colab": {
     "base_uri": "https://localhost:8080/"
    },
    "executionInfo": {
     "status": "ok",
     "timestamp": 1653674419857,
     "user_tz": 180,
     "elapsed": 8,
     "user": {
      "displayName": "Manoela Kohler",
      "userId": "11407817634634210712"
     }
    },
    "outputId": "8db88a87-d223-40a3-8800-1315efb160f5"
   },
   "source": [
    "9**(1/2)"
   ],
   "execution_count": 10,
   "outputs": [
    {
     "output_type": "execute_result",
     "data": {
      "text/plain": [
       "3.0"
      ]
     },
     "metadata": {},
     "execution_count": 10
    }
   ]
  },
  {
   "cell_type": "code",
   "metadata": {
    "id": "PBMM0vcu3M9o",
    "colab": {
     "base_uri": "https://localhost:8080/"
    },
    "executionInfo": {
     "status": "ok",
     "timestamp": 1653674419858,
     "user_tz": 180,
     "elapsed": 8,
     "user": {
      "displayName": "Manoela Kohler",
      "userId": "11407817634634210712"
     }
    },
    "outputId": "192757fe-a3e0-40eb-869a-cfca9e68705b"
   },
   "source": [
    "d = a/c\n",
    "d"
   ],
   "execution_count": 11,
   "outputs": [
    {
     "output_type": "execute_result",
     "data": {
      "text/plain": [
       "4.545454545454545"
      ]
     },
     "metadata": {},
     "execution_count": 11
    }
   ]
  },
  {
   "cell_type": "markdown",
   "metadata": {
    "id": "DSZzKQpR3ZkZ"
   },
   "source": [
    "## operações com strings"
   ]
  },
  {
   "cell_type": "code",
   "metadata": {
    "id": "xaj82xYI3WGM",
    "executionInfo": {
     "status": "ok",
     "timestamp": 1653674419858,
     "user_tz": 180,
     "elapsed": 6,
     "user": {
      "displayName": "Manoela Kohler",
      "userId": "11407817634634210712"
     }
    }
   },
   "source": [
    "saudacao = 'oi'\n",
    "nome = 'manoela'"
   ],
   "execution_count": 12,
   "outputs": []
  },
  {
   "cell_type": "code",
   "metadata": {
    "id": "zY9gcPlJ3hhl",
    "executionInfo": {
     "status": "ok",
     "timestamp": 1653674420170,
     "user_tz": 180,
     "elapsed": 318,
     "user": {
      "displayName": "Manoela Kohler",
      "userId": "11407817634634210712"
     }
    }
   },
   "source": [
    "# concatenar strings\n",
    "f = saudacao + ' ' + nome"
   ],
   "execution_count": 13,
   "outputs": []
  },
  {
   "cell_type": "code",
   "metadata": {
    "id": "ClUr-tIP3m-W",
    "colab": {
     "base_uri": "https://localhost:8080/",
     "height": 35
    },
    "executionInfo": {
     "status": "ok",
     "timestamp": 1653674420171,
     "user_tz": 180,
     "elapsed": 28,
     "user": {
      "displayName": "Manoela Kohler",
      "userId": "11407817634634210712"
     }
    },
    "outputId": "8038fbae-f567-4b52-a4d5-2bb34cefc2d1"
   },
   "source": [
    "f"
   ],
   "execution_count": 14,
   "outputs": [
    {
     "output_type": "execute_result",
     "data": {
      "text/plain": [
       "'oi manoela'"
      ],
      "application/vnd.google.colaboratory.intrinsic+json": {
       "type": "string"
      }
     },
     "metadata": {},
     "execution_count": 14
    }
   ]
  },
  {
   "cell_type": "code",
   "metadata": {
    "id": "-hbcZk5L3wbQ",
    "colab": {
     "base_uri": "https://localhost:8080/"
    },
    "executionInfo": {
     "status": "ok",
     "timestamp": 1653674420171,
     "user_tz": 180,
     "elapsed": 27,
     "user": {
      "displayName": "Manoela Kohler",
      "userId": "11407817634634210712"
     }
    },
    "outputId": "3873b4a9-2515-406a-856c-03469457665c"
   },
   "source": [
    "print(f)\n",
    "print(saudacao)"
   ],
   "execution_count": 15,
   "outputs": [
    {
     "output_type": "stream",
     "name": "stdout",
     "text": [
      "oi manoela\n",
      "oi\n"
     ]
    }
   ]
  },
  {
   "cell_type": "markdown",
   "metadata": {
    "id": "-04buZFH4Fwh"
   },
   "source": [
    "## Casting"
   ]
  },
  {
   "cell_type": "code",
   "metadata": {
    "id": "42VF6jr-307o",
    "colab": {
     "base_uri": "https://localhost:8080/"
    },
    "executionInfo": {
     "status": "ok",
     "timestamp": 1653674420172,
     "user_tz": 180,
     "elapsed": 26,
     "user": {
      "displayName": "Manoela Kohler",
      "userId": "11407817634634210712"
     }
    },
    "outputId": "816f83d2-a1a0-405e-b5f6-63675dc204de"
   },
   "source": [
    "int(d) # casting para inteiro"
   ],
   "execution_count": 16,
   "outputs": [
    {
     "output_type": "execute_result",
     "data": {
      "text/plain": [
       "4"
      ]
     },
     "metadata": {},
     "execution_count": 16
    }
   ]
  },
  {
   "cell_type": "code",
   "metadata": {
    "id": "HSX4nOuo4DXt",
    "colab": {
     "base_uri": "https://localhost:8080/",
     "height": 35
    },
    "executionInfo": {
     "status": "ok",
     "timestamp": 1653674420172,
     "user_tz": 180,
     "elapsed": 24,
     "user": {
      "displayName": "Manoela Kohler",
      "userId": "11407817634634210712"
     }
    },
    "outputId": "b8811a48-8c2d-48e8-d101-4121b25bf075"
   },
   "source": [
    "str(d) #casting para string"
   ],
   "execution_count": 17,
   "outputs": [
    {
     "output_type": "execute_result",
     "data": {
      "text/plain": [
       "'4.545454545454545'"
      ],
      "application/vnd.google.colaboratory.intrinsic+json": {
       "type": "string"
      }
     },
     "metadata": {},
     "execution_count": 17
    }
   ]
  },
  {
   "cell_type": "code",
   "metadata": {
    "id": "QZxPVvXD4L--",
    "colab": {
     "base_uri": "https://localhost:8080/"
    },
    "executionInfo": {
     "status": "ok",
     "timestamp": 1653674420172,
     "user_tz": 180,
     "elapsed": 23,
     "user": {
      "displayName": "Manoela Kohler",
      "userId": "11407817634634210712"
     }
    },
    "outputId": "52748bd3-17b1-4cb3-fc84-167b1344d537"
   },
   "source": [
    "float(a) # casting para float"
   ],
   "execution_count": 18,
   "outputs": [
    {
     "output_type": "execute_result",
     "data": {
      "text/plain": [
       "10.0"
      ]
     },
     "metadata": {},
     "execution_count": 18
    }
   ]
  },
  {
   "cell_type": "markdown",
   "metadata": {
    "id": "H7mOgMMd4qSp"
   },
   "source": [
    "# Exercícios"
   ]
  },
  {
   "cell_type": "markdown",
   "metadata": {
    "id": "HcuskET14hQq"
   },
   "source": [
    "1. Criar uma variável com valor 6 (tipo inteiro). Criar outra variável com o valor 2 (tipo inteiro). Dividir a primeira pela segunda (salvar em uma nova variável). Ver o tipo do resultado da divisão."
   ]
  },
  {
   "cell_type": "code",
   "metadata": {
    "id": "lR8KaFdz4S5Y",
    "colab": {
     "base_uri": "https://localhost:8080/"
    },
    "executionInfo": {
     "status": "ok",
     "timestamp": 1653674420172,
     "user_tz": 180,
     "elapsed": 23,
     "user": {
      "displayName": "Manoela Kohler",
      "userId": "11407817634634210712"
     }
    },
    "outputId": "5a0036d3-2ae5-41c7-9442-d4926a531cbf"
   },
   "source": [
    "x = 6\n",
    "type(x)"
   ],
   "execution_count": 19,
   "outputs": [
    {
     "output_type": "execute_result",
     "data": {
      "text/plain": [
       "int"
      ]
     },
     "metadata": {},
     "execution_count": 19
    }
   ]
  },
  {
   "cell_type": "code",
   "metadata": {
    "id": "HyrQghtj4xHq",
    "colab": {
     "base_uri": "https://localhost:8080/"
    },
    "executionInfo": {
     "status": "ok",
     "timestamp": 1653674420173,
     "user_tz": 180,
     "elapsed": 23,
     "user": {
      "displayName": "Manoela Kohler",
      "userId": "11407817634634210712"
     }
    },
    "outputId": "e605fbb7-9373-46df-dcca-0f6dc8395a30"
   },
   "source": [
    "y = 2\n",
    "type(y)"
   ],
   "execution_count": 20,
   "outputs": [
    {
     "output_type": "execute_result",
     "data": {
      "text/plain": [
       "int"
      ]
     },
     "metadata": {},
     "execution_count": 20
    }
   ]
  },
  {
   "cell_type": "code",
   "metadata": {
    "id": "GN4u7mXW40b3",
    "colab": {
     "base_uri": "https://localhost:8080/"
    },
    "executionInfo": {
     "status": "ok",
     "timestamp": 1653674420173,
     "user_tz": 180,
     "elapsed": 22,
     "user": {
      "displayName": "Manoela Kohler",
      "userId": "11407817634634210712"
     }
    },
    "outputId": "62ba84b5-4fc4-476a-fbdb-6f24371b5bce"
   },
   "source": [
    "w = x/y\n",
    "type(w)"
   ],
   "execution_count": 21,
   "outputs": [
    {
     "output_type": "execute_result",
     "data": {
      "text/plain": [
       "float"
      ]
     },
     "metadata": {},
     "execution_count": 21
    }
   ]
  },
  {
   "cell_type": "code",
   "metadata": {
    "id": "SlkG08y144ch",
    "colab": {
     "base_uri": "https://localhost:8080/"
    },
    "executionInfo": {
     "status": "ok",
     "timestamp": 1653674420173,
     "user_tz": 180,
     "elapsed": 20,
     "user": {
      "displayName": "Manoela Kohler",
      "userId": "11407817634634210712"
     }
    },
    "outputId": "fea06cdf-6fb4-42ba-d838-751ac0554075"
   },
   "source": [
    "w"
   ],
   "execution_count": 22,
   "outputs": [
    {
     "output_type": "execute_result",
     "data": {
      "text/plain": [
       "3.0"
      ]
     },
     "metadata": {},
     "execution_count": 22
    }
   ]
  },
  {
   "cell_type": "markdown",
   "metadata": {
    "id": "FJDJrZVY5IYy"
   },
   "source": [
    "2. Ao final de um ano, dois amigos querem dividir o lucro obtido através de um site por onde prestam serviço de consultoria para projetos de IA. Digamos que o lucro mensal seja de 8k. O amigo1 tem direito a 30% e o restante pertence ao amigo2. Calcule o lucro total do ano e o lucro de cada amigo.\n"
   ]
  },
  {
   "cell_type": "code",
   "metadata": {
    "id": "Ck4O1r7r453E",
    "colab": {
     "base_uri": "https://localhost:8080/"
    },
    "executionInfo": {
     "status": "ok",
     "timestamp": 1653674420173,
     "user_tz": 180,
     "elapsed": 19,
     "user": {
      "displayName": "Manoela Kohler",
      "userId": "11407817634634210712"
     }
    },
    "outputId": "654396e4-6a75-477f-fdc9-d5cd4ada8c42"
   },
   "source": [
    "lucro_mensal = 8000\n",
    "lucro_total = 12*lucro_mensal\n",
    "lucro_total"
   ],
   "execution_count": 23,
   "outputs": [
    {
     "output_type": "execute_result",
     "data": {
      "text/plain": [
       "96000"
      ]
     },
     "metadata": {},
     "execution_count": 23
    }
   ]
  },
  {
   "cell_type": "code",
   "metadata": {
    "id": "OJF8TWsm5cyt",
    "colab": {
     "base_uri": "https://localhost:8080/"
    },
    "executionInfo": {
     "status": "ok",
     "timestamp": 1653674420174,
     "user_tz": 180,
     "elapsed": 19,
     "user": {
      "displayName": "Manoela Kohler",
      "userId": "11407817634634210712"
     }
    },
    "outputId": "f3d239b4-ee8c-4774-a203-5e0e2c806233"
   },
   "source": [
    "amigo1 = lucro_total * 0.3\n",
    "print('Amigo1' + ' ' + str(amigo1))\n",
    "\n",
    "amigo2 = lucro_total * 0.7\n",
    "print('Amigo2' + ' ' + str(amigo2))"
   ],
   "execution_count": 24,
   "outputs": [
    {
     "output_type": "stream",
     "name": "stdout",
     "text": [
      "Amigo1 28800.0\n",
      "Amigo2 67200.0\n"
     ]
    }
   ]
  },
  {
   "cell_type": "markdown",
   "metadata": {
    "id": "mt5S7G2J6BlI"
   },
   "source": [
    "3. Faça a conta de cabeça e diga qual será o resultado da expressão:\n",
    "5 + 3 * 10 / 3 == 15\n",
    "Confirme pelo Python!\n"
   ]
  },
  {
   "cell_type": "code",
   "metadata": {
    "id": "GJtRR7N35uVO",
    "colab": {
     "base_uri": "https://localhost:8080/"
    },
    "executionInfo": {
     "status": "ok",
     "timestamp": 1653674420174,
     "user_tz": 180,
     "elapsed": 18,
     "user": {
      "displayName": "Manoela Kohler",
      "userId": "11407817634634210712"
     }
    },
    "outputId": "15357153-31fc-47a2-d99a-c8b344807e04"
   },
   "source": [
    "5 + 3 * 10 / 3 == 15"
   ],
   "execution_count": 25,
   "outputs": [
    {
     "output_type": "execute_result",
     "data": {
      "text/plain": [
       "True"
      ]
     },
     "metadata": {},
     "execution_count": 25
    }
   ]
  },
  {
   "cell_type": "markdown",
   "metadata": {
    "id": "Y8Z8h_Hc60pq"
   },
   "source": [
    "Use os dados fornecidos e faça um script para atender as necessidades descritas abaixo:\n",
    "\n",
    "\n",
    "\n",
    "- Crie uma lista com os 4 elementos carregados: nome do filme, atores, avaliações e comentários; Faça todas as questões seguintes usando esta lista!\n",
    "- Imprima o vetor com o nome do primeiro ator;\n",
    "- Imprima a melhor avaliação do filme (score e comentário)\n"
   ]
  },
  {
   "cell_type": "code",
   "metadata": {
    "id": "u1AIV3pS61c3",
    "executionInfo": {
     "status": "ok",
     "timestamp": 1653674420174,
     "user_tz": 180,
     "elapsed": 17,
     "user": {
      "displayName": "Manoela Kohler",
      "userId": "11407817634634210712"
     }
    }
   },
   "source": [
    "movieName = \"The Shining\"\n",
    "actors=[\"Jack Nicholson\", \"Shelley Duvall\", \"Danny Lloyd\", \"Scatman Crothers\", \"Barry Nelson\"]\n",
    "scores=[4.5,4.0,5.0]\n",
    "comments=[\"Best Horror Film I Have Ever Seen\", \"A truly brilliant and scary film from Stanley Kubrick\", \"A masterpiece of psychological horror\"]"
   ],
   "execution_count": 26,
   "outputs": []
  },
  {
   "cell_type": "code",
   "metadata": {
    "id": "ZUetqIe87CDg",
    "colab": {
     "base_uri": "https://localhost:8080/"
    },
    "executionInfo": {
     "status": "ok",
     "timestamp": 1653674420174,
     "user_tz": 180,
     "elapsed": 16,
     "user": {
      "displayName": "Manoela Kohler",
      "userId": "11407817634634210712"
     }
    },
    "outputId": "949cf4f7-fb3f-40b3-8e09-9c6ed6904cbf"
   },
   "source": [
    "#1\n",
    "lista = [movieName, actors, scores, comments]\n",
    "lista"
   ],
   "execution_count": 27,
   "outputs": [
    {
     "output_type": "execute_result",
     "data": {
      "text/plain": [
       "['The Shining',\n",
       " ['Jack Nicholson',\n",
       "  'Shelley Duvall',\n",
       "  'Danny Lloyd',\n",
       "  'Scatman Crothers',\n",
       "  'Barry Nelson'],\n",
       " [4.5, 4.0, 5.0],\n",
       " ['Best Horror Film I Have Ever Seen',\n",
       "  'A truly brilliant and scary film from Stanley Kubrick',\n",
       "  'A masterpiece of psychological horror']]"
      ]
     },
     "metadata": {},
     "execution_count": 27
    }
   ]
  },
  {
   "cell_type": "code",
   "metadata": {
    "id": "ZPH1Gkl17Sh3",
    "colab": {
     "base_uri": "https://localhost:8080/",
     "height": 35
    },
    "executionInfo": {
     "status": "ok",
     "timestamp": 1653674420175,
     "user_tz": 180,
     "elapsed": 15,
     "user": {
      "displayName": "Manoela Kohler",
      "userId": "11407817634634210712"
     }
    },
    "outputId": "de40ee66-609d-454f-cdec-eaef00fd5a24"
   },
   "source": [
    "#2\n",
    "lista[1][0]"
   ],
   "execution_count": 28,
   "outputs": [
    {
     "output_type": "execute_result",
     "data": {
      "text/plain": [
       "'Jack Nicholson'"
      ],
      "application/vnd.google.colaboratory.intrinsic+json": {
       "type": "string"
      }
     },
     "metadata": {},
     "execution_count": 28
    }
   ]
  },
  {
   "cell_type": "code",
   "metadata": {
    "id": "LNVMTxdt78BZ",
    "colab": {
     "base_uri": "https://localhost:8080/",
     "height": 35
    },
    "executionInfo": {
     "status": "ok",
     "timestamp": 1653674420175,
     "user_tz": 180,
     "elapsed": 14,
     "user": {
      "displayName": "Manoela Kohler",
      "userId": "11407817634634210712"
     }
    },
    "outputId": "4a60ce2f-1e15-4d90-bad1-e34baa1c93fd"
   },
   "source": [
    "#3\n",
    "avaliacoes = lista[2]\n",
    "maior_valor = max(avaliacoes)\n",
    "indice = avaliacoes.index(maior_valor)\n",
    "lista[3][indice]"
   ],
   "execution_count": 29,
   "outputs": [
    {
     "output_type": "execute_result",
     "data": {
      "text/plain": [
       "'A masterpiece of psychological horror'"
      ],
      "application/vnd.google.colaboratory.intrinsic+json": {
       "type": "string"
      }
     },
     "metadata": {},
     "execution_count": 29
    }
   ]
  },
  {
   "cell_type": "markdown",
   "metadata": {
    "id": "5m1OOtBM9ExQ"
   },
   "source": [
    "Exercício: crie um script que pergunte quantos anos o usuário tem e espere a respostado mesmo.  Em seguida imprima a idade, o tipo, converta para numérico e imprima novamente o tipo.\n"
   ]
  },
  {
   "cell_type": "code",
   "metadata": {
    "id": "kwz8Kc1f8JFf",
    "colab": {
     "base_uri": "https://localhost:8080/"
    },
    "executionInfo": {
     "status": "ok",
     "timestamp": 1653674425083,
     "user_tz": 180,
     "elapsed": 4921,
     "user": {
      "displayName": "Manoela Kohler",
      "userId": "11407817634634210712"
     }
    },
    "outputId": "fd43e216-8700-4148-b36b-3c8b0555f56d"
   },
   "source": [
    "idade = input('Escreva sua idade: ')"
   ],
   "execution_count": 30,
   "outputs": [
    {
     "name": "stdout",
     "output_type": "stream",
     "text": [
      "Escreva sua idade: 33\n"
     ]
    }
   ]
  },
  {
   "cell_type": "code",
   "metadata": {
    "id": "WhvhaRpm9LND",
    "colab": {
     "base_uri": "https://localhost:8080/",
     "height": 35
    },
    "executionInfo": {
     "status": "ok",
     "timestamp": 1653674425085,
     "user_tz": 180,
     "elapsed": 9,
     "user": {
      "displayName": "Manoela Kohler",
      "userId": "11407817634634210712"
     }
    },
    "outputId": "0f91585d-5330-43d1-94e4-0348fec87ce3"
   },
   "source": [
    "idade"
   ],
   "execution_count": 31,
   "outputs": [
    {
     "output_type": "execute_result",
     "data": {
      "text/plain": [
       "'33'"
      ],
      "application/vnd.google.colaboratory.intrinsic+json": {
       "type": "string"
      }
     },
     "metadata": {},
     "execution_count": 31
    }
   ]
  },
  {
   "cell_type": "code",
   "metadata": {
    "id": "NfcJpe2G9P_v",
    "colab": {
     "base_uri": "https://localhost:8080/"
    },
    "executionInfo": {
     "status": "ok",
     "timestamp": 1653674425085,
     "user_tz": 180,
     "elapsed": 8,
     "user": {
      "displayName": "Manoela Kohler",
      "userId": "11407817634634210712"
     }
    },
    "outputId": "4d5b6ce9-9f06-4be5-cc31-ae300440ca8e"
   },
   "source": [
    "type(idade)"
   ],
   "execution_count": 32,
   "outputs": [
    {
     "output_type": "execute_result",
     "data": {
      "text/plain": [
       "str"
      ]
     },
     "metadata": {},
     "execution_count": 32
    }
   ]
  },
  {
   "cell_type": "code",
   "metadata": {
    "id": "3odFqY9C9TjY",
    "colab": {
     "base_uri": "https://localhost:8080/"
    },
    "executionInfo": {
     "status": "ok",
     "timestamp": 1653674425086,
     "user_tz": 180,
     "elapsed": 7,
     "user": {
      "displayName": "Manoela Kohler",
      "userId": "11407817634634210712"
     }
    },
    "outputId": "a7fd4d14-60e3-4d6b-b5ea-f4485d3cbad8"
   },
   "source": [
    "idade = int(idade)\n",
    "type(idade)"
   ],
   "execution_count": 33,
   "outputs": [
    {
     "output_type": "execute_result",
     "data": {
      "text/plain": [
       "int"
      ]
     },
     "metadata": {},
     "execution_count": 33
    }
   ]
  },
  {
   "cell_type": "code",
   "metadata": {
    "id": "gBaa5LMh9X1A",
    "executionInfo": {
     "status": "ok",
     "timestamp": 1653674425086,
     "user_tz": 180,
     "elapsed": 6,
     "user": {
      "displayName": "Manoela Kohler",
      "userId": "11407817634634210712"
     }
    }
   },
   "source": [],
   "execution_count": 33,
   "outputs": []
  }
 ]
}
