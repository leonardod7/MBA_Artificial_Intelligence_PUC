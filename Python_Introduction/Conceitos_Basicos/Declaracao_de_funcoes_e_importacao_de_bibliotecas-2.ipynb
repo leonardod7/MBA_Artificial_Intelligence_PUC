{
 "nbformat": 4,
 "nbformat_minor": 0,
 "metadata": {
  "colab": {
   "provenance": [],
   "collapsed_sections": [
    "_i7xhGTokpKW",
    "W8LXDTvrjXBS",
    "8DufaVPhcNYF",
    "AB2ge8I-ewug",
    "g5tZw3Qtjpnp",
    "fT5_KkUUkaFj",
    "GF85a6tKkdNa",
    "Dj8iYq9-vPxL",
    "YUsmeTN6MQd_"
   ]
  },
  "kernelspec": {
   "name": "python3",
   "display_name": "Python 3"
  },
  "language_info": {
   "name": "python"
  }
 },
 "cells": [
  {
   "cell_type": "markdown",
   "metadata": {
    "id": "wy_9INHEImAY"
   },
   "source": [
    "<img src=\"https://github.com/amandalemette/images/blob/e011da7260c032bae5c49e56a14ad97c13b8c679/BiMaster/bimaster.png?raw=true\"  width=1000 height=80 />"
   ]
  },
  {
   "cell_type": "markdown",
   "metadata": {
    "id": "EDTh4uzNIp-B"
   },
   "source": [
    "# Professora\n",
    "\n",
    " - Amanda Lemette \n",
    "\t - prof.amanda@ica.ele.puc-rio.br\n",
    "\t - [Linkedin](https://www.linkedin.com/in/amanda-lemette-brand%C3%A3o-83280918b)\n",
    "  - [Youtube](https://www.youtube.com/c/AmandaLemette/featured)\n",
    "   "
   ]
  },
  {
   "cell_type": "markdown",
   "metadata": {
    "id": "Koov13X9IsDv"
   },
   "source": [
    "# Declaração de funções e importação de bibliotecas\n",
    "\n",
    "\n",
    "- **Plano de aula:**\n",
    "  - Criação e manipulação de funções:\n",
    "      - Como olhar a documentação de uma função (entender como se utiliza uma função criada por outra pessoa)\n",
    "      - Funções anônimas\n",
    "      - Montando a sua própria biblioteca (funções simples)\n",
    "\n",
    "  - Um pouco de gráficos. \n",
    "\n",
    "  - Criação e manipulação de DataFrames:\n",
    "    - O que é?\n",
    "      - Como montar (dicionário, lista, vetores)\n",
    "      - Visualização do DataFrame\n",
    "      - Acessando elementos do dataframe (loc x iloc) \n",
    "      - Ordenação + reset index\n",
    "      - Reorganizar colunas \n",
    "      - Adicionar dados  \n",
    "\n"
   ]
  },
  {
   "cell_type": "markdown",
   "metadata": {
    "id": "yA1cJ7umkkkS"
   },
   "source": [
    "## Funções que estão na raíz do Python"
   ]
  },
  {
   "cell_type": "markdown",
   "source": [
    "<center><img src=\"https://github.com/amandalemette/images/blob/bb5ff2bd705b7c30cb8c02cc088ec96952561596/BiMaster/func.png?raw=true\"  width=400 height=150 />"
   ],
   "metadata": {
    "id": "uSRX3HQWWu_M"
   }
  },
  {
   "cell_type": "code",
   "source": [
    "print('oi')"
   ],
   "metadata": {
    "colab": {
     "base_uri": "https://localhost:8080/"
    },
    "id": "GFtoFzs8bjtJ",
    "outputId": "f378129c-be4f-4ea3-b586-4e63575e0c19"
   },
   "execution_count": 1,
   "outputs": [
    {
     "name": "stdout",
     "output_type": "stream",
     "text": [
      "oi\n"
     ]
    }
   ]
  },
  {
   "cell_type": "code",
   "source": [
    "saida = input('escreve algo:')"
   ],
   "metadata": {
    "colab": {
     "base_uri": "https://localhost:8080/"
    },
    "id": "HoaFSav9bsjZ",
    "outputId": "b5a31386-8555-4a9d-9051-195431a1fbe7"
   },
   "execution_count": 2,
   "outputs": []
  },
  {
   "cell_type": "code",
   "source": [
    "saida"
   ],
   "metadata": {
    "colab": {
     "base_uri": "https://localhost:8080/",
     "height": 36
    },
    "id": "yBbtaVRib0PR",
    "outputId": "61143a2d-64d4-4788-8d9a-e9ca55dd77d5"
   },
   "execution_count": 3,
   "outputs": [
    {
     "data": {
      "text/plain": "'df'"
     },
     "execution_count": 3,
     "metadata": {},
     "output_type": "execute_result"
    }
   ]
  },
  {
   "cell_type": "code",
   "source": [
    "saida = input('digite a sua idade:')"
   ],
   "metadata": {
    "colab": {
     "base_uri": "https://localhost:8080/"
    },
    "id": "saVngYynb8xJ",
    "outputId": "4eb2ed5a-d919-417a-a092-7d804918b6cc"
   },
   "execution_count": 4,
   "outputs": []
  },
  {
   "cell_type": "code",
   "source": [
    "saida,type(saida),float(saida),int(saida)"
   ],
   "metadata": {
    "colab": {
     "base_uri": "https://localhost:8080/"
    },
    "id": "gyrV1-EacAWo",
    "outputId": "78b63fca-267d-41b0-cc6f-dd3eb80bb73e"
   },
   "execution_count": 5,
   "outputs": [
    {
     "data": {
      "text/plain": "('23', str, 23.0, 23)"
     },
     "execution_count": 5,
     "metadata": {},
     "output_type": "execute_result"
    }
   ]
  },
  {
   "cell_type": "code",
   "source": [
    "saida = float(saida)\n",
    "saida, type(saida)"
   ],
   "metadata": {
    "colab": {
     "base_uri": "https://localhost:8080/"
    },
    "id": "8Z1zXPpucP0w",
    "outputId": "a403e4ea-e56d-4a32-c519-d036fc7ad195"
   },
   "execution_count": 6,
   "outputs": [
    {
     "data": {
      "text/plain": "(23.0, float)"
     },
     "execution_count": 6,
     "metadata": {},
     "output_type": "execute_result"
    }
   ]
  },
  {
   "cell_type": "code",
   "source": [
    "n = 23.4325235251342\n",
    "n"
   ],
   "metadata": {
    "colab": {
     "base_uri": "https://localhost:8080/"
    },
    "id": "y9PShjG5crLA",
    "outputId": "44a73082-e43e-4246-bd0a-a0e38a80bdf0"
   },
   "execution_count": 7,
   "outputs": [
    {
     "data": {
      "text/plain": "23.4325235251342"
     },
     "execution_count": 7,
     "metadata": {},
     "output_type": "execute_result"
    }
   ]
  },
  {
   "cell_type": "code",
   "source": [
    "round(n,2)"
   ],
   "metadata": {
    "colab": {
     "base_uri": "https://localhost:8080/"
    },
    "id": "Orzs9Ym0cttY",
    "outputId": "d0540db3-46ba-4de0-ca0f-1f99462bd95e"
   },
   "execution_count": 8,
   "outputs": [
    {
     "data": {
      "text/plain": "23.43"
     },
     "execution_count": 8,
     "metadata": {},
     "output_type": "execute_result"
    }
   ]
  },
  {
   "cell_type": "code",
   "source": [
    "print(f'O número encontrado é: {round(n,2)}.')"
   ],
   "metadata": {
    "colab": {
     "base_uri": "https://localhost:8080/"
    },
    "id": "lPXqIZWsc75f",
    "outputId": "b9f65a9e-2106-467f-e259-53304e963207"
   },
   "execution_count": 9,
   "outputs": [
    {
     "name": "stdout",
     "output_type": "stream",
     "text": [
      "O número encontrado é: 23.43.\n"
     ]
    }
   ]
  },
  {
   "cell_type": "code",
   "source": [
    "print('O número encontrado é: {round(n,2)}.')"
   ],
   "metadata": {
    "colab": {
     "base_uri": "https://localhost:8080/"
    },
    "id": "ndoGeBuWdR6A",
    "outputId": "1d47dda2-458a-427e-d13c-db07563f0eb6"
   },
   "execution_count": 10,
   "outputs": [
    {
     "name": "stdout",
     "output_type": "stream",
     "text": [
      "O número encontrado é: {round(n,2)}.\n"
     ]
    }
   ]
  },
  {
   "cell_type": "markdown",
   "source": [
    "[Significa do f dentro do print](https://stackoverflow.com/questions/57150426/what-is-printf#:~:text=The%20f%20means%20Formatted%20string,delimited%20by%20curly%20braces%20%7B%7D%20.)"
   ],
   "metadata": {
    "id": "fm-8KF26dnJf"
   }
  },
  {
   "cell_type": "code",
   "source": [
    "help(print)"
   ],
   "metadata": {
    "colab": {
     "base_uri": "https://localhost:8080/"
    },
    "id": "49zTprSTd2F_",
    "outputId": "7db096cc-09a2-4558-81fc-9ace0035dbd4"
   },
   "execution_count": 11,
   "outputs": [
    {
     "name": "stdout",
     "output_type": "stream",
     "text": [
      "Help on built-in function print in module builtins:\n",
      "\n",
      "print(...)\n",
      "    print(value, ..., sep=' ', end='\\n', file=sys.stdout, flush=False)\n",
      "    \n",
      "    Prints the values to a stream, or to sys.stdout by default.\n",
      "    Optional keyword arguments:\n",
      "    file:  a file-like object (stream); defaults to the current sys.stdout.\n",
      "    sep:   string inserted between values, default a space.\n",
      "    end:   string appended after the last value, default a newline.\n",
      "    flush: whether to forcibly flush the stream.\n",
      "\n"
     ]
    }
   ]
  },
  {
   "cell_type": "markdown",
   "metadata": {
    "id": "bL8hOnA7kxba"
   },
   "source": [
    "Em Python, já podemos fazer uso de diversas funções que são muito úteis sem precisar importar nenhuma biblioteca, entre essas funções temos:\n",
    "\n",
    "*   print -> imprime na tela \n",
    "*   input -> dialoga com o usuário\n",
    "*   int -> transforma variáveis em números inteiros\n",
    "*   float -> transforma variáveis em números reais\n",
    "*   str -> transforma variáveis em strings\n",
    "*   round -> arredonda números decimais\n",
    "*   help -> fornece as informações sobre funções\n",
    "*   type -> fornece o tipo da variável\n",
    "\n",
    "Além das funções mencionadas, temos funções também criadas para serem aplicadas a listas, que são:\n",
    "\n",
    "*   len -> calcula o comprimento de uma lista\n",
    "*   sum -> soma os elementos de uma lista\n",
    "*   max -> acha o maior elemento da lista\n",
    "*   min -> acha o menor elemento da lista\n",
    "\n",
    "Esses são apenas alguns exemplos de funções, mas existem muito mais! "
   ]
  },
  {
   "cell_type": "markdown",
   "metadata": {
    "id": "wM7iVvxHoFRh"
   },
   "source": [
    "<center><img src=\"https://github.com/amandalemette/images/blob/5aeb3f550ec1dd08869c226d7a09b88a2ef7e371/BiMaster/goofy-thinking.png?raw=true\"  width=100 height=205 />"
   ]
  },
  {
   "cell_type": "markdown",
   "metadata": {
    "id": "Zonr0RRVo1mD"
   },
   "source": [
    "Fazendo uso de algumas das funções mencionadas, desenvolva um programa que forneça:\n",
    "- o número total de elementos da lista\n",
    "- o somatório dos elementos da lista\n",
    "- o produtório dos elementos da lista\n",
    "- identifica os valores mínimo e máximo armazenados na lista \n",
    "- a média da lista\n",
    "- a moda da lista \n",
    "\n",
    "Para a resolução dessa atividade, considere a seguinte lista:"
   ]
  },
  {
   "cell_type": "code",
   "metadata": {
    "id": "BF6HHLS5pkmi"
   },
   "source": [
    "lista = [100,2,3,100,3,4,5,67,92,3,523,45,12,1,94,2,3,4,5,6,2,5,46,76,10,11,100,102,34,542,523,75,43,3,2,643,22,3,1,42,10,23,45,94,2,5,78,102,103,78,96,33,41,36,15,16,10,9]"
   ],
   "execution_count": 12,
   "outputs": []
  },
  {
   "cell_type": "code",
   "source": [
    "lista"
   ],
   "metadata": {
    "id": "4d_TpcvB4M19"
   },
   "execution_count": 13,
   "outputs": [
    {
     "data": {
      "text/plain": "[100,\n 2,\n 3,\n 100,\n 3,\n 4,\n 5,\n 67,\n 92,\n 3,\n 523,\n 45,\n 12,\n 1,\n 94,\n 2,\n 3,\n 4,\n 5,\n 6,\n 2,\n 5,\n 46,\n 76,\n 10,\n 11,\n 100,\n 102,\n 34,\n 542,\n 523,\n 75,\n 43,\n 3,\n 2,\n 643,\n 22,\n 3,\n 1,\n 42,\n 10,\n 23,\n 45,\n 94,\n 2,\n 5,\n 78,\n 102,\n 103,\n 78,\n 96,\n 33,\n 41,\n 36,\n 15,\n 16,\n 10,\n 9]"
     },
     "execution_count": 13,
     "metadata": {},
     "output_type": "execute_result"
    }
   ]
  },
  {
   "cell_type": "markdown",
   "source": [
    "- Número total de elementos da lista"
   ],
   "metadata": {
    "id": "38bqZlrgfg5e"
   }
  },
  {
   "cell_type": "code",
   "source": [
    "len(lista)"
   ],
   "metadata": {
    "id": "hORCn8U7oPqy",
    "colab": {
     "base_uri": "https://localhost:8080/"
    },
    "outputId": "d1323297-1e11-409e-f0a2-1243144c3675"
   },
   "execution_count": 14,
   "outputs": [
    {
     "data": {
      "text/plain": "58"
     },
     "execution_count": 14,
     "metadata": {},
     "output_type": "execute_result"
    }
   ]
  },
  {
   "cell_type": "code",
   "source": [
    "j = 0 \n",
    "for i in lista:\n",
    "  print('j',j,'i',i)\n",
    "  j = j + 1\n",
    "j "
   ],
   "metadata": {
    "id": "7NxXuIqSptU-"
   },
   "execution_count": 15,
   "outputs": [
    {
     "name": "stdout",
     "output_type": "stream",
     "text": [
      "j 0 i 100\n",
      "j 1 i 2\n",
      "j 2 i 3\n",
      "j 3 i 100\n",
      "j 4 i 3\n",
      "j 5 i 4\n",
      "j 6 i 5\n",
      "j 7 i 67\n",
      "j 8 i 92\n",
      "j 9 i 3\n",
      "j 10 i 523\n",
      "j 11 i 45\n",
      "j 12 i 12\n",
      "j 13 i 1\n",
      "j 14 i 94\n",
      "j 15 i 2\n",
      "j 16 i 3\n",
      "j 17 i 4\n",
      "j 18 i 5\n",
      "j 19 i 6\n",
      "j 20 i 2\n",
      "j 21 i 5\n",
      "j 22 i 46\n",
      "j 23 i 76\n",
      "j 24 i 10\n",
      "j 25 i 11\n",
      "j 26 i 100\n",
      "j 27 i 102\n",
      "j 28 i 34\n",
      "j 29 i 542\n",
      "j 30 i 523\n",
      "j 31 i 75\n",
      "j 32 i 43\n",
      "j 33 i 3\n",
      "j 34 i 2\n",
      "j 35 i 643\n",
      "j 36 i 22\n",
      "j 37 i 3\n",
      "j 38 i 1\n",
      "j 39 i 42\n",
      "j 40 i 10\n",
      "j 41 i 23\n",
      "j 42 i 45\n",
      "j 43 i 94\n",
      "j 44 i 2\n",
      "j 45 i 5\n",
      "j 46 i 78\n",
      "j 47 i 102\n",
      "j 48 i 103\n",
      "j 49 i 78\n",
      "j 50 i 96\n",
      "j 51 i 33\n",
      "j 52 i 41\n",
      "j 53 i 36\n",
      "j 54 i 15\n",
      "j 55 i 16\n",
      "j 56 i 10\n",
      "j 57 i 9\n"
     ]
    },
    {
     "data": {
      "text/plain": "58"
     },
     "execution_count": 15,
     "metadata": {},
     "output_type": "execute_result"
    }
   ]
  },
  {
   "cell_type": "code",
   "source": [
    "for count, value in enumerate(lista):\n",
    "  print(count,value)\n",
    "Ntotal = count+1\n",
    "Ntotal"
   ],
   "metadata": {
    "id": "M4A1XpjaqMdN"
   },
   "execution_count": 16,
   "outputs": [
    {
     "name": "stdout",
     "output_type": "stream",
     "text": [
      "0 100\n",
      "1 2\n",
      "2 3\n",
      "3 100\n",
      "4 3\n",
      "5 4\n",
      "6 5\n",
      "7 67\n",
      "8 92\n",
      "9 3\n",
      "10 523\n",
      "11 45\n",
      "12 12\n",
      "13 1\n",
      "14 94\n",
      "15 2\n",
      "16 3\n",
      "17 4\n",
      "18 5\n",
      "19 6\n",
      "20 2\n",
      "21 5\n",
      "22 46\n",
      "23 76\n",
      "24 10\n",
      "25 11\n",
      "26 100\n",
      "27 102\n",
      "28 34\n",
      "29 542\n",
      "30 523\n",
      "31 75\n",
      "32 43\n",
      "33 3\n",
      "34 2\n",
      "35 643\n",
      "36 22\n",
      "37 3\n",
      "38 1\n",
      "39 42\n",
      "40 10\n",
      "41 23\n",
      "42 45\n",
      "43 94\n",
      "44 2\n",
      "45 5\n",
      "46 78\n",
      "47 102\n",
      "48 103\n",
      "49 78\n",
      "50 96\n",
      "51 33\n",
      "52 41\n",
      "53 36\n",
      "54 15\n",
      "55 16\n",
      "56 10\n",
      "57 9\n"
     ]
    },
    {
     "data": {
      "text/plain": "58"
     },
     "execution_count": 16,
     "metadata": {},
     "output_type": "execute_result"
    }
   ]
  },
  {
   "cell_type": "markdown",
   "source": [
    "- Somatório dos elementos da lista\n"
   ],
   "metadata": {
    "id": "RNXtytuhfl3V"
   }
  },
  {
   "cell_type": "code",
   "source": [
    "sum(lista)"
   ],
   "metadata": {
    "id": "RgKE11Zh4MV8",
    "colab": {
     "base_uri": "https://localhost:8080/"
    },
    "outputId": "bfdc6d79-48b5-40c6-e072-2d5a26e0479d"
   },
   "execution_count": 17,
   "outputs": [
    {
     "data": {
      "text/plain": "4155"
     },
     "execution_count": 17,
     "metadata": {},
     "output_type": "execute_result"
    }
   ]
  },
  {
   "cell_type": "code",
   "source": [
    "j = 0 \n",
    "for i in lista:\n",
    "  #print('j',j,'i',i)\n",
    "  j = j + i\n",
    "j "
   ],
   "metadata": {
    "colab": {
     "base_uri": "https://localhost:8080/"
    },
    "id": "736qUeAcrGN2",
    "outputId": "fff05720-b0d3-474a-e959-4dc99dfed87c"
   },
   "execution_count": 18,
   "outputs": [
    {
     "data": {
      "text/plain": "4155"
     },
     "execution_count": 18,
     "metadata": {},
     "output_type": "execute_result"
    }
   ]
  },
  {
   "cell_type": "markdown",
   "source": [
    "- Produtório dos elementos da lista"
   ],
   "metadata": {
    "id": "RSsiwtGwfoSe"
   }
  },
  {
   "cell_type": "code",
   "source": [
    "n = [2,3,5,1]"
   ],
   "metadata": {
    "id": "FWfMo13DiiCD"
   },
   "execution_count": 19,
   "outputs": []
  },
  {
   "cell_type": "code",
   "source": [
    "n[2]"
   ],
   "metadata": {
    "colab": {
     "base_uri": "https://localhost:8080/"
    },
    "id": "CkB6CJDkjj-K",
    "outputId": "827cd9fb-ba01-4e1f-ab14-4edee661f9eb"
   },
   "execution_count": 20,
   "outputs": [
    {
     "data": {
      "text/plain": "5"
     },
     "execution_count": 20,
     "metadata": {},
     "output_type": "execute_result"
    }
   ]
  },
  {
   "cell_type": "code",
   "source": [
    "list(range(3))"
   ],
   "metadata": {
    "colab": {
     "base_uri": "https://localhost:8080/"
    },
    "id": "IrnCQvfyi_Mz",
    "outputId": "5f7c4802-b10d-4c7c-e6a8-473bef9bcb21"
   },
   "execution_count": 21,
   "outputs": [
    {
     "data": {
      "text/plain": "[0, 1, 2]"
     },
     "execution_count": 21,
     "metadata": {},
     "output_type": "execute_result"
    }
   ]
  },
  {
   "cell_type": "code",
   "source": [
    "range(3)"
   ],
   "metadata": {
    "colab": {
     "base_uri": "https://localhost:8080/"
    },
    "id": "CihfDyMyjXeK",
    "outputId": "062c8753-2e3d-4c87-835e-3f920eb37ef3"
   },
   "execution_count": 22,
   "outputs": [
    {
     "data": {
      "text/plain": "range(0, 3)"
     },
     "execution_count": 22,
     "metadata": {},
     "output_type": "execute_result"
    }
   ]
  },
  {
   "cell_type": "code",
   "source": [
    "p = 1\n",
    "for i in lista:\n",
    "  #print(i)\n",
    "  print(i,'p antigo:',p)\n",
    "  p = p*i\n",
    "p"
   ],
   "metadata": {
    "id": "uJZi7PjIk37i"
   },
   "execution_count": 23,
   "outputs": [
    {
     "name": "stdout",
     "output_type": "stream",
     "text": [
      "100 p antigo: 1\n",
      "2 p antigo: 100\n",
      "3 p antigo: 200\n",
      "100 p antigo: 600\n",
      "3 p antigo: 60000\n",
      "4 p antigo: 180000\n",
      "5 p antigo: 720000\n",
      "67 p antigo: 3600000\n",
      "92 p antigo: 241200000\n",
      "3 p antigo: 22190400000\n",
      "523 p antigo: 66571200000\n",
      "45 p antigo: 34816737600000\n",
      "12 p antigo: 1566753192000000\n",
      "1 p antigo: 18801038304000000\n",
      "94 p antigo: 18801038304000000\n",
      "2 p antigo: 1767297600576000000\n",
      "3 p antigo: 3534595201152000000\n",
      "4 p antigo: 10603785603456000000\n",
      "5 p antigo: 42415142413824000000\n",
      "6 p antigo: 212075712069120000000\n",
      "2 p antigo: 1272454272414720000000\n",
      "5 p antigo: 2544908544829440000000\n",
      "46 p antigo: 12724542724147200000000\n",
      "76 p antigo: 585328965310771200000000\n",
      "10 p antigo: 44485001363618611200000000\n",
      "11 p antigo: 444850013636186112000000000\n",
      "100 p antigo: 4893350149998047232000000000\n",
      "102 p antigo: 489335014999804723200000000000\n",
      "34 p antigo: 49912171529980081766400000000000\n",
      "542 p antigo: 1697013832019322780057600000000000\n",
      "523 p antigo: 919781496954472946791219200000000000\n",
      "75 p antigo: 481045722907189351171807641600000000000\n",
      "43 p antigo: 36078429218039201337885573120000000000000\n",
      "3 p antigo: 1551372456375685657529079644160000000000000\n",
      "2 p antigo: 4654117369127056972587238932480000000000000\n",
      "643 p antigo: 9308234738254113945174477864960000000000000\n",
      "22 p antigo: 5985194936697395266747189267169280000000000000\n",
      "3 p antigo: 131674288607342695868438163877724160000000000000\n",
      "1 p antigo: 395022865822028087605314491633172480000000000000\n",
      "42 p antigo: 395022865822028087605314491633172480000000000000\n",
      "10 p antigo: 16590960364525179679423208648593244160000000000000\n",
      "23 p antigo: 165909603645251796794232086485932441600000000000000\n",
      "45 p antigo: 3815920883840791326267337989176446156800000000000000\n",
      "94 p antigo: 171716439772835609682030209512940077056000000000000000\n",
      "2 p antigo: 16141345338646547310110839694216367243264000000000000000\n",
      "5 p antigo: 32282690677293094620221679388432734486528000000000000000\n",
      "78 p antigo: 161413453386465473101108396942163672432640000000000000000\n",
      "102 p antigo: 12590249364144306901886454961488766449745920000000000000000\n",
      "103 p antigo: 1284205435142719303992418406071854177874083840000000000000000\n",
      "78 p antigo: 132273159819700088311219095825400980321030635520000000000000000\n",
      "96 p antigo: 10317306465936606888275089474381276465040389570560000000000000000\n",
      "33 p antigo: 990461420729914261274408589540602540643877398773760000000000000000\n",
      "41 p antigo: 32685226884087170622055483454839883841247954159534080000000000000000\n",
      "36 p antigo: 1340094302247573995504274821648435237491166120540897280000000000000000\n",
      "15 p antigo: 48243394880912663838153893579343668549681980339472302080000000000000000\n",
      "16 p antigo: 723650923213689957572308403690155028245229705092084531200000000000000000\n",
      "10 p antigo: 11578414771419039321156934459042480451923675281473352499200000000000000000\n",
      "9 p antigo: 115784147714190393211569344590424804519236752814733524992000000000000000000\n"
     ]
    },
    {
     "data": {
      "text/plain": "1042057329427713538904124101313823240673130775332601724928000000000000000000"
     },
     "execution_count": 23,
     "metadata": {},
     "output_type": "execute_result"
    }
   ]
  },
  {
   "cell_type": "code",
   "source": [
    "p = 1\n",
    "for i in range(len(lista)):\n",
    "  print(i,'n[i]:',lista[i],'p antigo:',p)\n",
    "  p = p*lista[i]\n",
    "  print('p novo:',p)\n",
    "  #input()\n",
    "p"
   ],
   "metadata": {
    "id": "xGvzyyg8pd-O"
   },
   "execution_count": 24,
   "outputs": [
    {
     "name": "stdout",
     "output_type": "stream",
     "text": [
      "0 n[i]: 100 p antigo: 1\n",
      "p novo: 100\n",
      "1 n[i]: 2 p antigo: 100\n",
      "p novo: 200\n",
      "2 n[i]: 3 p antigo: 200\n",
      "p novo: 600\n",
      "3 n[i]: 100 p antigo: 600\n",
      "p novo: 60000\n",
      "4 n[i]: 3 p antigo: 60000\n",
      "p novo: 180000\n",
      "5 n[i]: 4 p antigo: 180000\n",
      "p novo: 720000\n",
      "6 n[i]: 5 p antigo: 720000\n",
      "p novo: 3600000\n",
      "7 n[i]: 67 p antigo: 3600000\n",
      "p novo: 241200000\n",
      "8 n[i]: 92 p antigo: 241200000\n",
      "p novo: 22190400000\n",
      "9 n[i]: 3 p antigo: 22190400000\n",
      "p novo: 66571200000\n",
      "10 n[i]: 523 p antigo: 66571200000\n",
      "p novo: 34816737600000\n",
      "11 n[i]: 45 p antigo: 34816737600000\n",
      "p novo: 1566753192000000\n",
      "12 n[i]: 12 p antigo: 1566753192000000\n",
      "p novo: 18801038304000000\n",
      "13 n[i]: 1 p antigo: 18801038304000000\n",
      "p novo: 18801038304000000\n",
      "14 n[i]: 94 p antigo: 18801038304000000\n",
      "p novo: 1767297600576000000\n",
      "15 n[i]: 2 p antigo: 1767297600576000000\n",
      "p novo: 3534595201152000000\n",
      "16 n[i]: 3 p antigo: 3534595201152000000\n",
      "p novo: 10603785603456000000\n",
      "17 n[i]: 4 p antigo: 10603785603456000000\n",
      "p novo: 42415142413824000000\n",
      "18 n[i]: 5 p antigo: 42415142413824000000\n",
      "p novo: 212075712069120000000\n",
      "19 n[i]: 6 p antigo: 212075712069120000000\n",
      "p novo: 1272454272414720000000\n",
      "20 n[i]: 2 p antigo: 1272454272414720000000\n",
      "p novo: 2544908544829440000000\n",
      "21 n[i]: 5 p antigo: 2544908544829440000000\n",
      "p novo: 12724542724147200000000\n",
      "22 n[i]: 46 p antigo: 12724542724147200000000\n",
      "p novo: 585328965310771200000000\n",
      "23 n[i]: 76 p antigo: 585328965310771200000000\n",
      "p novo: 44485001363618611200000000\n",
      "24 n[i]: 10 p antigo: 44485001363618611200000000\n",
      "p novo: 444850013636186112000000000\n",
      "25 n[i]: 11 p antigo: 444850013636186112000000000\n",
      "p novo: 4893350149998047232000000000\n",
      "26 n[i]: 100 p antigo: 4893350149998047232000000000\n",
      "p novo: 489335014999804723200000000000\n",
      "27 n[i]: 102 p antigo: 489335014999804723200000000000\n",
      "p novo: 49912171529980081766400000000000\n",
      "28 n[i]: 34 p antigo: 49912171529980081766400000000000\n",
      "p novo: 1697013832019322780057600000000000\n",
      "29 n[i]: 542 p antigo: 1697013832019322780057600000000000\n",
      "p novo: 919781496954472946791219200000000000\n",
      "30 n[i]: 523 p antigo: 919781496954472946791219200000000000\n",
      "p novo: 481045722907189351171807641600000000000\n",
      "31 n[i]: 75 p antigo: 481045722907189351171807641600000000000\n",
      "p novo: 36078429218039201337885573120000000000000\n",
      "32 n[i]: 43 p antigo: 36078429218039201337885573120000000000000\n",
      "p novo: 1551372456375685657529079644160000000000000\n",
      "33 n[i]: 3 p antigo: 1551372456375685657529079644160000000000000\n",
      "p novo: 4654117369127056972587238932480000000000000\n",
      "34 n[i]: 2 p antigo: 4654117369127056972587238932480000000000000\n",
      "p novo: 9308234738254113945174477864960000000000000\n",
      "35 n[i]: 643 p antigo: 9308234738254113945174477864960000000000000\n",
      "p novo: 5985194936697395266747189267169280000000000000\n",
      "36 n[i]: 22 p antigo: 5985194936697395266747189267169280000000000000\n",
      "p novo: 131674288607342695868438163877724160000000000000\n",
      "37 n[i]: 3 p antigo: 131674288607342695868438163877724160000000000000\n",
      "p novo: 395022865822028087605314491633172480000000000000\n",
      "38 n[i]: 1 p antigo: 395022865822028087605314491633172480000000000000\n",
      "p novo: 395022865822028087605314491633172480000000000000\n",
      "39 n[i]: 42 p antigo: 395022865822028087605314491633172480000000000000\n",
      "p novo: 16590960364525179679423208648593244160000000000000\n",
      "40 n[i]: 10 p antigo: 16590960364525179679423208648593244160000000000000\n",
      "p novo: 165909603645251796794232086485932441600000000000000\n",
      "41 n[i]: 23 p antigo: 165909603645251796794232086485932441600000000000000\n",
      "p novo: 3815920883840791326267337989176446156800000000000000\n",
      "42 n[i]: 45 p antigo: 3815920883840791326267337989176446156800000000000000\n",
      "p novo: 171716439772835609682030209512940077056000000000000000\n",
      "43 n[i]: 94 p antigo: 171716439772835609682030209512940077056000000000000000\n",
      "p novo: 16141345338646547310110839694216367243264000000000000000\n",
      "44 n[i]: 2 p antigo: 16141345338646547310110839694216367243264000000000000000\n",
      "p novo: 32282690677293094620221679388432734486528000000000000000\n",
      "45 n[i]: 5 p antigo: 32282690677293094620221679388432734486528000000000000000\n",
      "p novo: 161413453386465473101108396942163672432640000000000000000\n",
      "46 n[i]: 78 p antigo: 161413453386465473101108396942163672432640000000000000000\n",
      "p novo: 12590249364144306901886454961488766449745920000000000000000\n",
      "47 n[i]: 102 p antigo: 12590249364144306901886454961488766449745920000000000000000\n",
      "p novo: 1284205435142719303992418406071854177874083840000000000000000\n",
      "48 n[i]: 103 p antigo: 1284205435142719303992418406071854177874083840000000000000000\n",
      "p novo: 132273159819700088311219095825400980321030635520000000000000000\n",
      "49 n[i]: 78 p antigo: 132273159819700088311219095825400980321030635520000000000000000\n",
      "p novo: 10317306465936606888275089474381276465040389570560000000000000000\n",
      "50 n[i]: 96 p antigo: 10317306465936606888275089474381276465040389570560000000000000000\n",
      "p novo: 990461420729914261274408589540602540643877398773760000000000000000\n",
      "51 n[i]: 33 p antigo: 990461420729914261274408589540602540643877398773760000000000000000\n",
      "p novo: 32685226884087170622055483454839883841247954159534080000000000000000\n",
      "52 n[i]: 41 p antigo: 32685226884087170622055483454839883841247954159534080000000000000000\n",
      "p novo: 1340094302247573995504274821648435237491166120540897280000000000000000\n",
      "53 n[i]: 36 p antigo: 1340094302247573995504274821648435237491166120540897280000000000000000\n",
      "p novo: 48243394880912663838153893579343668549681980339472302080000000000000000\n",
      "54 n[i]: 15 p antigo: 48243394880912663838153893579343668549681980339472302080000000000000000\n",
      "p novo: 723650923213689957572308403690155028245229705092084531200000000000000000\n",
      "55 n[i]: 16 p antigo: 723650923213689957572308403690155028245229705092084531200000000000000000\n",
      "p novo: 11578414771419039321156934459042480451923675281473352499200000000000000000\n",
      "56 n[i]: 10 p antigo: 11578414771419039321156934459042480451923675281473352499200000000000000000\n",
      "p novo: 115784147714190393211569344590424804519236752814733524992000000000000000000\n",
      "57 n[i]: 9 p antigo: 115784147714190393211569344590424804519236752814733524992000000000000000000\n",
      "p novo: 1042057329427713538904124101313823240673130775332601724928000000000000000000\n"
     ]
    },
    {
     "data": {
      "text/plain": "1042057329427713538904124101313823240673130775332601724928000000000000000000"
     },
     "execution_count": 24,
     "metadata": {},
     "output_type": "execute_result"
    }
   ]
  },
  {
   "cell_type": "markdown",
   "source": [
    "- Identificação dos valores mínimo e máximo armazenados na lista \n"
   ],
   "metadata": {
    "id": "6YA15Swgfrgt"
   }
  },
  {
   "cell_type": "code",
   "source": [
    "min(lista),max(lista)"
   ],
   "metadata": {
    "id": "z2sLZlzQnTg4",
    "colab": {
     "base_uri": "https://localhost:8080/"
    },
    "outputId": "26f151d7-6d82-46fd-fa12-ed5fda0e1a0b"
   },
   "execution_count": 25,
   "outputs": [
    {
     "data": {
      "text/plain": "(1, 643)"
     },
     "execution_count": 25,
     "metadata": {},
     "output_type": "execute_result"
    }
   ]
  },
  {
   "cell_type": "code",
   "source": [
    "lista.sort()"
   ],
   "metadata": {
    "id": "t2hnd6fzr9BU"
   },
   "execution_count": 26,
   "outputs": []
  },
  {
   "cell_type": "code",
   "source": [
    "lista[0],lista[-1]"
   ],
   "metadata": {
    "colab": {
     "base_uri": "https://localhost:8080/"
    },
    "id": "jYgqGrbZsCXE",
    "outputId": "08072355-d1d8-4ea9-d038-ca5f3efed83b"
   },
   "execution_count": 27,
   "outputs": [
    {
     "data": {
      "text/plain": "(1, 643)"
     },
     "execution_count": 27,
     "metadata": {},
     "output_type": "execute_result"
    }
   ]
  },
  {
   "cell_type": "markdown",
   "source": [
    "- Média da lista"
   ],
   "metadata": {
    "id": "pw5FiGXrfu_t"
   }
  },
  {
   "cell_type": "code",
   "source": [
    "media = sum(lista)/len(lista)\n",
    "media"
   ],
   "metadata": {
    "id": "4YpL9bWkpf6h",
    "colab": {
     "base_uri": "https://localhost:8080/"
    },
    "outputId": "7d468a7e-c314-4641-80be-e1130a6237d2"
   },
   "execution_count": 28,
   "outputs": [
    {
     "data": {
      "text/plain": "71.63793103448276"
     },
     "execution_count": 28,
     "metadata": {},
     "output_type": "execute_result"
    }
   ]
  },
  {
   "cell_type": "code",
   "source": [
    "soma = 0\n",
    "for i, j in enumerate(lista):\n",
    "  #print(i,j)\n",
    "  soma = soma + j\n",
    "media = soma/(i+1)\n",
    "media "
   ],
   "metadata": {
    "colab": {
     "base_uri": "https://localhost:8080/"
    },
    "id": "-scEa94hspvE",
    "outputId": "7c3dc029-7bfd-468f-f796-9a10469d8e64"
   },
   "execution_count": 29,
   "outputs": [
    {
     "data": {
      "text/plain": "71.63793103448276"
     },
     "execution_count": 29,
     "metadata": {},
     "output_type": "execute_result"
    }
   ]
  },
  {
   "cell_type": "markdown",
   "source": [
    "- Moda da lista "
   ],
   "metadata": {
    "id": "4YLBtXobfxxl"
   }
  },
  {
   "cell_type": "code",
   "source": [
    "dic = {}\n",
    "for i in lista:\n",
    "  if i in dic:\n",
    "    dic[i] = dic[i] + 1\n",
    "  else:\n",
    "    dic[i] = 1"
   ],
   "metadata": {
    "id": "QvRO1vZUpnKO"
   },
   "execution_count": 30,
   "outputs": []
  },
  {
   "cell_type": "code",
   "source": [
    "dic.keys()"
   ],
   "metadata": {
    "id": "awWfk6wdtwD8"
   },
   "execution_count": 31,
   "outputs": [
    {
     "data": {
      "text/plain": "dict_keys([1, 2, 3, 4, 5, 6, 9, 10, 11, 12, 15, 16, 22, 23, 33, 34, 36, 41, 42, 43, 45, 46, 67, 75, 76, 78, 92, 94, 96, 100, 102, 103, 523, 542, 643])"
     },
     "execution_count": 31,
     "metadata": {},
     "output_type": "execute_result"
    }
   ]
  },
  {
   "cell_type": "markdown",
   "source": [
    "[achar o valor maximo armazenado no dicionario](https://stackoverflow.com/questions/268272/getting-key-with-maximum-value-in-dictionary)"
   ],
   "metadata": {
    "id": "76qw99Esu8Ib"
   }
  },
  {
   "cell_type": "code",
   "source": [
    "max(dic,key = dic.get),dic[3]"
   ],
   "metadata": {
    "colab": {
     "base_uri": "https://localhost:8080/"
    },
    "id": "YqkDBJgZt5pE",
    "outputId": "73ac1515-d8b9-4b22-cca6-becfbbbf53e1"
   },
   "execution_count": 32,
   "outputs": [
    {
     "data": {
      "text/plain": "(3, 6)"
     },
     "execution_count": 32,
     "metadata": {},
     "output_type": "execute_result"
    }
   ]
  },
  {
   "cell_type": "code",
   "source": [
    "max(dic)"
   ],
   "metadata": {
    "colab": {
     "base_uri": "https://localhost:8080/"
    },
    "id": "TUxEnnunurDa",
    "outputId": "1bcbc09f-7756-427d-bea9-339f0c65cd0a"
   },
   "execution_count": 33,
   "outputs": [
    {
     "data": {
      "text/plain": "643"
     },
     "execution_count": 33,
     "metadata": {},
     "output_type": "execute_result"
    }
   ]
  },
  {
   "cell_type": "code",
   "source": [
    "import numpy as np "
   ],
   "metadata": {
    "id": "SyTDJcoWuLIr"
   },
   "execution_count": 34,
   "outputs": []
  },
  {
   "cell_type": "code",
   "source": [
    "np.unique(lista,return_counts = True)"
   ],
   "metadata": {
    "colab": {
     "base_uri": "https://localhost:8080/"
    },
    "id": "_zknuyRNuNer",
    "outputId": "d7837163-f54a-4afe-b236-a246d217df2a"
   },
   "execution_count": 35,
   "outputs": [
    {
     "data": {
      "text/plain": "(array([  1,   2,   3,   4,   5,   6,   9,  10,  11,  12,  15,  16,  22,\n         23,  33,  34,  36,  41,  42,  43,  45,  46,  67,  75,  76,  78,\n         92,  94,  96, 100, 102, 103, 523, 542, 643]),\n array([2, 5, 6, 2, 4, 1, 1, 3, 1, 1, 1, 1, 1, 1, 1, 1, 1, 1, 1, 1, 2, 1,\n        1, 1, 1, 2, 1, 2, 1, 3, 2, 1, 2, 1, 1]))"
     },
     "execution_count": 35,
     "metadata": {},
     "output_type": "execute_result"
    }
   ]
  },
  {
   "cell_type": "code",
   "source": [
    "dic.keys()"
   ],
   "metadata": {
    "id": "u5sGf-BOuPlM"
   },
   "execution_count": 36,
   "outputs": [
    {
     "data": {
      "text/plain": "dict_keys([1, 2, 3, 4, 5, 6, 9, 10, 11, 12, 15, 16, 22, 23, 33, 34, 36, 41, 42, 43, 45, 46, 67, 75, 76, 78, 92, 94, 96, 100, 102, 103, 523, 542, 643])"
     },
     "execution_count": 36,
     "metadata": {},
     "output_type": "execute_result"
    }
   ]
  },
  {
   "cell_type": "markdown",
   "metadata": {
    "id": "_i7xhGTokpKW"
   },
   "source": [
    "## Funções pertencentes a bibliotecas"
   ]
  },
  {
   "cell_type": "markdown",
   "metadata": {
    "id": "5voziwjpqgQM"
   },
   "source": [
    "Bom, provavelmente a parte mais difícil do último exercício foi o cálculo da moda, certo?\n",
    "\n",
    "Isso porque tivemos que desenvolver um jeito de achar a moda do conjunto sem fazer uso pronto de uma função. \n",
    "\n",
    "Mas existem bibliotecas em Python que podemos fazer uso que economizam esse nosso tempo de desenvolvimento de código. São diversas bibliotecas disponíveis, é preciso aprender a procurá-las. \n",
    "\n",
    "O que sempre faço é escrever no meu buscador de internet se essa função que pretendo usar já foi criada por alguém. Na maioria das vezes, sim. \n"
   ]
  },
  {
   "cell_type": "markdown",
   "metadata": {
    "id": "h9-UdAnprVd6"
   },
   "source": [
    "E, para a nossa felicidade, alguém já desenvolveu uma função para acharmos a moda de uma lista, vamos conhecê-la."
   ]
  },
  {
   "cell_type": "markdown",
   "metadata": {
    "id": "j8jEMzGFrmTu"
   },
   "source": [
    "Essa função se chama *mode* e se encontra dentro da classe *stats* da biblioteca *scipy*. Vamos dar uma olhada em sua documentação:\n",
    "\n",
    "[documentação da scipy.stats.mode](https://docs.scipy.org/doc/scipy/reference/generated/scipy.stats.mode.html)"
   ]
  },
  {
   "cell_type": "code",
   "metadata": {
    "id": "awkjpqzIrtqp"
   },
   "source": [
    "from scipy import stats"
   ],
   "execution_count": 37,
   "outputs": []
  },
  {
   "cell_type": "code",
   "metadata": {
    "id": "ZekQ_M43r4jH",
    "colab": {
     "base_uri": "https://localhost:8080/"
    },
    "outputId": "d0ed4a42-9055-4ae9-80cd-e784f5eb06dd"
   },
   "source": [
    "stats.mode(lista) "
   ],
   "execution_count": 38,
   "outputs": [
    {
     "name": "stderr",
     "output_type": "stream",
     "text": [
      "/var/folders/q5/mq99vybs12g8j5nnycg2g3x80000gn/T/ipykernel_14475/711834943.py:1: FutureWarning: Unlike other reduction functions (e.g. `skew`, `kurtosis`), the default behavior of `mode` typically preserves the axis it acts along. In SciPy 1.11.0, this behavior will change: the default value of `keepdims` will become False, the `axis` over which the statistic is taken will be eliminated, and the value None will no longer be accepted. Set `keepdims` to True or False to avoid this warning.\n",
      "  stats.mode(lista)\n"
     ]
    },
    {
     "data": {
      "text/plain": "ModeResult(mode=array([3]), count=array([6]))"
     },
     "execution_count": 38,
     "metadata": {},
     "output_type": "execute_result"
    }
   ]
  },
  {
   "cell_type": "code",
   "source": [
    "a,b = stats.mode(lista) "
   ],
   "metadata": {
    "id": "1brjtpF2vypE"
   },
   "execution_count": 39,
   "outputs": [
    {
     "name": "stderr",
     "output_type": "stream",
     "text": [
      "/var/folders/q5/mq99vybs12g8j5nnycg2g3x80000gn/T/ipykernel_14475/1552859971.py:1: FutureWarning: Unlike other reduction functions (e.g. `skew`, `kurtosis`), the default behavior of `mode` typically preserves the axis it acts along. In SciPy 1.11.0, this behavior will change: the default value of `keepdims` will become False, the `axis` over which the statistic is taken will be eliminated, and the value None will no longer be accepted. Set `keepdims` to True or False to avoid this warning.\n",
      "  a,b = stats.mode(lista)\n"
     ]
    }
   ]
  },
  {
   "cell_type": "code",
   "source": [
    "a[0]"
   ],
   "metadata": {
    "colab": {
     "base_uri": "https://localhost:8080/"
    },
    "id": "McH3cNTDv1DS",
    "outputId": "d5160d6c-d085-4713-e289-2acf150617b8"
   },
   "execution_count": 40,
   "outputs": [
    {
     "data": {
      "text/plain": "3"
     },
     "execution_count": 40,
     "metadata": {},
     "output_type": "execute_result"
    }
   ]
  },
  {
   "cell_type": "code",
   "source": [
    "b[0]"
   ],
   "metadata": {
    "colab": {
     "base_uri": "https://localhost:8080/"
    },
    "id": "4qA5reH1v1qC",
    "outputId": "b484726c-5903-4c7d-886a-624877c00b46"
   },
   "execution_count": 41,
   "outputs": [
    {
     "data": {
      "text/plain": "6"
     },
     "execution_count": 41,
     "metadata": {},
     "output_type": "execute_result"
    }
   ]
  },
  {
   "cell_type": "markdown",
   "metadata": {
    "id": "6qZ4_As6r8Xf"
   },
   "source": [
    "Podemos ver que a função *mode* nos forneceu uma tupla como resposta, essa tupla tem 2 elementos:\n",
    "\n",
    "*   a moda (quem queremos saber)\n",
    "*   quantas vezes a moda aparece em nosso conjunto de dados\n",
    "\n",
    "Para recuperarmos esses valores separadamente, devemos fazer:\n",
    "\n"
   ]
  },
  {
   "cell_type": "code",
   "metadata": {
    "id": "ReA-x6BQsMu1"
   },
   "source": [],
   "execution_count": 41,
   "outputs": []
  },
  {
   "cell_type": "markdown",
   "metadata": {
    "id": "wm2wBVPKsnyc"
   },
   "source": [
    "Repare que as duas saídas fornecidas são listas, para recuperar os números fora da lista, fazemos:"
   ]
  },
  {
   "cell_type": "code",
   "metadata": {
    "id": "_bNCy5YQsnPP",
    "colab": {
     "base_uri": "https://localhost:8080/"
    },
    "outputId": "89b47790-ec7e-4a56-850d-343fb3f51e5c"
   },
   "source": [
    "a[0]"
   ],
   "execution_count": 42,
   "outputs": [
    {
     "data": {
      "text/plain": "3"
     },
     "execution_count": 42,
     "metadata": {},
     "output_type": "execute_result"
    }
   ]
  },
  {
   "cell_type": "code",
   "source": [
    "b[0]"
   ],
   "metadata": {
    "colab": {
     "base_uri": "https://localhost:8080/"
    },
    "id": "bSb-VzzdwWki",
    "outputId": "56a4c411-e011-490d-f3aa-6eed12017bcf"
   },
   "execution_count": 43,
   "outputs": [
    {
     "data": {
      "text/plain": "6"
     },
     "execution_count": 43,
     "metadata": {},
     "output_type": "execute_result"
    }
   ]
  },
  {
   "cell_type": "markdown",
   "metadata": {
    "id": "pPs_9X3Cs0Hg"
   },
   "source": [
    "Existe outro modo de achar a moda de um conjunto de dados, essa segunda alternativa é por meio da biblioteca *statistics*. \n",
    "\n",
    "Vamos ver a documentação: [documentação de statistics](https://docs.python.org/3/library/statistics.html)"
   ]
  },
  {
   "cell_type": "code",
   "metadata": {
    "id": "3PHvhyeasekg"
   },
   "source": [
    "import statistics"
   ],
   "execution_count": 44,
   "outputs": []
  },
  {
   "cell_type": "code",
   "metadata": {
    "id": "jsPf77HcshFG",
    "colab": {
     "base_uri": "https://localhost:8080/"
    },
    "outputId": "9486bc3e-c283-44b1-e1f0-a71156040e03"
   },
   "source": [
    "statistics.mode(lista)"
   ],
   "execution_count": 45,
   "outputs": [
    {
     "data": {
      "text/plain": "3"
     },
     "execution_count": 45,
     "metadata": {},
     "output_type": "execute_result"
    }
   ]
  },
  {
   "cell_type": "code",
   "source": [
    "!python --version"
   ],
   "metadata": {
    "colab": {
     "base_uri": "https://localhost:8080/"
    },
    "id": "3j7YdtzyxeaA",
    "outputId": "8a2c964c-94ff-4781-de00-e4ba8113c864"
   },
   "execution_count": 46,
   "outputs": [
    {
     "name": "stdout",
     "output_type": "stream",
     "text": [
      "Python 3.10.8\r\n"
     ]
    }
   ]
  },
  {
   "cell_type": "markdown",
   "source": [
    "- A função multimode só funciona para Python >= 3.8"
   ],
   "metadata": {
    "id": "d_VAE-2hxjYt"
   }
  },
  {
   "cell_type": "code",
   "source": [
    "from statistics import multimode"
   ],
   "metadata": {
    "id": "LzkVCavgxUVR"
   },
   "execution_count": 47,
   "outputs": []
  },
  {
   "cell_type": "code",
   "source": [
    "statistics.multimode('aabbbbccddddeeffffgg')"
   ],
   "metadata": {
    "id": "AUB4AuTkwywl"
   },
   "execution_count": 48,
   "outputs": [
    {
     "data": {
      "text/plain": "['b', 'd', 'f']"
     },
     "execution_count": 48,
     "metadata": {},
     "output_type": "execute_result"
    }
   ]
  },
  {
   "cell_type": "markdown",
   "metadata": {
    "id": "HMVgxaACkw2s"
   },
   "source": [
    "Como resposta, ela fornece direto a moda do conjunto. "
   ]
  },
  {
   "cell_type": "markdown",
   "source": [
    "Outro modo de verificar se de fato encontramos a moda do nosso conjunto de dados é por meio de visualização gráfica. "
   ],
   "metadata": {
    "id": "h1cwmTeNY9EU"
   }
  },
  {
   "cell_type": "markdown",
   "source": [
    "Em Python, existem diversas bibliotecas disponíveis para você criar seu gráfico, dentre elas, as mais utilizadas em ciência de dados são:\n",
    "- [matplotlib](https://matplotlib.org/stable/gallery/index)\n",
    "- [seaborn](https://seaborn.pydata.org/examples/index.html)\n",
    "- [plotly](https://plotly.com/python/)"
   ],
   "metadata": {
    "id": "_EUdzaQLZckp"
   }
  },
  {
   "cell_type": "code",
   "source": [],
   "metadata": {
    "id": "_Xg-Ri87uaz_"
   },
   "execution_count": 48,
   "outputs": []
  },
  {
   "cell_type": "markdown",
   "source": [
    "Retornando ao nosso problema da moda do conjunto de dados, podemos fazer uso de um histograma. A biblioteca **matplotlib** tem a função *hist* dedicada para esse tipo de gráfico."
   ],
   "metadata": {
    "id": "vBIRvLWfaYej"
   }
  },
  {
   "cell_type": "markdown",
   "source": [
    "<center><img src=\"https://github.com/amandalemette/images/blob/4d00c1bf75110f33965986098e5eb4b6b005a57c/BiMaster/hist.png?raw=true\"  width=600 height=300 />"
   ],
   "metadata": {
    "id": "2OOHPLgnapfe"
   }
  },
  {
   "cell_type": "code",
   "source": [
    "import matplotlib.pyplot as plt "
   ],
   "metadata": {
    "id": "rp50HB8_Xka0"
   },
   "execution_count": 49,
   "outputs": []
  },
  {
   "cell_type": "code",
   "source": [
    "len(lista)"
   ],
   "metadata": {
    "id": "JMZ3pbaBzWwP"
   },
   "execution_count": 50,
   "outputs": [
    {
     "data": {
      "text/plain": "58"
     },
     "execution_count": 50,
     "metadata": {},
     "output_type": "execute_result"
    }
   ]
  },
  {
   "cell_type": "code",
   "source": [
    "plt.hist(lista,bins = 800,edgecolor = 'black',facecolor = 'orangered')\n",
    "plt.xlim([0,10])\n",
    "plt.savefig('grafico_barras.png',dpi = 600,transparent = True)\n",
    "plt.show()"
   ],
   "metadata": {
    "id": "bjSLoHQD3uwS",
    "colab": {
     "base_uri": "https://localhost:8080/",
     "height": 265
    },
    "outputId": "a5020817-787d-4513-98b1-6fa5808875b9"
   },
   "execution_count": 51,
   "outputs": [
    {
     "data": {
      "text/plain": "<Figure size 640x480 with 1 Axes>",
      "image/png": "[encoded data removed]"
     },
     "metadata": {},
     "output_type": "display_data"
    }
   ]
  },
  {
   "cell_type": "code",
   "source": [],
   "metadata": {
    "id": "U5L3fqrn3uUE"
   },
   "execution_count": 51,
   "outputs": []
  },
  {
   "cell_type": "markdown",
   "source": [
    "**Para praticar**"
   ],
   "metadata": {
    "id": "Ip4fsN-DbtR2"
   }
  },
  {
   "cell_type": "markdown",
   "source": [
    "Considere a lista *A* seguir. Construa um histograma com ela de tal modo que o histograma fique igual ao apresentado abaixo (use bins = 20)."
   ],
   "metadata": {
    "id": "tl5qJStYbzEN"
   }
  },
  {
   "cell_type": "code",
   "source": [
    "A = [ 9,  0, 27,  4, 11, 43, 46, 30, 34, 21,  1,  5,  1, 46, 25,  5, 35,\n",
    "        4, 10, 17, 16,  0, 33, 39, 12, 26, 12, 24,  3, 11, 18, 48, 32, 22,\n",
    "        0, 34, 49, 49,  7, 10,  6, 32, 45, 21, 13, 16,  0, 17, 46, 17, 13,\n",
    "       38,  5, 10, 48, 23,  4, 22, 43,  9, 48, 26, 11, 43,  0, 47, 15, 29,\n",
    "       10, 29, 16, 32, 29, 13, 13, 49,  2,  4, 35, 49, 22, 27, 24, 12, 27,\n",
    "       30,  6, 46,  5, 44, 28, 41, 39, 31, 23,  2,  2, 47, 45, 39, 32, 46,\n",
    "        8, 16, 11, 33, 31,  0, 36, 27, 37,  2,  7, 45, 39, 21, 41, 47, 36,\n",
    "       27, 23, 38,  4, 19,  3,  6, 44, 32, 29, 12, 35, 25, 19, 14, 45,  2,\n",
    "       29, 24, 24, 38, 46, 38, 19, 17, 46, 17, 40, 29, 41, 46, 11, 18,  9,\n",
    "       48, 21, 34, 29, 13, 25, 34,  6, 33, 27, 40, 49, 13, 45, 44, 39, 44,\n",
    "       41, 46, 48, 32, 42,  4, 14, 18, 32,  8, 18,  8, 39, 15, 39, 43, 44,\n",
    "       26, 45, 10, 14, 34, 35,  5, 31, 19, 46, 49, 34, 12, 20, 35,  0, 35,\n",
    "       11, 46, 17, 30, 35,  6, 13, 43, 37, 15, 25, 45, 31, 42, 26,  2, 32,\n",
    "       23,  5, 45, 16, 38, 42, 27, 30, 27, 43, 39, 44, 45,  6,  0, 48, 16,\n",
    "       17, 43,  2, 36, 43,  1, 16,  4, 43, 46, 14, 25,  7, 33,  5, 12, 10,\n",
    "       26,  5, 15,  1, 47,  8, 49,  3, 49, 44, 45, 36, 35, 40, 41, 45, 28,\n",
    "       49, 27, 16,  9,  8,  7,  6, 38, 41, 28, 11, 42,  2, 19,  1,  7, 17,\n",
    "       12, 19, 48, 39,  3, 40, 21, 24, 25, 24, 14, 28, 34, 14, 39, 49, 26,\n",
    "       36, 34, 42, 46,  0, 23, 22, 22, 11, 27, 36,  1, 21, 49, 21,  2, 37,\n",
    "       11, 25, 13, 31, 30, 33, 40, 32, 35, 31, 26, 41, 30, 33, 36, 17, 10,\n",
    "       41, 13, 20,  5, 41, 48, 45, 49,  8, 48, 16, 32,  7, 19,  7, 10,  4,\n",
    "       34, 33, 36, 33, 20, 27, 29, 37, 29, 28, 16,  4, 49, 44, 44,  4, 32,\n",
    "       15, 23,  0, 49, 30,  4, 30, 47,  7, 28, 23,  7, 37, 41, 27,  2, 41,\n",
    "       20, 48, 15, 49, 15,  7,  7, 37, 21, 21, 32, 40, 29, 33, 31,  9, 13,\n",
    "        3, 27, 28,  8, 17, 12, 40, 40, 32, 42, 11, 44, 45, 37,  8, 11, 34,\n",
    "        0,  3, 35,  4, 14, 40,  2, 49, 27, 32, 17,  9,  1, 19, 12, 30, 38,\n",
    "       29, 18, 20, 25,  0, 26,  7, 27, 43, 23, 26, 20, 19, 40, 29, 26, 27,\n",
    "        1, 42, 30, 25,  8, 22, 27, 40, 45, 37, 24, 34, 18, 18, 17, 22, 19,\n",
    "        1,  6, 46,  8, 43, 27, 17, 15, 47, 20,  6, 43, 27,  8, 42, 40, 27,\n",
    "        8, 49, 23, 19, 49, 29, 19]"
   ],
   "metadata": {
    "id": "32xjtkt8cOMG"
   },
   "execution_count": 52,
   "outputs": []
  },
  {
   "cell_type": "markdown",
   "source": [
    "<center><img src=\"https://github.com/amandalemette/images/blob/4859981cf8f1a859a6b00e75d795ef228138f806/BiMaster/hist2.png?raw=true\"  width=400 height=300 />"
   ],
   "metadata": {
    "id": "VN63syj2dYgI"
   }
  },
  {
   "cell_type": "code",
   "source": [
    "import matplotlib.pyplot as plt "
   ],
   "metadata": {
    "id": "7zDA8HZ37qPS"
   },
   "execution_count": 53,
   "outputs": []
  },
  {
   "cell_type": "code",
   "source": [
    "plt.hist(A,bins=20,color = 'forestgreen',edgecolor = 'black',orientation = 'horizontal',alpha = 0.8)\n",
    "#plt.show()"
   ],
   "metadata": {
    "id": "igFl5koEdhZC",
    "colab": {
     "base_uri": "https://localhost:8080/",
     "height": 372
    },
    "outputId": "a1eaae17-4adc-4952-d934-e6f169dccc45"
   },
   "execution_count": 54,
   "outputs": [
    {
     "data": {
      "text/plain": "(array([32., 18., 30., 18., 28., 17., 31., 19., 23., 16., 19., 40., 17.,\n        34., 18., 25., 23., 30., 28., 34.]),\n array([ 0.  ,  2.45,  4.9 ,  7.35,  9.8 , 12.25, 14.7 , 17.15, 19.6 ,\n        22.05, 24.5 , 26.95, 29.4 , 31.85, 34.3 , 36.75, 39.2 , 41.65,\n        44.1 , 46.55, 49.  ]),\n <BarContainer object of 20 artists>)"
     },
     "execution_count": 54,
     "metadata": {},
     "output_type": "execute_result"
    },
    {
     "data": {
      "text/plain": "<Figure size 640x480 with 1 Axes>",
      "image/png": "[encoded data removed]"
     },
     "metadata": {},
     "output_type": "display_data"
    }
   ]
  },
  {
   "cell_type": "markdown",
   "source": [
    "<img src=\"https://github.com/amandalemette/images/blob/e011da7260c032bae5c49e56a14ad97c13b8c679/BiMaster/bimaster.png?raw=true\"  width=1000 height=80 />"
   ],
   "metadata": {
    "id": "X1wdHSrjbg4h"
   }
  },
  {
   "cell_type": "markdown",
   "metadata": {
    "id": "W8LXDTvrjXBS"
   },
   "source": [
    "## Funções criadas pelo usuário"
   ]
  },
  {
   "cell_type": "markdown",
   "metadata": {
    "id": "Ii4Ti-PkjayS"
   },
   "source": [
    "Bom, nós já vimos várias funções que existem em Python e que, para usá-las, não precisamos fazer a importação de nenhuma biblioteca. Porém, nós, como usuários, muitas vezes sentimos a necessidade de criarmos funções para facilitar nossa vida."
   ]
  },
  {
   "cell_type": "markdown",
   "metadata": {
    "id": "qL_T95IRjcnX"
   },
   "source": [
    "O Python reconhece funções pela palavra **def**. \n",
    "\n",
    "A sintaxe da função é:\n",
    "```bash\n",
    "def nome_função(variáveis de entrada): --> Não esquecer os dois pontos ao final. \n",
    "    - código aqui linha 1\n",
    "    - código aqui linha 2\n",
    "    - código aqui linha 3\n",
    "    return (variáveis de saída)\n",
    "```\n",
    "Depois de você pressionar o *ENTER* ao final dos :, todo código que estiver com ao menos 4 espaços afastados do *def* fará parte da função declarada. 4 espaços do teclado equivale a 1 TAB (1 identação). \n",
    "\n",
    "A função, se precisar retornar variáveis para o programa principal, termina com o *return* e ao lado do return as variáveis de saída. "
   ]
  },
  {
   "cell_type": "markdown",
   "source": [
    "A função **SEMPRE** deve ser declarada antes de sua chamada no programa."
   ],
   "metadata": {
    "id": "WA77cjozNr7h"
   }
  },
  {
   "cell_type": "markdown",
   "metadata": {
    "id": "gPaya2Fijh0L"
   },
   "source": [
    "Vamos ver alguns exemplos de funções."
   ]
  },
  {
   "cell_type": "markdown",
   "metadata": {
    "id": "8DufaVPhcNYF"
   },
   "source": [
    "### Função que não retorna nada "
   ]
  },
  {
   "cell_type": "code",
   "metadata": {
    "id": "x7vfvUBvcVNU"
   },
   "source": [
    "def cumprimento(parte_dia):\n",
    "  if parte_dia == 'manha':\n",
    "    print('Bom dia!')\n",
    "  elif parte_dia == 'tarde':\n",
    "    print('Boa tarde!')\n",
    "  else:\n",
    "    print('Boa noite!')"
   ],
   "execution_count": 55,
   "outputs": []
  },
  {
   "cell_type": "code",
   "metadata": {
    "id": "7lzPKSLDcivW",
    "colab": {
     "base_uri": "https://localhost:8080/"
    },
    "outputId": "75d7e4f4-fa6a-4d96-ccf9-64e918b37ac3"
   },
   "source": [
    "resposta = input('Diga se hoje é: [manha, tarde, noite]: ')\n",
    "cumprimento(resposta)"
   ],
   "execution_count": 56,
   "outputs": [
    {
     "name": "stdout",
     "output_type": "stream",
     "text": [
      "Bom dia!\n"
     ]
    }
   ]
  },
  {
   "cell_type": "markdown",
   "metadata": {
    "id": "VNArPCIJcue0"
   },
   "source": [
    "A função *cumprimento* não retorna nenhuma variável para o programa principal. Mas toda vez que é chamada, ela mostra uma frase na tela correspondente à variável de entrada que recebe. "
   ]
  },
  {
   "cell_type": "markdown",
   "metadata": {
    "id": "AB2ge8I-ewug"
   },
   "source": [
    "### Função info"
   ]
  },
  {
   "cell_type": "code",
   "metadata": {
    "id": "a6zyGFIfe1pL"
   },
   "source": [
    "def info():\n",
    "  print('******************************* Atenção *******************************\\nnão é permitido consultar nenhum material durante a execução da prova,\\né permitido comer e beber durante o exame e\\né permitido ir ao banheiro.\\n***********************************************************************')"
   ],
   "execution_count": 57,
   "outputs": []
  },
  {
   "cell_type": "code",
   "metadata": {
    "id": "Hyq_4EPMfLiQ",
    "colab": {
     "base_uri": "https://localhost:8080/"
    },
    "outputId": "32e6146f-cfaf-4d1d-97e7-60ea991b96d5"
   },
   "source": [
    "info()"
   ],
   "execution_count": 58,
   "outputs": [
    {
     "name": "stdout",
     "output_type": "stream",
     "text": [
      "******************************* Atenção *******************************\n",
      "não é permitido consultar nenhum material durante a execução da prova,\n",
      "é permitido comer e beber durante o exame e\n",
      "é permitido ir ao banheiro.\n",
      "***********************************************************************\n"
     ]
    }
   ]
  },
  {
   "cell_type": "markdown",
   "metadata": {
    "id": "Glfi6d6MfYaH"
   },
   "source": [
    "A função *info* não recebe nenhum valor como entrada e também não retorna nada, toda vez que ela é chamada, ela imprime uma mensagem na tela. "
   ]
  },
  {
   "cell_type": "markdown",
   "metadata": {
    "id": "g5tZw3Qtjpnp"
   },
   "source": [
    "### Função menor_dif"
   ]
  },
  {
   "cell_type": "code",
   "metadata": {
    "id": "qj38N26Fieps"
   },
   "source": [
    "def menor_dif(a, b, c):\n",
    "    dif1 = abs(a - b)\n",
    "    dif2 = abs(b - c)\n",
    "    dif3 = abs(a - c)\n",
    "    return min(dif1, dif2, dif3)"
   ],
   "execution_count": 59,
   "outputs": []
  },
  {
   "cell_type": "markdown",
   "metadata": {
    "id": "8bEHjyPfjzuX"
   },
   "source": [
    "Criamos uma função chamada *menor_dif* que recebe três argumentos, *a*, *b* e *c*.\n",
    "\n",
    "Pode-se notar que a função começou com o cabeçalho introduzido pela palavra-chave *def*. O bloco recuado de código após os dois pontos é executado quando a função é chamada.\n",
    "\n",
    "*return* é outra palavra-chave associada exclusivamente a funções. Quando o *Python* encontra uma instrução de retorno, ele sai da função imediatamente e passa o valor do lado direito para o contexto de chamada.\n",
    "\n",
    "Está claro o que *menor_dif()* faz? Se não tivermos certeza, podemos sempre experimentar com alguns exemplos:"
   ]
  },
  {
   "cell_type": "code",
   "metadata": {
    "id": "o_aQ7WMSj0JQ",
    "colab": {
     "base_uri": "https://localhost:8080/"
    },
    "outputId": "e5fb0441-f946-4d1f-edf9-68a0ea761db2"
   },
   "source": [
    "resp = menor_dif(1,10,100)\n",
    "resp"
   ],
   "execution_count": 60,
   "outputs": [
    {
     "data": {
      "text/plain": "9"
     },
     "execution_count": 60,
     "metadata": {},
     "output_type": "execute_result"
    }
   ]
  },
  {
   "cell_type": "code",
   "metadata": {
    "id": "aBx8il3Zj2JZ",
    "colab": {
     "base_uri": "https://localhost:8080/"
    },
    "outputId": "6513587a-30f9-47fa-a673-d1a50c8a9e1f"
   },
   "source": [
    "menor_dif(4,5,6)"
   ],
   "execution_count": 61,
   "outputs": [
    {
     "data": {
      "text/plain": "1"
     },
     "execution_count": 61,
     "metadata": {},
     "output_type": "execute_result"
    }
   ]
  },
  {
   "cell_type": "code",
   "metadata": {
    "id": "4wkoYBRGj3X4",
    "colab": {
     "base_uri": "https://localhost:8080/"
    },
    "outputId": "e9a482d6-adc1-4fa3-ed6f-29d10b3474f7"
   },
   "source": [
    "help(menor_dif)"
   ],
   "execution_count": 62,
   "outputs": [
    {
     "name": "stdout",
     "output_type": "stream",
     "text": [
      "Help on function menor_dif in module __main__:\n",
      "\n",
      "menor_dif(a, b, c)\n",
      "\n"
     ]
    }
   ]
  },
  {
   "cell_type": "code",
   "metadata": {
    "id": "2G0fVVCmj40x"
   },
   "source": [],
   "execution_count": 62,
   "outputs": []
  },
  {
   "cell_type": "markdown",
   "metadata": {
    "id": "yIt1pSuNj9E3"
   },
   "source": [
    "Infelizmente o *Python* não é inteligente o suficiente para ler o meu código e transformá-lo em uma boa descrição em inglês.\n",
    "No entanto, quando escrevo uma função, posso fornecer uma descrição que é chamada de docstring. A *docstring* nada mais é do que a documentação da função (descrição dos argumentos, exemplos de resultados, etc)."
   ]
  },
  {
   "cell_type": "code",
   "metadata": {
    "id": "8WzR8bqKj6ef"
   },
   "source": [
    "def menor_dif(a, b, c):\n",
    "    '''\n",
    "    Retorna a menor diferença entre dois números quaisquer entre três números a, b e c.\n",
    "    exemplo: \n",
    "    >>> menor_dif(1,10,100):\n",
    "    9\n",
    "    '''\n",
    "    dif1 = abs(a - b)\n",
    "    dif2 = abs(b - c)\n",
    "    dif3 = abs(a - c)\n",
    "    # comentario\n",
    "    return min(dif1, dif2, dif3)"
   ],
   "execution_count": 63,
   "outputs": []
  },
  {
   "cell_type": "code",
   "source": [
    "help(menor_dif)"
   ],
   "metadata": {
    "id": "_HSRE2Lq3dH8",
    "colab": {
     "base_uri": "https://localhost:8080/"
    },
    "outputId": "d742675d-41c2-4ff8-b78d-78f9e4eeec81"
   },
   "execution_count": 64,
   "outputs": [
    {
     "name": "stdout",
     "output_type": "stream",
     "text": [
      "Help on function menor_dif in module __main__:\n",
      "\n",
      "menor_dif(a, b, c)\n",
      "    Retorna a menor diferença entre dois números quaisquer entre três números a, b e c.\n",
      "    exemplo: \n",
      "    >>> menor_dif(1,10,100):\n",
      "    9\n",
      "\n"
     ]
    }
   ]
  },
  {
   "cell_type": "markdown",
   "metadata": {
    "id": "J1p50Up8kDRm"
   },
   "source": [
    "O help pode sempre ser usado:"
   ]
  },
  {
   "cell_type": "code",
   "metadata": {
    "id": "dDliFUA-kGbp"
   },
   "source": [
    "import numpy as np"
   ],
   "execution_count": 65,
   "outputs": []
  },
  {
   "cell_type": "code",
   "metadata": {
    "id": "dlIiEw_ykAvY",
    "colab": {
     "base_uri": "https://localhost:8080/"
    },
    "outputId": "d238001b-f47b-4a41-9582-bcd1d84e9a99"
   },
   "source": [
    "help(np.random.randint)"
   ],
   "execution_count": 66,
   "outputs": [
    {
     "name": "stdout",
     "output_type": "stream",
     "text": [
      "Help on built-in function randint:\n",
      "\n",
      "randint(...) method of numpy.random.mtrand.RandomState instance\n",
      "    randint(low, high=None, size=None, dtype=int)\n",
      "    \n",
      "    Return random integers from `low` (inclusive) to `high` (exclusive).\n",
      "    \n",
      "    Return random integers from the \"discrete uniform\" distribution of\n",
      "    the specified dtype in the \"half-open\" interval [`low`, `high`). If\n",
      "    `high` is None (the default), then results are from [0, `low`).\n",
      "    \n",
      "    .. note::\n",
      "        New code should use the ``integers`` method of a ``default_rng()``\n",
      "        instance instead; please see the :ref:`random-quick-start`.\n",
      "    \n",
      "    Parameters\n",
      "    ----------\n",
      "    low : int or array-like of ints\n",
      "        Lowest (signed) integers to be drawn from the distribution (unless\n",
      "        ``high=None``, in which case this parameter is one above the\n",
      "        *highest* such integer).\n",
      "    high : int or array-like of ints, optional\n",
      "        If provided, one above the largest (signed) integer to be drawn\n",
      "        from the distribution (see above for behavior if ``high=None``).\n",
      "        If array-like, must contain integer values\n",
      "    size : int or tuple of ints, optional\n",
      "        Output shape.  If the given shape is, e.g., ``(m, n, k)``, then\n",
      "        ``m * n * k`` samples are drawn.  Default is None, in which case a\n",
      "        single value is returned.\n",
      "    dtype : dtype, optional\n",
      "        Desired dtype of the result. Byteorder must be native.\n",
      "        The default value is int.\n",
      "    \n",
      "        .. versionadded:: 1.11.0\n",
      "    \n",
      "    Returns\n",
      "    -------\n",
      "    out : int or ndarray of ints\n",
      "        `size`-shaped array of random integers from the appropriate\n",
      "        distribution, or a single such random int if `size` not provided.\n",
      "    \n",
      "    See Also\n",
      "    --------\n",
      "    random_integers : similar to `randint`, only for the closed\n",
      "        interval [`low`, `high`], and 1 is the lowest value if `high` is\n",
      "        omitted.\n",
      "    random.Generator.integers: which should be used for new code.\n",
      "    \n",
      "    Examples\n",
      "    --------\n",
      "    >>> np.random.randint(2, size=10)\n",
      "    array([1, 0, 0, 0, 1, 1, 0, 0, 1, 0]) # random\n",
      "    >>> np.random.randint(1, size=10)\n",
      "    array([0, 0, 0, 0, 0, 0, 0, 0, 0, 0])\n",
      "    \n",
      "    Generate a 2 x 4 array of ints between 0 and 4, inclusive:\n",
      "    \n",
      "    >>> np.random.randint(5, size=(2, 4))\n",
      "    array([[4, 0, 2, 1], # random\n",
      "           [3, 2, 2, 0]])\n",
      "    \n",
      "    Generate a 1 x 3 array with 3 different upper bounds\n",
      "    \n",
      "    >>> np.random.randint(1, [3, 5, 10])\n",
      "    array([2, 2, 9]) # random\n",
      "    \n",
      "    Generate a 1 by 3 array with 3 different lower bounds\n",
      "    \n",
      "    >>> np.random.randint([1, 5, 7], 10)\n",
      "    array([9, 8, 7]) # random\n",
      "    \n",
      "    Generate a 2 by 4 array using broadcasting with dtype of uint8\n",
      "    \n",
      "    >>> np.random.randint([1, 3, 5, 7], [[10], [20]], dtype=np.uint8)\n",
      "    array([[ 8,  6,  9,  7], # random\n",
      "           [ 1, 16,  9, 12]], dtype=uint8)\n",
      "\n"
     ]
    }
   ]
  },
  {
   "cell_type": "markdown",
   "metadata": {
    "id": "Fjl8KkwOkXPz"
   },
   "source": [
    "Vamos praticar um pouco... "
   ]
  },
  {
   "cell_type": "markdown",
   "metadata": {
    "id": "fT5_KkUUkaFj"
   },
   "source": [
    "### Exercício 1"
   ]
  },
  {
   "cell_type": "markdown",
   "metadata": {
    "id": "T3o-9Z63kcrj"
   },
   "source": [
    "Crie uma função que recebe uma lista e fornece a sua média. \n",
    "\n",
    "Programe a função sem fazer uso das funções *len* e *sum*. "
   ]
  },
  {
   "cell_type": "code",
   "metadata": {
    "id": "NDHXcEEFuxB7"
   },
   "source": [],
   "execution_count": null,
   "outputs": []
  },
  {
   "cell_type": "code",
   "source": [],
   "metadata": {
    "id": "TvQ80dyq9AqV"
   },
   "execution_count": null,
   "outputs": []
  },
  {
   "cell_type": "code",
   "source": [],
   "metadata": {
    "id": "tvmi2pKz6z2h"
   },
   "execution_count": null,
   "outputs": []
  },
  {
   "cell_type": "code",
   "source": [],
   "metadata": {
    "id": "mIQ0boOG9ddw"
   },
   "execution_count": null,
   "outputs": []
  },
  {
   "cell_type": "markdown",
   "metadata": {
    "id": "GF85a6tKkdNa"
   },
   "source": [
    "### Exercício 2"
   ]
  },
  {
   "cell_type": "markdown",
   "metadata": {
    "id": "J291yhbMkfq1"
   },
   "source": [
    "Crie uma função que recebe um número e fornece como resposta uma lista que corresponde à tabuada (de 1 a 10) para esse número. \n",
    "\n",
    "Exemplo:\n",
    "\n",
    "Se a função recebe o número 2, ela irá devolver:\n",
    "\n",
    "```\n",
    "[2,4,6,8,10,12,14,16,18,20]\n",
    "```\n",
    "\n"
   ]
  },
  {
   "cell_type": "code",
   "metadata": {
    "id": "LNCK9vmmvPIV"
   },
   "source": [],
   "execution_count": null,
   "outputs": []
  },
  {
   "cell_type": "code",
   "source": [],
   "metadata": {
    "id": "mDNaRJVs-G0s"
   },
   "execution_count": null,
   "outputs": []
  },
  {
   "cell_type": "markdown",
   "metadata": {
    "id": "Dj8iYq9-vPxL"
   },
   "source": [
    "### Exercício 3"
   ]
  },
  {
   "cell_type": "markdown",
   "metadata": {
    "id": "0fGAj8uuvSlV"
   },
   "source": [
    "Crie uma função que recebe uma lista e retorne duas listas, a primeira contendo todos os números pares da lista de entrada e a segunda lista contendo todos os números ímpares da lista de entrada. "
   ]
  },
  {
   "cell_type": "code",
   "source": [],
   "metadata": {
    "id": "1fdrg3wj3Xc5"
   },
   "execution_count": null,
   "outputs": []
  },
  {
   "cell_type": "code",
   "source": [],
   "metadata": {
    "id": "AlcZGsEEBxR1"
   },
   "execution_count": null,
   "outputs": []
  },
  {
   "cell_type": "code",
   "source": [],
   "metadata": {
    "id": "l4PiWUkpCMmh"
   },
   "execution_count": null,
   "outputs": []
  },
  {
   "cell_type": "markdown",
   "source": [
    "<img src=\"https://github.com/amandalemette/images/blob/e011da7260c032bae5c49e56a14ad97c13b8c679/BiMaster/bimaster.png?raw=true\"  width=1000 height=80 />"
   ],
   "metadata": {
    "id": "Sfh0RdLJSGlL"
   }
  },
  {
   "cell_type": "markdown",
   "source": [
    "## Funções anônimas"
   ],
   "metadata": {
    "id": "YUsmeTN6MQd_"
   }
  },
  {
   "cell_type": "markdown",
   "source": [
    "Existe um outro modo de declarar funções em Python. Esse segundo jeito é indicado quando a sua função pode ser escrita em uma única linha. Assim, não é mais necessário você escrever *def* e *return*, o que simplifica o seu código. \n",
    "\n",
    "Estamos falando das **funções anônimas**, que têm a seguinte estrutura:"
   ],
   "metadata": {
    "id": "aJRxW2L0OxrL"
   }
  },
  {
   "cell_type": "markdown",
   "source": [
    "<center><img src=\"https://github.com/amandalemette/images/blob/a21626f894f3123b8782f8fb908f2915a55f1bda/BiMaster/lambda.png?raw=true\"  width=800 height=80 />"
   ],
   "metadata": {
    "id": "ay6TmQKCMg7M"
   }
  },
  {
   "cell_type": "markdown",
   "source": [
    "Fica a critério do usuário fazer uso de funções anônimas ou não. \n",
    "\n",
    "Vamos entender esse tipo de declaração através de um exemplo:"
   ],
   "metadata": {
    "id": "E7XZgzj5PRAD"
   }
  },
  {
   "cell_type": "markdown",
   "source": [
    "Vamos declarar uma função anônima que recebe um número e retorna o mesmo multiplicado por 5, vamos chamar essa função de **multiplica5**."
   ],
   "metadata": {
    "id": "RNfka19AQ_J3"
   }
  },
  {
   "cell_type": "code",
   "source": [
    "multiplica5 = lambda num: num * 5"
   ],
   "metadata": {
    "id": "qHIW8ql_3U21"
   },
   "execution_count": 67,
   "outputs": []
  },
  {
   "cell_type": "code",
   "source": [
    "n = multiplica5(2)\n",
    "n"
   ],
   "metadata": {
    "id": "eQ4nrs1VC4r7"
   },
   "execution_count": 68,
   "outputs": [
    {
     "data": {
      "text/plain": "10"
     },
     "execution_count": 68,
     "metadata": {},
     "output_type": "execute_result"
    }
   ]
  },
  {
   "cell_type": "markdown",
   "source": [
    "A mesma função poderia ser declarada do modo convencional."
   ],
   "metadata": {
    "id": "cCafVT3hRLtD"
   }
  },
  {
   "cell_type": "code",
   "source": [
    "def multiplica5B(num):\n",
    "    return num*5"
   ],
   "metadata": {
    "id": "xCZNppzE3VsJ"
   },
   "execution_count": 69,
   "outputs": []
  },
  {
   "cell_type": "code",
   "execution_count": 70,
   "outputs": [
    {
     "data": {
      "text/plain": "10"
     },
     "execution_count": 70,
     "metadata": {},
     "output_type": "execute_result"
    }
   ],
   "source": [
    "multiplica5B(2)"
   ],
   "metadata": {
    "collapsed": false
   }
  },
  {
   "cell_type": "markdown",
   "source": [
    "<img src=\"https://github.com/amandalemette/images/blob/e011da7260c032bae5c49e56a14ad97c13b8c679/BiMaster/bimaster.png?raw=true\"  width=1000 height=80 />"
   ],
   "metadata": {
    "id": "2ZTXgNsJMfyV"
   }
  },
  {
   "cell_type": "markdown",
   "source": [
    "## Método x Função"
   ],
   "metadata": {
    "id": "ES0q_buWSGO0"
   }
  },
  {
   "cell_type": "markdown",
   "source": [
    "Um definição mais técnica a respeito disso é o trecho abaixo retirado da [documentação](https://docs.python.org/pt-br/3/tutorial/classes.html#:~:text=Um%20m%C3%A9todo%20%C3%A9%20uma%20fun%C3%A7%C3%A3o,objetos%20tamb%C3%A9m%20podem%20ter%20m%C3%A9todos.) da linguagem:\n",
    "\n",
    "Um **método** é uma função que “pertence” a um objeto instância. (Em Python, o termo método não é aplicado exclusivamente a instâncias de classes definidas pelo usuário: outros tipos de objetos também podem ter métodos. Por exemplo, listas possuem os métodos append, insert, remove, sort, entre outros.).\n",
    "\n",
    "Em outras palavras:\n",
    "\n",
    "- Um **método** é uma função que está definida dentro de uma classe, ou seja, irá pertencer a um objeto de instância. \n",
    "- Uma **função** fica fora da classe, não pertence a um objeto de instância."
   ],
   "metadata": {
    "id": "mcSxvuaNSON8"
   }
  },
  {
   "cell_type": "markdown",
   "source": [
    "Também vale lembrar que há diferença na chamada de um método e uma função. Enquanto na **função** apenas invocamos o nome da mesma, por exemplo:\n",
    "\n",
    "\n",
    "```\n",
    "menor_dif(a,b,c)\n",
    "```\n",
    "\n"
   ],
   "metadata": {
    "id": "k7Wwvk9DXrCD"
   }
  },
  {
   "cell_type": "markdown",
   "source": [
    "Com o **método**, temos que utilizar um objeto para fazer a chamada. Observe no código abaixo o método **reverse**:\n",
    "\n",
    "\n"
   ],
   "metadata": {
    "id": "WxTKrfIlX2w9"
   }
  },
  {
   "cell_type": "code",
   "source": [
    "lista = [45,23,54,10,-9]\n",
    "lista.reverse()"
   ],
   "metadata": {
    "id": "_NedlB1VYICX"
   },
   "execution_count": 71,
   "outputs": []
  },
  {
   "cell_type": "code",
   "source": [
    "lista"
   ],
   "metadata": {
    "id": "D_tU0pY63OiH"
   },
   "execution_count": 72,
   "outputs": [
    {
     "data": {
      "text/plain": "[-9, 10, 54, 23, 45]"
     },
     "execution_count": 72,
     "metadata": {},
     "output_type": "execute_result"
    }
   ]
  },
  {
   "cell_type": "markdown",
   "source": [
    "A tabela a seguir apresenta alguns métodos que podem ser aplicados a listas."
   ],
   "metadata": {
    "id": "WPSKMPerWZmX"
   }
  },
  {
   "cell_type": "markdown",
   "source": [
    "<center><img src=\"https://github.com/amandalemette/images/blob/c42e1df3aa37cb6020dc10360d761ddec508ce5b/BiMaster/metodoslistas.png?raw=true\"  width=500 height=300 />"
   ],
   "metadata": {
    "id": "VHXd4OxQWONr"
   }
  },
  {
   "cell_type": "markdown",
   "source": [
    "Vamos considerar a lista A"
   ],
   "metadata": {
    "id": "Td--tnMbSmvd"
   }
  },
  {
   "cell_type": "code",
   "source": [
    "A = [1,5,6,32,7]"
   ],
   "metadata": {
    "id": "hKW5FO73Sqjm"
   },
   "execution_count": 73,
   "outputs": []
  },
  {
   "cell_type": "markdown",
   "source": [
    "\n",
    "para acrescentar o número 10 ao final da lista, utilizamos o método *append*."
   ],
   "metadata": {
    "id": "JDSanRvUSt6N"
   }
  },
  {
   "cell_type": "code",
   "source": [
    "A.append(10)\n",
    "A"
   ],
   "metadata": {
    "id": "ihm-7TeX3LkI"
   },
   "execution_count": 75,
   "outputs": [
    {
     "data": {
      "text/plain": "[1, 5, 6, 32, 7, 10, 10]"
     },
     "execution_count": 75,
     "metadata": {},
     "output_type": "execute_result"
    }
   ]
  },
  {
   "cell_type": "markdown",
   "source": [
    "<img src=\"https://github.com/amandalemette/images/blob/e011da7260c032bae5c49e56a14ad97c13b8c679/BiMaster/bimaster.png?raw=true\"  width=1000 height=80 />"
   ],
   "metadata": {
    "id": "LL3yvCrjMOgL"
   }
  },
  {
   "cell_type": "markdown",
   "source": [
    "## Pandas"
   ],
   "metadata": {
    "id": "0rpIAvsnUJWM"
   }
  },
  {
   "cell_type": "markdown",
   "source": [
    "<center><img src=\"https://github.com/amandalemette/images/blob/c1f7cd0613f3ad1123f67a870c75db12cadf2491/BiMaster/pandas.jpg?raw=true\"  width=400 height=300 />"
   ],
   "metadata": {
    "id": "O1nHWyKrZMqc"
   }
  },
  {
   "cell_type": "markdown",
   "source": [
    "O pandas é uma biblioteca de código aberto, licenciada por BSD ([Berkeley Software Distribution](https://en.wikipedia.org/wiki/Berkeley_Software_Distribution)), que fornece estruturas de dados de alto desempenho e fáceis de usar e ferramentas de análise de dados para a linguagem de programação Python.\n",
    "\n",
    "O Pandas adota parte significativa do estilo idiomático do NumPy para o processamento baseado em arrays. Embora tenha muitas funções e estruturas parecidas, o Pandas foi projetado para trabalhar com dados tabulares e heterogêneos. \n",
    "\n",
    "Abaixo, segue o link da documentação da biblioteca Pandas.\n",
    "\n",
    "\n",
    "[Documentação da biblioteca Pandas](https://pandas.pydata.org/)."
   ],
   "metadata": {
    "id": "aSvP7WPhUK56"
   }
  },
  {
   "cell_type": "markdown",
   "source": [
    "### Criando um DataFrame do zero"
   ],
   "metadata": {
    "id": "ADmeTFtyZ9Cs"
   }
  },
  {
   "cell_type": "markdown",
   "source": [
    "#### A partir de um dicionário"
   ],
   "metadata": {
    "id": "9SwzzjmzfR1M"
   }
  },
  {
   "cell_type": "markdown",
   "source": [
    "Uma forma de criar um DataFrame é através de um dicionário.\n",
    "\n",
    "Primeiro, criamos um dicionário e, depois, o transformamos em um DataFrame. \n",
    "\n",
    "Vamos ver como esse procedimento funciona. \n",
    "\n",
    "\n"
   ],
   "metadata": {
    "id": "_5JoDTM_aAns"
   }
  },
  {
   "cell_type": "markdown",
   "source": [
    "\n",
    "\n",
    "1.   Vamos criar o dicionário Registro como mostrado abaixo.\n",
    "\n"
   ],
   "metadata": {
    "id": "Ma8R_yacb-gG"
   }
  },
  {
   "cell_type": "markdown",
   "source": [
    "<center><img src=\"https://github.com/amandalemette/images/blob/a78cb71c9ac0f8b94cae8c242506bf9ad5297019/BiMaster/dic2.png?raw=true\"  width=800 height=110 />"
   ],
   "metadata": {
    "id": "Q5QahvvUbtuq"
   }
  },
  {
   "cell_type": "code",
   "source": [
    "Registro = { 'Cliente': ['Ana', 'Ronaldo', 'Patricia'], 'Idade': [22,23,24], 'Cidade': ['RJ', 'SP', 'RS']}\n",
    "type(Registro)"
   ],
   "metadata": {
    "id": "lpOkXZ0d27o_"
   },
   "execution_count": 80,
   "outputs": [
    {
     "data": {
      "text/plain": "dict"
     },
     "execution_count": 80,
     "metadata": {},
     "output_type": "execute_result"
    }
   ]
  },
  {
   "cell_type": "code",
   "execution_count": 85,
   "outputs": [
    {
     "data": {
      "text/plain": "dict_keys(['Cliente', 'Idade', 'Cidade'])"
     },
     "metadata": {},
     "output_type": "display_data"
    },
    {
     "data": {
      "text/plain": "dict_values([['Ana', 'Ronaldo', 'Patricia'], [22, 23, 24], ['RJ', 'SP', 'RS']])"
     },
     "metadata": {},
     "output_type": "display_data"
    }
   ],
   "source": [
    "display(Registro.keys())\n",
    "display(Registro.values())"
   ],
   "metadata": {
    "collapsed": false
   }
  },
  {
   "cell_type": "markdown",
   "source": [
    "Em Python, podemos transformar um dicionário em um dataframe, fazendo simplesmente:\n",
    "\n",
    "```\n",
    "import pandas \n",
    "df = pandas.DataFrame(data)\n",
    "```\n",
    "\n"
   ],
   "metadata": {
    "id": "h-B8KWlAc_dr"
   }
  },
  {
   "cell_type": "markdown",
   "source": [
    "No código anterior, a biblioteca pandas é importada na primeira linha. \n",
    "\n",
    "Geralmente, utiliza-se a abreviação *pd* para pandas. Mas qualquer abreviação pode ser utilizada. \n",
    "\n",
    "```\n",
    "import pandas as pd\n",
    "```\n",
    "\n",
    "Se *pd* for utilizada, toda vez que você for utilizar alguma função da biblioteca pandas, deverá escrever pd.nome_da_função. "
   ],
   "metadata": {
    "id": "w5xCME0DdIR5"
   }
  },
  {
   "cell_type": "markdown",
   "source": [
    "\n",
    "2.   Como segundo passo, devemos transformar o dicionário *Registro* no DataFrame *rg*.\n",
    "\n"
   ],
   "metadata": {
    "id": "Sjgk8t-Ndjcp"
   }
  },
  {
   "cell_type": "code",
   "source": [
    "import pandas as pd\n",
    "df = pd.DataFrame(Registro)\n",
    "df"
   ],
   "metadata": {
    "id": "apLZlqC123Le"
   },
   "execution_count": 87,
   "outputs": [
    {
     "data": {
      "text/plain": "    Cliente  Idade Cidade\n0       Ana     22     RJ\n1   Ronaldo     23     SP\n2  Patricia     24     RS",
      "text/html": "<div>\n<style scoped>\n    .dataframe tbody tr th:only-of-type {\n        vertical-align: middle;\n    }\n\n    .dataframe tbody tr th {\n        vertical-align: top;\n    }\n\n    .dataframe thead th {\n        text-align: right;\n    }\n</style>\n<table border=\"1\" class=\"dataframe\">\n  <thead>\n    <tr style=\"text-align: right;\">\n      <th></th>\n      <th>Cliente</th>\n      <th>Idade</th>\n      <th>Cidade</th>\n    </tr>\n  </thead>\n  <tbody>\n    <tr>\n      <th>0</th>\n      <td>Ana</td>\n      <td>22</td>\n      <td>RJ</td>\n    </tr>\n    <tr>\n      <th>1</th>\n      <td>Ronaldo</td>\n      <td>23</td>\n      <td>SP</td>\n    </tr>\n    <tr>\n      <th>2</th>\n      <td>Patricia</td>\n      <td>24</td>\n      <td>RS</td>\n    </tr>\n  </tbody>\n</table>\n</div>"
     },
     "execution_count": 87,
     "metadata": {},
     "output_type": "execute_result"
    }
   ]
  },
  {
   "cell_type": "code",
   "source": [],
   "metadata": {
    "id": "t5HcO6qy23zk"
   },
   "execution_count": 92,
   "outputs": []
  },
  {
   "cell_type": "markdown",
   "source": [
    "Se nenhum erro apareceu, você obteve um DataFrame igual ao mostrado a seguir, correto?"
   ],
   "metadata": {
    "id": "5CTuemBId7tC"
   }
  },
  {
   "cell_type": "markdown",
   "source": [
    "<center><img src=\"https://github.com/amandalemette/images/blob/6f6ba6f19e67c76fb4584f98a2fabba95e111433/BiMaster/rg.png?raw=true\"  width=350 height=200 />"
   ],
   "metadata": {
    "id": "GiWdgMJ6eDY1"
   }
  },
  {
   "cell_type": "markdown",
   "source": [
    "#### A partir de listas"
   ],
   "metadata": {
    "id": "I36qBzqjfaGi"
   }
  },
  {
   "cell_type": "markdown",
   "source": [
    "**Uma única lista:**"
   ],
   "metadata": {
    "id": "4eDVT4zPfn9z"
   }
  },
  {
   "cell_type": "markdown",
   "source": [
    "Esse é o caso mais básico que cria um Dataframe a partir de uma única lista. Passamos simplesmente a lista para *pd.DataFrame()* e o resultado é uma única coluna Dataframe."
   ],
   "metadata": {
    "id": "aSV123e1fcnC"
   }
  },
  {
   "cell_type": "code",
   "source": [
    "lst = [\"Renata\",\"Pedro\",\"Paulo\"]\n",
    "df = pd.DataFrame(lst, columns = ['Nome'])\n",
    "df"
   ],
   "metadata": {
    "id": "8WyWMiNgd12M"
   },
   "execution_count": 93,
   "outputs": [
    {
     "data": {
      "text/plain": "     Nome\n0  Renata\n1   Pedro\n2   Paulo",
      "text/html": "<div>\n<style scoped>\n    .dataframe tbody tr th:only-of-type {\n        vertical-align: middle;\n    }\n\n    .dataframe tbody tr th {\n        vertical-align: top;\n    }\n\n    .dataframe thead th {\n        text-align: right;\n    }\n</style>\n<table border=\"1\" class=\"dataframe\">\n  <thead>\n    <tr style=\"text-align: right;\">\n      <th></th>\n      <th>Nome</th>\n    </tr>\n  </thead>\n  <tbody>\n    <tr>\n      <th>0</th>\n      <td>Renata</td>\n    </tr>\n    <tr>\n      <th>1</th>\n      <td>Pedro</td>\n    </tr>\n    <tr>\n      <th>2</th>\n      <td>Paulo</td>\n    </tr>\n  </tbody>\n</table>\n</div>"
     },
     "execution_count": 93,
     "metadata": {},
     "output_type": "execute_result"
    }
   ]
  },
  {
   "cell_type": "markdown",
   "source": [
    "**Mais de uma lista:**"
   ],
   "metadata": {
    "id": "5CzUlc4if6JN"
   }
  },
  {
   "cell_type": "markdown",
   "source": [
    "Se quisermos já criar várias colunas no DataFrame, será necessário utilizar mais de uma lista. \n",
    "\n",
    "Nesse caso, precisamos utilizar a função [**zip()**](https://realpython.com/python-zip-function/). \n",
    "\n",
    "A função zip() devolve um objeto do tipo zip que emparelha os elementos na primeira posição juntos, na segunda posição juntos, e assim por diante. Aqui cada lista funciona como uma coluna diferente."
   ],
   "metadata": {
    "id": "cEuyNn8Jf9sA"
   }
  },
  {
   "cell_type": "code",
   "source": [
    "lst1 = [\"Renata\",\"Pedro\",\"Paulo\"]\n",
    "lst2 = [12,15,14]"
   ],
   "metadata": {
    "id": "DEIVJiXQf9H-"
   },
   "execution_count": 94,
   "outputs": []
  },
  {
   "cell_type": "code",
   "source": [
    "pd.DataFrame(list(zip(lst1,lst2)))"
   ],
   "metadata": {
    "id": "YPy0MAFHJ62h"
   },
   "execution_count": 95,
   "outputs": [
    {
     "data": {
      "text/plain": "        0   1\n0  Renata  12\n1   Pedro  15\n2   Paulo  14",
      "text/html": "<div>\n<style scoped>\n    .dataframe tbody tr th:only-of-type {\n        vertical-align: middle;\n    }\n\n    .dataframe tbody tr th {\n        vertical-align: top;\n    }\n\n    .dataframe thead th {\n        text-align: right;\n    }\n</style>\n<table border=\"1\" class=\"dataframe\">\n  <thead>\n    <tr style=\"text-align: right;\">\n      <th></th>\n      <th>0</th>\n      <th>1</th>\n    </tr>\n  </thead>\n  <tbody>\n    <tr>\n      <th>0</th>\n      <td>Renata</td>\n      <td>12</td>\n    </tr>\n    <tr>\n      <th>1</th>\n      <td>Pedro</td>\n      <td>15</td>\n    </tr>\n    <tr>\n      <th>2</th>\n      <td>Paulo</td>\n      <td>14</td>\n    </tr>\n  </tbody>\n</table>\n</div>"
     },
     "execution_count": 95,
     "metadata": {},
     "output_type": "execute_result"
    }
   ]
  },
  {
   "cell_type": "code",
   "source": [
    "df = pd.DataFrame(list(zip(lst1,lst2)), columns = ['Nome','Idade'])"
   ],
   "metadata": {
    "id": "utitS5gMJ79_"
   },
   "execution_count": 96,
   "outputs": []
  },
  {
   "cell_type": "code",
   "source": [
    "df"
   ],
   "metadata": {
    "id": "qOlZcV7nJ9xb"
   },
   "execution_count": 97,
   "outputs": [
    {
     "data": {
      "text/plain": "     Nome  Idade\n0  Renata     12\n1   Pedro     15\n2   Paulo     14",
      "text/html": "<div>\n<style scoped>\n    .dataframe tbody tr th:only-of-type {\n        vertical-align: middle;\n    }\n\n    .dataframe tbody tr th {\n        vertical-align: top;\n    }\n\n    .dataframe thead th {\n        text-align: right;\n    }\n</style>\n<table border=\"1\" class=\"dataframe\">\n  <thead>\n    <tr style=\"text-align: right;\">\n      <th></th>\n      <th>Nome</th>\n      <th>Idade</th>\n    </tr>\n  </thead>\n  <tbody>\n    <tr>\n      <th>0</th>\n      <td>Renata</td>\n      <td>12</td>\n    </tr>\n    <tr>\n      <th>1</th>\n      <td>Pedro</td>\n      <td>15</td>\n    </tr>\n    <tr>\n      <th>2</th>\n      <td>Paulo</td>\n      <td>14</td>\n    </tr>\n  </tbody>\n</table>\n</div>"
     },
     "execution_count": 97,
     "metadata": {},
     "output_type": "execute_result"
    }
   ]
  },
  {
   "cell_type": "code",
   "source": [],
   "metadata": {
    "id": "0z6oKU9_gq1X"
   },
   "execution_count": 97,
   "outputs": []
  },
  {
   "cell_type": "code",
   "source": [],
   "metadata": {
    "id": "Dgt_jmGcKBSm"
   },
   "execution_count": 97,
   "outputs": []
  },
  {
   "cell_type": "markdown",
   "source": [
    "**A partir de uma lista multi dimensional:**"
   ],
   "metadata": {
    "id": "N81W8PNJgpbT"
   }
  },
  {
   "cell_type": "markdown",
   "source": [
    "Uma lista que contém outra lista é chamada lista multidimensional. \n",
    "\n",
    "Neste caso, cada lista, que está aninhada dentro da lista principal, funciona como uma fila para o quadro de dados. \n",
    "\n",
    "O exemplo seguinte mostra como:"
   ],
   "metadata": {
    "id": "7h4i0mW-gwq7"
   }
  },
  {
   "cell_type": "code",
   "source": [
    "lst = [[\"Renata\",12,\"informática\"],[\"Pedro\",15,\"inglês\"]]"
   ],
   "metadata": {
    "id": "EM5vh5D7ghY0"
   },
   "execution_count": 98,
   "outputs": []
  },
  {
   "cell_type": "code",
   "source": [
    "df = pd.DataFrame(lst, columns = ['Nome','Idade','Curso'])"
   ],
   "metadata": {
    "id": "03FY-kDR2rIV"
   },
   "execution_count": 99,
   "outputs": []
  },
  {
   "cell_type": "code",
   "source": [],
   "metadata": {
    "id": "7Ont2RrRhBvn"
   },
   "execution_count": 99,
   "outputs": []
  },
  {
   "cell_type": "code",
   "source": [],
   "metadata": {
    "id": "PczNkP1AhH-8"
   },
   "execution_count": 99,
   "outputs": []
  },
  {
   "cell_type": "markdown",
   "source": [
    "#### A partir de um vetor"
   ],
   "metadata": {
    "id": "l4ASSL-IhNZk"
   }
  },
  {
   "cell_type": "markdown",
   "source": [
    "Passamos o array NumPy para o método pandas.DataFrame() para gerar a DataFrame a partir do array NumPy.\n",
    "\n",
    "Vamos ver como se faz esse procedimento através de um exemplo. "
   ],
   "metadata": {
    "id": "WMWZTTzlhcDa"
   }
  },
  {
   "cell_type": "code",
   "source": [
    "vet = np.random.randint(4,20,5)\n",
    "vet"
   ],
   "metadata": {
    "id": "7mJKJez0hQEU"
   },
   "execution_count": 100,
   "outputs": [
    {
     "data": {
      "text/plain": "array([ 6, 19,  8, 16, 18])"
     },
     "execution_count": 100,
     "metadata": {},
     "output_type": "execute_result"
    }
   ]
  },
  {
   "cell_type": "code",
   "source": [
    "df = pd.DataFrame(vet)"
   ],
   "metadata": {
    "id": "7Wu2ZidAhkCy"
   },
   "execution_count": 101,
   "outputs": []
  },
  {
   "cell_type": "code",
   "source": [],
   "metadata": {
    "id": "S-prkx5hhpmz"
   },
   "execution_count": 101,
   "outputs": []
  },
  {
   "cell_type": "code",
   "source": [],
   "metadata": {
    "id": "TvU4han-2j6I"
   },
   "execution_count": 101,
   "outputs": []
  },
  {
   "cell_type": "markdown",
   "source": [
    "Como podemos ver, foi atribuído o nome 0 para a coluna do DataFrame, para evitar isso, podemos fazer:\n",
    "\n",
    "\n",
    "\n",
    "```\n",
    "pd.DataFrame(nome_vetor, columns = [nomes_colunas])\n",
    "```\n",
    "\n"
   ],
   "metadata": {
    "id": "SYoSasw1hwFL"
   }
  },
  {
   "cell_type": "code",
   "source": [
    "df = pd.DataFrame(vet,columns = ['numeros'])\n",
    "df"
   ],
   "metadata": {
    "id": "ojEw7gRm2djx"
   },
   "execution_count": 102,
   "outputs": [
    {
     "data": {
      "text/plain": "   numeros\n0        6\n1       19\n2        8\n3       16\n4       18",
      "text/html": "<div>\n<style scoped>\n    .dataframe tbody tr th:only-of-type {\n        vertical-align: middle;\n    }\n\n    .dataframe tbody tr th {\n        vertical-align: top;\n    }\n\n    .dataframe thead th {\n        text-align: right;\n    }\n</style>\n<table border=\"1\" class=\"dataframe\">\n  <thead>\n    <tr style=\"text-align: right;\">\n      <th></th>\n      <th>numeros</th>\n    </tr>\n  </thead>\n  <tbody>\n    <tr>\n      <th>0</th>\n      <td>6</td>\n    </tr>\n    <tr>\n      <th>1</th>\n      <td>19</td>\n    </tr>\n    <tr>\n      <th>2</th>\n      <td>8</td>\n    </tr>\n    <tr>\n      <th>3</th>\n      <td>16</td>\n    </tr>\n    <tr>\n      <th>4</th>\n      <td>18</td>\n    </tr>\n  </tbody>\n</table>\n</div>"
     },
     "execution_count": 102,
     "metadata": {},
     "output_type": "execute_result"
    }
   ]
  },
  {
   "cell_type": "code",
   "source": [],
   "metadata": {
    "id": "Rlxilc642VzJ"
   },
   "execution_count": 102,
   "outputs": []
  },
  {
   "cell_type": "markdown",
   "source": [
    "é muito importante não esquecer de colocar o nome da coluna entre colchetes. "
   ],
   "metadata": {
    "id": "ShnyBCbCiFnP"
   }
  },
  {
   "cell_type": "markdown",
   "source": [
    "Se quisermos também fornecer os índices do DataFrame, podemos fazer:\n",
    "\n",
    "\n",
    "\n",
    "```\n",
    "pd.DataFrame(nome_vetor, columns = [nomes_colunas], index = [índices])\n",
    "```\n",
    "\n"
   ],
   "metadata": {
    "id": "cC92uGWUiTik"
   }
  },
  {
   "cell_type": "code",
   "source": [
    "df = pd.DataFrame(vet,columns = ['numeros'], index = ['A','B','C','D','E'])"
   ],
   "metadata": {
    "id": "WwJSlyBd2S68"
   },
   "execution_count": 103,
   "outputs": []
  },
  {
   "cell_type": "code",
   "source": [],
   "metadata": {
    "id": "afvxu_8uiqzz"
   },
   "execution_count": 103,
   "outputs": []
  },
  {
   "cell_type": "markdown",
   "source": [
    "<img src=\"https://github.com/amandalemette/images/blob/e011da7260c032bae5c49e56a14ad97c13b8c679/BiMaster/bimaster.png?raw=true\"  width=1000 height=80 />"
   ],
   "metadata": {
    "id": "kdgZGZm9jKvr"
   }
  },
  {
   "cell_type": "markdown",
   "source": [
    "### Visualização do DataFrame"
   ],
   "metadata": {
    "id": "f4YF-nJYn6Hs"
   }
  },
  {
   "cell_type": "markdown",
   "source": [
    "Para essa seção, vamos considerar o seguinte DataFrame:"
   ],
   "metadata": {
    "id": "iH-nghkRoPlM"
   }
  },
  {
   "cell_type": "code",
   "source": [
    "lst = [[\"Renata\",12,\"informática\"],[\"Pedro\",15,\"inglês\"],['João',13,'matemática'],['Aline',10,'artes'],\n",
    "       ['Vivian',12,'inglês'],['Arthur',14,'artes'],['Henrique',13,'matemática'],['Ana',12,'artes'],\n",
    "       ['Paulo',15,'informática'],['Leandro',11,'informática'],['Lucio',12,'inglês'],['Neusa',10,'artes']]\n",
    "df = pd.DataFrame(lst, columns = ['Nome','Idade','Curso'])\n",
    "df"
   ],
   "metadata": {
    "id": "c66SlNm8oSJS"
   },
   "execution_count": 104,
   "outputs": [
    {
     "data": {
      "text/plain": "        Nome  Idade        Curso\n0     Renata     12  informática\n1      Pedro     15       inglês\n2       João     13   matemática\n3      Aline     10        artes\n4     Vivian     12       inglês\n5     Arthur     14        artes\n6   Henrique     13   matemática\n7        Ana     12        artes\n8      Paulo     15  informática\n9    Leandro     11  informática\n10     Lucio     12       inglês\n11     Neusa     10        artes",
      "text/html": "<div>\n<style scoped>\n    .dataframe tbody tr th:only-of-type {\n        vertical-align: middle;\n    }\n\n    .dataframe tbody tr th {\n        vertical-align: top;\n    }\n\n    .dataframe thead th {\n        text-align: right;\n    }\n</style>\n<table border=\"1\" class=\"dataframe\">\n  <thead>\n    <tr style=\"text-align: right;\">\n      <th></th>\n      <th>Nome</th>\n      <th>Idade</th>\n      <th>Curso</th>\n    </tr>\n  </thead>\n  <tbody>\n    <tr>\n      <th>0</th>\n      <td>Renata</td>\n      <td>12</td>\n      <td>informática</td>\n    </tr>\n    <tr>\n      <th>1</th>\n      <td>Pedro</td>\n      <td>15</td>\n      <td>inglês</td>\n    </tr>\n    <tr>\n      <th>2</th>\n      <td>João</td>\n      <td>13</td>\n      <td>matemática</td>\n    </tr>\n    <tr>\n      <th>3</th>\n      <td>Aline</td>\n      <td>10</td>\n      <td>artes</td>\n    </tr>\n    <tr>\n      <th>4</th>\n      <td>Vivian</td>\n      <td>12</td>\n      <td>inglês</td>\n    </tr>\n    <tr>\n      <th>5</th>\n      <td>Arthur</td>\n      <td>14</td>\n      <td>artes</td>\n    </tr>\n    <tr>\n      <th>6</th>\n      <td>Henrique</td>\n      <td>13</td>\n      <td>matemática</td>\n    </tr>\n    <tr>\n      <th>7</th>\n      <td>Ana</td>\n      <td>12</td>\n      <td>artes</td>\n    </tr>\n    <tr>\n      <th>8</th>\n      <td>Paulo</td>\n      <td>15</td>\n      <td>informática</td>\n    </tr>\n    <tr>\n      <th>9</th>\n      <td>Leandro</td>\n      <td>11</td>\n      <td>informática</td>\n    </tr>\n    <tr>\n      <th>10</th>\n      <td>Lucio</td>\n      <td>12</td>\n      <td>inglês</td>\n    </tr>\n    <tr>\n      <th>11</th>\n      <td>Neusa</td>\n      <td>10</td>\n      <td>artes</td>\n    </tr>\n  </tbody>\n</table>\n</div>"
     },
     "execution_count": 104,
     "metadata": {},
     "output_type": "execute_result"
    }
   ]
  },
  {
   "cell_type": "markdown",
   "source": [
    "Vamos visualizar somente as 5 primeiras linhas do DataFrame: "
   ],
   "metadata": {
    "id": "unThQJIhn-lO"
   }
  },
  {
   "cell_type": "code",
   "source": [
    "df.head()"
   ],
   "metadata": {
    "id": "geWyjvF7pInu"
   },
   "execution_count": 105,
   "outputs": [
    {
     "data": {
      "text/plain": "     Nome  Idade        Curso\n0  Renata     12  informática\n1   Pedro     15       inglês\n2    João     13   matemática\n3   Aline     10        artes\n4  Vivian     12       inglês",
      "text/html": "<div>\n<style scoped>\n    .dataframe tbody tr th:only-of-type {\n        vertical-align: middle;\n    }\n\n    .dataframe tbody tr th {\n        vertical-align: top;\n    }\n\n    .dataframe thead th {\n        text-align: right;\n    }\n</style>\n<table border=\"1\" class=\"dataframe\">\n  <thead>\n    <tr style=\"text-align: right;\">\n      <th></th>\n      <th>Nome</th>\n      <th>Idade</th>\n      <th>Curso</th>\n    </tr>\n  </thead>\n  <tbody>\n    <tr>\n      <th>0</th>\n      <td>Renata</td>\n      <td>12</td>\n      <td>informática</td>\n    </tr>\n    <tr>\n      <th>1</th>\n      <td>Pedro</td>\n      <td>15</td>\n      <td>inglês</td>\n    </tr>\n    <tr>\n      <th>2</th>\n      <td>João</td>\n      <td>13</td>\n      <td>matemática</td>\n    </tr>\n    <tr>\n      <th>3</th>\n      <td>Aline</td>\n      <td>10</td>\n      <td>artes</td>\n    </tr>\n    <tr>\n      <th>4</th>\n      <td>Vivian</td>\n      <td>12</td>\n      <td>inglês</td>\n    </tr>\n  </tbody>\n</table>\n</div>"
     },
     "execution_count": 105,
     "metadata": {},
     "output_type": "execute_result"
    }
   ]
  },
  {
   "cell_type": "markdown",
   "source": [
    "Agora, vamos visualizar as 5 últimas linhas do DataFrame:"
   ],
   "metadata": {
    "id": "e70tEpEnpHZ0"
   }
  },
  {
   "cell_type": "code",
   "source": [],
   "metadata": {
    "id": "zZz1chIYpG7W"
   },
   "execution_count": null,
   "outputs": []
  },
  {
   "cell_type": "markdown",
   "source": [
    "- A visualização do DataFrame é composta pelos seguintes elementos:\n",
    "```\n",
    "    1. Index\n",
    "    2. Elemento do Index\n",
    "    3. Colunas\n",
    "    4. Nome da coluna (pode ter espaço, acento e etc, mas nome curto, simples, e representativo facilita o código)\n",
    "    5. '...'\n",
    "    6. Células (Dados)\n",
    "```"
   ],
   "metadata": {
    "id": "GHTKRlXUpMVH"
   }
  },
  {
   "cell_type": "markdown",
   "source": [
    "Apesar da convenção no Python utilizar o <code>.head()</code> ou o <code>.tail()</code> para olhar um DataFrame novo, é possível utilizar o <code>.sample(5)</code>, que seleciona 5 linhas aleatórias do seu DataFrame. \n",
    "\n",
    "Se você executar o comando algumas vezes vai obter resultados diferentes a cada iteração."
   ],
   "metadata": {
    "id": "R8IQXz2-pXGw"
   }
  },
  {
   "cell_type": "code",
   "source": [
    "df.sample(5)"
   ],
   "metadata": {
    "id": "gedQZMKvpsg2"
   },
   "execution_count": 107,
   "outputs": [
    {
     "data": {
      "text/plain": "        Nome  Idade       Curso\n5     Arthur     14       artes\n6   Henrique     13  matemática\n1      Pedro     15      inglês\n2       João     13  matemática\n11     Neusa     10       artes",
      "text/html": "<div>\n<style scoped>\n    .dataframe tbody tr th:only-of-type {\n        vertical-align: middle;\n    }\n\n    .dataframe tbody tr th {\n        vertical-align: top;\n    }\n\n    .dataframe thead th {\n        text-align: right;\n    }\n</style>\n<table border=\"1\" class=\"dataframe\">\n  <thead>\n    <tr style=\"text-align: right;\">\n      <th></th>\n      <th>Nome</th>\n      <th>Idade</th>\n      <th>Curso</th>\n    </tr>\n  </thead>\n  <tbody>\n    <tr>\n      <th>5</th>\n      <td>Arthur</td>\n      <td>14</td>\n      <td>artes</td>\n    </tr>\n    <tr>\n      <th>6</th>\n      <td>Henrique</td>\n      <td>13</td>\n      <td>matemática</td>\n    </tr>\n    <tr>\n      <th>1</th>\n      <td>Pedro</td>\n      <td>15</td>\n      <td>inglês</td>\n    </tr>\n    <tr>\n      <th>2</th>\n      <td>João</td>\n      <td>13</td>\n      <td>matemática</td>\n    </tr>\n    <tr>\n      <th>11</th>\n      <td>Neusa</td>\n      <td>10</td>\n      <td>artes</td>\n    </tr>\n  </tbody>\n</table>\n</div>"
     },
     "execution_count": 107,
     "metadata": {},
     "output_type": "execute_result"
    }
   ]
  },
  {
   "cell_type": "code",
   "source": [],
   "metadata": {
    "id": "HL37SHVT1_Td"
   },
   "execution_count": 107,
   "outputs": []
  },
  {
   "cell_type": "markdown",
   "source": [
    "#### Slicing"
   ],
   "metadata": {
    "id": "yEp2UmFZqCmq"
   }
  },
  {
   "cell_type": "markdown",
   "source": [
    "O nome dessa operação de colocar algo entre colchetes é **slicing**, e isso como convenção geral é uma forma de selecionar um subconjunto de dados.\n",
    "\n",
    "[20:30] vai selecionar exatamente 10 elementos (30 - 20). O número da direita menos o número da esquerda é sempre o total de elementos que serão selecionados, e isso é uma convenção no Python.\n",
    "\n",
    "O número 20 é selecionado por ser um intervalo fechado na esquerda, e o número 30 não é selecionado por ser um intervalo aberto na direita. O que é outra convenção do Python."
   ],
   "metadata": {
    "id": "xLMO6HMMp_vr"
   }
  },
  {
   "cell_type": "markdown",
   "source": [
    "Vamos selecionar as linhas 4 a 10 (incluindo o 10) do DataFrame *df*:"
   ],
   "metadata": {
    "id": "-xljptarqIPJ"
   }
  },
  {
   "cell_type": "code",
   "source": [],
   "metadata": {
    "id": "HcW0NCRT18xp"
   },
   "execution_count": 107,
   "outputs": []
  },
  {
   "cell_type": "markdown",
   "source": [
    "<img src=\"https://github.com/amandalemette/images/blob/e011da7260c032bae5c49e56a14ad97c13b8c679/BiMaster/bimaster.png?raw=true\"  width=1000 height=80 />"
   ],
   "metadata": {
    "id": "5mtnxhgFn4hd"
   }
  },
  {
   "cell_type": "markdown",
   "source": [
    "### Acessando elementos de um DataFrame"
   ],
   "metadata": {
    "id": "YDEY8KNdjM-A"
   }
  },
  {
   "cell_type": "markdown",
   "source": [
    "Vamos retornar às atenções ao DataFrame *rg*."
   ],
   "metadata": {
    "id": "jfUgx81yjTB9"
   }
  },
  {
   "cell_type": "code",
   "source": [],
   "metadata": {
    "id": "1k5zpzyujLgf"
   },
   "execution_count": 108,
   "outputs": []
  },
  {
   "cell_type": "markdown",
   "source": [
    "Como imprimir Ana do DataFrame *rg*?"
   ],
   "metadata": {
    "id": "JDMmD2GWjZb3"
   }
  },
  {
   "cell_type": "code",
   "source": [],
   "metadata": {
    "id": "ax3hWyqm1xcE"
   },
   "execution_count": 108,
   "outputs": []
  },
  {
   "cell_type": "code",
   "source": [],
   "metadata": {
    "id": "yPyhZSfX1xDp"
   },
   "execution_count": 108,
   "outputs": []
  },
  {
   "cell_type": "markdown",
   "source": [
    "E usando o iloc?"
   ],
   "metadata": {
    "id": "ejl-UVnh1yuD"
   }
  },
  {
   "cell_type": "code",
   "source": [],
   "metadata": {
    "id": "ZaewkQUc15nY"
   },
   "execution_count": 108,
   "outputs": []
  },
  {
   "cell_type": "markdown",
   "source": [
    "E o loc?"
   ],
   "metadata": {
    "id": "J6wpAhbJ13jy"
   }
  },
  {
   "cell_type": "code",
   "source": [],
   "metadata": {
    "id": "79dYOBcD12-s"
   },
   "execution_count": 108,
   "outputs": []
  },
  {
   "cell_type": "markdown",
   "source": [
    "Nesse caso, o *loc* e o *iloc* atuam do mesmo modo, pois os índices de *rg* seguem a numeração default do Python. Vamos modificar isso. "
   ],
   "metadata": {
    "id": "01UCsXNsmcJm"
   }
  },
  {
   "cell_type": "markdown",
   "source": [
    "Vamos atualizar os índices de *rg* para:"
   ],
   "metadata": {
    "id": "v8UPVXWYmt6q"
   }
  },
  {
   "cell_type": "markdown",
   "source": [
    "\n",
    "\n",
    "```\n",
    "novoidx = ['a','b','c','d']\n",
    "```\n",
    "\n"
   ],
   "metadata": {
    "id": "lfzxZJJOmmnd"
   }
  },
  {
   "cell_type": "code",
   "source": [
    "novoidx = ['a','b','c','d']\n",
    "novoidx"
   ],
   "metadata": {
    "id": "kzgHm-QdmZfd"
   },
   "execution_count": 109,
   "outputs": [
    {
     "data": {
      "text/plain": "['a', 'b', 'c', 'd']"
     },
     "execution_count": 109,
     "metadata": {},
     "output_type": "execute_result"
    }
   ]
  },
  {
   "cell_type": "code",
   "source": [],
   "metadata": {
    "id": "GM27QkTvmzQm"
   },
   "execution_count": 109,
   "outputs": []
  },
  {
   "cell_type": "code",
   "source": [],
   "metadata": {
    "id": "WPHXZlBLm6vw"
   },
   "execution_count": 109,
   "outputs": []
  },
  {
   "cell_type": "markdown",
   "source": [
    "Vamos novamente usar o loc e o iloc para imprimir Ana."
   ],
   "metadata": {
    "id": "FW82Bcv7m_jL"
   }
  },
  {
   "cell_type": "code",
   "source": [],
   "metadata": {
    "id": "UMbfuIPSnGtZ"
   },
   "execution_count": 109,
   "outputs": []
  },
  {
   "cell_type": "code",
   "source": [],
   "metadata": {
    "id": "ZYJGaA7Ym-LE"
   },
   "execution_count": 109,
   "outputs": []
  },
  {
   "cell_type": "code",
   "source": [],
   "metadata": {
    "id": "oDAt8bNCnFAa"
   },
   "execution_count": 109,
   "outputs": []
  },
  {
   "cell_type": "markdown",
   "source": [
    "Para mais informações sobre o uso correto do **loc** e do **iloc** recomendo assistir ao vídeo:\n",
    "[LOC versus ILOC](https://youtu.be/HljNIV_tVY0)"
   ],
   "metadata": {
    "id": "Zu_IVqfmnTI3"
   }
  },
  {
   "cell_type": "markdown",
   "source": [
    "#### Selecionando colunas\n",
    "\n",
    "\n",
    "Para selecionarmos colunas no pandas, basta dizermos o nome do DataFrame seguido por colchetes com o nome da coluna dentro:\n",
    "\n",
    "- Nome do Dataframe: <code>df</code>\n",
    "- Colchetes com a coluna dentro: <code>['Idade']</code>\n",
    "- Comando completo: <code>df['Idade']</code>"
   ],
   "metadata": {
    "id": "Fx6UoF8HqTtE"
   }
  },
  {
   "cell_type": "markdown",
   "source": [
    "Vamos selecionar a coluna Cliente:"
   ],
   "metadata": {
    "id": "BMIr4ASXrAdF"
   }
  },
  {
   "cell_type": "code",
   "source": [],
   "metadata": {
    "id": "dUrewYWP1j7f"
   },
   "execution_count": 109,
   "outputs": []
  },
  {
   "cell_type": "markdown",
   "source": [
    "Agora, utilize o loc e o iloc para fazer a mesma seleção."
   ],
   "metadata": {
    "id": "IjyuVqa-rG6g"
   }
  },
  {
   "cell_type": "code",
   "source": [],
   "metadata": {
    "id": "syK3q74arO6e"
   },
   "execution_count": 109,
   "outputs": []
  },
  {
   "cell_type": "code",
   "source": [],
   "metadata": {
    "id": "vYyVSFJw1iHg"
   },
   "execution_count": 109,
   "outputs": []
  },
  {
   "cell_type": "code",
   "source": [],
   "metadata": {
    "id": "viAXB0k61hs3"
   },
   "execution_count": 109,
   "outputs": []
  },
  {
   "cell_type": "markdown",
   "source": [
    "<img src=\"https://github.com/amandalemette/images/blob/e011da7260c032bae5c49e56a14ad97c13b8c679/BiMaster/bimaster.png?raw=true\"  width=1000 height=80 />"
   ],
   "metadata": {
    "id": "BCBipsOir9sr"
   }
  },
  {
   "cell_type": "markdown",
   "source": [
    "### Ordenação de DataFrame"
   ],
   "metadata": {
    "id": "8gNXdd6GrynK"
   }
  },
  {
   "cell_type": "markdown",
   "source": [
    "Para fazer a ordenação de DataFrames utilizamos a função [sort_values](https://pandas.pydata.org/docs/reference/api/pandas.DataFrame.sort_values.html)."
   ],
   "metadata": {
    "id": "BZlwIRx6sUle"
   }
  },
  {
   "cell_type": "markdown",
   "source": [
    "Olhando o nosso DataFrame *df*, podemos ordená-lo em ordem alfabética de acordo com a coluna Nome. Vamos fazer?"
   ],
   "metadata": {
    "id": "qCiU1Vh8shgZ"
   }
  },
  {
   "cell_type": "code",
   "source": [
    "df.sort_values('Nome') # ordenando pelo nome"
   ],
   "metadata": {
    "id": "vFBp1244r1jm"
   },
   "execution_count": 110,
   "outputs": [
    {
     "data": {
      "text/plain": "        Nome  Idade        Curso\n3      Aline     10        artes\n7        Ana     12        artes\n5     Arthur     14        artes\n6   Henrique     13   matemática\n2       João     13   matemática\n9    Leandro     11  informática\n10     Lucio     12       inglês\n11     Neusa     10        artes\n8      Paulo     15  informática\n1      Pedro     15       inglês\n0     Renata     12  informática\n4     Vivian     12       inglês",
      "text/html": "<div>\n<style scoped>\n    .dataframe tbody tr th:only-of-type {\n        vertical-align: middle;\n    }\n\n    .dataframe tbody tr th {\n        vertical-align: top;\n    }\n\n    .dataframe thead th {\n        text-align: right;\n    }\n</style>\n<table border=\"1\" class=\"dataframe\">\n  <thead>\n    <tr style=\"text-align: right;\">\n      <th></th>\n      <th>Nome</th>\n      <th>Idade</th>\n      <th>Curso</th>\n    </tr>\n  </thead>\n  <tbody>\n    <tr>\n      <th>3</th>\n      <td>Aline</td>\n      <td>10</td>\n      <td>artes</td>\n    </tr>\n    <tr>\n      <th>7</th>\n      <td>Ana</td>\n      <td>12</td>\n      <td>artes</td>\n    </tr>\n    <tr>\n      <th>5</th>\n      <td>Arthur</td>\n      <td>14</td>\n      <td>artes</td>\n    </tr>\n    <tr>\n      <th>6</th>\n      <td>Henrique</td>\n      <td>13</td>\n      <td>matemática</td>\n    </tr>\n    <tr>\n      <th>2</th>\n      <td>João</td>\n      <td>13</td>\n      <td>matemática</td>\n    </tr>\n    <tr>\n      <th>9</th>\n      <td>Leandro</td>\n      <td>11</td>\n      <td>informática</td>\n    </tr>\n    <tr>\n      <th>10</th>\n      <td>Lucio</td>\n      <td>12</td>\n      <td>inglês</td>\n    </tr>\n    <tr>\n      <th>11</th>\n      <td>Neusa</td>\n      <td>10</td>\n      <td>artes</td>\n    </tr>\n    <tr>\n      <th>8</th>\n      <td>Paulo</td>\n      <td>15</td>\n      <td>informática</td>\n    </tr>\n    <tr>\n      <th>1</th>\n      <td>Pedro</td>\n      <td>15</td>\n      <td>inglês</td>\n    </tr>\n    <tr>\n      <th>0</th>\n      <td>Renata</td>\n      <td>12</td>\n      <td>informática</td>\n    </tr>\n    <tr>\n      <th>4</th>\n      <td>Vivian</td>\n      <td>12</td>\n      <td>inglês</td>\n    </tr>\n  </tbody>\n</table>\n</div>"
     },
     "execution_count": 110,
     "metadata": {},
     "output_type": "execute_result"
    }
   ]
  },
  {
   "cell_type": "code",
   "source": [
    "df.sort_values('Nome', ascending=False)"
   ],
   "metadata": {
    "id": "Pm9-DrOPse9c"
   },
   "execution_count": 111,
   "outputs": [
    {
     "data": {
      "text/plain": "        Nome  Idade        Curso\n4     Vivian     12       inglês\n0     Renata     12  informática\n1      Pedro     15       inglês\n8      Paulo     15  informática\n11     Neusa     10        artes\n10     Lucio     12       inglês\n9    Leandro     11  informática\n2       João     13   matemática\n6   Henrique     13   matemática\n5     Arthur     14        artes\n7        Ana     12        artes\n3      Aline     10        artes",
      "text/html": "<div>\n<style scoped>\n    .dataframe tbody tr th:only-of-type {\n        vertical-align: middle;\n    }\n\n    .dataframe tbody tr th {\n        vertical-align: top;\n    }\n\n    .dataframe thead th {\n        text-align: right;\n    }\n</style>\n<table border=\"1\" class=\"dataframe\">\n  <thead>\n    <tr style=\"text-align: right;\">\n      <th></th>\n      <th>Nome</th>\n      <th>Idade</th>\n      <th>Curso</th>\n    </tr>\n  </thead>\n  <tbody>\n    <tr>\n      <th>4</th>\n      <td>Vivian</td>\n      <td>12</td>\n      <td>inglês</td>\n    </tr>\n    <tr>\n      <th>0</th>\n      <td>Renata</td>\n      <td>12</td>\n      <td>informática</td>\n    </tr>\n    <tr>\n      <th>1</th>\n      <td>Pedro</td>\n      <td>15</td>\n      <td>inglês</td>\n    </tr>\n    <tr>\n      <th>8</th>\n      <td>Paulo</td>\n      <td>15</td>\n      <td>informática</td>\n    </tr>\n    <tr>\n      <th>11</th>\n      <td>Neusa</td>\n      <td>10</td>\n      <td>artes</td>\n    </tr>\n    <tr>\n      <th>10</th>\n      <td>Lucio</td>\n      <td>12</td>\n      <td>inglês</td>\n    </tr>\n    <tr>\n      <th>9</th>\n      <td>Leandro</td>\n      <td>11</td>\n      <td>informática</td>\n    </tr>\n    <tr>\n      <th>2</th>\n      <td>João</td>\n      <td>13</td>\n      <td>matemática</td>\n    </tr>\n    <tr>\n      <th>6</th>\n      <td>Henrique</td>\n      <td>13</td>\n      <td>matemática</td>\n    </tr>\n    <tr>\n      <th>5</th>\n      <td>Arthur</td>\n      <td>14</td>\n      <td>artes</td>\n    </tr>\n    <tr>\n      <th>7</th>\n      <td>Ana</td>\n      <td>12</td>\n      <td>artes</td>\n    </tr>\n    <tr>\n      <th>3</th>\n      <td>Aline</td>\n      <td>10</td>\n      <td>artes</td>\n    </tr>\n  </tbody>\n</table>\n</div>"
     },
     "execution_count": 111,
     "metadata": {},
     "output_type": "execute_result"
    }
   ]
  },
  {
   "cell_type": "markdown",
   "source": [
    "A ordenação foi bem sucedida, no entanto se olharmos para a coluna dos índices, vemos que eles ficaram embaralhados. Para rearrumar os índices, utilizamos a função [reset_index](https://pandas.pydata.org/docs/reference/api/pandas.DataFrame.reset_index.html)."
   ],
   "metadata": {
    "id": "SvvNhhrcs6r4"
   }
  },
  {
   "cell_type": "code",
   "source": [],
   "metadata": {
    "id": "EhRerjny1M4I"
   },
   "execution_count": 111,
   "outputs": []
  },
  {
   "cell_type": "markdown",
   "source": [
    "O problema inicial de termos um DataFrame com a coluna de índices desordenada foi solucionado. Contudo, a coluna antiga de índices passou a ser uma nova coluna do DataFrame que foi nomeada como *index*.\n",
    "\n",
    "Essa coluna para nós não acrescenta nenhuma informação útil e, por esse motivo, é interessante que ela seja eliminada. \n",
    "\n",
    "Uma solução bem fácil é dizer para o Python eliminar essa coluna quando faz a atualização dos índices do DataFrame. Isso pode ser feito como:\n",
    "\n",
    "\n",
    "\n",
    "```\n",
    "dataframe.reset_index(drop = True)\n",
    "```\n",
    "\n"
   ],
   "metadata": {
    "id": "2HZ8MI5PtMgW"
   }
  },
  {
   "cell_type": "code",
   "source": [
    "df = df.reset_index()\n",
    "df"
   ],
   "metadata": {
    "id": "1ImkNcIEtssF"
   },
   "execution_count": 114,
   "outputs": [
    {
     "data": {
      "text/plain": "    level_0  index      Nome  Idade        Curso\n0         0      0    Renata     12  informática\n1         1      1     Pedro     15       inglês\n2         2      2      João     13   matemática\n3         3      3     Aline     10        artes\n4         4      4    Vivian     12       inglês\n5         5      5    Arthur     14        artes\n6         6      6  Henrique     13   matemática\n7         7      7       Ana     12        artes\n8         8      8     Paulo     15  informática\n9         9      9   Leandro     11  informática\n10       10     10     Lucio     12       inglês\n11       11     11     Neusa     10        artes",
      "text/html": "<div>\n<style scoped>\n    .dataframe tbody tr th:only-of-type {\n        vertical-align: middle;\n    }\n\n    .dataframe tbody tr th {\n        vertical-align: top;\n    }\n\n    .dataframe thead th {\n        text-align: right;\n    }\n</style>\n<table border=\"1\" class=\"dataframe\">\n  <thead>\n    <tr style=\"text-align: right;\">\n      <th></th>\n      <th>level_0</th>\n      <th>index</th>\n      <th>Nome</th>\n      <th>Idade</th>\n      <th>Curso</th>\n    </tr>\n  </thead>\n  <tbody>\n    <tr>\n      <th>0</th>\n      <td>0</td>\n      <td>0</td>\n      <td>Renata</td>\n      <td>12</td>\n      <td>informática</td>\n    </tr>\n    <tr>\n      <th>1</th>\n      <td>1</td>\n      <td>1</td>\n      <td>Pedro</td>\n      <td>15</td>\n      <td>inglês</td>\n    </tr>\n    <tr>\n      <th>2</th>\n      <td>2</td>\n      <td>2</td>\n      <td>João</td>\n      <td>13</td>\n      <td>matemática</td>\n    </tr>\n    <tr>\n      <th>3</th>\n      <td>3</td>\n      <td>3</td>\n      <td>Aline</td>\n      <td>10</td>\n      <td>artes</td>\n    </tr>\n    <tr>\n      <th>4</th>\n      <td>4</td>\n      <td>4</td>\n      <td>Vivian</td>\n      <td>12</td>\n      <td>inglês</td>\n    </tr>\n    <tr>\n      <th>5</th>\n      <td>5</td>\n      <td>5</td>\n      <td>Arthur</td>\n      <td>14</td>\n      <td>artes</td>\n    </tr>\n    <tr>\n      <th>6</th>\n      <td>6</td>\n      <td>6</td>\n      <td>Henrique</td>\n      <td>13</td>\n      <td>matemática</td>\n    </tr>\n    <tr>\n      <th>7</th>\n      <td>7</td>\n      <td>7</td>\n      <td>Ana</td>\n      <td>12</td>\n      <td>artes</td>\n    </tr>\n    <tr>\n      <th>8</th>\n      <td>8</td>\n      <td>8</td>\n      <td>Paulo</td>\n      <td>15</td>\n      <td>informática</td>\n    </tr>\n    <tr>\n      <th>9</th>\n      <td>9</td>\n      <td>9</td>\n      <td>Leandro</td>\n      <td>11</td>\n      <td>informática</td>\n    </tr>\n    <tr>\n      <th>10</th>\n      <td>10</td>\n      <td>10</td>\n      <td>Lucio</td>\n      <td>12</td>\n      <td>inglês</td>\n    </tr>\n    <tr>\n      <th>11</th>\n      <td>11</td>\n      <td>11</td>\n      <td>Neusa</td>\n      <td>10</td>\n      <td>artes</td>\n    </tr>\n  </tbody>\n</table>\n</div>"
     },
     "execution_count": 114,
     "metadata": {},
     "output_type": "execute_result"
    }
   ]
  },
  {
   "cell_type": "code",
   "execution_count": 115,
   "outputs": [
    {
     "data": {
      "text/plain": "    level_0  index      Nome  Idade        Curso\n0         0      0    Renata     12  informática\n1         1      1     Pedro     15       inglês\n2         2      2      João     13   matemática\n3         3      3     Aline     10        artes\n4         4      4    Vivian     12       inglês\n5         5      5    Arthur     14        artes\n6         6      6  Henrique     13   matemática\n7         7      7       Ana     12        artes\n8         8      8     Paulo     15  informática\n9         9      9   Leandro     11  informática\n10       10     10     Lucio     12       inglês\n11       11     11     Neusa     10        artes",
      "text/html": "<div>\n<style scoped>\n    .dataframe tbody tr th:only-of-type {\n        vertical-align: middle;\n    }\n\n    .dataframe tbody tr th {\n        vertical-align: top;\n    }\n\n    .dataframe thead th {\n        text-align: right;\n    }\n</style>\n<table border=\"1\" class=\"dataframe\">\n  <thead>\n    <tr style=\"text-align: right;\">\n      <th></th>\n      <th>level_0</th>\n      <th>index</th>\n      <th>Nome</th>\n      <th>Idade</th>\n      <th>Curso</th>\n    </tr>\n  </thead>\n  <tbody>\n    <tr>\n      <th>0</th>\n      <td>0</td>\n      <td>0</td>\n      <td>Renata</td>\n      <td>12</td>\n      <td>informática</td>\n    </tr>\n    <tr>\n      <th>1</th>\n      <td>1</td>\n      <td>1</td>\n      <td>Pedro</td>\n      <td>15</td>\n      <td>inglês</td>\n    </tr>\n    <tr>\n      <th>2</th>\n      <td>2</td>\n      <td>2</td>\n      <td>João</td>\n      <td>13</td>\n      <td>matemática</td>\n    </tr>\n    <tr>\n      <th>3</th>\n      <td>3</td>\n      <td>3</td>\n      <td>Aline</td>\n      <td>10</td>\n      <td>artes</td>\n    </tr>\n    <tr>\n      <th>4</th>\n      <td>4</td>\n      <td>4</td>\n      <td>Vivian</td>\n      <td>12</td>\n      <td>inglês</td>\n    </tr>\n    <tr>\n      <th>5</th>\n      <td>5</td>\n      <td>5</td>\n      <td>Arthur</td>\n      <td>14</td>\n      <td>artes</td>\n    </tr>\n    <tr>\n      <th>6</th>\n      <td>6</td>\n      <td>6</td>\n      <td>Henrique</td>\n      <td>13</td>\n      <td>matemática</td>\n    </tr>\n    <tr>\n      <th>7</th>\n      <td>7</td>\n      <td>7</td>\n      <td>Ana</td>\n      <td>12</td>\n      <td>artes</td>\n    </tr>\n    <tr>\n      <th>8</th>\n      <td>8</td>\n      <td>8</td>\n      <td>Paulo</td>\n      <td>15</td>\n      <td>informática</td>\n    </tr>\n    <tr>\n      <th>9</th>\n      <td>9</td>\n      <td>9</td>\n      <td>Leandro</td>\n      <td>11</td>\n      <td>informática</td>\n    </tr>\n    <tr>\n      <th>10</th>\n      <td>10</td>\n      <td>10</td>\n      <td>Lucio</td>\n      <td>12</td>\n      <td>inglês</td>\n    </tr>\n    <tr>\n      <th>11</th>\n      <td>11</td>\n      <td>11</td>\n      <td>Neusa</td>\n      <td>10</td>\n      <td>artes</td>\n    </tr>\n  </tbody>\n</table>\n</div>"
     },
     "execution_count": 115,
     "metadata": {},
     "output_type": "execute_result"
    }
   ],
   "source": [
    "df.reset_index(drop = True)"
   ],
   "metadata": {
    "collapsed": false
   }
  },
  {
   "cell_type": "markdown",
   "source": [
    "<img src=\"https://github.com/amandalemette/images/blob/e011da7260c032bae5c49e56a14ad97c13b8c679/BiMaster/bimaster.png?raw=true\"  width=1000 height=80 />"
   ],
   "metadata": {
    "id": "VVdkraUat9BB"
   }
  },
  {
   "cell_type": "markdown",
   "source": [
    "### Reorganização das colunas"
   ],
   "metadata": {
    "id": "w7UAmv2Mt_s0"
   }
  },
  {
   "cell_type": "markdown",
   "source": [
    "Existem várias formas de reorganizar as colunas de um DataFrame, irei apresentar aqui uma estratégia que faz uso do *iloc* e do *loc*:\n",
    "\n",
    "- pelo iloc:\n",
    "\n",
    "```\n",
    "Nome_DataFrame.iloc[:,[número das posições dos índices das colunas na ordem desejada ] ]\n",
    "```\n",
    "\n",
    "- pelo loc:\n",
    "\n",
    "```\n",
    "Nome_DataFrame.loc[:,[nome dos índices das colunas na ordem desejada ] ]\n",
    "```\n",
    "exemplo:\n",
    "\n",
    "- pelo iloc:\n",
    "\n",
    "```\n",
    "Nome_DataFrame.iloc[:,[0,1,2] ]\n",
    "```\n",
    "assim, o dataframe fica com as colunas ordenadas conforme foi criado (modo default).\n",
    "\n"
   ],
   "metadata": {
    "id": "B5enBA2HuatB"
   }
  },
  {
   "cell_type": "markdown",
   "source": [
    "**ILOC**"
   ],
   "metadata": {
    "id": "1ruURXSbumGV"
   }
  },
  {
   "cell_type": "code",
   "source": [],
   "metadata": {
    "id": "00FmuOXpt-M6"
   },
   "execution_count": null,
   "outputs": []
  },
  {
   "cell_type": "markdown",
   "source": [
    "Vamos estabelecer a seguinte ordem das colunas:\n",
    "\n",
    "\n",
    "1.   Cidade\n",
    "2.   Cliente\n",
    "3.   Idade\n",
    "\n",
    "\n",
    "\n"
   ],
   "metadata": {
    "id": "sc36YhHrusK3"
   }
  },
  {
   "cell_type": "code",
   "source": [],
   "metadata": {
    "id": "iLUzqQZU1Hw1"
   },
   "execution_count": null,
   "outputs": []
  },
  {
   "cell_type": "markdown",
   "source": [
    "**LOC**"
   ],
   "metadata": {
    "id": "vRz-p564u8dT"
   }
  },
  {
   "cell_type": "markdown",
   "source": [
    "Vamos fazer o mesmo com o loc:"
   ],
   "metadata": {
    "id": "iJQXuZgou__H"
   }
  },
  {
   "cell_type": "code",
   "source": [],
   "metadata": {
    "id": "u0jAkQKJ0g_4"
   },
   "execution_count": null,
   "outputs": []
  },
  {
   "cell_type": "markdown",
   "source": [
    "**Para praticar**"
   ],
   "metadata": {
    "id": "OraetE8NvKNi"
   }
  },
  {
   "cell_type": "markdown",
   "source": [
    "Como podemos ordenar as colunas em ordem alfabética? Resolva esse desafio. "
   ],
   "metadata": {
    "id": "1-dy7zddvNfO"
   }
  },
  {
   "cell_type": "code",
   "source": [],
   "metadata": {
    "id": "OWRSNet4v3zK"
   },
   "execution_count": null,
   "outputs": []
  },
  {
   "cell_type": "markdown",
   "source": [
    "<img src=\"https://github.com/amandalemette/images/blob/e011da7260c032bae5c49e56a14ad97c13b8c679/BiMaster/bimaster.png?raw=true\"  width=1000 height=80 />"
   ],
   "metadata": {
    "id": "vPKXtXApv8U2"
   }
  }
 ]
}
