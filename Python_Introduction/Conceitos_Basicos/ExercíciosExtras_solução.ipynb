{
 "nbformat": 4,
 "nbformat_minor": 0,
 "metadata": {
  "colab": {
   "name": "ExercíciosExtras_solução.ipynb",
   "provenance": [],
   "collapsed_sections": [],
   "authorship_tag": "ABX9TyO1nIybviXgUYGQelHGl04v"
  },
  "kernelspec": {
   "name": "python3",
   "display_name": "Python 3"
  },
  "language_info": {
   "name": "python"
  }
 },
 "cells": [
  {
   "cell_type": "markdown",
   "source": [
    "#Exercícios extras de python propostos na disciplina SAD (Sistemas de Apoio à Decisão)"
   ],
   "metadata": {
    "id": "raY-7JNHumqZ"
   }
  },
  {
   "cell_type": "markdown",
   "source": [
    "1. 1. Verificar se o primeiro número da lista é igual ao último. (Crie uma função que faça esta verificação e teste nas listas abaixo)\n",
    "x = [10, 20, 30, 40, 10]\n",
    "y = [75, 65, 35, 75, 30]"
   ],
   "metadata": {
    "id": "9y7KF7fDuwdg"
   }
  },
  {
   "cell_type": "code",
   "execution_count": 16,
   "metadata": {
    "id": "EYV-W7rCujk0",
    "executionInfo": {
     "status": "ok",
     "timestamp": 1656511129466,
     "user_tz": 180,
     "elapsed": 331,
     "user": {
      "displayName": "Manoela Kohler",
      "userId": "11407817634634210712"
     }
    }
   },
   "outputs": [],
   "source": [
    "x = [10, 20, 30, 40, 10] \n",
    "y = [75, 65, 35, 75, 30]\n",
    "\n",
    "def first_equals_last(test_list):\n",
    "  first = test_list[0]\n",
    "  last = test_list[-1]\n",
    "\n",
    "  if first == last:\n",
    "    return True\n",
    "  else:\n",
    "    return False"
   ]
  },
  {
   "cell_type": "code",
   "source": [
    "print(\"O resultado é: \", first_equals_last(x))"
   ],
   "metadata": {
    "colab": {
     "base_uri": "https://localhost:8080/"
    },
    "id": "2GoHFHu1v44M",
    "executionInfo": {
     "status": "ok",
     "timestamp": 1656511129755,
     "user_tz": 180,
     "elapsed": 2,
     "user": {
      "displayName": "Manoela Kohler",
      "userId": "11407817634634210712"
     }
    },
    "outputId": "6fa58148-debc-485b-cece-9fcd4a0ae26a"
   },
   "execution_count": 17,
   "outputs": [
    {
     "output_type": "stream",
     "name": "stdout",
     "text": [
      "O resultado é:  True\n"
     ]
    }
   ]
  },
  {
   "cell_type": "code",
   "source": [
    "print(\"O resultado é: \", first_equals_last(y))"
   ],
   "metadata": {
    "colab": {
     "base_uri": "https://localhost:8080/"
    },
    "id": "vXeXcTuZvu3B",
    "executionInfo": {
     "status": "ok",
     "timestamp": 1656511130001,
     "user_tz": 180,
     "elapsed": 3,
     "user": {
      "displayName": "Manoela Kohler",
      "userId": "11407817634634210712"
     }
    },
    "outputId": "83e96d9c-f0f3-4554-b1f3-bcc8abbb3e22"
   },
   "execution_count": 18,
   "outputs": [
    {
     "output_type": "stream",
     "name": "stdout",
     "text": [
      "O resultado é:  False\n"
     ]
    }
   ]
  },
  {
   "cell_type": "markdown",
   "source": [
    "2. Quais números são divisíveis por 5. x = [10, 20, 33, 46, 55]"
   ],
   "metadata": {
    "id": "CXZnmYYywfTL"
   }
  },
  {
   "cell_type": "code",
   "source": [
    "x = [10, 20, 33, 46, 55]\n",
    "for num in x:\n",
    "  if num % 5 == 0:\n",
    "    print(num)"
   ],
   "metadata": {
    "colab": {
     "base_uri": "https://localhost:8080/"
    },
    "id": "_HyZkzh7v6mG",
    "executionInfo": {
     "status": "ok",
     "timestamp": 1656512419063,
     "user_tz": 180,
     "elapsed": 3,
     "user": {
      "displayName": "Manoela Kohler",
      "userId": "11407817634634210712"
     }
    },
    "outputId": "fe37136f-843a-4c9c-ea20-94c6a617ac96"
   },
   "execution_count": 20,
   "outputs": [
    {
     "output_type": "stream",
     "name": "stdout",
     "text": [
      "10\n",
      "20\n",
      "55\n"
     ]
    }
   ]
  },
  {
   "cell_type": "markdown",
   "source": [
    "3. Mulitplique todos os números da lista por ele mesmo.\n",
    "x = [1, 2, 3, 4, 5, 6, 7]"
   ],
   "metadata": {
    "id": "pO9sXp851fSm"
   }
  },
  {
   "cell_type": "code",
   "source": [
    "x = [1, 2, 3, 4, 5, 6, 7]\n",
    "square_list = []\n",
    "for num in x:\n",
    "  square_list.append(num * num)\n",
    "\n",
    "print(square_list)"
   ],
   "metadata": {
    "colab": {
     "base_uri": "https://localhost:8080/"
    },
    "id": "bQS0uInX1Q9p",
    "executionInfo": {
     "status": "ok",
     "timestamp": 1656512602224,
     "user_tz": 180,
     "elapsed": 210,
     "user": {
      "displayName": "Manoela Kohler",
      "userId": "11407817634634210712"
     }
    },
    "outputId": "e7d5bc2d-3f32-4e52-9622-ee40ba30ea09"
   },
   "execution_count": 22,
   "outputs": [
    {
     "output_type": "stream",
     "name": "stdout",
     "text": [
      "[1, 4, 9, 16, 25, 36, 49]\n"
     ]
    }
   ]
  },
  {
   "cell_type": "markdown",
   "source": [
    "OU"
   ],
   "metadata": {
    "id": "6zGeLu2v2G2a"
   }
  },
  {
   "cell_type": "code",
   "source": [
    "square_list = [num * num for num in x]\n",
    "print(square_list)"
   ],
   "metadata": {
    "colab": {
     "base_uri": "https://localhost:8080/"
    },
    "id": "0jA7izD_2DiK",
    "executionInfo": {
     "status": "ok",
     "timestamp": 1656512644430,
     "user_tz": 180,
     "elapsed": 237,
     "user": {
      "displayName": "Manoela Kohler",
      "userId": "11407817634634210712"
     }
    },
    "outputId": "342f5967-ec75-46f6-ef86-0a3f55ec9166"
   },
   "execution_count": 24,
   "outputs": [
    {
     "output_type": "stream",
     "name": "stdout",
     "text": [
      "[1, 4, 9, 16, 25, 36, 49]\n"
     ]
    }
   ]
  },
  {
   "cell_type": "markdown",
   "source": [
    "4. Remova strings vazias de uma lista de strings.\n",
    "x = [\"Mateus\", \"\", \"Lia\", \"Augusto\", \"\", \"Maria\"]"
   ],
   "metadata": {
    "id": "yFvyetV32VGJ"
   }
  },
  {
   "cell_type": "code",
   "source": [
    "x = [\"Mateus\", \"\", \"Lia\", \"Augusto\", \"\", \"Maria\"]\n",
    "for i in x:\n",
    "  if i == \"\":\n",
    "    x.remove(i)\n",
    "x"
   ],
   "metadata": {
    "colab": {
     "base_uri": "https://localhost:8080/"
    },
    "id": "7kW-iAhj2ig6",
    "executionInfo": {
     "status": "ok",
     "timestamp": 1656512822694,
     "user_tz": 180,
     "elapsed": 337,
     "user": {
      "displayName": "Manoela Kohler",
      "userId": "11407817634634210712"
     }
    },
    "outputId": "5b2c0301-8608-4f18-fc91-628f6afcc085"
   },
   "execution_count": 29,
   "outputs": [
    {
     "output_type": "execute_result",
     "data": {
      "text/plain": [
       "['Mateus', 'Lia', 'Augusto', 'Maria']"
      ]
     },
     "metadata": {},
     "execution_count": 29
    }
   ]
  },
  {
   "cell_type": "markdown",
   "source": [
    "OU"
   ],
   "metadata": {
    "id": "o8ZKyfhJ29Ct"
   }
  },
  {
   "cell_type": "code",
   "source": [
    "x = [\"Mateus\", \"\", \"Lia\", \"Augusto\", \"\", \"Maria\"]\n",
    "list(filter(None, x))"
   ],
   "metadata": {
    "colab": {
     "base_uri": "https://localhost:8080/"
    },
    "id": "qpKbymAV2i4C",
    "executionInfo": {
     "status": "ok",
     "timestamp": 1656512842690,
     "user_tz": 180,
     "elapsed": 2,
     "user": {
      "displayName": "Manoela Kohler",
      "userId": "11407817634634210712"
     }
    },
    "outputId": "2a5c48a1-7405-43e6-dd6b-25d0dd0b9644"
   },
   "execution_count": 31,
   "outputs": [
    {
     "output_type": "execute_result",
     "data": {
      "text/plain": [
       "['Mateus', 'Lia', 'Augusto', 'Maria']"
      ]
     },
     "metadata": {},
     "execution_count": 31
    }
   ]
  },
  {
   "cell_type": "markdown",
   "source": [
    "5. Acesse o número 30 da lista pelo seu índice.\n",
    "x = [10, 20, [300, 400, [5000, 6000], 500], 30, 40]"
   ],
   "metadata": {
    "id": "2r8b45R53FMq"
   }
  },
  {
   "cell_type": "code",
   "source": [
    "x = [10, 20, [300, 400, [5000, 6000], 500], 30, 40]\n",
    "x[3]"
   ],
   "metadata": {
    "colab": {
     "base_uri": "https://localhost:8080/"
    },
    "id": "LQFrE5UT3GYi",
    "executionInfo": {
     "status": "ok",
     "timestamp": 1656512905826,
     "user_tz": 180,
     "elapsed": 2,
     "user": {
      "displayName": "Manoela Kohler",
      "userId": "11407817634634210712"
     }
    },
    "outputId": "19edb879-2c97-4dff-8522-6d84c9156534"
   },
   "execution_count": 32,
   "outputs": [
    {
     "output_type": "execute_result",
     "data": {
      "text/plain": [
       "30"
      ]
     },
     "metadata": {},
     "execution_count": 32
    }
   ]
  },
  {
   "cell_type": "markdown",
   "source": [
    "6. Faça um script que peça o nome e a idade do usuário e imprima em que ano ela fará 100 anos."
   ],
   "metadata": {
    "id": "0snK2dO03FSh"
   }
  },
  {
   "cell_type": "code",
   "source": [
    "name = input('Qual o seu nome? ')\n",
    "age = input('Qual a sua idade? ')\n",
    "year = 2022 - int(age) + 100\n",
    "print(name + \", você terá 100 anos de idade no ano \" + str(year))"
   ],
   "metadata": {
    "colab": {
     "base_uri": "https://localhost:8080/"
    },
    "id": "Ug1YWydC2qEk",
    "executionInfo": {
     "status": "ok",
     "timestamp": 1656513234357,
     "user_tz": 180,
     "elapsed": 4124,
     "user": {
      "displayName": "Manoela Kohler",
      "userId": "11407817634634210712"
     }
    },
    "outputId": "a2263e78-3403-4206-afca-f589c6ed4697"
   },
   "execution_count": 41,
   "outputs": [
    {
     "output_type": "stream",
     "name": "stdout",
     "text": [
      "Qual o seu nome? Manoela\n",
      "Qual a sua idade? 35\n",
      "Manoela, você terá 100 anos de idade no ano 2087\n"
     ]
    }
   ]
  },
  {
   "cell_type": "markdown",
   "source": [
    "OU"
   ],
   "metadata": {
    "id": "AaEOcfOn3-3o"
   }
  },
  {
   "cell_type": "code",
   "source": [
    "# pegar o ano corrente automaticamente\n",
    "import datetime\n",
    "currentDateTime = datetime.datetime.now()\n",
    "date = currentDateTime.date()\n",
    "current_year = date.strftime(\"%Y\")\n",
    "\n",
    "name = input('Qual o seu nome? ')\n",
    "age = input('Qual a sua idade? ')\n",
    "year = int(current_year) - int(age) + 100\n",
    "print(name + \", você terá 100 anos de idade no ano \" + str(year))"
   ],
   "metadata": {
    "colab": {
     "base_uri": "https://localhost:8080/"
    },
    "id": "QwVydUbQ3tIw",
    "executionInfo": {
     "status": "ok",
     "timestamp": 1656513242129,
     "user_tz": 180,
     "elapsed": 4385,
     "user": {
      "displayName": "Manoela Kohler",
      "userId": "11407817634634210712"
     }
    },
    "outputId": "6a09c16c-24c4-45d7-f30a-32346bdf9ad5"
   },
   "execution_count": 42,
   "outputs": [
    {
     "output_type": "stream",
     "name": "stdout",
     "text": [
      "Qual o seu nome? Manoela\n",
      "Qual a sua idade? 35\n",
      "Manoela, você terá 100 anos de idade no ano 2087\n"
     ]
    }
   ]
  },
  {
   "cell_type": "markdown",
   "source": [
    "7. Imprima todos os valores da lista menores que 5.\n",
    "x = [1, 1, 2, 3, 5, 8, 13, 21, 34, 55, 89]"
   ],
   "metadata": {
    "id": "b5t0EDqI4jiD"
   }
  },
  {
   "cell_type": "code",
   "source": [
    "x = [1, 1, 2, 3, 5, 8, 13, 21, 34, 55, 89]\n",
    "for num in x:\n",
    "  if num < 5:\n",
    "    print(num)"
   ],
   "metadata": {
    "colab": {
     "base_uri": "https://localhost:8080/"
    },
    "id": "ffpLJuR54Ara",
    "executionInfo": {
     "status": "ok",
     "timestamp": 1656513309498,
     "user_tz": 180,
     "elapsed": 3,
     "user": {
      "displayName": "Manoela Kohler",
      "userId": "11407817634634210712"
     }
    },
    "outputId": "60cf1e2a-56f8-4632-a536-fe211fc2a14f"
   },
   "execution_count": 43,
   "outputs": [
    {
     "output_type": "stream",
     "name": "stdout",
     "text": [
      "1\n",
      "1\n",
      "2\n",
      "3\n"
     ]
    }
   ]
  },
  {
   "cell_type": "markdown",
   "source": [
    "8. Retorne a interseção entre as listas x e y, sem duplicados:\n",
    "x = [1, 1, 2, 3, 5, 8, 13, 21, 34, 55, 89]\n",
    "y = [1, 2, 3, 4, 5, 6, 7, 8, 9, 10, 11, 12, 13]"
   ],
   "metadata": {
    "id": "sFhzy4Lg43vd"
   }
  },
  {
   "cell_type": "code",
   "source": [
    "x = [1, 1, 2, 3, 5, 8, 13, 21, 34, 55, 89] \n",
    "y = [1, 2, 3, 4, 5, 6, 7, 8, 9, 10, 11, 12, 13]\n",
    "\n",
    "intersection = []\n",
    "for num in x:\n",
    "  if num in y:\n",
    "    intersection.append(num)\n",
    "\n",
    "set(intersection)"
   ],
   "metadata": {
    "colab": {
     "base_uri": "https://localhost:8080/"
    },
    "id": "onDm_8sB4ycp",
    "executionInfo": {
     "status": "ok",
     "timestamp": 1656513599681,
     "user_tz": 180,
     "elapsed": 11,
     "user": {
      "displayName": "Manoela Kohler",
      "userId": "11407817634634210712"
     }
    },
    "outputId": "642914d5-8913-4f11-8e6c-12ae8dc44075"
   },
   "execution_count": 44,
   "outputs": [
    {
     "output_type": "execute_result",
     "data": {
      "text/plain": [
       "{1, 2, 3, 5, 8, 13}"
      ]
     },
     "metadata": {},
     "execution_count": 44
    }
   ]
  },
  {
   "cell_type": "markdown",
   "source": [
    "OU"
   ],
   "metadata": {
    "id": "KMTytyA06HaP"
   }
  },
  {
   "cell_type": "code",
   "source": [
    "a = set(x)\n",
    "b = set(y)\n",
    "a.intersection(b)"
   ],
   "metadata": {
    "colab": {
     "base_uri": "https://localhost:8080/"
    },
    "id": "0HIJAEEX55ad",
    "executionInfo": {
     "status": "ok",
     "timestamp": 1656513674452,
     "user_tz": 180,
     "elapsed": 2,
     "user": {
      "displayName": "Manoela Kohler",
      "userId": "11407817634634210712"
     }
    },
    "outputId": "33a863e0-a00b-46c3-8541-0c4966f50a10"
   },
   "execution_count": 50,
   "outputs": [
    {
     "output_type": "execute_result",
     "data": {
      "text/plain": [
       "{1, 2, 3, 5, 8, 13}"
      ]
     },
     "metadata": {},
     "execution_count": 50
    }
   ]
  },
  {
   "cell_type": "markdown",
   "source": [
    "9. Retorne uma lista somente com os elementos pares da lista x.\n",
    "x = [1, 4, 9, 16, 25, 36, 49, 64, 81, 100]"
   ],
   "metadata": {
    "id": "ZfTRcM7p6Mkq"
   }
  },
  {
   "cell_type": "code",
   "source": [
    "x = [1, 4, 9, 16, 25, 36, 49, 64, 81, 100]\n",
    "even = []\n",
    "for num in x:\n",
    "  if num % 2 == 0:\n",
    "    even.append(num)\n",
    "\n",
    "print(even)"
   ],
   "metadata": {
    "colab": {
     "base_uri": "https://localhost:8080/"
    },
    "id": "dyEqYwA56ObM",
    "executionInfo": {
     "status": "ok",
     "timestamp": 1656513795123,
     "user_tz": 180,
     "elapsed": 2,
     "user": {
      "displayName": "Manoela Kohler",
      "userId": "11407817634634210712"
     }
    },
    "outputId": "8276f6b5-aafd-4089-8334-5c02c1253c2d"
   },
   "execution_count": 51,
   "outputs": [
    {
     "output_type": "stream",
     "name": "stdout",
     "text": [
      "[4, 16, 36, 64, 100]\n"
     ]
    }
   ]
  },
  {
   "cell_type": "markdown",
   "source": [
    "OU"
   ],
   "metadata": {
    "id": "nx26oBfg6sFP"
   }
  },
  {
   "cell_type": "code",
   "source": [
    "[num for num in x if num % 2 == 0]"
   ],
   "metadata": {
    "colab": {
     "base_uri": "https://localhost:8080/"
    },
    "id": "S146Igin6uhn",
    "executionInfo": {
     "status": "ok",
     "timestamp": 1656513837750,
     "user_tz": 180,
     "elapsed": 233,
     "user": {
      "displayName": "Manoela Kohler",
      "userId": "11407817634634210712"
     }
    },
    "outputId": "20ab8e55-7abb-42fe-b8d7-7aa4380ae463"
   },
   "execution_count": 53,
   "outputs": [
    {
     "output_type": "execute_result",
     "data": {
      "text/plain": [
       "[4, 16, 36, 64, 100]"
      ]
     },
     "metadata": {},
     "execution_count": 53
    }
   ]
  },
  {
   "cell_type": "markdown",
   "source": [
    "10. Faça um script para o jogo Pedra, Papel e Tesoura."
   ],
   "metadata": {
    "id": "KSVPY8To6O3l"
   }
  },
  {
   "cell_type": "code",
   "source": [
    "user1 = input(\"Usuário 1, você escolher pedra, papel ou tesoura?\")\n",
    "user2 = input(\"Usuário 2, você escolher pedra, papel ou tesoura?\")\n",
    "\n",
    "def compare(user1, user2):\n",
    "    if user1 == user2:\n",
    "        return(\"Empate!\")\n",
    "    elif user1 == 'pedra':\n",
    "        if user2 == 'tesoura':\n",
    "            return(\"Pedra ganha! Usuário 1 é o vencedor!\")\n",
    "        else:\n",
    "            return(\"Papel ganha! Usuário 2 é o vencedor!\")\n",
    "    elif user1 == 'tesoura':\n",
    "        if user2 == 'papel':\n",
    "            return(\"Tesoura ganha! Usuário 1 é o vencedor!\")\n",
    "        else:\n",
    "            return(\"Pedra ganha! Usuário 2 é o vencedor!\")\n",
    "    elif user1 == 'papel':\n",
    "        if user2 == 'pedra':\n",
    "            return(\"Papel ganha! Usuário 1 é o vencedor!\")\n",
    "        else:\n",
    "            return(\"Tesoura ganha! Usuário 2 é o vencedor!\")\n",
    "    else:\n",
    "        return(\"Input inválido. Você deve escolher uma das opções: pedra, papel ou tesoura.\")\n",
    "        sys.exit()\n",
    "\n",
    "print(compare(user1, user2))"
   ],
   "metadata": {
    "colab": {
     "base_uri": "https://localhost:8080/"
    },
    "id": "WJbLb4nB6rE3",
    "executionInfo": {
     "status": "ok",
     "timestamp": 1656514148684,
     "user_tz": 180,
     "elapsed": 7564,
     "user": {
      "displayName": "Manoela Kohler",
      "userId": "11407817634634210712"
     }
    },
    "outputId": "f4ff4462-1872-428b-892d-c1cc55986b55"
   },
   "execution_count": 56,
   "outputs": [
    {
     "output_type": "stream",
     "name": "stdout",
     "text": [
      "Usuário 1, você escolher pedra, papel ou tesoura?pedra\n",
      "Usuário 2, você escolher pedra, papel ou tesoura?papel\n",
      "Papel ganha! Usuário 2 é o vencedor!\n"
     ]
    }
   ]
  },
  {
   "cell_type": "markdown",
   "source": [
    "11. Gere um número entre 1 e 9. Peça ao usuário para adivinhar o número e avise ao usuário se o número que ele escolheu é menor, maior ou igual ao número sorteado."
   ],
   "metadata": {
    "id": "yquRmhKl6O6C"
   }
  },
  {
   "cell_type": "code",
   "source": [
    "import random\n",
    "\n",
    "rnd = random.randint(1,9)\n",
    "guess = input(\"Chute um número entre 1 e 9\\n\")\n",
    "guess = int(guess)\n",
    "\n",
    "if guess < rnd:\n",
    "\tprint(\"Chute um valor mais alto!\")\n",
    "elif guess > rnd:\n",
    "\tprint(\"Chute um valor mais baixo!\")\n",
    "else:\n",
    "\tprint(\"Acertou!\")"
   ],
   "metadata": {
    "colab": {
     "base_uri": "https://localhost:8080/"
    },
    "id": "lAF0oVRd8Bic",
    "executionInfo": {
     "status": "ok",
     "timestamp": 1656514268745,
     "user_tz": 180,
     "elapsed": 2639,
     "user": {
      "displayName": "Manoela Kohler",
      "userId": "11407817634634210712"
     }
    },
    "outputId": "458ca2d3-cabc-4c1a-f7b2-f24ff02d65f2"
   },
   "execution_count": 57,
   "outputs": [
    {
     "output_type": "stream",
     "name": "stdout",
     "text": [
      "Chute um número entre 1 e 9\n",
      "3\n",
      "Chute um valor mais alto!\n"
     ]
    }
   ]
  },
  {
   "cell_type": "markdown",
   "source": [
    "11. b. Modifique o código para que o usuário possa tentar adivinhar o número até acertar."
   ],
   "metadata": {
    "id": "elOy0zro6O8b"
   }
  },
  {
   "cell_type": "code",
   "source": [
    "rnd = random.randint(1,9)\n",
    "guess = 0\n",
    "\n",
    "while guess != rnd:\n",
    "  guess = input(\"Chute um número entre 1 e 9\\n\")\n",
    "  guess = int(guess)\n",
    "\n",
    "  if guess < rnd:\n",
    "    print(\"Chute um valor mais alto!\")\n",
    "  elif guess > rnd:\n",
    "    print(\"Chute um valor mais baixo!\")\n",
    "  else:\n",
    "    print(\"Acertou!\")"
   ],
   "metadata": {
    "colab": {
     "base_uri": "https://localhost:8080/"
    },
    "id": "XC3iSZuh6SoY",
    "executionInfo": {
     "status": "ok",
     "timestamp": 1656514332595,
     "user_tz": 180,
     "elapsed": 8304,
     "user": {
      "displayName": "Manoela Kohler",
      "userId": "11407817634634210712"
     }
    },
    "outputId": "a07b59ec-e06f-47b0-d4f0-697e7b3ac62c"
   },
   "execution_count": 59,
   "outputs": [
    {
     "output_type": "stream",
     "name": "stdout",
     "text": [
      "Chute um número entre 1 e 9\n",
      "5\n",
      "Chute um valor mais alto!\n",
      "Chute um número entre 1 e 9\n",
      "7\n",
      "Acertou!\n"
     ]
    }
   ]
  },
  {
   "cell_type": "code",
   "source": [],
   "metadata": {
    "id": "A99fn6Gb8odS"
   },
   "execution_count": null,
   "outputs": []
  }
 ]
}
