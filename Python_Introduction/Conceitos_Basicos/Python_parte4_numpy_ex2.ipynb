{
 "nbformat": 4,
 "nbformat_minor": 0,
 "metadata": {
  "colab": {
   "name": "Aula02_python_parte5_numpy_ex2.ipynb",
   "provenance": [],
   "collapsed_sections": [],
   "authorship_tag": "ABX9TyNyVspOYf5gHMExH7CLcFh1"
  },
  "kernelspec": {
   "name": "python3",
   "display_name": "Python 3"
  }
 },
 "cells": [
  {
   "cell_type": "markdown",
   "metadata": {
    "id": "m63SbKGU4EfR",
    "colab_type": "text"
   },
   "source": [
    "# Exercício 2: Demonstrativo Financeiro"
   ]
  },
  {
   "cell_type": "code",
   "metadata": {
    "id": "ByQRSLSH4RtP",
    "colab_type": "code",
    "colab": {},
    "executionInfo": {
     "status": "ok",
     "timestamp": 1599252542350,
     "user_tz": 180,
     "elapsed": 700,
     "user": {
      "displayName": "Manoela Kohler",
      "photoUrl": "https://lh3.googleusercontent.com/a-/AOh14GheUJkNNuHQSboS4iK5_Aq7oW-YFjEbKkfGmDow=s64",
      "userId": "11407817634634210712"
     }
    }
   },
   "source": [
    "import numpy as np"
   ],
   "execution_count": 2,
   "outputs": []
  },
  {
   "cell_type": "code",
   "metadata": {
    "id": "8A3xcQQw4Cfd",
    "colab_type": "code",
    "colab": {},
    "executionInfo": {
     "status": "ok",
     "timestamp": 1599252542352,
     "user_tz": 180,
     "elapsed": 550,
     "user": {
      "displayName": "Manoela Kohler",
      "photoUrl": "https://lh3.googleusercontent.com/a-/AOh14GheUJkNNuHQSboS4iK5_Aq7oW-YFjEbKkfGmDow=s64",
      "userId": "11407817634634210712"
     }
    }
   },
   "source": [
    "receitas = np.array([14574.49, 7606.46, 18611.41, 19175.41, 8758.65, 8105.44, 11496.28, 9766.09, 10305.32, 18379.96, 10713.97, 15433.5])\n",
    "custos = np.array([12051.82, 5695.07, 12319.2, 12089.72, 8658.57, 840.20, 3285.73, 5821.12, 6976.93, 16618.61, 10054.37, 3803.96])"
   ],
   "execution_count": 3,
   "outputs": []
  },
  {
   "cell_type": "code",
   "metadata": {
    "id": "uPcOcquJ4QbJ",
    "colab_type": "code",
    "colab": {
     "base_uri": "https://localhost:8080/",
     "height": 52
    },
    "executionInfo": {
     "status": "ok",
     "timestamp": 1599252580737,
     "user_tz": 180,
     "elapsed": 444,
     "user": {
      "displayName": "Manoela Kohler",
      "photoUrl": "https://lh3.googleusercontent.com/a-/AOh14GheUJkNNuHQSboS4iK5_Aq7oW-YFjEbKkfGmDow=s64",
      "userId": "11407817634634210712"
     }
    },
    "outputId": "5e75a426-8778-4599-dc13-28208830be16"
   },
   "source": [
    "# lucro de cada mes\n",
    "lucro_mes = receitas - custos\n",
    "lucro_mes"
   ],
   "execution_count": 4,
   "outputs": [
    {
     "output_type": "execute_result",
     "data": {
      "text/plain": [
       "array([ 2522.67,  1911.39,  6292.21,  7085.69,   100.08,  7265.24,\n",
       "        8210.55,  3944.97,  3328.39,  1761.35,   659.6 , 11629.54])"
      ]
     },
     "metadata": {
      "tags": []
     },
     "execution_count": 4
    }
   ]
  },
  {
   "cell_type": "code",
   "metadata": {
    "id": "euIekJTY4cdb",
    "colab_type": "code",
    "colab": {
     "base_uri": "https://localhost:8080/",
     "height": 52
    },
    "executionInfo": {
     "status": "ok",
     "timestamp": 1599252656352,
     "user_tz": 180,
     "elapsed": 523,
     "user": {
      "displayName": "Manoela Kohler",
      "photoUrl": "https://lh3.googleusercontent.com/a-/AOh14GheUJkNNuHQSboS4iK5_Aq7oW-YFjEbKkfGmDow=s64",
      "userId": "11407817634634210712"
     }
    },
    "outputId": "d1f0cf0e-85a5-4520-e500-fda418418eb8"
   },
   "source": [
    "# lucro líquido (30%)\n",
    "lucro_liquido = 0.7 * lucro_mes\n",
    "lucro_liquido"
   ],
   "execution_count": 5,
   "outputs": [
    {
     "output_type": "execute_result",
     "data": {
      "text/plain": [
       "array([1765.869, 1337.973, 4404.547, 4959.983,   70.056, 5085.668,\n",
       "       5747.385, 2761.479, 2329.873, 1232.945,  461.72 , 8140.678])"
      ]
     },
     "metadata": {
      "tags": []
     },
     "execution_count": 5
    }
   ]
  },
  {
   "cell_type": "code",
   "metadata": {
    "id": "41PhybM44u6w",
    "colab_type": "code",
    "colab": {
     "base_uri": "https://localhost:8080/",
     "height": 70
    },
    "executionInfo": {
     "status": "ok",
     "timestamp": 1599252690588,
     "user_tz": 180,
     "elapsed": 516,
     "user": {
      "displayName": "Manoela Kohler",
      "photoUrl": "https://lh3.googleusercontent.com/a-/AOh14GheUJkNNuHQSboS4iK5_Aq7oW-YFjEbKkfGmDow=s64",
      "userId": "11407817634634210712"
     }
    },
    "outputId": "363cac6f-e6e4-4da0-8a64-000f76fb7ad2"
   },
   "source": [
    "# margem de lucro\n",
    "margem = lucro_liquido / receitas\n",
    "margem"
   ],
   "execution_count": 6,
   "outputs": [
    {
     "output_type": "execute_result",
     "data": {
      "text/plain": [
       "array([0.12116163, 0.17589956, 0.23665843, 0.25866373, 0.00799849,\n",
       "       0.62743886, 0.49993433, 0.28276199, 0.22608449, 0.06708094,\n",
       "       0.04309514, 0.52746804])"
      ]
     },
     "metadata": {
      "tags": []
     },
     "execution_count": 6
    }
   ]
  },
  {
   "cell_type": "code",
   "metadata": {
    "id": "sdbZKXu643R1",
    "colab_type": "code",
    "colab": {
     "base_uri": "https://localhost:8080/",
     "height": 34
    },
    "executionInfo": {
     "status": "ok",
     "timestamp": 1599252760517,
     "user_tz": 180,
     "elapsed": 498,
     "user": {
      "displayName": "Manoela Kohler",
      "photoUrl": "https://lh3.googleusercontent.com/a-/AOh14GheUJkNNuHQSboS4iK5_Aq7oW-YFjEbKkfGmDow=s64",
      "userId": "11407817634634210712"
     }
    },
    "outputId": "ed8f3a65-50ee-4789-f8c5-f3e7f080d1a6"
   },
   "source": [
    "# meses bons\n",
    "lucro_medio = lucro_liquido.mean()\n",
    "lucro_medio"
   ],
   "execution_count": 7,
   "outputs": [
    {
     "output_type": "execute_result",
     "data": {
      "text/plain": [
       "3191.514666666666"
      ]
     },
     "metadata": {
      "tags": []
     },
     "execution_count": 7
    }
   ]
  },
  {
   "cell_type": "code",
   "metadata": {
    "id": "O3EfqZIf5IWo",
    "colab_type": "code",
    "colab": {
     "base_uri": "https://localhost:8080/",
     "height": 52
    },
    "executionInfo": {
     "status": "ok",
     "timestamp": 1599252787396,
     "user_tz": 180,
     "elapsed": 556,
     "user": {
      "displayName": "Manoela Kohler",
      "photoUrl": "https://lh3.googleusercontent.com/a-/AOh14GheUJkNNuHQSboS4iK5_Aq7oW-YFjEbKkfGmDow=s64",
      "userId": "11407817634634210712"
     }
    },
    "outputId": "93f8b4f0-477b-4747-cf3d-abe3bbb78bd3"
   },
   "source": [
    "meses_bons = lucro_liquido > lucro_medio\n",
    "meses_bons"
   ],
   "execution_count": 8,
   "outputs": [
    {
     "output_type": "execute_result",
     "data": {
      "text/plain": [
       "array([False, False,  True,  True, False,  True,  True, False, False,\n",
       "       False, False,  True])"
      ]
     },
     "metadata": {
      "tags": []
     },
     "execution_count": 8
    }
   ]
  },
  {
   "cell_type": "code",
   "metadata": {
    "id": "cgrQYoEf5O50",
    "colab_type": "code",
    "colab": {
     "base_uri": "https://localhost:8080/",
     "height": 34
    },
    "executionInfo": {
     "status": "ok",
     "timestamp": 1599252835353,
     "user_tz": 180,
     "elapsed": 500,
     "user": {
      "displayName": "Manoela Kohler",
      "photoUrl": "https://lh3.googleusercontent.com/a-/AOh14GheUJkNNuHQSboS4iK5_Aq7oW-YFjEbKkfGmDow=s64",
      "userId": "11407817634634210712"
     }
    },
    "outputId": "a9dec021-f44d-4876-efa9-d05138f9cbd3"
   },
   "source": [
    "np.where(meses_bons)  # retorna idx dos verdadeiros"
   ],
   "execution_count": 9,
   "outputs": [
    {
     "output_type": "execute_result",
     "data": {
      "text/plain": [
       "(array([ 2,  3,  5,  6, 11]),)"
      ]
     },
     "metadata": {
      "tags": []
     },
     "execution_count": 9
    }
   ]
  },
  {
   "cell_type": "code",
   "metadata": {
    "id": "5b5X938B5aoB",
    "colab_type": "code",
    "colab": {
     "base_uri": "https://localhost:8080/",
     "height": 34
    },
    "executionInfo": {
     "status": "ok",
     "timestamp": 1599252894245,
     "user_tz": 180,
     "elapsed": 578,
     "user": {
      "displayName": "Manoela Kohler",
      "photoUrl": "https://lh3.googleusercontent.com/a-/AOh14GheUJkNNuHQSboS4iK5_Aq7oW-YFjEbKkfGmDow=s64",
      "userId": "11407817634634210712"
     }
    },
    "outputId": "754e204c-7c70-40e0-860f-ea8239d99108"
   },
   "source": [
    "lucro_liquido[meses_bons] # retorna o lucro do meses bons"
   ],
   "execution_count": 10,
   "outputs": [
    {
     "output_type": "execute_result",
     "data": {
      "text/plain": [
       "array([4404.547, 4959.983, 5085.668, 5747.385, 8140.678])"
      ]
     },
     "metadata": {
      "tags": []
     },
     "execution_count": 10
    }
   ]
  },
  {
   "cell_type": "code",
   "metadata": {
    "id": "5wn6oZCC5o--",
    "colab_type": "code",
    "colab": {
     "base_uri": "https://localhost:8080/",
     "height": 34
    },
    "executionInfo": {
     "status": "ok",
     "timestamp": 1599252910155,
     "user_tz": 180,
     "elapsed": 548,
     "user": {
      "displayName": "Manoela Kohler",
      "photoUrl": "https://lh3.googleusercontent.com/a-/AOh14GheUJkNNuHQSboS4iK5_Aq7oW-YFjEbKkfGmDow=s64",
      "userId": "11407817634634210712"
     }
    },
    "outputId": "ae3b0b9c-927e-4855-f628-b3258535a618"
   },
   "source": [
    "lucro_liquido[np.where(meses_bons)]  # retorna o lucro do meses bons"
   ],
   "execution_count": 11,
   "outputs": [
    {
     "output_type": "execute_result",
     "data": {
      "text/plain": [
       "array([4404.547, 4959.983, 5085.668, 5747.385, 8140.678])"
      ]
     },
     "metadata": {
      "tags": []
     },
     "execution_count": 11
    }
   ]
  },
  {
   "cell_type": "code",
   "metadata": {
    "id": "3mm42ZeO5s4A",
    "colab_type": "code",
    "colab": {
     "base_uri": "https://localhost:8080/",
     "height": 34
    },
    "executionInfo": {
     "status": "ok",
     "timestamp": 1599252984230,
     "user_tz": 180,
     "elapsed": 501,
     "user": {
      "displayName": "Manoela Kohler",
      "photoUrl": "https://lh3.googleusercontent.com/a-/AOh14GheUJkNNuHQSboS4iK5_Aq7oW-YFjEbKkfGmDow=s64",
      "userId": "11407817634634210712"
     }
    },
    "outputId": "31b9c55a-62ed-445e-da75-3c3df044baa8"
   },
   "source": [
    "# Meses ruins\n",
    "meses_ruins = np.where(meses_bons == False)\n",
    "meses_ruins"
   ],
   "execution_count": 12,
   "outputs": [
    {
     "output_type": "execute_result",
     "data": {
      "text/plain": [
       "(array([ 0,  1,  4,  7,  8,  9, 10]),)"
      ]
     },
     "metadata": {
      "tags": []
     },
     "execution_count": 12
    }
   ]
  },
  {
   "cell_type": "code",
   "metadata": {
    "id": "FxE-K1BZ5--F",
    "colab_type": "code",
    "colab": {
     "base_uri": "https://localhost:8080/",
     "height": 52
    },
    "executionInfo": {
     "status": "ok",
     "timestamp": 1599253005536,
     "user_tz": 180,
     "elapsed": 459,
     "user": {
      "displayName": "Manoela Kohler",
      "photoUrl": "https://lh3.googleusercontent.com/a-/AOh14GheUJkNNuHQSboS4iK5_Aq7oW-YFjEbKkfGmDow=s64",
      "userId": "11407817634634210712"
     }
    },
    "outputId": "673e4daf-2f14-4238-85f0-1957df16059e"
   },
   "source": [
    "lucro_liquido[meses_ruins]"
   ],
   "execution_count": 13,
   "outputs": [
    {
     "output_type": "execute_result",
     "data": {
      "text/plain": [
       "array([1765.869, 1337.973,   70.056, 2761.479, 2329.873, 1232.945,\n",
       "        461.72 ])"
      ]
     },
     "metadata": {
      "tags": []
     },
     "execution_count": 13
    }
   ]
  },
  {
   "cell_type": "code",
   "metadata": {
    "id": "RZfbwewI6EKi",
    "colab_type": "code",
    "colab": {
     "base_uri": "https://localhost:8080/",
     "height": 34
    },
    "executionInfo": {
     "status": "ok",
     "timestamp": 1599253039738,
     "user_tz": 180,
     "elapsed": 651,
     "user": {
      "displayName": "Manoela Kohler",
      "photoUrl": "https://lh3.googleusercontent.com/a-/AOh14GheUJkNNuHQSboS4iK5_Aq7oW-YFjEbKkfGmDow=s64",
      "userId": "11407817634634210712"
     }
    },
    "outputId": "2580d6c0-96d9-406d-d37b-4d4c1ecec521"
   },
   "source": [
    "# melhor mes\n",
    "lucro_liquido.max()  #valor do melhor mês"
   ],
   "execution_count": 14,
   "outputs": [
    {
     "output_type": "execute_result",
     "data": {
      "text/plain": [
       "8140.678"
      ]
     },
     "metadata": {
      "tags": []
     },
     "execution_count": 14
    }
   ]
  },
  {
   "cell_type": "code",
   "metadata": {
    "id": "ZPaorpoO6MfE",
    "colab_type": "code",
    "colab": {
     "base_uri": "https://localhost:8080/",
     "height": 34
    },
    "executionInfo": {
     "status": "ok",
     "timestamp": 1599253109398,
     "user_tz": 180,
     "elapsed": 541,
     "user": {
      "displayName": "Manoela Kohler",
      "photoUrl": "https://lh3.googleusercontent.com/a-/AOh14GheUJkNNuHQSboS4iK5_Aq7oW-YFjEbKkfGmDow=s64",
      "userId": "11407817634634210712"
     }
    },
    "outputId": "c3a64ba4-6470-4ae8-8005-1a955e5661af"
   },
   "source": [
    "np.where(lucro_liquido == lucro_liquido.max())"
   ],
   "execution_count": 17,
   "outputs": [
    {
     "output_type": "execute_result",
     "data": {
      "text/plain": [
       "(array([11]),)"
      ]
     },
     "metadata": {
      "tags": []
     },
     "execution_count": 17
    }
   ]
  },
  {
   "cell_type": "code",
   "metadata": {
    "id": "hVAWcfyN6SNa",
    "colab_type": "code",
    "colab": {
     "base_uri": "https://localhost:8080/",
     "height": 34
    },
    "executionInfo": {
     "status": "ok",
     "timestamp": 1599253140305,
     "user_tz": 180,
     "elapsed": 527,
     "user": {
      "displayName": "Manoela Kohler",
      "photoUrl": "https://lh3.googleusercontent.com/a-/AOh14GheUJkNNuHQSboS4iK5_Aq7oW-YFjEbKkfGmDow=s64",
      "userId": "11407817634634210712"
     }
    },
    "outputId": "b81e3dc5-5670-470a-8f08-716fd4dd4f55"
   },
   "source": [
    "# pior mes\n",
    "lucro_liquido.min()"
   ],
   "execution_count": 18,
   "outputs": [
    {
     "output_type": "execute_result",
     "data": {
      "text/plain": [
       "70.05599999999994"
      ]
     },
     "metadata": {
      "tags": []
     },
     "execution_count": 18
    }
   ]
  },
  {
   "cell_type": "code",
   "metadata": {
    "id": "w_RdjPj36lEc",
    "colab_type": "code",
    "colab": {
     "base_uri": "https://localhost:8080/",
     "height": 34
    },
    "executionInfo": {
     "status": "ok",
     "timestamp": 1599253158917,
     "user_tz": 180,
     "elapsed": 507,
     "user": {
      "displayName": "Manoela Kohler",
      "photoUrl": "https://lh3.googleusercontent.com/a-/AOh14GheUJkNNuHQSboS4iK5_Aq7oW-YFjEbKkfGmDow=s64",
      "userId": "11407817634634210712"
     }
    },
    "outputId": "a238ae51-a96e-4ba8-e58f-b8945eb5bb74"
   },
   "source": [
    "np.where(lucro_liquido == lucro_liquido.min())"
   ],
   "execution_count": 19,
   "outputs": [
    {
     "output_type": "execute_result",
     "data": {
      "text/plain": [
       "(array([4]),)"
      ]
     },
     "metadata": {
      "tags": []
     },
     "execution_count": 19
    }
   ]
  },
  {
   "cell_type": "code",
   "metadata": {
    "id": "I5lx10N56pnm",
    "colab_type": "code",
    "colab": {}
   },
   "source": [],
   "execution_count": null,
   "outputs": []
  }
 ]
}
